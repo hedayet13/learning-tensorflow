{
  "nbformat": 4,
  "nbformat_minor": 0,
  "metadata": {
    "colab": {
      "name": "00_tensorflow_fundamental.ipynb",
      "provenance": [],
      "collapsed_sections": [],
      "authorship_tag": "ABX9TyNwiqniQxFbvEZA9zl7too5",
      "include_colab_link": true
    },
    "kernelspec": {
      "name": "python3",
      "display_name": "Python 3"
    },
    "language_info": {
      "name": "python"
    }
  },
  "cells": [
    {
      "cell_type": "markdown",
      "metadata": {
        "id": "view-in-github",
        "colab_type": "text"
      },
      "source": [
        "<a href=\"https://colab.research.google.com/github/hedayet13/learning-tensorflow/blob/main/00_tensorflow_fundamental.ipynb\" target=\"_parent\"><img src=\"https://colab.research.google.com/assets/colab-badge.svg\" alt=\"Open In Colab\"/></a>"
      ]
    },
    {
      "cell_type": "code",
      "metadata": {
        "colab": {
          "base_uri": "https://localhost:8080/"
        },
        "id": "O8MciYE3lzdr",
        "outputId": "8d56de85-d06d-44e8-a867-f307a1ce2e3a"
      },
      "source": [
        "import tensorflow as tf\n",
        "print(tf.__version__)"
      ],
      "execution_count": null,
      "outputs": [
        {
          "output_type": "stream",
          "text": [
            "2.5.0\n"
          ],
          "name": "stdout"
        }
      ]
    },
    {
      "cell_type": "code",
      "metadata": {
        "colab": {
          "base_uri": "https://localhost:8080/"
        },
        "id": "rvav13MgmQoQ",
        "outputId": "8b225876-aeae-4255-c793-805e3bed4061"
      },
      "source": [
        "scalar = tf.constant(7)\n",
        "scalar"
      ],
      "execution_count": null,
      "outputs": [
        {
          "output_type": "execute_result",
          "data": {
            "text/plain": [
              "<tf.Tensor: shape=(), dtype=int32, numpy=7>"
            ]
          },
          "metadata": {
            "tags": []
          },
          "execution_count": 23
        }
      ]
    },
    {
      "cell_type": "code",
      "metadata": {
        "colab": {
          "base_uri": "https://localhost:8080/"
        },
        "id": "W9qoJqiSmh9V",
        "outputId": "03a3fd71-3764-4c68-ffff-c5e0456f2692"
      },
      "source": [
        "scalar.ndim"
      ],
      "execution_count": null,
      "outputs": [
        {
          "output_type": "execute_result",
          "data": {
            "text/plain": [
              "0"
            ]
          },
          "metadata": {
            "tags": []
          },
          "execution_count": 24
        }
      ]
    },
    {
      "cell_type": "code",
      "metadata": {
        "colab": {
          "base_uri": "https://localhost:8080/"
        },
        "id": "qxonBl2Gm6HV",
        "outputId": "6b6411af-7b96-43a3-f66b-62e7027dc9a0"
      },
      "source": [
        "vector = tf.constant([10,10])\n",
        "vector"
      ],
      "execution_count": null,
      "outputs": [
        {
          "output_type": "execute_result",
          "data": {
            "text/plain": [
              "<tf.Tensor: shape=(2,), dtype=int32, numpy=array([10, 10], dtype=int32)>"
            ]
          },
          "metadata": {
            "tags": []
          },
          "execution_count": 25
        }
      ]
    },
    {
      "cell_type": "code",
      "metadata": {
        "colab": {
          "base_uri": "https://localhost:8080/"
        },
        "id": "d1bsvtXinCdm",
        "outputId": "f508ab6b-4fc6-4646-b585-772b7a7bd91d"
      },
      "source": [
        "vector.ndim"
      ],
      "execution_count": null,
      "outputs": [
        {
          "output_type": "execute_result",
          "data": {
            "text/plain": [
              "1"
            ]
          },
          "metadata": {
            "tags": []
          },
          "execution_count": 26
        }
      ]
    },
    {
      "cell_type": "code",
      "metadata": {
        "id": "AHnItMZknOhN"
      },
      "source": [
        "matrix = tf.constant([[10,7],\n",
        "                      [7,10],\n",
        "                      [20,0]])"
      ],
      "execution_count": null,
      "outputs": []
    },
    {
      "cell_type": "code",
      "metadata": {
        "colab": {
          "base_uri": "https://localhost:8080/"
        },
        "id": "8J5p1St-nYBV",
        "outputId": "18f8b0ad-84cd-4731-d14c-9a87cf537647"
      },
      "source": [
        "matrix"
      ],
      "execution_count": null,
      "outputs": [
        {
          "output_type": "execute_result",
          "data": {
            "text/plain": [
              "<tf.Tensor: shape=(3, 2), dtype=int32, numpy=\n",
              "array([[10,  7],\n",
              "       [ 7, 10],\n",
              "       [20,  0]], dtype=int32)>"
            ]
          },
          "metadata": {
            "tags": []
          },
          "execution_count": 28
        }
      ]
    },
    {
      "cell_type": "code",
      "metadata": {
        "colab": {
          "base_uri": "https://localhost:8080/"
        },
        "id": "qnIuEMLynY2U",
        "outputId": "8f9ac6c7-2bde-4a65-baa5-bd7298ef796b"
      },
      "source": [
        "matrix.ndim"
      ],
      "execution_count": null,
      "outputs": [
        {
          "output_type": "execute_result",
          "data": {
            "text/plain": [
              "2"
            ]
          },
          "metadata": {
            "tags": []
          },
          "execution_count": 29
        }
      ]
    },
    {
      "cell_type": "code",
      "metadata": {
        "id": "VVBMTOOBnbx8"
      },
      "source": [
        "another_matrix  = tf.constant([[10.,7.],\n",
        "                               [3.,2.],\n",
        "                               [8.,9.]],dtype= tf.float16)"
      ],
      "execution_count": null,
      "outputs": []
    },
    {
      "cell_type": "code",
      "metadata": {
        "colab": {
          "base_uri": "https://localhost:8080/"
        },
        "id": "Lt9G7xP4n3Nm",
        "outputId": "4dfc7b65-6f85-402b-f069-34d48e61e93a"
      },
      "source": [
        "another_matrix"
      ],
      "execution_count": null,
      "outputs": [
        {
          "output_type": "execute_result",
          "data": {
            "text/plain": [
              "<tf.Tensor: shape=(3, 2), dtype=float16, numpy=\n",
              "array([[10.,  7.],\n",
              "       [ 3.,  2.],\n",
              "       [ 8.,  9.]], dtype=float16)>"
            ]
          },
          "metadata": {
            "tags": []
          },
          "execution_count": 31
        }
      ]
    },
    {
      "cell_type": "code",
      "metadata": {
        "colab": {
          "base_uri": "https://localhost:8080/"
        },
        "id": "Ys-LxWwmn4Ad",
        "outputId": "3bbe0ada-c1eb-4b1d-e08f-f684c962128d"
      },
      "source": [
        "tensor = tf.constant([[[1,2,3],\n",
        "                       [4,5,6]],\n",
        "                      [[7,8,9],\n",
        "                      [9,10,11]]])\n",
        "tensor"
      ],
      "execution_count": null,
      "outputs": [
        {
          "output_type": "execute_result",
          "data": {
            "text/plain": [
              "<tf.Tensor: shape=(2, 2, 3), dtype=int32, numpy=\n",
              "array([[[ 1,  2,  3],\n",
              "        [ 4,  5,  6]],\n",
              "\n",
              "       [[ 7,  8,  9],\n",
              "        [ 9, 10, 11]]], dtype=int32)>"
            ]
          },
          "metadata": {
            "tags": []
          },
          "execution_count": 32
        }
      ]
    },
    {
      "cell_type": "code",
      "metadata": {
        "colab": {
          "base_uri": "https://localhost:8080/"
        },
        "id": "pa_HbYJyostM",
        "outputId": "c5bfb6c2-28a4-4719-be7c-1bfd4acfa8b6"
      },
      "source": [
        "tensor.ndim"
      ],
      "execution_count": null,
      "outputs": [
        {
          "output_type": "execute_result",
          "data": {
            "text/plain": [
              "3"
            ]
          },
          "metadata": {
            "tags": []
          },
          "execution_count": 33
        }
      ]
    },
    {
      "cell_type": "markdown",
      "metadata": {
        "id": "fnxFsOi5p5b3"
      },
      "source": [
        "## Tf.variable"
      ]
    },
    {
      "cell_type": "code",
      "metadata": {
        "colab": {
          "base_uri": "https://localhost:8080/"
        },
        "id": "ARUzz1j7ovVc",
        "outputId": "a284bf14-148f-4c52-9544-9ca6b8f6009f"
      },
      "source": [
        "changeable_tensor = tf.Variable([10,7])\n",
        "unchangeable_tensor = tf.constant([10,7])\n",
        "changeable_tensor,unchangeable_tensor"
      ],
      "execution_count": null,
      "outputs": [
        {
          "output_type": "execute_result",
          "data": {
            "text/plain": [
              "(<tf.Variable 'Variable:0' shape=(2,) dtype=int32, numpy=array([10,  7], dtype=int32)>,\n",
              " <tf.Tensor: shape=(2,), dtype=int32, numpy=array([10,  7], dtype=int32)>)"
            ]
          },
          "metadata": {
            "tags": []
          },
          "execution_count": 34
        }
      ]
    },
    {
      "cell_type": "markdown",
      "metadata": {
        "id": "hw5hFnunp3hQ"
      },
      "source": [
        ""
      ]
    },
    {
      "cell_type": "code",
      "metadata": {
        "colab": {
          "base_uri": "https://localhost:8080/"
        },
        "id": "Uy05_V2tqoYq",
        "outputId": "2a6dc14c-11a0-41fe-b089-586a80298ba0"
      },
      "source": [
        "changeable_tensor[0].assign(7)"
      ],
      "execution_count": null,
      "outputs": [
        {
          "output_type": "execute_result",
          "data": {
            "text/plain": [
              "<tf.Variable 'UnreadVariable' shape=(2,) dtype=int32, numpy=array([7, 7], dtype=int32)>"
            ]
          },
          "metadata": {
            "tags": []
          },
          "execution_count": 35
        }
      ]
    },
    {
      "cell_type": "code",
      "metadata": {
        "colab": {
          "base_uri": "https://localhost:8080/"
        },
        "id": "UeIKfIlmq2lV",
        "outputId": "2071cf0f-0f7d-4630-cfca-8c9c5f8b3259"
      },
      "source": [
        "%tensorflow_version"
      ],
      "execution_count": null,
      "outputs": [
        {
          "output_type": "stream",
          "text": [
            "Currently selected TF version: 2.x\n",
            "Available versions:\n",
            "* 1.x\n",
            "* 2.x\n"
          ],
          "name": "stdout"
        }
      ]
    },
    {
      "cell_type": "markdown",
      "metadata": {
        "id": "4mSpdVJysRuA"
      },
      "source": [
        "# create Random tensor\n"
      ]
    },
    {
      "cell_type": "code",
      "metadata": {
        "id": "2HDQ1OCcrce1"
      },
      "source": [
        "random_1= tf.random.Generator.from_seed(42)"
      ],
      "execution_count": null,
      "outputs": []
    },
    {
      "cell_type": "code",
      "metadata": {
        "colab": {
          "base_uri": "https://localhost:8080/"
        },
        "id": "0VOadyd7shq-",
        "outputId": "c28217e5-b52d-46e1-da37-743852feba94"
      },
      "source": [
        "random_1 = random_1.normal(shape=(3,2))\n",
        "random_1"
      ],
      "execution_count": null,
      "outputs": [
        {
          "output_type": "execute_result",
          "data": {
            "text/plain": [
              "<tf.Tensor: shape=(3, 2), dtype=float32, numpy=\n",
              "array([[-0.7565803 , -0.06854702],\n",
              "       [ 0.07595026, -1.2573844 ],\n",
              "       [-0.23193763, -1.8107855 ]], dtype=float32)>"
            ]
          },
          "metadata": {
            "tags": []
          },
          "execution_count": 38
        }
      ]
    },
    {
      "cell_type": "code",
      "metadata": {
        "id": "Zk05DKLcssEA"
      },
      "source": [
        "random_2 = tf.random.Generator.from_seed(42)\n",
        "random_2 = random_2.normal(shape =(3,2))"
      ],
      "execution_count": null,
      "outputs": []
    },
    {
      "cell_type": "code",
      "metadata": {
        "colab": {
          "base_uri": "https://localhost:8080/"
        },
        "id": "H6SgI3YMtCul",
        "outputId": "64caade0-a857-4a18-f442-89361ed66698"
      },
      "source": [
        "random_1,random_2,random_1 == random_2"
      ],
      "execution_count": null,
      "outputs": [
        {
          "output_type": "execute_result",
          "data": {
            "text/plain": [
              "(<tf.Tensor: shape=(3, 2), dtype=float32, numpy=\n",
              " array([[-0.7565803 , -0.06854702],\n",
              "        [ 0.07595026, -1.2573844 ],\n",
              "        [-0.23193763, -1.8107855 ]], dtype=float32)>,\n",
              " <tf.Tensor: shape=(3, 2), dtype=float32, numpy=\n",
              " array([[-0.7565803 , -0.06854702],\n",
              "        [ 0.07595026, -1.2573844 ],\n",
              "        [-0.23193763, -1.8107855 ]], dtype=float32)>,\n",
              " <tf.Tensor: shape=(3, 2), dtype=bool, numpy=\n",
              " array([[ True,  True],\n",
              "        [ True,  True],\n",
              "        [ True,  True]])>)"
            ]
          },
          "metadata": {
            "tags": []
          },
          "execution_count": 40
        }
      ]
    },
    {
      "cell_type": "code",
      "metadata": {
        "colab": {
          "base_uri": "https://localhost:8080/"
        },
        "id": "q9wmVuPPtYvW",
        "outputId": "87dc6cd6-d753-4207-da3a-e9310f83933a"
      },
      "source": [
        " not_shuffled = tf.constant([[10,7],\n",
        "                             [3,4],\n",
        "                             [2,5]])\n",
        " not_shuffled.ndim\n",
        " not_shuffled"
      ],
      "execution_count": null,
      "outputs": [
        {
          "output_type": "execute_result",
          "data": {
            "text/plain": [
              "<tf.Tensor: shape=(3, 2), dtype=int32, numpy=\n",
              "array([[10,  7],\n",
              "       [ 3,  4],\n",
              "       [ 2,  5]], dtype=int32)>"
            ]
          },
          "metadata": {
            "tags": []
          },
          "execution_count": 41
        }
      ]
    },
    {
      "cell_type": "code",
      "metadata": {
        "colab": {
          "base_uri": "https://localhost:8080/"
        },
        "id": "hIPRwU9-vGeh",
        "outputId": "27770e08-5856-4c34-b277-58d398c18899"
      },
      "source": [
        "tf.random.set_seed(42) #global random seed\n",
        "tf.random.shuffle(not_shuffled ,seed=42) # Here the seed is operarional random seed\n",
        "\n",
        "# not_shuffled"
      ],
      "execution_count": null,
      "outputs": [
        {
          "output_type": "execute_result",
          "data": {
            "text/plain": [
              "<tf.Tensor: shape=(3, 2), dtype=int32, numpy=\n",
              "array([[10,  7],\n",
              "       [ 3,  4],\n",
              "       [ 2,  5]], dtype=int32)>"
            ]
          },
          "metadata": {
            "tags": []
          },
          "execution_count": 42
        }
      ]
    },
    {
      "cell_type": "code",
      "metadata": {
        "colab": {
          "base_uri": "https://localhost:8080/"
        },
        "id": "TzxiGU5Dv0kv",
        "outputId": "97748971-c32d-4461-9ee1-c5a281eac58f"
      },
      "source": [
        "tf.ones([10,7])"
      ],
      "execution_count": null,
      "outputs": [
        {
          "output_type": "execute_result",
          "data": {
            "text/plain": [
              "<tf.Tensor: shape=(10, 7), dtype=float32, numpy=\n",
              "array([[1., 1., 1., 1., 1., 1., 1.],\n",
              "       [1., 1., 1., 1., 1., 1., 1.],\n",
              "       [1., 1., 1., 1., 1., 1., 1.],\n",
              "       [1., 1., 1., 1., 1., 1., 1.],\n",
              "       [1., 1., 1., 1., 1., 1., 1.],\n",
              "       [1., 1., 1., 1., 1., 1., 1.],\n",
              "       [1., 1., 1., 1., 1., 1., 1.],\n",
              "       [1., 1., 1., 1., 1., 1., 1.],\n",
              "       [1., 1., 1., 1., 1., 1., 1.],\n",
              "       [1., 1., 1., 1., 1., 1., 1.]], dtype=float32)>"
            ]
          },
          "metadata": {
            "tags": []
          },
          "execution_count": 43
        }
      ]
    },
    {
      "cell_type": "code",
      "metadata": {
        "colab": {
          "base_uri": "https://localhost:8080/"
        },
        "id": "23CjDh05yE_o",
        "outputId": "1bc2bd51-c9c7-47b1-c343-561caa703e72"
      },
      "source": [
        " tf.zeros([10,7])"
      ],
      "execution_count": null,
      "outputs": [
        {
          "output_type": "execute_result",
          "data": {
            "text/plain": [
              "<tf.Tensor: shape=(10, 7), dtype=float32, numpy=\n",
              "array([[0., 0., 0., 0., 0., 0., 0.],\n",
              "       [0., 0., 0., 0., 0., 0., 0.],\n",
              "       [0., 0., 0., 0., 0., 0., 0.],\n",
              "       [0., 0., 0., 0., 0., 0., 0.],\n",
              "       [0., 0., 0., 0., 0., 0., 0.],\n",
              "       [0., 0., 0., 0., 0., 0., 0.],\n",
              "       [0., 0., 0., 0., 0., 0., 0.],\n",
              "       [0., 0., 0., 0., 0., 0., 0.],\n",
              "       [0., 0., 0., 0., 0., 0., 0.],\n",
              "       [0., 0., 0., 0., 0., 0., 0.]], dtype=float32)>"
            ]
          },
          "metadata": {
            "tags": []
          },
          "execution_count": 44
        }
      ]
    },
    {
      "cell_type": "code",
      "metadata": {
        "id": "a2R41Do8yX52"
      },
      "source": [
        "import numpy as np\n",
        "numpy_A= np.arange(1,25,dtype=np.int32)"
      ],
      "execution_count": null,
      "outputs": []
    },
    {
      "cell_type": "code",
      "metadata": {
        "colab": {
          "base_uri": "https://localhost:8080/"
        },
        "id": "tjzEGvJyylOW",
        "outputId": "150570e7-fb3b-41b5-d751-c55074553a44"
      },
      "source": [
        "numpy_A"
      ],
      "execution_count": null,
      "outputs": [
        {
          "output_type": "execute_result",
          "data": {
            "text/plain": [
              "array([ 1,  2,  3,  4,  5,  6,  7,  8,  9, 10, 11, 12, 13, 14, 15, 16, 17,\n",
              "       18, 19, 20, 21, 22, 23, 24], dtype=int32)"
            ]
          },
          "metadata": {
            "tags": []
          },
          "execution_count": 46
        }
      ]
    },
    {
      "cell_type": "code",
      "metadata": {
        "colab": {
          "base_uri": "https://localhost:8080/"
        },
        "id": "rXila8NJymLq",
        "outputId": "1f60e9f0-4a1c-494d-9432-d51c737a1783"
      },
      "source": [
        "tf.constant(numpy_A)"
      ],
      "execution_count": null,
      "outputs": [
        {
          "output_type": "execute_result",
          "data": {
            "text/plain": [
              "<tf.Tensor: shape=(24,), dtype=int32, numpy=\n",
              "array([ 1,  2,  3,  4,  5,  6,  7,  8,  9, 10, 11, 12, 13, 14, 15, 16, 17,\n",
              "       18, 19, 20, 21, 22, 23, 24], dtype=int32)>"
            ]
          },
          "metadata": {
            "tags": []
          },
          "execution_count": 47
        }
      ]
    },
    {
      "cell_type": "code",
      "metadata": {
        "id": "t-YJntxRzuuH"
      },
      "source": [
        "A =tf.constant(numpy_A,shape=(3,2,2,2))"
      ],
      "execution_count": null,
      "outputs": []
    },
    {
      "cell_type": "markdown",
      "metadata": {
        "id": "5SIxOZag0DMQ"
      },
      "source": [
        "#Getting information from tensor"
      ]
    },
    {
      "cell_type": "code",
      "metadata": {
        "colab": {
          "base_uri": "https://localhost:8080/"
        },
        "id": "EBq2nhjkzzwm",
        "outputId": "158045d4-b24f-49af-8364-1772abfa9ad1"
      },
      "source": [
        "A.ndim"
      ],
      "execution_count": null,
      "outputs": [
        {
          "output_type": "execute_result",
          "data": {
            "text/plain": [
              "4"
            ]
          },
          "metadata": {
            "tags": []
          },
          "execution_count": 49
        }
      ]
    },
    {
      "cell_type": "code",
      "metadata": {
        "colab": {
          "base_uri": "https://localhost:8080/"
        },
        "id": "UCKy4gz80JIn",
        "outputId": "08a4d038-03c1-48bd-cce6-2b018a9edf74"
      },
      "source": [
        "rank_4_tensor = tf.zeros(shape=[2,3,4,5])\n",
        "rank_4_tensor"
      ],
      "execution_count": null,
      "outputs": [
        {
          "output_type": "execute_result",
          "data": {
            "text/plain": [
              "<tf.Tensor: shape=(2, 3, 4, 5), dtype=float32, numpy=\n",
              "array([[[[0., 0., 0., 0., 0.],\n",
              "         [0., 0., 0., 0., 0.],\n",
              "         [0., 0., 0., 0., 0.],\n",
              "         [0., 0., 0., 0., 0.]],\n",
              "\n",
              "        [[0., 0., 0., 0., 0.],\n",
              "         [0., 0., 0., 0., 0.],\n",
              "         [0., 0., 0., 0., 0.],\n",
              "         [0., 0., 0., 0., 0.]],\n",
              "\n",
              "        [[0., 0., 0., 0., 0.],\n",
              "         [0., 0., 0., 0., 0.],\n",
              "         [0., 0., 0., 0., 0.],\n",
              "         [0., 0., 0., 0., 0.]]],\n",
              "\n",
              "\n",
              "       [[[0., 0., 0., 0., 0.],\n",
              "         [0., 0., 0., 0., 0.],\n",
              "         [0., 0., 0., 0., 0.],\n",
              "         [0., 0., 0., 0., 0.]],\n",
              "\n",
              "        [[0., 0., 0., 0., 0.],\n",
              "         [0., 0., 0., 0., 0.],\n",
              "         [0., 0., 0., 0., 0.],\n",
              "         [0., 0., 0., 0., 0.]],\n",
              "\n",
              "        [[0., 0., 0., 0., 0.],\n",
              "         [0., 0., 0., 0., 0.],\n",
              "         [0., 0., 0., 0., 0.],\n",
              "         [0., 0., 0., 0., 0.]]]], dtype=float32)>"
            ]
          },
          "metadata": {
            "tags": []
          },
          "execution_count": 50
        }
      ]
    },
    {
      "cell_type": "code",
      "metadata": {
        "colab": {
          "base_uri": "https://localhost:8080/"
        },
        "id": "uE9Bi9r306_O",
        "outputId": "9a7130c5-f703-41b4-c3e3-c8f09b032c7c"
      },
      "source": [
        "type(rank_4_tensor)"
      ],
      "execution_count": null,
      "outputs": [
        {
          "output_type": "execute_result",
          "data": {
            "text/plain": [
              "tensorflow.python.framework.ops.EagerTensor"
            ]
          },
          "metadata": {
            "tags": []
          },
          "execution_count": 51
        }
      ]
    },
    {
      "cell_type": "code",
      "metadata": {
        "colab": {
          "base_uri": "https://localhost:8080/"
        },
        "id": "01cE68Qa1ORx",
        "outputId": "b667d541-8818-4487-e07f-4d4202263a6e"
      },
      "source": [
        "print(type(rank_4_tensor))"
      ],
      "execution_count": null,
      "outputs": [
        {
          "output_type": "stream",
          "text": [
            "<class 'tensorflow.python.framework.ops.EagerTensor'>\n"
          ],
          "name": "stdout"
        }
      ]
    },
    {
      "cell_type": "code",
      "metadata": {
        "colab": {
          "base_uri": "https://localhost:8080/"
        },
        "id": "G1_PPpUQ1RnT",
        "outputId": "0a0b33c3-327e-4ec4-bd09-7605acdf9750"
      },
      "source": [
        "rank_4_tensor[0]"
      ],
      "execution_count": null,
      "outputs": [
        {
          "output_type": "execute_result",
          "data": {
            "text/plain": [
              "<tf.Tensor: shape=(3, 4, 5), dtype=float32, numpy=\n",
              "array([[[0., 0., 0., 0., 0.],\n",
              "        [0., 0., 0., 0., 0.],\n",
              "        [0., 0., 0., 0., 0.],\n",
              "        [0., 0., 0., 0., 0.]],\n",
              "\n",
              "       [[0., 0., 0., 0., 0.],\n",
              "        [0., 0., 0., 0., 0.],\n",
              "        [0., 0., 0., 0., 0.],\n",
              "        [0., 0., 0., 0., 0.]],\n",
              "\n",
              "       [[0., 0., 0., 0., 0.],\n",
              "        [0., 0., 0., 0., 0.],\n",
              "        [0., 0., 0., 0., 0.],\n",
              "        [0., 0., 0., 0., 0.]]], dtype=float32)>"
            ]
          },
          "metadata": {
            "tags": []
          },
          "execution_count": 53
        }
      ]
    },
    {
      "cell_type": "code",
      "metadata": {
        "colab": {
          "base_uri": "https://localhost:8080/"
        },
        "id": "_koOm_IN1Vlf",
        "outputId": "c57701c6-f65b-4057-b767-aa41ef21f027"
      },
      "source": [
        "rank_4_tensor.shape,rank_4_tensor.ndim,tf.size(rank_4_tensor)"
      ],
      "execution_count": null,
      "outputs": [
        {
          "output_type": "execute_result",
          "data": {
            "text/plain": [
              "(TensorShape([2, 3, 4, 5]), 4, <tf.Tensor: shape=(), dtype=int32, numpy=120>)"
            ]
          },
          "metadata": {
            "tags": []
          },
          "execution_count": 54
        }
      ]
    },
    {
      "cell_type": "code",
      "metadata": {
        "colab": {
          "base_uri": "https://localhost:8080/"
        },
        "id": "dN6oAwff1fJ3",
        "outputId": "3aefb2ef-6c9a-477d-c5ff-dc92ecb5600e"
      },
      "source": [
        "2*3*4*5\n"
      ],
      "execution_count": null,
      "outputs": [
        {
          "output_type": "execute_result",
          "data": {
            "text/plain": [
              "120"
            ]
          },
          "metadata": {
            "tags": []
          },
          "execution_count": 55
        }
      ]
    },
    {
      "cell_type": "code",
      "metadata": {
        "colab": {
          "base_uri": "https://localhost:8080/"
        },
        "id": "Y-SvFmBc1hef",
        "outputId": "a2fa1790-d040-4090-856f-2991bf8bbe0c"
      },
      "source": [
        "print(\"Datatyoe of every element:\",rank_4_tensor.dtype)\n",
        "print(\"Number of dimension (rank)\",rank_4_tensor.ndim)\n",
        "print(\"Shape of tensor:\", rank_4_tensor.shape)\n",
        "print(\"Elements along first axis\" , rank_4_tensor.shape[0])\n",
        "print(\"Element along last axis\",rank_4_tensor.shape[-1])\n",
        "print(\"Total number of element in our tensor\" , tf.size(rank_4_tensor).numpy())"
      ],
      "execution_count": null,
      "outputs": [
        {
          "output_type": "stream",
          "text": [
            "Datatyoe of every element: <dtype: 'float32'>\n",
            "Number of dimension (rank) 4\n",
            "Shape of tensor: (2, 3, 4, 5)\n",
            "Elements along first axis 2\n",
            "Element along last axis 5\n",
            "Total number of element in our tensor 120\n"
          ],
          "name": "stdout"
        }
      ]
    },
    {
      "cell_type": "markdown",
      "metadata": {
        "id": "CLFsDRyTpqc4"
      },
      "source": [
        "#Indexing tensor (As python)"
      ]
    },
    {
      "cell_type": "code",
      "metadata": {
        "colab": {
          "base_uri": "https://localhost:8080/"
        },
        "id": "5R-t2hvIpmIq",
        "outputId": "97c60bcf-f5da-4afa-9d99-7a78ac51c6ae"
      },
      "source": [
        "rank_4_tensor"
      ],
      "execution_count": null,
      "outputs": [
        {
          "output_type": "execute_result",
          "data": {
            "text/plain": [
              "<tf.Tensor: shape=(2, 3, 4, 5), dtype=float32, numpy=\n",
              "array([[[[0., 0., 0., 0., 0.],\n",
              "         [0., 0., 0., 0., 0.],\n",
              "         [0., 0., 0., 0., 0.],\n",
              "         [0., 0., 0., 0., 0.]],\n",
              "\n",
              "        [[0., 0., 0., 0., 0.],\n",
              "         [0., 0., 0., 0., 0.],\n",
              "         [0., 0., 0., 0., 0.],\n",
              "         [0., 0., 0., 0., 0.]],\n",
              "\n",
              "        [[0., 0., 0., 0., 0.],\n",
              "         [0., 0., 0., 0., 0.],\n",
              "         [0., 0., 0., 0., 0.],\n",
              "         [0., 0., 0., 0., 0.]]],\n",
              "\n",
              "\n",
              "       [[[0., 0., 0., 0., 0.],\n",
              "         [0., 0., 0., 0., 0.],\n",
              "         [0., 0., 0., 0., 0.],\n",
              "         [0., 0., 0., 0., 0.]],\n",
              "\n",
              "        [[0., 0., 0., 0., 0.],\n",
              "         [0., 0., 0., 0., 0.],\n",
              "         [0., 0., 0., 0., 0.],\n",
              "         [0., 0., 0., 0., 0.]],\n",
              "\n",
              "        [[0., 0., 0., 0., 0.],\n",
              "         [0., 0., 0., 0., 0.],\n",
              "         [0., 0., 0., 0., 0.],\n",
              "         [0., 0., 0., 0., 0.]]]], dtype=float32)>"
            ]
          },
          "metadata": {
            "tags": []
          },
          "execution_count": 57
        }
      ]
    },
    {
      "cell_type": "code",
      "metadata": {
        "colab": {
          "base_uri": "https://localhost:8080/"
        },
        "id": "NRs50v9Z2T1K",
        "outputId": "ae4d0adc-82f7-4373-c48e-ecf432cc0d63"
      },
      "source": [
        "rank_4_tensor[0][0][0][1]"
      ],
      "execution_count": null,
      "outputs": [
        {
          "output_type": "execute_result",
          "data": {
            "text/plain": [
              "<tf.Tensor: shape=(), dtype=float32, numpy=0.0>"
            ]
          },
          "metadata": {
            "tags": []
          },
          "execution_count": 58
        }
      ]
    },
    {
      "cell_type": "code",
      "metadata": {
        "colab": {
          "base_uri": "https://localhost:8080/"
        },
        "id": "xl7VJsS3p0Kf",
        "outputId": "93a03f78-426e-4dad-a9ee-7e009034d406"
      },
      "source": [
        "rank_4_tensor[:2,:2,:2,:2\n",
        "]"
      ],
      "execution_count": null,
      "outputs": [
        {
          "output_type": "execute_result",
          "data": {
            "text/plain": [
              "<tf.Tensor: shape=(2, 2, 2, 2), dtype=float32, numpy=\n",
              "array([[[[0., 0.],\n",
              "         [0., 0.]],\n",
              "\n",
              "        [[0., 0.],\n",
              "         [0., 0.]]],\n",
              "\n",
              "\n",
              "       [[[0., 0.],\n",
              "         [0., 0.]],\n",
              "\n",
              "        [[0., 0.],\n",
              "         [0., 0.]]]], dtype=float32)>"
            ]
          },
          "metadata": {
            "tags": []
          },
          "execution_count": 59
        }
      ]
    },
    {
      "cell_type": "code",
      "metadata": {
        "colab": {
          "base_uri": "https://localhost:8080/"
        },
        "id": "inPRKVf0qAt0",
        "outputId": "0b0f90be-0ee2-46ab-c6c2-5ba9816b06dc"
      },
      "source": [
        "#Get the first elemet from each dimension\n",
        "\n",
        "rank_4_tensor[:,:,:1,:]"
      ],
      "execution_count": null,
      "outputs": [
        {
          "output_type": "execute_result",
          "data": {
            "text/plain": [
              "<tf.Tensor: shape=(2, 3, 1, 5), dtype=float32, numpy=\n",
              "array([[[[0., 0., 0., 0., 0.]],\n",
              "\n",
              "        [[0., 0., 0., 0., 0.]],\n",
              "\n",
              "        [[0., 0., 0., 0., 0.]]],\n",
              "\n",
              "\n",
              "       [[[0., 0., 0., 0., 0.]],\n",
              "\n",
              "        [[0., 0., 0., 0., 0.]],\n",
              "\n",
              "        [[0., 0., 0., 0., 0.]]]], dtype=float32)>"
            ]
          },
          "metadata": {
            "tags": []
          },
          "execution_count": 60
        }
      ]
    },
    {
      "cell_type": "code",
      "metadata": {
        "colab": {
          "base_uri": "https://localhost:8080/"
        },
        "id": "PtPUFK0IqRkd",
        "outputId": "20c090a8-4277-47a9-a563-8885415abf2e"
      },
      "source": [
        "rank_2_tensor = tf.constant([[10,7],\n",
        "                            [3,4]])\n",
        "\n",
        "rank_2_tensor.shape"
      ],
      "execution_count": null,
      "outputs": [
        {
          "output_type": "execute_result",
          "data": {
            "text/plain": [
              "TensorShape([2, 2])"
            ]
          },
          "metadata": {
            "tags": []
          },
          "execution_count": 61
        }
      ]
    },
    {
      "cell_type": "code",
      "metadata": {
        "colab": {
          "base_uri": "https://localhost:8080/"
        },
        "id": "wOw1l6JZq119",
        "outputId": "d7ed71dd-f50a-4e4d-8aac-e941f7b79d71"
      },
      "source": [
        "rank_2_tensor[:,-1]"
      ],
      "execution_count": null,
      "outputs": [
        {
          "output_type": "execute_result",
          "data": {
            "text/plain": [
              "<tf.Tensor: shape=(2,), dtype=int32, numpy=array([7, 4], dtype=int32)>"
            ]
          },
          "metadata": {
            "tags": []
          },
          "execution_count": 62
        }
      ]
    },
    {
      "cell_type": "code",
      "metadata": {
        "colab": {
          "base_uri": "https://localhost:8080/"
        },
        "id": "AA0v34uQq5Bt",
        "outputId": "c49bd2d9-442f-4823-ae26-435ede0cde8f"
      },
      "source": [
        "rank_3_tensor = rank_2_tensor[:,:,tf.newaxis]\n",
        "rank_3_tensor"
      ],
      "execution_count": null,
      "outputs": [
        {
          "output_type": "execute_result",
          "data": {
            "text/plain": [
              "<tf.Tensor: shape=(2, 2, 1), dtype=int32, numpy=\n",
              "array([[[10],\n",
              "        [ 7]],\n",
              "\n",
              "       [[ 3],\n",
              "        [ 4]]], dtype=int32)>"
            ]
          },
          "metadata": {
            "tags": []
          },
          "execution_count": 63
        }
      ]
    },
    {
      "cell_type": "code",
      "metadata": {
        "colab": {
          "base_uri": "https://localhost:8080/"
        },
        "id": "zM2xSkSArkgl",
        "outputId": "92505414-6673-40cd-a45a-4f29f30dd7a9"
      },
      "source": [
        "tf.expand_dims(rank_2_tensor, axis=-1) #alternative of tf.newaxis"
      ],
      "execution_count": null,
      "outputs": [
        {
          "output_type": "execute_result",
          "data": {
            "text/plain": [
              "<tf.Tensor: shape=(2, 2, 1), dtype=int32, numpy=\n",
              "array([[[10],\n",
              "        [ 7]],\n",
              "\n",
              "       [[ 3],\n",
              "        [ 4]]], dtype=int32)>"
            ]
          },
          "metadata": {
            "tags": []
          },
          "execution_count": 64
        }
      ]
    },
    {
      "cell_type": "markdown",
      "metadata": {
        "id": "UN94DZllsHX6"
      },
      "source": [
        "#Manipulating tensors\n",
        "\n",
        "Default python operation\n"
      ]
    },
    {
      "cell_type": "code",
      "metadata": {
        "colab": {
          "base_uri": "https://localhost:8080/"
        },
        "id": "9Wou7u9sruJt",
        "outputId": "41518aec-a06e-4937-f098-e380470bc6ce"
      },
      "source": [
        "tensor = tf.constant([[10,7],[3,4]])\n",
        "tensor+10"
      ],
      "execution_count": null,
      "outputs": [
        {
          "output_type": "execute_result",
          "data": {
            "text/plain": [
              "<tf.Tensor: shape=(2, 2), dtype=int32, numpy=\n",
              "array([[20, 17],\n",
              "       [13, 14]], dtype=int32)>"
            ]
          },
          "metadata": {
            "tags": []
          },
          "execution_count": 65
        }
      ]
    },
    {
      "cell_type": "code",
      "metadata": {
        "colab": {
          "base_uri": "https://localhost:8080/"
        },
        "id": "6KD2dCJtsUg0",
        "outputId": "f3a5c917-82a4-4afe-b25c-6555569aa274"
      },
      "source": [
        "tensor *10 \n",
        "# tensor / 10"
      ],
      "execution_count": null,
      "outputs": [
        {
          "output_type": "execute_result",
          "data": {
            "text/plain": [
              "<tf.Tensor: shape=(2, 2), dtype=int32, numpy=\n",
              "array([[100,  70],\n",
              "       [ 30,  40]], dtype=int32)>"
            ]
          },
          "metadata": {
            "tags": []
          },
          "execution_count": 66
        }
      ]
    },
    {
      "cell_type": "code",
      "metadata": {
        "colab": {
          "base_uri": "https://localhost:8080/"
        },
        "id": "vqqFWxoAsoJk",
        "outputId": "5c54231e-0237-4be3-bab7-f58f40fa7480"
      },
      "source": [
        "tf.multiply(tensor,10)"
      ],
      "execution_count": null,
      "outputs": [
        {
          "output_type": "execute_result",
          "data": {
            "text/plain": [
              "<tf.Tensor: shape=(2, 2), dtype=int32, numpy=\n",
              "array([[100,  70],\n",
              "       [ 30,  40]], dtype=int32)>"
            ]
          },
          "metadata": {
            "tags": []
          },
          "execution_count": 67
        }
      ]
    },
    {
      "cell_type": "markdown",
      "metadata": {
        "id": "iLDwdkXStIU2"
      },
      "source": [
        "#Matrix multiplication"
      ]
    },
    {
      "cell_type": "code",
      "metadata": {
        "colab": {
          "base_uri": "https://localhost:8080/"
        },
        "id": "WukXGPG9sxXA",
        "outputId": "f2e1e4ac-97fb-4391-fcdf-4b92afd3f2e1"
      },
      "source": [
        "tensor"
      ],
      "execution_count": null,
      "outputs": [
        {
          "output_type": "execute_result",
          "data": {
            "text/plain": [
              "<tf.Tensor: shape=(2, 2), dtype=int32, numpy=\n",
              "array([[10,  7],\n",
              "       [ 3,  4]], dtype=int32)>"
            ]
          },
          "metadata": {
            "tags": []
          },
          "execution_count": 68
        }
      ]
    },
    {
      "cell_type": "code",
      "metadata": {
        "colab": {
          "base_uri": "https://localhost:8080/"
        },
        "id": "h1ixlimFthxe",
        "outputId": "9253775b-5703-4ae0-a7b8-2689037e7891"
      },
      "source": [
        "tf.matmul(tensor,tensor)"
      ],
      "execution_count": null,
      "outputs": [
        {
          "output_type": "execute_result",
          "data": {
            "text/plain": [
              "<tf.Tensor: shape=(2, 2), dtype=int32, numpy=\n",
              "array([[121,  98],\n",
              "       [ 42,  37]], dtype=int32)>"
            ]
          },
          "metadata": {
            "tags": []
          },
          "execution_count": 69
        }
      ]
    },
    {
      "cell_type": "code",
      "metadata": {
        "id": "3n9SqJYBtmX9"
      },
      "source": [
        "# '@' this symble is same as matrix multification as tf.matmul"
      ],
      "execution_count": null,
      "outputs": []
    },
    {
      "cell_type": "code",
      "metadata": {
        "colab": {
          "base_uri": "https://localhost:8080/"
        },
        "id": "Wh3pDNXlt5bo",
        "outputId": "65a84f40-fa72-4deb-a9b6-fa4249044e4e"
      },
      "source": [
        "tensor @tensor"
      ],
      "execution_count": null,
      "outputs": [
        {
          "output_type": "execute_result",
          "data": {
            "text/plain": [
              "<tf.Tensor: shape=(2, 2), dtype=int32, numpy=\n",
              "array([[121,  98],\n",
              "       [ 42,  37]], dtype=int32)>"
            ]
          },
          "metadata": {
            "tags": []
          },
          "execution_count": 71
        }
      ]
    },
    {
      "cell_type": "code",
      "metadata": {
        "colab": {
          "base_uri": "https://localhost:8080/"
        },
        "id": "M-YLugUYt7LF",
        "outputId": "a6abd210-933c-485f-930b-8ba1da64451f"
      },
      "source": [
        " x  =tf.constant([[1,2],\n",
        "                  [3,4],\n",
        "                  [5,6]])\n",
        " y = tf.constant([[7,8],\n",
        "                  [9,10],\n",
        "                  [11,12]])\n",
        " x,y"
      ],
      "execution_count": null,
      "outputs": [
        {
          "output_type": "execute_result",
          "data": {
            "text/plain": [
              "(<tf.Tensor: shape=(3, 2), dtype=int32, numpy=\n",
              " array([[1, 2],\n",
              "        [3, 4],\n",
              "        [5, 6]], dtype=int32)>, <tf.Tensor: shape=(3, 2), dtype=int32, numpy=\n",
              " array([[ 7,  8],\n",
              "        [ 9, 10],\n",
              "        [11, 12]], dtype=int32)>)"
            ]
          },
          "metadata": {
            "tags": []
          },
          "execution_count": 72
        }
      ]
    },
    {
      "cell_type": "code",
      "metadata": {
        "colab": {
          "base_uri": "https://localhost:8080/"
        },
        "id": "hs-dgQlQuuKV",
        "outputId": "81cc429e-032d-451d-ed5b-5cb7d1dd5b61"
      },
      "source": [
        "x @ tf.reshape(y,shape=(2,3))"
      ],
      "execution_count": null,
      "outputs": [
        {
          "output_type": "execute_result",
          "data": {
            "text/plain": [
              "<tf.Tensor: shape=(3, 3), dtype=int32, numpy=\n",
              "array([[ 27,  30,  33],\n",
              "       [ 61,  68,  75],\n",
              "       [ 95, 106, 117]], dtype=int32)>"
            ]
          },
          "metadata": {
            "tags": []
          },
          "execution_count": 73
        }
      ]
    },
    {
      "cell_type": "code",
      "metadata": {
        "colab": {
          "base_uri": "https://localhost:8080/"
        },
        "id": "Nt3TrVlkuvkV",
        "outputId": "f8486a33-743f-4547-af99-cbf34ba35b4c"
      },
      "source": [
        "tf.reshape(x,(2,3)) @ y"
      ],
      "execution_count": null,
      "outputs": [
        {
          "output_type": "execute_result",
          "data": {
            "text/plain": [
              "<tf.Tensor: shape=(2, 2), dtype=int32, numpy=\n",
              "array([[ 58,  64],\n",
              "       [139, 154]], dtype=int32)>"
            ]
          },
          "metadata": {
            "tags": []
          },
          "execution_count": 74
        }
      ]
    },
    {
      "cell_type": "code",
      "metadata": {
        "colab": {
          "base_uri": "https://localhost:8080/"
        },
        "id": "MEUo06tHvFcm",
        "outputId": "b31702b7-28d0-4b75-c4f0-fc2c3e9b0506"
      },
      "source": [
        "tf.transpose(y)"
      ],
      "execution_count": null,
      "outputs": [
        {
          "output_type": "execute_result",
          "data": {
            "text/plain": [
              "<tf.Tensor: shape=(2, 3), dtype=int32, numpy=\n",
              "array([[ 7,  9, 11],\n",
              "       [ 8, 10, 12]], dtype=int32)>"
            ]
          },
          "metadata": {
            "tags": []
          },
          "execution_count": 75
        }
      ]
    },
    {
      "cell_type": "code",
      "metadata": {
        "colab": {
          "base_uri": "https://localhost:8080/"
        },
        "id": "SS2owEf2vROX",
        "outputId": "e11bcc04-8eba-40bd-8556-eed6b66c3722"
      },
      "source": [
        "tf.transpose(x) @ y"
      ],
      "execution_count": null,
      "outputs": [
        {
          "output_type": "execute_result",
          "data": {
            "text/plain": [
              "<tf.Tensor: shape=(2, 2), dtype=int32, numpy=\n",
              "array([[ 89,  98],\n",
              "       [116, 128]], dtype=int32)>"
            ]
          },
          "metadata": {
            "tags": []
          },
          "execution_count": 76
        }
      ]
    },
    {
      "cell_type": "code",
      "metadata": {
        "colab": {
          "base_uri": "https://localhost:8080/"
        },
        "id": "uhFBlhdzvsUu",
        "outputId": "6ad2c6ca-0f3a-42af-840e-41f2889740b7"
      },
      "source": [
        "x,y"
      ],
      "execution_count": null,
      "outputs": [
        {
          "output_type": "execute_result",
          "data": {
            "text/plain": [
              "(<tf.Tensor: shape=(3, 2), dtype=int32, numpy=\n",
              " array([[1, 2],\n",
              "        [3, 4],\n",
              "        [5, 6]], dtype=int32)>, <tf.Tensor: shape=(3, 2), dtype=int32, numpy=\n",
              " array([[ 7,  8],\n",
              "        [ 9, 10],\n",
              "        [11, 12]], dtype=int32)>)"
            ]
          },
          "metadata": {
            "tags": []
          },
          "execution_count": 77
        }
      ]
    },
    {
      "cell_type": "code",
      "metadata": {
        "colab": {
          "base_uri": "https://localhost:8080/"
        },
        "id": "G83xWe3Exlc1",
        "outputId": "9708a7cb-17c4-41aa-94e2-6c05cd7f6d79"
      },
      "source": [
        "tf.tensordot(tf.transpose(x),y,axes=1)"
      ],
      "execution_count": null,
      "outputs": [
        {
          "output_type": "execute_result",
          "data": {
            "text/plain": [
              "<tf.Tensor: shape=(2, 2), dtype=int32, numpy=\n",
              "array([[ 89,  98],\n",
              "       [116, 128]], dtype=int32)>"
            ]
          },
          "metadata": {
            "tags": []
          },
          "execution_count": 78
        }
      ]
    },
    {
      "cell_type": "code",
      "metadata": {
        "colab": {
          "base_uri": "https://localhost:8080/",
          "height": 298
        },
        "id": "JzhQkCANxpQm",
        "outputId": "0b51ee0b-4393-4e58-c069-c74f6ace9ff0"
      },
      "source": [
        "tf.matmul()"
      ],
      "execution_count": null,
      "outputs": [
        {
          "output_type": "error",
          "ename": "TypeError",
          "evalue": "ignored",
          "traceback": [
            "\u001b[0;31m---------------------------------------------------------------------------\u001b[0m",
            "\u001b[0;31mTypeError\u001b[0m                                 Traceback (most recent call last)",
            "\u001b[0;32m<ipython-input-79-aa4bb054ad8a>\u001b[0m in \u001b[0;36m<module>\u001b[0;34m()\u001b[0m\n\u001b[0;32m----> 1\u001b[0;31m \u001b[0mtf\u001b[0m\u001b[0;34m.\u001b[0m\u001b[0mmatmul\u001b[0m\u001b[0;34m(\u001b[0m\u001b[0;34m)\u001b[0m\u001b[0;34m\u001b[0m\u001b[0;34m\u001b[0m\u001b[0m\n\u001b[0m",
            "\u001b[0;32m/usr/local/lib/python3.7/dist-packages/tensorflow/python/util/dispatch.py\u001b[0m in \u001b[0;36mwrapper\u001b[0;34m(*args, **kwargs)\u001b[0m\n\u001b[1;32m    204\u001b[0m     \u001b[0;34m\"\"\"Call target, and fall back on dispatchers if there is a TypeError.\"\"\"\u001b[0m\u001b[0;34m\u001b[0m\u001b[0;34m\u001b[0m\u001b[0m\n\u001b[1;32m    205\u001b[0m     \u001b[0;32mtry\u001b[0m\u001b[0;34m:\u001b[0m\u001b[0;34m\u001b[0m\u001b[0;34m\u001b[0m\u001b[0m\n\u001b[0;32m--> 206\u001b[0;31m       \u001b[0;32mreturn\u001b[0m \u001b[0mtarget\u001b[0m\u001b[0;34m(\u001b[0m\u001b[0;34m*\u001b[0m\u001b[0margs\u001b[0m\u001b[0;34m,\u001b[0m \u001b[0;34m**\u001b[0m\u001b[0mkwargs\u001b[0m\u001b[0;34m)\u001b[0m\u001b[0;34m\u001b[0m\u001b[0;34m\u001b[0m\u001b[0m\n\u001b[0m\u001b[1;32m    207\u001b[0m     \u001b[0;32mexcept\u001b[0m \u001b[0;34m(\u001b[0m\u001b[0mTypeError\u001b[0m\u001b[0;34m,\u001b[0m \u001b[0mValueError\u001b[0m\u001b[0;34m)\u001b[0m\u001b[0;34m:\u001b[0m\u001b[0;34m\u001b[0m\u001b[0;34m\u001b[0m\u001b[0m\n\u001b[1;32m    208\u001b[0m       \u001b[0;31m# Note: convert_to_eager_tensor currently raises a ValueError, not a\u001b[0m\u001b[0;34m\u001b[0m\u001b[0;34m\u001b[0m\u001b[0;34m\u001b[0m\u001b[0m\n",
            "\u001b[0;31mTypeError\u001b[0m: matmul() missing 2 required positional arguments: 'a' and 'b'"
          ]
        }
      ]
    },
    {
      "cell_type": "markdown",
      "metadata": {
        "id": "Ai0BJqkJ_hBX"
      },
      "source": [
        "# Changing the datatype of a tensor"
      ]
    },
    {
      "cell_type": "code",
      "metadata": {
        "id": "maYHRwdu_lTA",
        "colab": {
          "base_uri": "https://localhost:8080/"
        },
        "outputId": "77ed955c-3b67-4355-d3a9-9d3d43d56cfb"
      },
      "source": [
        "# for changing the data types ,, dtypes\n",
        "\n",
        "x = tf.constant([7,10]) \n",
        "x,x.dtype"
      ],
      "execution_count": null,
      "outputs": [
        {
          "output_type": "execute_result",
          "data": {
            "text/plain": [
              "(<tf.Tensor: shape=(2,), dtype=int32, numpy=array([ 7, 10], dtype=int32)>,\n",
              " tf.int32)"
            ]
          },
          "metadata": {
            "tags": []
          },
          "execution_count": 80
        }
      ]
    },
    {
      "cell_type": "code",
      "metadata": {
        "id": "akvciy1QAjq5",
        "colab": {
          "base_uri": "https://localhost:8080/"
        },
        "outputId": "7cedccc6-404c-492c-d90e-e5975803e03e"
      },
      "source": [
        "\n",
        "z= tf.cast(x,dtype=tf.float16)\n",
        "z"
      ],
      "execution_count": null,
      "outputs": [
        {
          "output_type": "execute_result",
          "data": {
            "text/plain": [
              "<tf.Tensor: shape=(2,), dtype=float16, numpy=array([ 7., 10.], dtype=float16)>"
            ]
          },
          "metadata": {
            "tags": []
          },
          "execution_count": 81
        }
      ]
    },
    {
      "cell_type": "markdown",
      "metadata": {
        "id": "EhJPpJqyBnR1"
      },
      "source": [
        "# Aggregating tensors"
      ]
    },
    {
      "cell_type": "code",
      "metadata": {
        "id": "2duTAdBcBQKR",
        "colab": {
          "base_uri": "https://localhost:8080/"
        },
        "outputId": "17bf0d82-e610-4125-fc05-2736d482b194"
      },
      "source": [
        "D =tf.constant([-7,-10])\n",
        "D"
      ],
      "execution_count": null,
      "outputs": [
        {
          "output_type": "execute_result",
          "data": {
            "text/plain": [
              "<tf.Tensor: shape=(2,), dtype=int32, numpy=array([ -7, -10], dtype=int32)>"
            ]
          },
          "metadata": {
            "tags": []
          },
          "execution_count": 82
        }
      ]
    },
    {
      "cell_type": "code",
      "metadata": {
        "id": "d8f1DCj9BtTR",
        "colab": {
          "base_uri": "https://localhost:8080/"
        },
        "outputId": "adde4508-948d-4428-c75d-368e448dc0cb"
      },
      "source": [
        "tf.abs(D,)"
      ],
      "execution_count": null,
      "outputs": [
        {
          "output_type": "execute_result",
          "data": {
            "text/plain": [
              "<tf.Tensor: shape=(2,), dtype=int32, numpy=array([ 7, 10], dtype=int32)>"
            ]
          },
          "metadata": {
            "tags": []
          },
          "execution_count": 83
        }
      ]
    },
    {
      "cell_type": "markdown",
      "metadata": {
        "id": "7ghFyC7oCAgF"
      },
      "source": [
        "Tensor of\n",
        "\n",
        "* Minimum\n",
        "* Maximum\n",
        "* Mean\n",
        "* Sum"
      ]
    },
    {
      "cell_type": "code",
      "metadata": {
        "id": "BVOEauZkBxhK",
        "colab": {
          "base_uri": "https://localhost:8080/"
        },
        "outputId": "df1a79bf-f00a-4451-fd61-7164ac7ecf93"
      },
      "source": [
        "E = tf.constant(np.random.randint(0,100,size=50))\n",
        "E"
      ],
      "execution_count": null,
      "outputs": [
        {
          "output_type": "execute_result",
          "data": {
            "text/plain": [
              "<tf.Tensor: shape=(50,), dtype=int64, numpy=\n",
              "array([75, 94,  9, 46, 68, 15, 15, 61, 37, 11, 47,  5, 90, 80, 29, 36, 44,\n",
              "       53, 88, 48, 30, 13, 15, 76, 13, 90, 49, 19, 83, 26, 89, 14, 68, 63,\n",
              "       81,  5, 99, 95, 18, 38, 46, 54, 50, 32, 94, 75, 52, 33, 97, 58])>"
            ]
          },
          "metadata": {
            "tags": []
          },
          "execution_count": 84
        }
      ]
    },
    {
      "cell_type": "code",
      "metadata": {
        "id": "2Vvg3qKdCamb",
        "colab": {
          "base_uri": "https://localhost:8080/"
        },
        "outputId": "37ccceed-5a3c-427a-9f67-b0464f466629"
      },
      "source": [
        "tf.reduce_min(E)"
      ],
      "execution_count": null,
      "outputs": [
        {
          "output_type": "execute_result",
          "data": {
            "text/plain": [
              "<tf.Tensor: shape=(), dtype=int64, numpy=5>"
            ]
          },
          "metadata": {
            "tags": []
          },
          "execution_count": 85
        }
      ]
    },
    {
      "cell_type": "code",
      "metadata": {
        "id": "rOFnR7lxChAS",
        "colab": {
          "base_uri": "https://localhost:8080/"
        },
        "outputId": "4c214637-983c-4129-e085-bba0152acc8b"
      },
      "source": [
        "tf.reduce_max(E)"
      ],
      "execution_count": null,
      "outputs": [
        {
          "output_type": "execute_result",
          "data": {
            "text/plain": [
              "<tf.Tensor: shape=(), dtype=int64, numpy=99>"
            ]
          },
          "metadata": {
            "tags": []
          },
          "execution_count": 86
        }
      ]
    },
    {
      "cell_type": "code",
      "metadata": {
        "id": "CTWNFvLMCo85",
        "colab": {
          "base_uri": "https://localhost:8080/"
        },
        "outputId": "b9ade96e-f65a-47b4-d501-7240742a947b"
      },
      "source": [
        "tf.reduce_mean(E)"
      ],
      "execution_count": null,
      "outputs": [
        {
          "output_type": "execute_result",
          "data": {
            "text/plain": [
              "<tf.Tensor: shape=(), dtype=int64, numpy=50>"
            ]
          },
          "metadata": {
            "tags": []
          },
          "execution_count": 87
        }
      ]
    },
    {
      "cell_type": "code",
      "metadata": {
        "id": "e3PBpR_nCtAp",
        "colab": {
          "base_uri": "https://localhost:8080/"
        },
        "outputId": "77c74593-1997-486c-f501-de0a58489589"
      },
      "source": [
        "tf.reduce_sum(E)"
      ],
      "execution_count": null,
      "outputs": [
        {
          "output_type": "execute_result",
          "data": {
            "text/plain": [
              "<tf.Tensor: shape=(), dtype=int64, numpy=2526>"
            ]
          },
          "metadata": {
            "tags": []
          },
          "execution_count": 88
        }
      ]
    },
    {
      "cell_type": "code",
      "metadata": {
        "id": "GO-w0blLCzUR"
      },
      "source": [
        "import tensorflow_probability as tfp"
      ],
      "execution_count": null,
      "outputs": []
    },
    {
      "cell_type": "code",
      "metadata": {
        "id": "nJ7Wvz3sC3lJ",
        "colab": {
          "base_uri": "https://localhost:8080/"
        },
        "outputId": "427de4a2-77da-46f7-ff66-bb932c9d9a96"
      },
      "source": [
        "tfp.stats.variance(E)"
      ],
      "execution_count": null,
      "outputs": [
        {
          "output_type": "execute_result",
          "data": {
            "text/plain": [
              "<tf.Tensor: shape=(), dtype=int64, numpy=842>"
            ]
          },
          "metadata": {
            "tags": []
          },
          "execution_count": 90
        }
      ]
    },
    {
      "cell_type": "code",
      "metadata": {
        "id": "Zz978o_0DUCS",
        "colab": {
          "base_uri": "https://localhost:8080/"
        },
        "outputId": "c8d2f36b-68c4-4aa2-9e12-28340dbe83c7"
      },
      "source": [
        "tfp.stats.stddev(tf.cast(E,dtype=tf.float32))"
      ],
      "execution_count": null,
      "outputs": [
        {
          "output_type": "execute_result",
          "data": {
            "text/plain": [
              "<tf.Tensor: shape=(), dtype=float32, numpy=29.028427>"
            ]
          },
          "metadata": {
            "tags": []
          },
          "execution_count": 91
        }
      ]
    },
    {
      "cell_type": "code",
      "metadata": {
        "id": "qPH9r9TzDdi7",
        "colab": {
          "base_uri": "https://localhost:8080/"
        },
        "outputId": "5f9992ca-7b0b-4080-ed78-a683e30c366a"
      },
      "source": [
        " tf.math.reduce_std(tf.cast(E,dtype=tf.float32))"
      ],
      "execution_count": null,
      "outputs": [
        {
          "output_type": "execute_result",
          "data": {
            "text/plain": [
              "<tf.Tensor: shape=(), dtype=float32, numpy=29.028427>"
            ]
          },
          "metadata": {
            "tags": []
          },
          "execution_count": 92
        }
      ]
    },
    {
      "cell_type": "markdown",
      "metadata": {
        "id": "N5NNv2ucEtM-"
      },
      "source": [
        "#Find positional maximam and minimam"
      ]
    },
    {
      "cell_type": "code",
      "metadata": {
        "id": "bir0ZyzcD_vJ",
        "colab": {
          "base_uri": "https://localhost:8080/"
        },
        "outputId": "ac05a978-e4da-4f6b-f130-b08e0501b56f"
      },
      "source": [
        "tf.random.set_seed(42)\n",
        "F = tf.random.uniform(shape=[50])\n",
        "F\n"
      ],
      "execution_count": null,
      "outputs": [
        {
          "output_type": "execute_result",
          "data": {
            "text/plain": [
              "<tf.Tensor: shape=(50,), dtype=float32, numpy=\n",
              "array([0.6645621 , 0.44100678, 0.3528825 , 0.46448255, 0.03366041,\n",
              "       0.68467236, 0.74011743, 0.8724445 , 0.22632635, 0.22319686,\n",
              "       0.3103881 , 0.7223358 , 0.13318717, 0.5480639 , 0.5746088 ,\n",
              "       0.8996835 , 0.00946367, 0.5212307 , 0.6345445 , 0.1993283 ,\n",
              "       0.72942245, 0.54583454, 0.10756552, 0.6767061 , 0.6602763 ,\n",
              "       0.33695042, 0.60141766, 0.21062577, 0.8527372 , 0.44062173,\n",
              "       0.9485276 , 0.23752594, 0.81179297, 0.5263394 , 0.494308  ,\n",
              "       0.21612847, 0.8457197 , 0.8718841 , 0.3083862 , 0.6868038 ,\n",
              "       0.23764038, 0.7817228 , 0.9671384 , 0.06870162, 0.79873943,\n",
              "       0.66028714, 0.5871513 , 0.16461694, 0.7381023 , 0.32054043],\n",
              "      dtype=float32)>"
            ]
          },
          "metadata": {
            "tags": []
          },
          "execution_count": 93
        }
      ]
    },
    {
      "cell_type": "code",
      "metadata": {
        "id": "KIk9ORqmE4Bq",
        "colab": {
          "base_uri": "https://localhost:8080/"
        },
        "outputId": "80b39f3c-65dd-4493-d6de-2e308b96c946"
      },
      "source": [
        "tf.argmax(F)"
      ],
      "execution_count": null,
      "outputs": [
        {
          "output_type": "execute_result",
          "data": {
            "text/plain": [
              "<tf.Tensor: shape=(), dtype=int64, numpy=42>"
            ]
          },
          "metadata": {
            "tags": []
          },
          "execution_count": 94
        }
      ]
    },
    {
      "cell_type": "code",
      "metadata": {
        "id": "EhCRGR9kFBJ6",
        "colab": {
          "base_uri": "https://localhost:8080/"
        },
        "outputId": "7c52978d-7425-4672-d348-8849730e1c2c"
      },
      "source": [
        "F[tf.argmax(F)]"
      ],
      "execution_count": null,
      "outputs": [
        {
          "output_type": "execute_result",
          "data": {
            "text/plain": [
              "<tf.Tensor: shape=(), dtype=float32, numpy=0.9671384>"
            ]
          },
          "metadata": {
            "tags": []
          },
          "execution_count": 95
        }
      ]
    },
    {
      "cell_type": "code",
      "metadata": {
        "id": "MuTHx3XLFM0c",
        "colab": {
          "base_uri": "https://localhost:8080/"
        },
        "outputId": "c26d76f8-302d-495f-9d83-7bac976f71f4"
      },
      "source": [
        "tf.reduce_max(F)"
      ],
      "execution_count": null,
      "outputs": [
        {
          "output_type": "execute_result",
          "data": {
            "text/plain": [
              "<tf.Tensor: shape=(), dtype=float32, numpy=0.9671384>"
            ]
          },
          "metadata": {
            "tags": []
          },
          "execution_count": 96
        }
      ]
    },
    {
      "cell_type": "code",
      "metadata": {
        "id": "O581pFHzFX-y",
        "colab": {
          "base_uri": "https://localhost:8080/"
        },
        "outputId": "6085e6d0-0a33-4129-a4c4-bdea03ed5c93"
      },
      "source": [
        "tf.argmin(F)"
      ],
      "execution_count": null,
      "outputs": [
        {
          "output_type": "execute_result",
          "data": {
            "text/plain": [
              "<tf.Tensor: shape=(), dtype=int64, numpy=16>"
            ]
          },
          "metadata": {
            "tags": []
          },
          "execution_count": 97
        }
      ]
    },
    {
      "cell_type": "code",
      "metadata": {
        "id": "QnnMk_29Fbni",
        "colab": {
          "base_uri": "https://localhost:8080/"
        },
        "outputId": "e5229bf5-303c-49be-eca4-8f414ad97448"
      },
      "source": [
        "F[tf.argmin(F)]"
      ],
      "execution_count": null,
      "outputs": [
        {
          "output_type": "execute_result",
          "data": {
            "text/plain": [
              "<tf.Tensor: shape=(), dtype=float32, numpy=0.009463668>"
            ]
          },
          "metadata": {
            "tags": []
          },
          "execution_count": 98
        }
      ]
    },
    {
      "cell_type": "markdown",
      "metadata": {
        "id": "eIlHPYAQFra2"
      },
      "source": [
        "## Squizing a tensor (removing all singlw dimensions)"
      ]
    },
    {
      "cell_type": "code",
      "metadata": {
        "id": "RhZcyrxkFf66",
        "colab": {
          "base_uri": "https://localhost:8080/"
        },
        "outputId": "99fa6640-ff9d-4d2a-d129-e28ffe27a1f9"
      },
      "source": [
        "G = tf.constant(tf.random.uniform(shape=[50]), shape=(1,1,1,1,50))\n",
        "G"
      ],
      "execution_count": null,
      "outputs": [
        {
          "output_type": "execute_result",
          "data": {
            "text/plain": [
              "<tf.Tensor: shape=(1, 1, 1, 1, 50), dtype=float32, numpy=\n",
              "array([[[[[0.68789124, 0.48447883, 0.9309944 , 0.252187  , 0.73115396,\n",
              "           0.89256823, 0.94674826, 0.7493341 , 0.34925628, 0.54718256,\n",
              "           0.26160395, 0.69734323, 0.11962581, 0.53484344, 0.7148968 ,\n",
              "           0.87501776, 0.33967495, 0.17377627, 0.4418521 , 0.9008261 ,\n",
              "           0.13803864, 0.12217975, 0.5754491 , 0.9417181 , 0.9186585 ,\n",
              "           0.59708476, 0.6109482 , 0.82086265, 0.83269787, 0.8915849 ,\n",
              "           0.01377225, 0.49807465, 0.57503664, 0.6856195 , 0.75972784,\n",
              "           0.908944  , 0.40900218, 0.8765154 , 0.53890026, 0.42733097,\n",
              "           0.401173  , 0.66623247, 0.16348064, 0.18220246, 0.97040176,\n",
              "           0.06139731, 0.53034747, 0.9869994 , 0.4746945 , 0.8646754 ]]]]],\n",
              "      dtype=float32)>"
            ]
          },
          "metadata": {
            "tags": []
          },
          "execution_count": 99
        }
      ]
    },
    {
      "cell_type": "code",
      "metadata": {
        "id": "XFRmKsxBF3-b",
        "colab": {
          "base_uri": "https://localhost:8080/"
        },
        "outputId": "84f6b067-23e9-4cec-842a-df54881905d2"
      },
      "source": [
        "G_squeezed = tf.squeeze(G)\n",
        "G_squeezed,G #Removing the dimension"
      ],
      "execution_count": null,
      "outputs": [
        {
          "output_type": "execute_result",
          "data": {
            "text/plain": [
              "(<tf.Tensor: shape=(50,), dtype=float32, numpy=\n",
              " array([0.68789124, 0.48447883, 0.9309944 , 0.252187  , 0.73115396,\n",
              "        0.89256823, 0.94674826, 0.7493341 , 0.34925628, 0.54718256,\n",
              "        0.26160395, 0.69734323, 0.11962581, 0.53484344, 0.7148968 ,\n",
              "        0.87501776, 0.33967495, 0.17377627, 0.4418521 , 0.9008261 ,\n",
              "        0.13803864, 0.12217975, 0.5754491 , 0.9417181 , 0.9186585 ,\n",
              "        0.59708476, 0.6109482 , 0.82086265, 0.83269787, 0.8915849 ,\n",
              "        0.01377225, 0.49807465, 0.57503664, 0.6856195 , 0.75972784,\n",
              "        0.908944  , 0.40900218, 0.8765154 , 0.53890026, 0.42733097,\n",
              "        0.401173  , 0.66623247, 0.16348064, 0.18220246, 0.97040176,\n",
              "        0.06139731, 0.53034747, 0.9869994 , 0.4746945 , 0.8646754 ],\n",
              "       dtype=float32)>,\n",
              " <tf.Tensor: shape=(1, 1, 1, 1, 50), dtype=float32, numpy=\n",
              " array([[[[[0.68789124, 0.48447883, 0.9309944 , 0.252187  , 0.73115396,\n",
              "            0.89256823, 0.94674826, 0.7493341 , 0.34925628, 0.54718256,\n",
              "            0.26160395, 0.69734323, 0.11962581, 0.53484344, 0.7148968 ,\n",
              "            0.87501776, 0.33967495, 0.17377627, 0.4418521 , 0.9008261 ,\n",
              "            0.13803864, 0.12217975, 0.5754491 , 0.9417181 , 0.9186585 ,\n",
              "            0.59708476, 0.6109482 , 0.82086265, 0.83269787, 0.8915849 ,\n",
              "            0.01377225, 0.49807465, 0.57503664, 0.6856195 , 0.75972784,\n",
              "            0.908944  , 0.40900218, 0.8765154 , 0.53890026, 0.42733097,\n",
              "            0.401173  , 0.66623247, 0.16348064, 0.18220246, 0.97040176,\n",
              "            0.06139731, 0.53034747, 0.9869994 , 0.4746945 , 0.8646754 ]]]]],\n",
              "       dtype=float32)>)"
            ]
          },
          "metadata": {
            "tags": []
          },
          "execution_count": 100
        }
      ]
    },
    {
      "cell_type": "markdown",
      "metadata": {
        "id": "Mzi4fKn4aUal"
      },
      "source": [
        "#One hot encoding"
      ]
    },
    {
      "cell_type": "code",
      "metadata": {
        "id": "7VmWfCf0GGT0",
        "colab": {
          "base_uri": "https://localhost:8080/"
        },
        "outputId": "cd93643b-f9a6-4b53-99e8-1f309807a849"
      },
      "source": [
        "some_list=[0,1,2,3]\n",
        "#onehot\n",
        "\n",
        "tf.one_hot(some_list,depth=4)"
      ],
      "execution_count": null,
      "outputs": [
        {
          "output_type": "execute_result",
          "data": {
            "text/plain": [
              "<tf.Tensor: shape=(4, 4), dtype=float32, numpy=\n",
              "array([[1., 0., 0., 0.],\n",
              "       [0., 1., 0., 0.],\n",
              "       [0., 0., 1., 0.],\n",
              "       [0., 0., 0., 1.]], dtype=float32)>"
            ]
          },
          "metadata": {
            "tags": []
          },
          "execution_count": 101
        }
      ]
    },
    {
      "cell_type": "code",
      "metadata": {
        "id": "Y-mO_5LHaqiS",
        "colab": {
          "base_uri": "https://localhost:8080/"
        },
        "outputId": "468dfa99-9260-4868-92ab-5a825340a507"
      },
      "source": [
        "tf.one_hot(some_list,depth=4, on_value='Yes',off_value='no')"
      ],
      "execution_count": null,
      "outputs": [
        {
          "output_type": "execute_result",
          "data": {
            "text/plain": [
              "<tf.Tensor: shape=(4, 4), dtype=string, numpy=\n",
              "array([[b'Yes', b'no', b'no', b'no'],\n",
              "       [b'no', b'Yes', b'no', b'no'],\n",
              "       [b'no', b'no', b'Yes', b'no'],\n",
              "       [b'no', b'no', b'no', b'Yes']], dtype=object)>"
            ]
          },
          "metadata": {
            "tags": []
          },
          "execution_count": 102
        }
      ]
    },
    {
      "cell_type": "markdown",
      "metadata": {
        "id": "SN2xG-6sbSuZ"
      },
      "source": [
        "# Squaring , log , square root"
      ]
    },
    {
      "cell_type": "code",
      "metadata": {
        "id": "8HnWR20GbCeY"
      },
      "source": [
        "H= tf.range(1,10)"
      ],
      "execution_count": null,
      "outputs": []
    },
    {
      "cell_type": "code",
      "metadata": {
        "id": "S1itvDVobYiz",
        "colab": {
          "base_uri": "https://localhost:8080/"
        },
        "outputId": "5f215b47-82dd-492f-dd2a-82b2a20d8be5"
      },
      "source": [
        "tf.square(H)"
      ],
      "execution_count": null,
      "outputs": [
        {
          "output_type": "execute_result",
          "data": {
            "text/plain": [
              "<tf.Tensor: shape=(9,), dtype=int32, numpy=array([ 1,  4,  9, 16, 25, 36, 49, 64, 81], dtype=int32)>"
            ]
          },
          "metadata": {
            "tags": []
          },
          "execution_count": 104
        }
      ]
    },
    {
      "cell_type": "code",
      "metadata": {
        "id": "pUbVRqp9bbUv",
        "colab": {
          "base_uri": "https://localhost:8080/"
        },
        "outputId": "c5f23fb5-3974-4950-e1b8-d8f59aab36c7"
      },
      "source": [
        "tf.sqrt(tf.cast(H,dtype=tf.float32))"
      ],
      "execution_count": null,
      "outputs": [
        {
          "output_type": "execute_result",
          "data": {
            "text/plain": [
              "<tf.Tensor: shape=(9,), dtype=float32, numpy=\n",
              "array([0.99999994, 1.4142134 , 1.7320508 , 1.9999999 , 2.236068  ,\n",
              "       2.4494896 , 2.6457512 , 2.8284268 , 3.        ], dtype=float32)>"
            ]
          },
          "metadata": {
            "tags": []
          },
          "execution_count": 105
        }
      ]
    },
    {
      "cell_type": "code",
      "metadata": {
        "id": "49Pmadb6bgjX",
        "colab": {
          "base_uri": "https://localhost:8080/"
        },
        "outputId": "ca8138aa-025f-4889-81ad-008a047729e9"
      },
      "source": [
        "tf.math.log(tf.cast(H,dtype=tf.float32))"
      ],
      "execution_count": null,
      "outputs": [
        {
          "output_type": "execute_result",
          "data": {
            "text/plain": [
              "<tf.Tensor: shape=(9,), dtype=float32, numpy=\n",
              "array([0.       , 0.6931472, 1.0986123, 1.3862944, 1.609438 , 1.7917595,\n",
              "       1.9459102, 2.0794415, 2.1972246], dtype=float32)>"
            ]
          },
          "metadata": {
            "tags": []
          },
          "execution_count": 106
        }
      ]
    },
    {
      "cell_type": "code",
      "metadata": {
        "id": "9eEtkUhcbwSY"
      },
      "source": [
        "### Tensors and numpy"
      ],
      "execution_count": null,
      "outputs": []
    },
    {
      "cell_type": "code",
      "metadata": {
        "id": "9jOzUUWFcDIQ",
        "colab": {
          "base_uri": "https://localhost:8080/"
        },
        "outputId": "b11458f9-52ab-4f6f-b020-de36727fe58d"
      },
      "source": [
        " j = tf.constant(np.array([3.,7.,10.]))\n",
        " j.numpy()[0]"
      ],
      "execution_count": null,
      "outputs": [
        {
          "output_type": "execute_result",
          "data": {
            "text/plain": [
              "3.0"
            ]
          },
          "metadata": {
            "tags": []
          },
          "execution_count": 108
        }
      ]
    },
    {
      "cell_type": "code",
      "metadata": {
        "id": "ZSDkAbkacb6I",
        "colab": {
          "base_uri": "https://localhost:8080/"
        },
        "outputId": "bafb3763-ed33-42c2-e170-cc2f28686c7a"
      },
      "source": [
        "np.array(j),type(np.array(j))"
      ],
      "execution_count": null,
      "outputs": [
        {
          "output_type": "execute_result",
          "data": {
            "text/plain": [
              "(array([ 3.,  7., 10.]), numpy.ndarray)"
            ]
          },
          "metadata": {
            "tags": []
          },
          "execution_count": 109
        }
      ]
    },
    {
      "cell_type": "markdown",
      "metadata": {
        "id": "GPR2iGsXQVHW"
      },
      "source": [
        "# O1_neural_network_regrassion_with_tensorflow"
      ]
    },
    {
      "cell_type": "code",
      "metadata": {
        "id": "6NIZssZbcjgI",
        "colab": {
          "base_uri": "https://localhost:8080/",
          "height": 35
        },
        "outputId": "ef5f5b78-f9c9-491f-9e11-de89ce98a977"
      },
      "source": [
        "import tensorflow as tf\n",
        "tf.__version__"
      ],
      "execution_count": null,
      "outputs": [
        {
          "output_type": "execute_result",
          "data": {
            "application/vnd.google.colaboratory.intrinsic+json": {
              "type": "string"
            },
            "text/plain": [
              "'2.5.0'"
            ]
          },
          "metadata": {
            "tags": []
          },
          "execution_count": 110
        }
      ]
    },
    {
      "cell_type": "code",
      "metadata": {
        "id": "RsK31uk_Qhb-"
      },
      "source": [
        "import numpy as np\n",
        "import matplotlib.pyplot as plt\n"
      ],
      "execution_count": null,
      "outputs": []
    },
    {
      "cell_type": "code",
      "metadata": {
        "colab": {
          "base_uri": "https://localhost:8080/",
          "height": 287
        },
        "id": "vIN7hR9BQ_3T",
        "outputId": "2c1170cc-cf34-47ae-bede-e448619b1564"
      },
      "source": [
        "#features\n",
        "x= np.array([-7.0,-4.0,-1.0,2.0,5.0,8.0,11.0,14.0])\n",
        "#labels\n",
        "y= np.array([3.0,6.0,9.0,12.0,15.0,18.0,21.0,24.0 ])\n",
        "\n",
        "plt.scatter(x,y)"
      ],
      "execution_count": null,
      "outputs": [
        {
          "output_type": "execute_result",
          "data": {
            "text/plain": [
              "<matplotlib.collections.PathCollection at 0x7f45108d6c10>"
            ]
          },
          "metadata": {
            "tags": []
          },
          "execution_count": 112
        },
        {
          "output_type": "display_data",
          "data": {
            "image/png": "[encoded data removed]",
            "text/plain": [
              "<Figure size 432x288 with 1 Axes>"
            ]
          },
          "metadata": {
            "tags": [],
            "needs_background": "light"
          }
        }
      ]
    },
    {
      "cell_type": "code",
      "metadata": {
        "colab": {
          "base_uri": "https://localhost:8080/",
          "height": 135
        },
        "id": "cql2pChSRgJ2",
        "outputId": "e5a6cfe4-99e7-4ed6-a465-cb8478d01ff5"
      },
      "source": [
        "#input and output shpaes\n",
        "#demo tensor \n",
        "\n",
        "house_infor = tf.constant(['bedroom\",\"bathroom\",\"garage\"])\n"
      ],
      "execution_count": null,
      "outputs": [
        {
          "output_type": "error",
          "ename": "SyntaxError",
          "evalue": "ignored",
          "traceback": [
            "\u001b[0;36m  File \u001b[0;32m\"<ipython-input-113-334771d5d29d>\"\u001b[0;36m, line \u001b[0;32m4\u001b[0m\n\u001b[0;31m    house_infor = tf.constant(['bedroom\",\"bathroom\",\"garage\"])\u001b[0m\n\u001b[0m                                                              ^\u001b[0m\n\u001b[0;31mSyntaxError\u001b[0m\u001b[0;31m:\u001b[0m EOL while scanning string literal\n"
          ]
        }
      ]
    },
    {
      "cell_type": "code",
      "metadata": {
        "id": "DxawPcllTexe"
      },
      "source": [
        "x = tf.constant(x)\n",
        "y= tf.constant(y)\n",
        "x,y"
      ],
      "execution_count": null,
      "outputs": []
    },
    {
      "cell_type": "code",
      "metadata": {
        "id": "_AumaBAjTkgU"
      },
      "source": [
        "plt.scatter(x,y)"
      ],
      "execution_count": null,
      "outputs": []
    },
    {
      "cell_type": "code",
      "metadata": {
        "colab": {
          "base_uri": "https://localhost:8080/"
        },
        "id": "_oVbDO22Tu6k",
        "outputId": "f14d21be-5f4a-4ec5-c922-073ebef505f1"
      },
      "source": [
        "tf.random.set_seed(42)\n",
        "\n",
        "model = tf.keras.Sequential([\n",
        "                             tf.keras.layers.Dense(1)\n",
        "])\n",
        "\n",
        "model.compile(loss=tf.keras.losses.mae,\n",
        "              optimizer = tf.keras.optimizers.SGD(),\n",
        "              metrics=[\"mae\"])\n",
        "\n",
        "model.fit(x,y,epochs =5)"
      ],
      "execution_count": null,
      "outputs": [
        {
          "output_type": "stream",
          "text": [
            "Epoch 1/5\n",
            "1/1 [==============================] - 0s 283ms/step - loss: 11.5048 - mae: 11.5048\n",
            "Epoch 2/5\n",
            "1/1 [==============================] - 0s 6ms/step - loss: 11.3723 - mae: 11.3723\n",
            "Epoch 3/5\n",
            "1/1 [==============================] - 0s 8ms/step - loss: 11.2398 - mae: 11.2398\n",
            "Epoch 4/5\n",
            "1/1 [==============================] - 0s 6ms/step - loss: 11.1073 - mae: 11.1073\n",
            "Epoch 5/5\n",
            "1/1 [==============================] - 0s 4ms/step - loss: 10.9748 - mae: 10.9748\n"
          ],
          "name": "stdout"
        },
        {
          "output_type": "execute_result",
          "data": {
            "text/plain": [
              "<tensorflow.python.keras.callbacks.History at 0x7f45108c5890>"
            ]
          },
          "metadata": {
            "tags": []
          },
          "execution_count": 114
        }
      ]
    },
    {
      "cell_type": "code",
      "metadata": {
        "colab": {
          "base_uri": "https://localhost:8080/"
        },
        "id": "WqkP9ai4UWV8",
        "outputId": "b16975be-5f78-466a-fe21-f5a1815a82ba"
      },
      "source": [
        "x,y"
      ],
      "execution_count": null,
      "outputs": [
        {
          "output_type": "execute_result",
          "data": {
            "text/plain": [
              "(array([-7., -4., -1.,  2.,  5.,  8., 11., 14.]),\n",
              " array([ 3.,  6.,  9., 12., 15., 18., 21., 24.]))"
            ]
          },
          "metadata": {
            "tags": []
          },
          "execution_count": 115
        }
      ]
    },
    {
      "cell_type": "code",
      "metadata": {
        "colab": {
          "base_uri": "https://localhost:8080/"
        },
        "id": "NtP8NsucWoJ5",
        "outputId": "9299b8df-5f80-4403-d3b1-60dc9fa67b07"
      },
      "source": [
        "model.predict([17.0])"
      ],
      "execution_count": null,
      "outputs": [
        {
          "output_type": "execute_result",
          "data": {
            "text/plain": [
              "array([[12.716021]], dtype=float32)"
            ]
          },
          "metadata": {
            "tags": []
          },
          "execution_count": 116
        }
      ]
    },
    {
      "cell_type": "markdown",
      "metadata": {
        "id": "s1n1gpJVY9y6"
      },
      "source": [
        "# Improving our model"
      ]
    },
    {
      "cell_type": "code",
      "metadata": {
        "id": "OrVjep30Wv8N",
        "colab": {
          "base_uri": "https://localhost:8080/"
        },
        "outputId": "23807ec6-b72f-4836-95bb-20e8fa1ee330"
      },
      "source": [
        "#create Model\n",
        "\n",
        "model = tf.keras.Sequential([\n",
        "                             tf.keras.layers.Dense(1)\n",
        "])\n",
        "\n",
        "model.compile(loss= tf.keras.losses.mae,\n",
        "              optimizer='sgd',\n",
        "              metrics=['mae'])\n",
        "\n",
        "model.fit(x,y,epochs=100)"
      ],
      "execution_count": null,
      "outputs": [
        {
          "output_type": "stream",
          "text": [
            "Epoch 1/100\n",
            "1/1 [==============================] - 0s 273ms/step - loss: 11.2219 - mae: 11.2219\n",
            "Epoch 2/100\n",
            "1/1 [==============================] - 0s 10ms/step - loss: 11.0894 - mae: 11.0894\n",
            "Epoch 3/100\n",
            "1/1 [==============================] - 0s 5ms/step - loss: 10.9569 - mae: 10.9569\n",
            "Epoch 4/100\n",
            "1/1 [==============================] - 0s 5ms/step - loss: 10.8244 - mae: 10.8244\n",
            "Epoch 5/100\n",
            "1/1 [==============================] - 0s 9ms/step - loss: 10.6919 - mae: 10.6919\n",
            "Epoch 6/100\n",
            "1/1 [==============================] - 0s 10ms/step - loss: 10.5594 - mae: 10.5594\n",
            "Epoch 7/100\n",
            "1/1 [==============================] - 0s 5ms/step - loss: 10.4269 - mae: 10.4269\n",
            "Epoch 8/100\n",
            "1/1 [==============================] - 0s 6ms/step - loss: 10.2944 - mae: 10.2944\n",
            "Epoch 9/100\n",
            "1/1 [==============================] - 0s 6ms/step - loss: 10.1619 - mae: 10.1619\n",
            "Epoch 10/100\n",
            "1/1 [==============================] - 0s 5ms/step - loss: 10.0294 - mae: 10.0294\n",
            "Epoch 11/100\n",
            "1/1 [==============================] - 0s 8ms/step - loss: 9.8969 - mae: 9.8969\n",
            "Epoch 12/100\n",
            "1/1 [==============================] - 0s 6ms/step - loss: 9.7644 - mae: 9.7644\n",
            "Epoch 13/100\n",
            "1/1 [==============================] - 0s 7ms/step - loss: 9.6319 - mae: 9.6319\n",
            "Epoch 14/100\n",
            "1/1 [==============================] - 0s 7ms/step - loss: 9.4994 - mae: 9.4994\n",
            "Epoch 15/100\n",
            "1/1 [==============================] - 0s 5ms/step - loss: 9.3669 - mae: 9.3669\n",
            "Epoch 16/100\n",
            "1/1 [==============================] - 0s 4ms/step - loss: 9.2344 - mae: 9.2344\n",
            "Epoch 17/100\n",
            "1/1 [==============================] - 0s 6ms/step - loss: 9.1019 - mae: 9.1019\n",
            "Epoch 18/100\n",
            "1/1 [==============================] - 0s 4ms/step - loss: 8.9694 - mae: 8.9694\n",
            "Epoch 19/100\n",
            "1/1 [==============================] - 0s 6ms/step - loss: 8.8369 - mae: 8.8369\n",
            "Epoch 20/100\n",
            "1/1 [==============================] - 0s 6ms/step - loss: 8.7044 - mae: 8.7044\n",
            "Epoch 21/100\n",
            "1/1 [==============================] - 0s 6ms/step - loss: 8.5719 - mae: 8.5719\n",
            "Epoch 22/100\n",
            "1/1 [==============================] - 0s 5ms/step - loss: 8.4394 - mae: 8.4394\n",
            "Epoch 23/100\n",
            "1/1 [==============================] - 0s 6ms/step - loss: 8.3069 - mae: 8.3069\n",
            "Epoch 24/100\n",
            "1/1 [==============================] - 0s 5ms/step - loss: 8.1744 - mae: 8.1744\n",
            "Epoch 25/100\n",
            "1/1 [==============================] - 0s 6ms/step - loss: 8.0419 - mae: 8.0419\n",
            "Epoch 26/100\n",
            "1/1 [==============================] - 0s 7ms/step - loss: 7.9094 - mae: 7.9094\n",
            "Epoch 27/100\n",
            "1/1 [==============================] - 0s 10ms/step - loss: 7.7769 - mae: 7.7769\n",
            "Epoch 28/100\n",
            "1/1 [==============================] - 0s 4ms/step - loss: 7.6444 - mae: 7.6444\n",
            "Epoch 29/100\n",
            "1/1 [==============================] - 0s 5ms/step - loss: 7.5119 - mae: 7.5119\n",
            "Epoch 30/100\n",
            "1/1 [==============================] - 0s 7ms/step - loss: 7.3794 - mae: 7.3794\n",
            "Epoch 31/100\n",
            "1/1 [==============================] - 0s 9ms/step - loss: 7.2750 - mae: 7.2750\n",
            "Epoch 32/100\n",
            "1/1 [==============================] - 0s 10ms/step - loss: 7.2694 - mae: 7.2694\n",
            "Epoch 33/100\n",
            "1/1 [==============================] - 0s 4ms/step - loss: 7.2638 - mae: 7.2638\n",
            "Epoch 34/100\n",
            "1/1 [==============================] - 0s 4ms/step - loss: 7.2581 - mae: 7.2581\n",
            "Epoch 35/100\n",
            "1/1 [==============================] - 0s 5ms/step - loss: 7.2525 - mae: 7.2525\n",
            "Epoch 36/100\n",
            "1/1 [==============================] - 0s 7ms/step - loss: 7.2469 - mae: 7.2469\n",
            "Epoch 37/100\n",
            "1/1 [==============================] - 0s 4ms/step - loss: 7.2412 - mae: 7.2412\n",
            "Epoch 38/100\n",
            "1/1 [==============================] - 0s 6ms/step - loss: 7.2356 - mae: 7.2356\n",
            "Epoch 39/100\n",
            "1/1 [==============================] - 0s 5ms/step - loss: 7.2300 - mae: 7.2300\n",
            "Epoch 40/100\n",
            "1/1 [==============================] - 0s 6ms/step - loss: 7.2244 - mae: 7.2244\n",
            "Epoch 41/100\n",
            "1/1 [==============================] - 0s 6ms/step - loss: 7.2188 - mae: 7.2188\n",
            "Epoch 42/100\n",
            "1/1 [==============================] - 0s 5ms/step - loss: 7.2131 - mae: 7.2131\n",
            "Epoch 43/100\n",
            "1/1 [==============================] - 0s 5ms/step - loss: 7.2075 - mae: 7.2075\n",
            "Epoch 44/100\n",
            "1/1 [==============================] - 0s 6ms/step - loss: 7.2019 - mae: 7.2019\n",
            "Epoch 45/100\n",
            "1/1 [==============================] - 0s 6ms/step - loss: 7.1962 - mae: 7.1962\n",
            "Epoch 46/100\n",
            "1/1 [==============================] - 0s 6ms/step - loss: 7.1906 - mae: 7.1906\n",
            "Epoch 47/100\n",
            "1/1 [==============================] - 0s 4ms/step - loss: 7.1850 - mae: 7.1850\n",
            "Epoch 48/100\n",
            "1/1 [==============================] - 0s 7ms/step - loss: 7.1794 - mae: 7.1794\n",
            "Epoch 49/100\n",
            "1/1 [==============================] - 0s 4ms/step - loss: 7.1737 - mae: 7.1737\n",
            "Epoch 50/100\n",
            "1/1 [==============================] - 0s 5ms/step - loss: 7.1681 - mae: 7.1681\n",
            "Epoch 51/100\n",
            "1/1 [==============================] - 0s 6ms/step - loss: 7.1625 - mae: 7.1625\n",
            "Epoch 52/100\n",
            "1/1 [==============================] - 0s 4ms/step - loss: 7.1569 - mae: 7.1569\n",
            "Epoch 53/100\n",
            "1/1 [==============================] - 0s 6ms/step - loss: 7.1512 - mae: 7.1512\n",
            "Epoch 54/100\n",
            "1/1 [==============================] - 0s 8ms/step - loss: 7.1456 - mae: 7.1456\n",
            "Epoch 55/100\n",
            "1/1 [==============================] - 0s 4ms/step - loss: 7.1400 - mae: 7.1400\n",
            "Epoch 56/100\n",
            "1/1 [==============================] - 0s 4ms/step - loss: 7.1344 - mae: 7.1344\n",
            "Epoch 57/100\n",
            "1/1 [==============================] - 0s 6ms/step - loss: 7.1287 - mae: 7.1287\n",
            "Epoch 58/100\n",
            "1/1 [==============================] - 0s 5ms/step - loss: 7.1231 - mae: 7.1231\n",
            "Epoch 59/100\n",
            "1/1 [==============================] - 0s 5ms/step - loss: 7.1175 - mae: 7.1175\n",
            "Epoch 60/100\n",
            "1/1 [==============================] - 0s 8ms/step - loss: 7.1119 - mae: 7.1119\n",
            "Epoch 61/100\n",
            "1/1 [==============================] - 0s 4ms/step - loss: 7.1062 - mae: 7.1062\n",
            "Epoch 62/100\n",
            "1/1 [==============================] - 0s 4ms/step - loss: 7.1006 - mae: 7.1006\n",
            "Epoch 63/100\n",
            "1/1 [==============================] - 0s 7ms/step - loss: 7.0950 - mae: 7.0950\n",
            "Epoch 64/100\n",
            "1/1 [==============================] - 0s 4ms/step - loss: 7.0894 - mae: 7.0894\n",
            "Epoch 65/100\n",
            "1/1 [==============================] - 0s 6ms/step - loss: 7.0838 - mae: 7.0838\n",
            "Epoch 66/100\n",
            "1/1 [==============================] - 0s 8ms/step - loss: 7.0781 - mae: 7.0781\n",
            "Epoch 67/100\n",
            "1/1 [==============================] - 0s 4ms/step - loss: 7.0725 - mae: 7.0725\n",
            "Epoch 68/100\n",
            "1/1 [==============================] - 0s 4ms/step - loss: 7.0669 - mae: 7.0669\n",
            "Epoch 69/100\n",
            "1/1 [==============================] - 0s 4ms/step - loss: 7.0613 - mae: 7.0613\n",
            "Epoch 70/100\n",
            "1/1 [==============================] - 0s 9ms/step - loss: 7.0556 - mae: 7.0556\n",
            "Epoch 71/100\n",
            "1/1 [==============================] - 0s 4ms/step - loss: 7.0500 - mae: 7.0500\n",
            "Epoch 72/100\n",
            "1/1 [==============================] - 0s 5ms/step - loss: 7.0444 - mae: 7.0444\n",
            "Epoch 73/100\n",
            "1/1 [==============================] - 0s 7ms/step - loss: 7.0388 - mae: 7.0388\n",
            "Epoch 74/100\n",
            "1/1 [==============================] - 0s 8ms/step - loss: 7.0331 - mae: 7.0331\n",
            "Epoch 75/100\n",
            "1/1 [==============================] - 0s 14ms/step - loss: 7.0275 - mae: 7.0275\n",
            "Epoch 76/100\n",
            "1/1 [==============================] - 0s 9ms/step - loss: 7.0219 - mae: 7.0219\n",
            "Epoch 77/100\n",
            "1/1 [==============================] - 0s 8ms/step - loss: 7.0163 - mae: 7.0163\n",
            "Epoch 78/100\n",
            "1/1 [==============================] - 0s 6ms/step - loss: 7.0106 - mae: 7.0106\n",
            "Epoch 79/100\n",
            "1/1 [==============================] - 0s 11ms/step - loss: 7.0050 - mae: 7.0050\n",
            "Epoch 80/100\n",
            "1/1 [==============================] - 0s 6ms/step - loss: 6.9994 - mae: 6.9994\n",
            "Epoch 81/100\n",
            "1/1 [==============================] - 0s 9ms/step - loss: 6.9938 - mae: 6.9938\n",
            "Epoch 82/100\n",
            "1/1 [==============================] - 0s 6ms/step - loss: 6.9881 - mae: 6.9881\n",
            "Epoch 83/100\n",
            "1/1 [==============================] - 0s 4ms/step - loss: 6.9825 - mae: 6.9825\n",
            "Epoch 84/100\n",
            "1/1 [==============================] - 0s 6ms/step - loss: 6.9769 - mae: 6.9769\n",
            "Epoch 85/100\n",
            "1/1 [==============================] - 0s 8ms/step - loss: 6.9713 - mae: 6.9713\n",
            "Epoch 86/100\n",
            "1/1 [==============================] - 0s 6ms/step - loss: 6.9656 - mae: 6.9656\n",
            "Epoch 87/100\n",
            "1/1 [==============================] - 0s 6ms/step - loss: 6.9600 - mae: 6.9600\n",
            "Epoch 88/100\n",
            "1/1 [==============================] - 0s 10ms/step - loss: 6.9544 - mae: 6.9544\n",
            "Epoch 89/100\n",
            "1/1 [==============================] - 0s 5ms/step - loss: 6.9488 - mae: 6.9488\n",
            "Epoch 90/100\n",
            "1/1 [==============================] - 0s 5ms/step - loss: 6.9431 - mae: 6.9431\n",
            "Epoch 91/100\n",
            "1/1 [==============================] - 0s 4ms/step - loss: 6.9375 - mae: 6.9375\n",
            "Epoch 92/100\n",
            "1/1 [==============================] - 0s 6ms/step - loss: 6.9319 - mae: 6.9319\n",
            "Epoch 93/100\n",
            "1/1 [==============================] - 0s 10ms/step - loss: 6.9263 - mae: 6.9263\n",
            "Epoch 94/100\n",
            "1/1 [==============================] - 0s 5ms/step - loss: 6.9206 - mae: 6.9206\n",
            "Epoch 95/100\n",
            "1/1 [==============================] - 0s 7ms/step - loss: 6.9150 - mae: 6.9150\n",
            "Epoch 96/100\n",
            "1/1 [==============================] - 0s 23ms/step - loss: 6.9094 - mae: 6.9094\n",
            "Epoch 97/100\n",
            "1/1 [==============================] - 0s 9ms/step - loss: 6.9038 - mae: 6.9038\n",
            "Epoch 98/100\n",
            "1/1 [==============================] - 0s 9ms/step - loss: 6.8981 - mae: 6.8981\n",
            "Epoch 99/100\n",
            "1/1 [==============================] - 0s 13ms/step - loss: 6.8925 - mae: 6.8925\n",
            "Epoch 100/100\n",
            "1/1 [==============================] - 0s 8ms/step - loss: 6.8869 - mae: 6.8869\n"
          ],
          "name": "stdout"
        },
        {
          "output_type": "execute_result",
          "data": {
            "text/plain": [
              "<tensorflow.python.keras.callbacks.History at 0x7f45107a7490>"
            ]
          },
          "metadata": {
            "tags": []
          },
          "execution_count": 117
        }
      ]
    },
    {
      "cell_type": "code",
      "metadata": {
        "colab": {
          "base_uri": "https://localhost:8080/"
        },
        "id": "hK0EMhVEZokp",
        "outputId": "eea6a826-6fd9-41aa-8bf8-bc3abd5b179a"
      },
      "source": [
        "x,y"
      ],
      "execution_count": null,
      "outputs": [
        {
          "output_type": "execute_result",
          "data": {
            "text/plain": [
              "(array([-7., -4., -1.,  2.,  5.,  8., 11., 14.]),\n",
              " array([ 3.,  6.,  9., 12., 15., 18., 21., 24.]))"
            ]
          },
          "metadata": {
            "tags": []
          },
          "execution_count": 118
        }
      ]
    },
    {
      "cell_type": "code",
      "metadata": {
        "colab": {
          "base_uri": "https://localhost:8080/"
        },
        "id": "kEbf6TtYZt3u",
        "outputId": "1919caa2-a9ad-42bc-c63b-6b6ac123d378"
      },
      "source": [
        "model.predict([17.0])"
      ],
      "execution_count": null,
      "outputs": [
        {
          "output_type": "execute_result",
          "data": {
            "text/plain": [
              "array([[29.739855]], dtype=float32)"
            ]
          },
          "metadata": {
            "tags": []
          },
          "execution_count": 119
        }
      ]
    },
    {
      "cell_type": "code",
      "metadata": {
        "colab": {
          "base_uri": "https://localhost:8080/"
        },
        "id": "XxidIvZbZ32f",
        "outputId": "35b84c8d-736a-4c9e-9bf9-d4133a05f30d"
      },
      "source": [
        "# new model with new hidden layers and hidden units\n",
        "\n",
        "model = tf.keras.Sequential([\n",
        "                             tf.keras.layers.Dense(100,activation=\"relu\"),\n",
        "                             tf.keras.layers.Dense(1)\n",
        "])\n",
        "\n",
        "model.compile(\n",
        "    loss = 'mae',\n",
        "    optimizer = tf.keras.optimizers.Adam(lr=.01),\n",
        "    metrics='mae'\n",
        ")\n",
        "\n",
        "model.fit(x,y,epochs=100)"
      ],
      "execution_count": null,
      "outputs": [
        {
          "output_type": "stream",
          "text": [
            "/usr/local/lib/python3.7/dist-packages/tensorflow/python/keras/optimizer_v2/optimizer_v2.py:375: UserWarning: The `lr` argument is deprecated, use `learning_rate` instead.\n",
            "  \"The `lr` argument is deprecated, use `learning_rate` instead.\")\n"
          ],
          "name": "stderr"
        },
        {
          "output_type": "stream",
          "text": [
            "Epoch 1/100\n",
            "1/1 [==============================] - 0s 422ms/step - loss: 12.3193 - mae: 12.3193\n",
            "Epoch 2/100\n",
            "1/1 [==============================] - 0s 6ms/step - loss: 11.5062 - mae: 11.5062\n",
            "Epoch 3/100\n",
            "1/1 [==============================] - 0s 5ms/step - loss: 10.6739 - mae: 10.6739\n",
            "Epoch 4/100\n",
            "1/1 [==============================] - 0s 7ms/step - loss: 9.8419 - mae: 9.8419\n",
            "Epoch 5/100\n",
            "1/1 [==============================] - 0s 6ms/step - loss: 8.9962 - mae: 8.9962\n",
            "Epoch 6/100\n",
            "1/1 [==============================] - 0s 6ms/step - loss: 8.1347 - mae: 8.1347\n",
            "Epoch 7/100\n",
            "1/1 [==============================] - 0s 5ms/step - loss: 7.4053 - mae: 7.4053\n",
            "Epoch 8/100\n",
            "1/1 [==============================] - 0s 5ms/step - loss: 6.6763 - mae: 6.6763\n",
            "Epoch 9/100\n",
            "1/1 [==============================] - 0s 7ms/step - loss: 5.9141 - mae: 5.9141\n",
            "Epoch 10/100\n",
            "1/1 [==============================] - 0s 5ms/step - loss: 5.1125 - mae: 5.1125\n",
            "Epoch 11/100\n",
            "1/1 [==============================] - 0s 18ms/step - loss: 4.2653 - mae: 4.2653\n",
            "Epoch 12/100\n",
            "1/1 [==============================] - 0s 6ms/step - loss: 3.8460 - mae: 3.8460\n",
            "Epoch 13/100\n",
            "1/1 [==============================] - 0s 6ms/step - loss: 3.9257 - mae: 3.9257\n",
            "Epoch 14/100\n",
            "1/1 [==============================] - 0s 10ms/step - loss: 4.0900 - mae: 4.0900\n",
            "Epoch 15/100\n",
            "1/1 [==============================] - 0s 6ms/step - loss: 4.4780 - mae: 4.4780\n",
            "Epoch 16/100\n",
            "1/1 [==============================] - 0s 4ms/step - loss: 4.7607 - mae: 4.7607\n",
            "Epoch 17/100\n",
            "1/1 [==============================] - 0s 14ms/step - loss: 4.9264 - mae: 4.9264\n",
            "Epoch 18/100\n",
            "1/1 [==============================] - 0s 12ms/step - loss: 4.9893 - mae: 4.9893\n",
            "Epoch 19/100\n",
            "1/1 [==============================] - 0s 10ms/step - loss: 4.9672 - mae: 4.9672\n",
            "Epoch 20/100\n",
            "1/1 [==============================] - 0s 5ms/step - loss: 4.8677 - mae: 4.8677\n",
            "Epoch 21/100\n",
            "1/1 [==============================] - 0s 7ms/step - loss: 4.7046 - mae: 4.7046\n",
            "Epoch 22/100\n",
            "1/1 [==============================] - 0s 7ms/step - loss: 4.4896 - mae: 4.4896\n",
            "Epoch 23/100\n",
            "1/1 [==============================] - 0s 9ms/step - loss: 4.2326 - mae: 4.2326\n",
            "Epoch 24/100\n",
            "1/1 [==============================] - 0s 6ms/step - loss: 3.9418 - mae: 3.9418\n",
            "Epoch 25/100\n",
            "1/1 [==============================] - 0s 13ms/step - loss: 3.7886 - mae: 3.7886\n",
            "Epoch 26/100\n",
            "1/1 [==============================] - 0s 11ms/step - loss: 3.6632 - mae: 3.6632\n",
            "Epoch 27/100\n",
            "1/1 [==============================] - 0s 6ms/step - loss: 3.5392 - mae: 3.5392\n",
            "Epoch 28/100\n",
            "1/1 [==============================] - 0s 6ms/step - loss: 3.5531 - mae: 3.5531\n",
            "Epoch 29/100\n",
            "1/1 [==============================] - 0s 6ms/step - loss: 3.6208 - mae: 3.6208\n",
            "Epoch 30/100\n",
            "1/1 [==============================] - 0s 7ms/step - loss: 3.6577 - mae: 3.6577\n",
            "Epoch 31/100\n",
            "1/1 [==============================] - 0s 8ms/step - loss: 3.7506 - mae: 3.7506\n",
            "Epoch 32/100\n",
            "1/1 [==============================] - 0s 7ms/step - loss: 3.7093 - mae: 3.7093\n",
            "Epoch 33/100\n",
            "1/1 [==============================] - 0s 8ms/step - loss: 3.5338 - mae: 3.5338\n",
            "Epoch 34/100\n",
            "1/1 [==============================] - 0s 7ms/step - loss: 3.4270 - mae: 3.4270\n",
            "Epoch 35/100\n",
            "1/1 [==============================] - 0s 12ms/step - loss: 3.3004 - mae: 3.3004\n",
            "Epoch 36/100\n",
            "1/1 [==============================] - 0s 7ms/step - loss: 3.1545 - mae: 3.1545\n",
            "Epoch 37/100\n",
            "1/1 [==============================] - 0s 12ms/step - loss: 3.0648 - mae: 3.0648\n",
            "Epoch 38/100\n",
            "1/1 [==============================] - 0s 4ms/step - loss: 3.0459 - mae: 3.0459\n",
            "Epoch 39/100\n",
            "1/1 [==============================] - 0s 4ms/step - loss: 3.0209 - mae: 3.0209\n",
            "Epoch 40/100\n",
            "1/1 [==============================] - 0s 7ms/step - loss: 3.0347 - mae: 3.0347\n",
            "Epoch 41/100\n",
            "1/1 [==============================] - 0s 4ms/step - loss: 2.9867 - mae: 2.9867\n",
            "Epoch 42/100\n",
            "1/1 [==============================] - 0s 7ms/step - loss: 2.8887 - mae: 2.8887\n",
            "Epoch 43/100\n",
            "1/1 [==============================] - 0s 6ms/step - loss: 2.8175 - mae: 2.8175\n",
            "Epoch 44/100\n",
            "1/1 [==============================] - 0s 4ms/step - loss: 2.7250 - mae: 2.7250\n",
            "Epoch 45/100\n",
            "1/1 [==============================] - 0s 6ms/step - loss: 2.6172 - mae: 2.6172\n",
            "Epoch 46/100\n",
            "1/1 [==============================] - 0s 5ms/step - loss: 2.5069 - mae: 2.5069\n",
            "Epoch 47/100\n",
            "1/1 [==============================] - 0s 5ms/step - loss: 2.4002 - mae: 2.4002\n",
            "Epoch 48/100\n",
            "1/1 [==============================] - 0s 4ms/step - loss: 2.2894 - mae: 2.2894\n",
            "Epoch 49/100\n",
            "1/1 [==============================] - 0s 4ms/step - loss: 2.1712 - mae: 2.1712\n",
            "Epoch 50/100\n",
            "1/1 [==============================] - 0s 5ms/step - loss: 2.0403 - mae: 2.0403\n",
            "Epoch 51/100\n",
            "1/1 [==============================] - 0s 6ms/step - loss: 1.9989 - mae: 1.9989\n",
            "Epoch 52/100\n",
            "1/1 [==============================] - 0s 6ms/step - loss: 1.8725 - mae: 1.8725\n",
            "Epoch 53/100\n",
            "1/1 [==============================] - 0s 6ms/step - loss: 1.7026 - mae: 1.7026\n",
            "Epoch 54/100\n",
            "1/1 [==============================] - 0s 5ms/step - loss: 1.5747 - mae: 1.5747\n",
            "Epoch 55/100\n",
            "1/1 [==============================] - 0s 8ms/step - loss: 1.4753 - mae: 1.4753\n",
            "Epoch 56/100\n",
            "1/1 [==============================] - 0s 5ms/step - loss: 1.3545 - mae: 1.3545\n",
            "Epoch 57/100\n",
            "1/1 [==============================] - 0s 4ms/step - loss: 1.2392 - mae: 1.2392\n",
            "Epoch 58/100\n",
            "1/1 [==============================] - 0s 5ms/step - loss: 1.0315 - mae: 1.0315\n",
            "Epoch 59/100\n",
            "1/1 [==============================] - 0s 6ms/step - loss: 0.8339 - mae: 0.8339\n",
            "Epoch 60/100\n",
            "1/1 [==============================] - 0s 5ms/step - loss: 0.6625 - mae: 0.6625\n",
            "Epoch 61/100\n",
            "1/1 [==============================] - 0s 6ms/step - loss: 0.5088 - mae: 0.5088\n",
            "Epoch 62/100\n",
            "1/1 [==============================] - 0s 6ms/step - loss: 0.3310 - mae: 0.3310\n",
            "Epoch 63/100\n",
            "1/1 [==============================] - 0s 4ms/step - loss: 0.3306 - mae: 0.3306\n",
            "Epoch 64/100\n",
            "1/1 [==============================] - 0s 4ms/step - loss: 0.3330 - mae: 0.3330\n",
            "Epoch 65/100\n",
            "1/1 [==============================] - 0s 4ms/step - loss: 0.2128 - mae: 0.2128\n",
            "Epoch 66/100\n",
            "1/1 [==============================] - 0s 9ms/step - loss: 0.6744 - mae: 0.6744\n",
            "Epoch 67/100\n",
            "1/1 [==============================] - 0s 4ms/step - loss: 0.6279 - mae: 0.6279\n",
            "Epoch 68/100\n",
            "1/1 [==============================] - 0s 4ms/step - loss: 0.6085 - mae: 0.6085\n",
            "Epoch 69/100\n",
            "1/1 [==============================] - 0s 5ms/step - loss: 0.7257 - mae: 0.7257\n",
            "Epoch 70/100\n",
            "1/1 [==============================] - 0s 9ms/step - loss: 0.6237 - mae: 0.6237\n",
            "Epoch 71/100\n",
            "1/1 [==============================] - 0s 5ms/step - loss: 0.3928 - mae: 0.3928\n",
            "Epoch 72/100\n",
            "1/1 [==============================] - 0s 8ms/step - loss: 0.5721 - mae: 0.5721\n",
            "Epoch 73/100\n",
            "1/1 [==============================] - 0s 17ms/step - loss: 0.6972 - mae: 0.6972\n",
            "Epoch 74/100\n",
            "1/1 [==============================] - 0s 11ms/step - loss: 0.4927 - mae: 0.4927\n",
            "Epoch 75/100\n",
            "1/1 [==============================] - 0s 6ms/step - loss: 0.5584 - mae: 0.5584\n",
            "Epoch 76/100\n",
            "1/1 [==============================] - 0s 8ms/step - loss: 0.5706 - mae: 0.5706\n",
            "Epoch 77/100\n",
            "1/1 [==============================] - 0s 10ms/step - loss: 0.4548 - mae: 0.4548\n",
            "Epoch 78/100\n",
            "1/1 [==============================] - 0s 11ms/step - loss: 0.2732 - mae: 0.2732\n",
            "Epoch 79/100\n",
            "1/1 [==============================] - 0s 10ms/step - loss: 0.6350 - mae: 0.6350\n",
            "Epoch 80/100\n",
            "1/1 [==============================] - 0s 6ms/step - loss: 0.7159 - mae: 0.7159\n",
            "Epoch 81/100\n",
            "1/1 [==============================] - 0s 7ms/step - loss: 0.4848 - mae: 0.4848\n",
            "Epoch 82/100\n",
            "1/1 [==============================] - 0s 5ms/step - loss: 0.1989 - mae: 0.1989\n",
            "Epoch 83/100\n",
            "1/1 [==============================] - 0s 7ms/step - loss: 0.3396 - mae: 0.3396\n",
            "Epoch 84/100\n",
            "1/1 [==============================] - 0s 8ms/step - loss: 0.2129 - mae: 0.2129\n",
            "Epoch 85/100\n",
            "1/1 [==============================] - 0s 7ms/step - loss: 0.3691 - mae: 0.3691\n",
            "Epoch 86/100\n",
            "1/1 [==============================] - 0s 10ms/step - loss: 0.4716 - mae: 0.4716\n",
            "Epoch 87/100\n",
            "1/1 [==============================] - 0s 8ms/step - loss: 0.3323 - mae: 0.3323\n",
            "Epoch 88/100\n",
            "1/1 [==============================] - 0s 11ms/step - loss: 0.2552 - mae: 0.2552\n",
            "Epoch 89/100\n",
            "1/1 [==============================] - 0s 11ms/step - loss: 0.3310 - mae: 0.3310\n",
            "Epoch 90/100\n",
            "1/1 [==============================] - 0s 7ms/step - loss: 0.2381 - mae: 0.2381\n",
            "Epoch 91/100\n",
            "1/1 [==============================] - 0s 9ms/step - loss: 0.2594 - mae: 0.2594\n",
            "Epoch 92/100\n",
            "1/1 [==============================] - 0s 8ms/step - loss: 0.2367 - mae: 0.2367\n",
            "Epoch 93/100\n",
            "1/1 [==============================] - 0s 7ms/step - loss: 0.1750 - mae: 0.1750\n",
            "Epoch 94/100\n",
            "1/1 [==============================] - 0s 10ms/step - loss: 0.2303 - mae: 0.2303\n",
            "Epoch 95/100\n",
            "1/1 [==============================] - 0s 9ms/step - loss: 0.1337 - mae: 0.1337\n",
            "Epoch 96/100\n",
            "1/1 [==============================] - 0s 14ms/step - loss: 0.1930 - mae: 0.1930\n",
            "Epoch 97/100\n",
            "1/1 [==============================] - 0s 8ms/step - loss: 0.1098 - mae: 0.1098\n",
            "Epoch 98/100\n",
            "1/1 [==============================] - 0s 9ms/step - loss: 0.2055 - mae: 0.2055\n",
            "Epoch 99/100\n",
            "1/1 [==============================] - 0s 5ms/step - loss: 0.1987 - mae: 0.1987\n",
            "Epoch 100/100\n",
            "1/1 [==============================] - 0s 8ms/step - loss: 0.2264 - mae: 0.2264\n"
          ],
          "name": "stdout"
        },
        {
          "output_type": "execute_result",
          "data": {
            "text/plain": [
              "<tensorflow.python.keras.callbacks.History at 0x7f450f6a4d50>"
            ]
          },
          "metadata": {
            "tags": []
          },
          "execution_count": 120
        }
      ]
    },
    {
      "cell_type": "code",
      "metadata": {
        "colab": {
          "base_uri": "https://localhost:8080/"
        },
        "id": "Iz9FDaqqbBSj",
        "outputId": "adb6d957-3bd6-4de6-85b4-f385a9ce9802"
      },
      "source": [
        "x,y"
      ],
      "execution_count": null,
      "outputs": [
        {
          "output_type": "execute_result",
          "data": {
            "text/plain": [
              "(array([-7., -4., -1.,  2.,  5.,  8., 11., 14.]),\n",
              " array([ 3.,  6.,  9., 12., 15., 18., 21., 24.]))"
            ]
          },
          "metadata": {
            "tags": []
          },
          "execution_count": 121
        }
      ]
    },
    {
      "cell_type": "code",
      "metadata": {
        "colab": {
          "base_uri": "https://localhost:8080/"
        },
        "id": "W_3bnbbtbPuW",
        "outputId": "198b7b2e-859f-47f2-836e-bd36c573eee8"
      },
      "source": [
        "model.predict([17.0])"
      ],
      "execution_count": null,
      "outputs": [
        {
          "output_type": "execute_result",
          "data": {
            "text/plain": [
              "array([[27.159163]], dtype=float32)"
            ]
          },
          "metadata": {
            "tags": []
          },
          "execution_count": 122
        }
      ]
    },
    {
      "cell_type": "code",
      "metadata": {
        "colab": {
          "base_uri": "https://localhost:8080/"
        },
        "id": "2ZhPo9eYbSJR",
        "outputId": "3cc47663-1b9e-4362-a078-06e35e1b9b15"
      },
      "source": [
        "# Make a bigger dataset\n",
        "x=tf.range(-100,100,4)\n",
        "x"
      ],
      "execution_count": null,
      "outputs": [
        {
          "output_type": "execute_result",
          "data": {
            "text/plain": [
              "<tf.Tensor: shape=(50,), dtype=int32, numpy=\n",
              "array([-100,  -96,  -92,  -88,  -84,  -80,  -76,  -72,  -68,  -64,  -60,\n",
              "        -56,  -52,  -48,  -44,  -40,  -36,  -32,  -28,  -24,  -20,  -16,\n",
              "        -12,   -8,   -4,    0,    4,    8,   12,   16,   20,   24,   28,\n",
              "         32,   36,   40,   44,   48,   52,   56,   60,   64,   68,   72,\n",
              "         76,   80,   84,   88,   92,   96], dtype=int32)>"
            ]
          },
          "metadata": {
            "tags": []
          },
          "execution_count": 123
        }
      ]
    },
    {
      "cell_type": "code",
      "metadata": {
        "colab": {
          "base_uri": "https://localhost:8080/"
        },
        "id": "dEKH66Si8vU6",
        "outputId": "22ed76ef-6749-469d-8277-ce6581d74fac"
      },
      "source": [
        "#make labels for the dataset\n",
        "y=x+10\n",
        "y"
      ],
      "execution_count": null,
      "outputs": [
        {
          "output_type": "execute_result",
          "data": {
            "text/plain": [
              "<tf.Tensor: shape=(50,), dtype=int32, numpy=\n",
              "array([-90, -86, -82, -78, -74, -70, -66, -62, -58, -54, -50, -46, -42,\n",
              "       -38, -34, -30, -26, -22, -18, -14, -10,  -6,  -2,   2,   6,  10,\n",
              "        14,  18,  22,  26,  30,  34,  38,  42,  46,  50,  54,  58,  62,\n",
              "        66,  70,  74,  78,  82,  86,  90,  94,  98, 102, 106], dtype=int32)>"
            ]
          },
          "metadata": {
            "tags": []
          },
          "execution_count": 124
        }
      ]
    },
    {
      "cell_type": "code",
      "metadata": {
        "colab": {
          "base_uri": "https://localhost:8080/",
          "height": 283
        },
        "id": "pu2MJkaH81J5",
        "outputId": "eddfcb5a-19a3-422c-f1ea-d57ab525042a"
      },
      "source": [
        "import matplotlib.pyplot as plt\n",
        "plt.scatter(x,y)"
      ],
      "execution_count": null,
      "outputs": [
        {
          "output_type": "execute_result",
          "data": {
            "text/plain": [
              "<matplotlib.collections.PathCollection at 0x7f450e0bd7d0>"
            ]
          },
          "metadata": {
            "tags": []
          },
          "execution_count": 125
        },
        {
          "output_type": "display_data",
          "data": {
            "image/png": "[encoded data removed]",
            "text/plain": [
              "<Figure size 432x288 with 1 Axes>"
            ]
          },
          "metadata": {
            "tags": [],
            "needs_background": "light"
          }
        }
      ]
    },
    {
      "cell_type": "code",
      "metadata": {
        "id": "zONrHH5a8-By"
      },
      "source": [
        " import tensorflow as tf\n",
        " import matplotlib.pyplot as plt"
      ],
      "execution_count": null,
      "outputs": []
    },
    {
      "cell_type": "code",
      "metadata": {
        "colab": {
          "base_uri": "https://localhost:8080/"
        },
        "id": "MZED-tJuOOiv",
        "outputId": "973714b3-d65d-4ac6-ddc6-159778cd6c03"
      },
      "source": [
        "len(x)"
      ],
      "execution_count": null,
      "outputs": [
        {
          "output_type": "execute_result",
          "data": {
            "text/plain": [
              "50"
            ]
          },
          "metadata": {
            "tags": []
          },
          "execution_count": 127
        }
      ]
    },
    {
      "cell_type": "code",
      "metadata": {
        "colab": {
          "base_uri": "https://localhost:8080/"
        },
        "id": "6m47hd1IOm5d",
        "outputId": "b2279b7d-c159-4205-a466-a8c593889dd3"
      },
      "source": [
        "len(y\n",
        ")"
      ],
      "execution_count": null,
      "outputs": [
        {
          "output_type": "execute_result",
          "data": {
            "text/plain": [
              "50"
            ]
          },
          "metadata": {
            "tags": []
          },
          "execution_count": 128
        }
      ]
    },
    {
      "cell_type": "code",
      "metadata": {
        "id": "yUxaGy1BOrYo"
      },
      "source": [
        "#split the data into test and train set \n",
        "x_train = x[:40]\n",
        "y_train = y[:40]\n",
        "x_test = x[40:]\n",
        "y_test= y[40:]"
      ],
      "execution_count": null,
      "outputs": []
    },
    {
      "cell_type": "code",
      "metadata": {
        "colab": {
          "base_uri": "https://localhost:8080/",
          "height": 446
        },
        "id": "uSqp9jz1O6XM",
        "outputId": "c7a5834d-3327-4027-956c-96fcd8217f73"
      },
      "source": [
        "# visualizing the data\n",
        "\n",
        "plt.figure(figsize=(10,7))\n",
        "plt.scatter(x_train,y_train,c='b',label=\"Training Data\")\n",
        "plt.scatter(x_test,y_test,c='g',label='Testing data')\n",
        "plt.legend()"
      ],
      "execution_count": null,
      "outputs": [
        {
          "output_type": "execute_result",
          "data": {
            "text/plain": [
              "<matplotlib.legend.Legend at 0x7f450d7cb510>"
            ]
          },
          "metadata": {
            "tags": []
          },
          "execution_count": 130
        },
        {
          "output_type": "display_data",
          "data": {
            "image/png": "[encoded data removed]",
            "text/plain": [
              "<Figure size 720x504 with 1 Axes>"
            ]
          },
          "metadata": {
            "tags": [],
            "needs_background": "light"
          }
        }
      ]
    },
    {
      "cell_type": "code",
      "metadata": {
        "id": "jYrG1ahJP53D"
      },
      "source": [
        ""
      ],
      "execution_count": null,
      "outputs": []
    },
    {
      "cell_type": "code",
      "metadata": {
        "id": "y8WpqkuiQQqu"
      },
      "source": [
        "model = tf.keras.Sequential([\n",
        "    tf.keras.layers.Dense(1)\n",
        "])\n",
        "\n",
        "model.compile(loss=tf.keras.losses.mae,\n",
        "              optimizer=tf.keras.optimizers.SGD(),\n",
        "              metrics = [\"mae\"])\n",
        "\n",
        "# model.fit(x_train,y_train,epochs=100)"
      ],
      "execution_count": null,
      "outputs": []
    },
    {
      "cell_type": "code",
      "metadata": {
        "id": "u9nHNUgsRaSv"
      },
      "source": [
        "tf.random.set_seed(42)"
      ],
      "execution_count": null,
      "outputs": []
    },
    {
      "cell_type": "code",
      "metadata": {
        "id": "_H-esLb7Quex"
      },
      "source": [
        "# tf.random.set_seed(42)\n",
        "\n",
        "model = tf.keras.Sequential([\n",
        "                             tf.keras.layers.Dense(10,input_shape=[1],name=\"input_layers\"),\n",
        "                             tf.keras.layers.Dense(1,name=\"output_layers\")\n",
        "],name = \"model_summary\")\n",
        "\n",
        "model.compile(loss=tf.keras.losses.mae,\n",
        "              optimizer=tf.keras.optimizers.Adam(learning_rate=0.01),\n",
        "              metrics=[\"mae\"])"
      ],
      "execution_count": null,
      "outputs": []
    },
    {
      "cell_type": "code",
      "metadata": {
        "colab": {
          "base_uri": "https://localhost:8080/"
        },
        "id": "A_AbJ6UbRpPX",
        "outputId": "ad8cb5f1-c01c-4c40-ad89-0e7c0efac1b3"
      },
      "source": [
        "model.summary()"
      ],
      "execution_count": null,
      "outputs": [
        {
          "output_type": "stream",
          "text": [
            "Model: \"model_summary\"\n",
            "_________________________________________________________________\n",
            "Layer (type)                 Output Shape              Param #   \n",
            "=================================================================\n",
            "input_layers (Dense)         (None, 10)                20        \n",
            "_________________________________________________________________\n",
            "output_layers (Dense)        (None, 1)                 11        \n",
            "=================================================================\n",
            "Total params: 31\n",
            "Trainable params: 31\n",
            "Non-trainable params: 0\n",
            "_________________________________________________________________\n"
          ],
          "name": "stdout"
        }
      ]
    },
    {
      "cell_type": "code",
      "metadata": {
        "colab": {
          "base_uri": "https://localhost:8080/"
        },
        "id": "jGuIX1-FRxSO",
        "outputId": "78e886cf-3fe7-402a-cd9a-8e84227160fd"
      },
      "source": [
        "model.fit(x_train,y_train,epochs=100,verbose=1)"
      ],
      "execution_count": null,
      "outputs": [
        {
          "output_type": "stream",
          "text": [
            "Epoch 1/100\n",
            "2/2 [==============================] - 0s 6ms/step - loss: 24.7643 - mae: 24.7643\n",
            "Epoch 2/100\n",
            "2/2 [==============================] - 0s 3ms/step - loss: 19.0262 - mae: 19.0262\n",
            "Epoch 3/100\n",
            "2/2 [==============================] - 0s 4ms/step - loss: 13.5870 - mae: 13.5870\n",
            "Epoch 4/100\n",
            "2/2 [==============================] - 0s 6ms/step - loss: 8.8757 - mae: 8.8757\n",
            "Epoch 5/100\n",
            "2/2 [==============================] - 0s 4ms/step - loss: 8.6327 - mae: 8.6327\n",
            "Epoch 6/100\n",
            "2/2 [==============================] - 0s 9ms/step - loss: 10.8266 - mae: 10.8266\n",
            "Epoch 7/100\n",
            "2/2 [==============================] - 0s 5ms/step - loss: 11.7706 - mae: 11.7706\n",
            "Epoch 8/100\n",
            "2/2 [==============================] - 0s 4ms/step - loss: 11.8001 - mae: 11.8001\n",
            "Epoch 9/100\n",
            "2/2 [==============================] - 0s 4ms/step - loss: 11.1962 - mae: 11.1962\n",
            "Epoch 10/100\n",
            "2/2 [==============================] - 0s 4ms/step - loss: 10.0506 - mae: 10.0506\n",
            "Epoch 11/100\n",
            "2/2 [==============================] - 0s 4ms/step - loss: 8.4785 - mae: 8.4785\n",
            "Epoch 12/100\n",
            "2/2 [==============================] - 0s 4ms/step - loss: 7.3061 - mae: 7.3061\n",
            "Epoch 13/100\n",
            "2/2 [==============================] - 0s 3ms/step - loss: 7.9295 - mae: 7.9295\n",
            "Epoch 14/100\n",
            "2/2 [==============================] - 0s 3ms/step - loss: 8.2075 - mae: 8.2075\n",
            "Epoch 15/100\n",
            "2/2 [==============================] - 0s 5ms/step - loss: 7.7219 - mae: 7.7219\n",
            "Epoch 16/100\n",
            "2/2 [==============================] - 0s 5ms/step - loss: 7.1421 - mae: 7.1421\n",
            "Epoch 17/100\n",
            "2/2 [==============================] - 0s 4ms/step - loss: 6.9032 - mae: 6.9032\n",
            "Epoch 18/100\n",
            "2/2 [==============================] - 0s 3ms/step - loss: 7.1171 - mae: 7.1171\n",
            "Epoch 19/100\n",
            "2/2 [==============================] - 0s 4ms/step - loss: 6.8713 - mae: 6.8713\n",
            "Epoch 20/100\n",
            "2/2 [==============================] - 0s 5ms/step - loss: 6.6966 - mae: 6.6966\n",
            "Epoch 21/100\n",
            "2/2 [==============================] - 0s 5ms/step - loss: 6.6737 - mae: 6.6737\n",
            "Epoch 22/100\n",
            "2/2 [==============================] - 0s 10ms/step - loss: 6.5517 - mae: 6.5517\n",
            "Epoch 23/100\n",
            "2/2 [==============================] - 0s 8ms/step - loss: 6.5632 - mae: 6.5632\n",
            "Epoch 24/100\n",
            "2/2 [==============================] - 0s 6ms/step - loss: 6.5071 - mae: 6.5071\n",
            "Epoch 25/100\n",
            "2/2 [==============================] - 0s 9ms/step - loss: 6.3482 - mae: 6.3482\n",
            "Epoch 26/100\n",
            "2/2 [==============================] - 0s 5ms/step - loss: 6.2796 - mae: 6.2796\n",
            "Epoch 27/100\n",
            "2/2 [==============================] - 0s 4ms/step - loss: 6.2361 - mae: 6.2361\n",
            "Epoch 28/100\n",
            "2/2 [==============================] - 0s 6ms/step - loss: 6.1653 - mae: 6.1653\n",
            "Epoch 29/100\n",
            "2/2 [==============================] - 0s 4ms/step - loss: 6.0706 - mae: 6.0706\n",
            "Epoch 30/100\n",
            "2/2 [==============================] - 0s 8ms/step - loss: 6.0291 - mae: 6.0291\n",
            "Epoch 31/100\n",
            "2/2 [==============================] - 0s 4ms/step - loss: 5.9077 - mae: 5.9077\n",
            "Epoch 32/100\n",
            "2/2 [==============================] - 0s 3ms/step - loss: 5.9504 - mae: 5.9504\n",
            "Epoch 33/100\n",
            "2/2 [==============================] - 0s 4ms/step - loss: 6.0770 - mae: 6.0770\n",
            "Epoch 34/100\n",
            "2/2 [==============================] - 0s 4ms/step - loss: 5.9371 - mae: 5.9371\n",
            "Epoch 35/100\n",
            "2/2 [==============================] - 0s 6ms/step - loss: 5.7583 - mae: 5.7583\n",
            "Epoch 36/100\n",
            "2/2 [==============================] - 0s 5ms/step - loss: 5.6100 - mae: 5.6100\n",
            "Epoch 37/100\n",
            "2/2 [==============================] - 0s 11ms/step - loss: 5.5049 - mae: 5.5049\n",
            "Epoch 38/100\n",
            "2/2 [==============================] - 0s 5ms/step - loss: 5.5993 - mae: 5.5993\n",
            "Epoch 39/100\n",
            "2/2 [==============================] - 0s 4ms/step - loss: 5.5565 - mae: 5.5565\n",
            "Epoch 40/100\n",
            "2/2 [==============================] - 0s 5ms/step - loss: 5.3353 - mae: 5.3353\n",
            "Epoch 41/100\n",
            "2/2 [==============================] - 0s 13ms/step - loss: 5.1988 - mae: 5.1988\n",
            "Epoch 42/100\n",
            "2/2 [==============================] - 0s 6ms/step - loss: 5.3877 - mae: 5.3877\n",
            "Epoch 43/100\n",
            "2/2 [==============================] - 0s 10ms/step - loss: 5.1514 - mae: 5.1514\n",
            "Epoch 44/100\n",
            "2/2 [==============================] - 0s 7ms/step - loss: 4.9465 - mae: 4.9465\n",
            "Epoch 45/100\n",
            "2/2 [==============================] - 0s 10ms/step - loss: 5.0810 - mae: 5.0810\n",
            "Epoch 46/100\n",
            "2/2 [==============================] - 0s 8ms/step - loss: 5.0890 - mae: 5.0890\n",
            "Epoch 47/100\n",
            "2/2 [==============================] - 0s 5ms/step - loss: 4.8108 - mae: 4.8108\n",
            "Epoch 48/100\n",
            "2/2 [==============================] - 0s 5ms/step - loss: 4.6230 - mae: 4.6230\n",
            "Epoch 49/100\n",
            "2/2 [==============================] - 0s 5ms/step - loss: 4.6238 - mae: 4.6238\n",
            "Epoch 50/100\n",
            "2/2 [==============================] - 0s 7ms/step - loss: 4.4386 - mae: 4.4386\n",
            "Epoch 51/100\n",
            "2/2 [==============================] - 0s 7ms/step - loss: 4.5251 - mae: 4.5251\n",
            "Epoch 52/100\n",
            "2/2 [==============================] - 0s 6ms/step - loss: 4.3965 - mae: 4.3965\n",
            "Epoch 53/100\n",
            "2/2 [==============================] - 0s 7ms/step - loss: 4.2997 - mae: 4.2997\n",
            "Epoch 54/100\n",
            "2/2 [==============================] - 0s 7ms/step - loss: 4.1182 - mae: 4.1182\n",
            "Epoch 55/100\n",
            "2/2 [==============================] - 0s 7ms/step - loss: 4.1023 - mae: 4.1023\n",
            "Epoch 56/100\n",
            "2/2 [==============================] - 0s 10ms/step - loss: 3.8748 - mae: 3.8748\n",
            "Epoch 57/100\n",
            "2/2 [==============================] - 0s 11ms/step - loss: 3.8659 - mae: 3.8659\n",
            "Epoch 58/100\n",
            "2/2 [==============================] - 0s 3ms/step - loss: 3.7244 - mae: 3.7244\n",
            "Epoch 59/100\n",
            "2/2 [==============================] - 0s 5ms/step - loss: 3.6444 - mae: 3.6444\n",
            "Epoch 60/100\n",
            "2/2 [==============================] - 0s 7ms/step - loss: 3.5109 - mae: 3.5109\n",
            "Epoch 61/100\n",
            "2/2 [==============================] - 0s 5ms/step - loss: 3.4097 - mae: 3.4097\n",
            "Epoch 62/100\n",
            "2/2 [==============================] - 0s 5ms/step - loss: 3.3124 - mae: 3.3124\n",
            "Epoch 63/100\n",
            "2/2 [==============================] - 0s 4ms/step - loss: 3.2729 - mae: 3.2729\n",
            "Epoch 64/100\n",
            "2/2 [==============================] - 0s 4ms/step - loss: 3.1014 - mae: 3.1014\n",
            "Epoch 65/100\n",
            "2/2 [==============================] - 0s 8ms/step - loss: 2.9931 - mae: 2.9931\n",
            "Epoch 66/100\n",
            "2/2 [==============================] - 0s 4ms/step - loss: 2.8670 - mae: 2.8670\n",
            "Epoch 67/100\n",
            "2/2 [==============================] - 0s 3ms/step - loss: 2.8825 - mae: 2.8825\n",
            "Epoch 68/100\n",
            "2/2 [==============================] - 0s 6ms/step - loss: 2.6894 - mae: 2.6894\n",
            "Epoch 69/100\n",
            "2/2 [==============================] - 0s 12ms/step - loss: 2.5258 - mae: 2.5258\n",
            "Epoch 70/100\n",
            "2/2 [==============================] - 0s 4ms/step - loss: 2.5212 - mae: 2.5212\n",
            "Epoch 71/100\n",
            "2/2 [==============================] - 0s 7ms/step - loss: 2.2685 - mae: 2.2685\n",
            "Epoch 72/100\n",
            "2/2 [==============================] - 0s 6ms/step - loss: 2.3147 - mae: 2.3147\n",
            "Epoch 73/100\n",
            "2/2 [==============================] - 0s 5ms/step - loss: 2.1676 - mae: 2.1676\n",
            "Epoch 74/100\n",
            "2/2 [==============================] - 0s 10ms/step - loss: 1.9131 - mae: 1.9131\n",
            "Epoch 75/100\n",
            "2/2 [==============================] - 0s 16ms/step - loss: 2.2775 - mae: 2.2775\n",
            "Epoch 76/100\n",
            "2/2 [==============================] - 0s 4ms/step - loss: 1.9966 - mae: 1.9966\n",
            "Epoch 77/100\n",
            "2/2 [==============================] - 0s 7ms/step - loss: 1.6327 - mae: 1.6327\n",
            "Epoch 78/100\n",
            "2/2 [==============================] - 0s 3ms/step - loss: 1.5498 - mae: 1.5498\n",
            "Epoch 79/100\n",
            "2/2 [==============================] - 0s 4ms/step - loss: 1.5338 - mae: 1.5338\n",
            "Epoch 80/100\n",
            "2/2 [==============================] - 0s 7ms/step - loss: 1.2707 - mae: 1.2707\n",
            "Epoch 81/100\n",
            "2/2 [==============================] - 0s 4ms/step - loss: 1.2268 - mae: 1.2268\n",
            "Epoch 82/100\n",
            "2/2 [==============================] - 0s 3ms/step - loss: 0.8647 - mae: 0.8647\n",
            "Epoch 83/100\n",
            "2/2 [==============================] - 0s 5ms/step - loss: 0.6219 - mae: 0.6219\n",
            "Epoch 84/100\n",
            "2/2 [==============================] - 0s 6ms/step - loss: 0.5439 - mae: 0.5439\n",
            "Epoch 85/100\n",
            "2/2 [==============================] - 0s 3ms/step - loss: 0.8905 - mae: 0.8905\n",
            "Epoch 86/100\n",
            "2/2 [==============================] - 0s 5ms/step - loss: 0.4026 - mae: 0.4026\n",
            "Epoch 87/100\n",
            "2/2 [==============================] - 0s 4ms/step - loss: 0.7196 - mae: 0.7196\n",
            "Epoch 88/100\n",
            "2/2 [==============================] - 0s 8ms/step - loss: 1.3945 - mae: 1.3945\n",
            "Epoch 89/100\n",
            "2/2 [==============================] - 0s 11ms/step - loss: 1.4896 - mae: 1.4896\n",
            "Epoch 90/100\n",
            "2/2 [==============================] - 0s 4ms/step - loss: 0.9490 - mae: 0.9490\n",
            "Epoch 91/100\n",
            "2/2 [==============================] - 0s 4ms/step - loss: 1.2693 - mae: 1.2693\n",
            "Epoch 92/100\n",
            "2/2 [==============================] - 0s 3ms/step - loss: 0.9246 - mae: 0.9246\n",
            "Epoch 93/100\n",
            "2/2 [==============================] - 0s 3ms/step - loss: 1.1842 - mae: 1.1842\n",
            "Epoch 94/100\n",
            "2/2 [==============================] - 0s 5ms/step - loss: 0.8709 - mae: 0.8709\n",
            "Epoch 95/100\n",
            "2/2 [==============================] - 0s 9ms/step - loss: 0.8290 - mae: 0.8290\n",
            "Epoch 96/100\n",
            "2/2 [==============================] - 0s 3ms/step - loss: 1.2720 - mae: 1.2720\n",
            "Epoch 97/100\n",
            "2/2 [==============================] - 0s 7ms/step - loss: 0.9911 - mae: 0.9911\n",
            "Epoch 98/100\n",
            "2/2 [==============================] - 0s 6ms/step - loss: 1.0985 - mae: 1.0985\n",
            "Epoch 99/100\n",
            "2/2 [==============================] - 0s 4ms/step - loss: 0.8477 - mae: 0.8477\n",
            "Epoch 100/100\n",
            "2/2 [==============================] - 0s 5ms/step - loss: 1.3402 - mae: 1.3402\n"
          ],
          "name": "stdout"
        },
        {
          "output_type": "execute_result",
          "data": {
            "text/plain": [
              "<tensorflow.python.keras.callbacks.History at 0x7f45133e7dd0>"
            ]
          },
          "metadata": {
            "tags": []
          },
          "execution_count": 135
        }
      ]
    },
    {
      "cell_type": "code",
      "metadata": {
        "colab": {
          "base_uri": "https://localhost:8080/"
        },
        "id": "Otnn219nXvFx",
        "outputId": "c7f37569-da9c-4f51-e64c-4dbb838e2bc8"
      },
      "source": [
        "model.summary()"
      ],
      "execution_count": null,
      "outputs": [
        {
          "output_type": "stream",
          "text": [
            "Model: \"model_summary\"\n",
            "_________________________________________________________________\n",
            "Layer (type)                 Output Shape              Param #   \n",
            "=================================================================\n",
            "input_layers (Dense)         (None, 10)                20        \n",
            "_________________________________________________________________\n",
            "output_layers (Dense)        (None, 1)                 11        \n",
            "=================================================================\n",
            "Total params: 31\n",
            "Trainable params: 31\n",
            "Non-trainable params: 0\n",
            "_________________________________________________________________\n"
          ],
          "name": "stdout"
        }
      ]
    },
    {
      "cell_type": "code",
      "metadata": {
        "id": "tpwfhmryX0-Q"
      },
      "source": [
        "from tensorflow.keras.utils import plot_model"
      ],
      "execution_count": null,
      "outputs": []
    },
    {
      "cell_type": "code",
      "metadata": {
        "colab": {
          "base_uri": "https://localhost:8080/",
          "height": 312
        },
        "id": "cZ-VWy91X9hp",
        "outputId": "c9577c8f-8723-4c9e-f559-c86adbc48767"
      },
      "source": [
        "plot_model(model=model,show_shapes=True)"
      ],
      "execution_count": null,
      "outputs": [
        {
          "output_type": "execute_result",
          "data": {
            "image/png": "[encoded data removed]",
            "text/plain": [
              "<IPython.core.display.Image object>"
            ]
          },
          "metadata": {
            "tags": []
          },
          "execution_count": 138
        }
      ]
    },
    {
      "cell_type": "code",
      "metadata": {
        "id": "0XTa2jKFX--A"
      },
      "source": [
        "#Visualizing our model's predictions"
      ],
      "execution_count": null,
      "outputs": []
    },
    {
      "cell_type": "code",
      "metadata": {
        "colab": {
          "base_uri": "https://localhost:8080/"
        },
        "id": "fNhf_mNPxDUL",
        "outputId": "aa0c5eb4-b0fa-4d3b-a817-a074f90053e3"
      },
      "source": [
        "# Make some predictions\n",
        "y_pred = model.predict(x_test)\n",
        "y_pred"
      ],
      "execution_count": null,
      "outputs": [
        {
          "output_type": "execute_result",
          "data": {
            "text/plain": [
              "array([[ 72.42797 ],\n",
              "       [ 76.58641 ],\n",
              "       [ 80.74485 ],\n",
              "       [ 84.90329 ],\n",
              "       [ 89.06173 ],\n",
              "       [ 93.22018 ],\n",
              "       [ 97.378624],\n",
              "       [101.537056],\n",
              "       [105.695496],\n",
              "       [109.853935]], dtype=float32)"
            ]
          },
          "metadata": {
            "tags": []
          },
          "execution_count": 140
        }
      ]
    },
    {
      "cell_type": "code",
      "metadata": {
        "colab": {
          "base_uri": "https://localhost:8080/"
        },
        "id": "zI-Rjlm4xLy4",
        "outputId": "207f9e7b-d42d-4b0e-c100-cc566bd54e29"
      },
      "source": [
        "y_test"
      ],
      "execution_count": null,
      "outputs": [
        {
          "output_type": "execute_result",
          "data": {
            "text/plain": [
              "<tf.Tensor: shape=(10,), dtype=int32, numpy=array([ 70,  74,  78,  82,  86,  90,  94,  98, 102, 106], dtype=int32)>"
            ]
          },
          "metadata": {
            "tags": []
          },
          "execution_count": 141
        }
      ]
    },
    {
      "cell_type": "code",
      "metadata": {
        "colab": {
          "base_uri": "https://localhost:8080/",
          "height": 283
        },
        "id": "MEZWGgPcxOH2",
        "outputId": "823c4df7-8b92-4a1f-ac6a-978a25fe0369"
      },
      "source": [
        "plt.scatter(x_test,y_pred)\n",
        "plt.scatter(x_test,y_test)"
      ],
      "execution_count": null,
      "outputs": [
        {
          "output_type": "execute_result",
          "data": {
            "text/plain": [
              "<matplotlib.collections.PathCollection at 0x7f45132fd790>"
            ]
          },
          "metadata": {
            "tags": []
          },
          "execution_count": 142
        },
        {
          "output_type": "display_data",
          "data": {
            "image/png": "[encoded data removed]",
            "text/plain": [
              "<Figure size 432x288 with 1 Axes>"
            ]
          },
          "metadata": {
            "tags": [],
            "needs_background": "light"
          }
        }
      ]
    },
    {
      "cell_type": "code",
      "metadata": {
        "id": "eX8-xuHIxZa-"
      },
      "source": [
        "def plot_ptedictions(train_data =x_train,\n",
        "                     train_labels=y_train,\n",
        "                     test_data=x_test,\n",
        "                     test_labels=y_test,\n",
        "                     predictions = y_pred):\n",
        "  plt.figure(figsize=(10,7))\n",
        "  plt.scatter(train_data,train_labels)\n",
        "  plt.scatter(test_data,test_labels)\n",
        "  plt.scatter(test_data,predictions)\n",
        "  plt.legend()  "
      ],
      "execution_count": null,
      "outputs": []
    },
    {
      "cell_type": "code",
      "metadata": {
        "colab": {
          "base_uri": "https://localhost:8080/",
          "height": 446
        },
        "id": "c3V1jHo9yDft",
        "outputId": "f2f690a0-7e3a-4cdb-a963-6af65d3d3d82"
      },
      "source": [
        "plot_ptedictions()"
      ],
      "execution_count": null,
      "outputs": [
        {
          "output_type": "stream",
          "text": [
            "No handles with labels found to put in legend.\n"
          ],
          "name": "stderr"
        },
        {
          "output_type": "display_data",
          "data": {
            "image/png": "[encoded data removed]",
            "text/plain": [
              "<Figure size 720x504 with 1 Axes>"
            ]
          },
          "metadata": {
            "tags": [],
            "needs_background": "light"
          }
        }
      ]
    },
    {
      "cell_type": "code",
      "metadata": {
        "colab": {
          "base_uri": "https://localhost:8080/"
        },
        "id": "OnQA-D05yPt0",
        "outputId": "be73a047-cada-492f-8e72-47b05040b184"
      },
      "source": [
        "model.evaluate(x_test,y_test)"
      ],
      "execution_count": null,
      "outputs": [
        {
          "output_type": "stream",
          "text": [
            "1/1 [==============================] - 0s 126ms/step - loss: 3.1410 - mae: 3.1410\n"
          ],
          "name": "stdout"
        },
        {
          "output_type": "execute_result",
          "data": {
            "text/plain": [
              "[3.1409544944763184, 3.1409544944763184]"
            ]
          },
          "metadata": {
            "tags": []
          },
          "execution_count": 145
        }
      ]
    },
    {
      "cell_type": "code",
      "metadata": {
        "colab": {
          "base_uri": "https://localhost:8080/"
        },
        "id": "vjD9hLrk1MJ3",
        "outputId": "c255dafe-1a8d-4303-f2af-aec820058a15"
      },
      "source": [
        "# Calculate the mean absolute error\n",
        "mae = tf.metrics.mean_absolute_error(y_true=y_test,y_pred=tf.constant(y_pred))\n",
        "mae"
      ],
      "execution_count": null,
      "outputs": [
        {
          "output_type": "execute_result",
          "data": {
            "text/plain": [
              "<tf.Tensor: shape=(10,), dtype=float32, numpy=\n",
              "array([16.057623, 13.248154, 11.30206 , 10.219342, 10.      , 10.644035,\n",
              "       12.151449, 14.522234, 17.756397, 21.853935], dtype=float32)>"
            ]
          },
          "metadata": {
            "tags": []
          },
          "execution_count": 146
        }
      ]
    },
    {
      "cell_type": "code",
      "metadata": {
        "colab": {
          "base_uri": "https://localhost:8080/"
        },
        "id": "2A2neTUD094I",
        "outputId": "8079170c-f040-4450-e88c-7160d21d64b5"
      },
      "source": [
        "tf.constant(y_pred)"
      ],
      "execution_count": null,
      "outputs": [
        {
          "output_type": "execute_result",
          "data": {
            "text/plain": [
              "<tf.Tensor: shape=(10, 1), dtype=float32, numpy=\n",
              "array([[ 72.42797 ],\n",
              "       [ 76.58641 ],\n",
              "       [ 80.74485 ],\n",
              "       [ 84.90329 ],\n",
              "       [ 89.06173 ],\n",
              "       [ 93.22018 ],\n",
              "       [ 97.378624],\n",
              "       [101.537056],\n",
              "       [105.695496],\n",
              "       [109.853935]], dtype=float32)>"
            ]
          },
          "metadata": {
            "tags": []
          },
          "execution_count": 147
        }
      ]
    },
    {
      "cell_type": "code",
      "metadata": {
        "colab": {
          "base_uri": "https://localhost:8080/"
        },
        "id": "qEQADPAi1ICo",
        "outputId": "3a359e53-87db-43d8-8ba0-ab47ed0900e0"
      },
      "source": [
        "y_test"
      ],
      "execution_count": null,
      "outputs": [
        {
          "output_type": "execute_result",
          "data": {
            "text/plain": [
              "<tf.Tensor: shape=(10,), dtype=int32, numpy=array([ 70,  74,  78,  82,  86,  90,  94,  98, 102, 106], dtype=int32)>"
            ]
          },
          "metadata": {
            "tags": []
          },
          "execution_count": 148
        }
      ]
    },
    {
      "cell_type": "code",
      "metadata": {
        "colab": {
          "base_uri": "https://localhost:8080/"
        },
        "id": "zVrNn05D1ItR",
        "outputId": "547e9759-989a-4809-aa92-ecef3aa24ae4"
      },
      "source": [
        "tf.squeeze(y_pred)"
      ],
      "execution_count": null,
      "outputs": [
        {
          "output_type": "execute_result",
          "data": {
            "text/plain": [
              "<tf.Tensor: shape=(10,), dtype=float32, numpy=\n",
              "array([ 72.42797 ,  76.58641 ,  80.74485 ,  84.90329 ,  89.06173 ,\n",
              "        93.22018 ,  97.378624, 101.537056, 105.695496, 109.853935],\n",
              "      dtype=float32)>"
            ]
          },
          "metadata": {
            "tags": []
          },
          "execution_count": 149
        }
      ]
    },
    {
      "cell_type": "code",
      "metadata": {
        "colab": {
          "base_uri": "https://localhost:8080/"
        },
        "id": "0W1yW55X2JmD",
        "outputId": "3b0fee06-837e-4cbf-e0aa-cfcbc9cccb3f"
      },
      "source": [
        "mae = tf.metrics.mean_absolute_error(y_true=y_test,y_pred=tf.squeeze(y_pred))\n",
        "mae"
      ],
      "execution_count": null,
      "outputs": [
        {
          "output_type": "execute_result",
          "data": {
            "text/plain": [
              "<tf.Tensor: shape=(), dtype=float32, numpy=3.1409538>"
            ]
          },
          "metadata": {
            "tags": []
          },
          "execution_count": 150
        }
      ]
    },
    {
      "cell_type": "code",
      "metadata": {
        "colab": {
          "base_uri": "https://localhost:8080/"
        },
        "id": "ML5ydCyi2UvU",
        "outputId": "9551ab99-5954-4b4a-fed6-eb74b9b35c3a"
      },
      "source": [
        "mse = tf.metrics.mean_squared_error(y_true=y_test,y_pred=tf.squeeze(y_pred))\n",
        "mse # mse is typically high than mae"
      ],
      "execution_count": null,
      "outputs": [
        {
          "output_type": "execute_result",
          "data": {
            "text/plain": [
              "<tf.Tensor: shape=(), dtype=float32, numpy=10.072696>"
            ]
          },
          "metadata": {
            "tags": []
          },
          "execution_count": 151
        }
      ]
    },
    {
      "cell_type": "code",
      "metadata": {
        "colab": {
          "base_uri": "https://localhost:8080/",
          "height": 189
        },
        "id": "q2LTNAt92o_d",
        "outputId": "d6492a4f-bdd3-4089-ede7-4b0dd6d0725a"
      },
      "source": [
        "huber= tf.metrics.huber(y_test,tf.squeeze(y_pred))\n",
        "huber"
      ],
      "execution_count": null,
      "outputs": [
        {
          "output_type": "error",
          "ename": "AttributeError",
          "evalue": "ignored",
          "traceback": [
            "\u001b[0;31m---------------------------------------------------------------------------\u001b[0m",
            "\u001b[0;31mAttributeError\u001b[0m                            Traceback (most recent call last)",
            "\u001b[0;32m<ipython-input-152-cff999466736>\u001b[0m in \u001b[0;36m<module>\u001b[0;34m()\u001b[0m\n\u001b[0;32m----> 1\u001b[0;31m \u001b[0mhuber\u001b[0m\u001b[0;34m=\u001b[0m \u001b[0mtf\u001b[0m\u001b[0;34m.\u001b[0m\u001b[0mmetrics\u001b[0m\u001b[0;34m.\u001b[0m\u001b[0mhuber\u001b[0m\u001b[0;34m(\u001b[0m\u001b[0my_test\u001b[0m\u001b[0;34m,\u001b[0m\u001b[0mtf\u001b[0m\u001b[0;34m.\u001b[0m\u001b[0msqueeze\u001b[0m\u001b[0;34m(\u001b[0m\u001b[0my_pred\u001b[0m\u001b[0;34m)\u001b[0m\u001b[0;34m)\u001b[0m\u001b[0;34m\u001b[0m\u001b[0;34m\u001b[0m\u001b[0m\n\u001b[0m\u001b[1;32m      2\u001b[0m \u001b[0mhuber\u001b[0m\u001b[0;34m\u001b[0m\u001b[0;34m\u001b[0m\u001b[0m\n",
            "\u001b[0;31mAttributeError\u001b[0m: module 'tensorflow.keras.metrics' has no attribute 'huber'"
          ]
        }
      ]
    },
    {
      "cell_type": "code",
      "metadata": {
        "id": "kDdT0WlS3Ioi"
      },
      "source": [
        "import tensorflow as tf\n",
        "import matplotlib.pyplot as plt \n",
        "from tensorflow.keras.utils import plot_model"
      ],
      "execution_count": null,
      "outputs": []
    },
    {
      "cell_type": "code",
      "metadata": {
        "colab": {
          "base_uri": "https://localhost:8080/"
        },
        "id": "x9CDAB6JBPV0",
        "outputId": "61574d1a-0168-4015-9eac-5bf3d432fa77"
      },
      "source": [
        "x_train,y_train"
      ],
      "execution_count": null,
      "outputs": [
        {
          "output_type": "execute_result",
          "data": {
            "text/plain": [
              "(<tf.Tensor: shape=(40,), dtype=int32, numpy=\n",
              " array([-100,  -96,  -92,  -88,  -84,  -80,  -76,  -72,  -68,  -64,  -60,\n",
              "         -56,  -52,  -48,  -44,  -40,  -36,  -32,  -28,  -24,  -20,  -16,\n",
              "         -12,   -8,   -4,    0,    4,    8,   12,   16,   20,   24,   28,\n",
              "          32,   36,   40,   44,   48,   52,   56], dtype=int32)>,\n",
              " <tf.Tensor: shape=(40,), dtype=int32, numpy=\n",
              " array([-90, -86, -82, -78, -74, -70, -66, -62, -58, -54, -50, -46, -42,\n",
              "        -38, -34, -30, -26, -22, -18, -14, -10,  -6,  -2,   2,   6,  10,\n",
              "         14,  18,  22,  26,  30,  34,  38,  42,  46,  50,  54,  58,  62,\n",
              "         66], dtype=int32)>)"
            ]
          },
          "metadata": {
            "tags": []
          },
          "execution_count": 154
        }
      ]
    },
    {
      "cell_type": "code",
      "metadata": {
        "colab": {
          "base_uri": "https://localhost:8080/"
        },
        "id": "RJjJqQEMBnSs",
        "outputId": "239d33f7-dac2-4230-c082-8d34d989f73b"
      },
      "source": [
        "tf.random.set_seed(42)\n",
        "\n",
        "#create model \n",
        "model_1 = tf.keras.Sequential([\n",
        "                               tf.keras.layers.Dense(1)\n",
        "])\n",
        "\n",
        "model_1.compile(\n",
        "    loss=tf.keras.losses.mae,\n",
        "    optimizer= tf.keras.optimizers.SGD(),\n",
        "    metrics=[\"mae\"]\n",
        ")\n",
        "\n",
        "model_1.fit(x_train,y_train,epochs=100)"
      ],
      "execution_count": null,
      "outputs": [
        {
          "output_type": "stream",
          "text": [
            "Epoch 1/100\n",
            "2/2 [==============================] - 0s 6ms/step - loss: 15.9024 - mae: 15.9024\n",
            "Epoch 2/100\n",
            "2/2 [==============================] - 0s 3ms/step - loss: 11.2837 - mae: 11.2837\n",
            "Epoch 3/100\n",
            "2/2 [==============================] - 0s 7ms/step - loss: 11.1074 - mae: 11.1074\n",
            "Epoch 4/100\n",
            "2/2 [==============================] - 0s 7ms/step - loss: 9.2991 - mae: 9.2991\n",
            "Epoch 5/100\n",
            "2/2 [==============================] - 0s 7ms/step - loss: 10.1677 - mae: 10.1677\n",
            "Epoch 6/100\n",
            "2/2 [==============================] - 0s 4ms/step - loss: 9.4303 - mae: 9.4303\n",
            "Epoch 7/100\n",
            "2/2 [==============================] - 0s 5ms/step - loss: 8.5704 - mae: 8.5704\n",
            "Epoch 8/100\n",
            "2/2 [==============================] - 0s 6ms/step - loss: 9.0442 - mae: 9.0442\n",
            "Epoch 9/100\n",
            "2/2 [==============================] - 0s 6ms/step - loss: 18.7517 - mae: 18.7517\n",
            "Epoch 10/100\n",
            "2/2 [==============================] - 0s 4ms/step - loss: 10.1142 - mae: 10.1142\n",
            "Epoch 11/100\n",
            "2/2 [==============================] - 0s 4ms/step - loss: 8.3980 - mae: 8.3980\n",
            "Epoch 12/100\n",
            "2/2 [==============================] - 0s 4ms/step - loss: 10.6639 - mae: 10.6639\n",
            "Epoch 13/100\n",
            "2/2 [==============================] - 0s 6ms/step - loss: 9.7977 - mae: 9.7977\n",
            "Epoch 14/100\n",
            "2/2 [==============================] - 0s 8ms/step - loss: 16.0103 - mae: 16.0103\n",
            "Epoch 15/100\n",
            "2/2 [==============================] - 0s 4ms/step - loss: 11.4068 - mae: 11.4068\n",
            "Epoch 16/100\n",
            "2/2 [==============================] - 0s 3ms/step - loss: 8.5393 - mae: 8.5393\n",
            "Epoch 17/100\n",
            "2/2 [==============================] - 0s 3ms/step - loss: 13.6348 - mae: 13.6348\n",
            "Epoch 18/100\n",
            "2/2 [==============================] - 0s 5ms/step - loss: 11.4629 - mae: 11.4629\n",
            "Epoch 19/100\n",
            "2/2 [==============================] - 0s 4ms/step - loss: 17.9148 - mae: 17.9148\n",
            "Epoch 20/100\n",
            "2/2 [==============================] - 0s 5ms/step - loss: 15.0494 - mae: 15.0494\n",
            "Epoch 21/100\n",
            "2/2 [==============================] - 0s 8ms/step - loss: 11.0216 - mae: 11.0216\n",
            "Epoch 22/100\n",
            "2/2 [==============================] - 0s 7ms/step - loss: 8.1558 - mae: 8.1558\n",
            "Epoch 23/100\n",
            "2/2 [==============================] - 0s 4ms/step - loss: 9.5138 - mae: 9.5138\n",
            "Epoch 24/100\n",
            "2/2 [==============================] - 0s 5ms/step - loss: 7.6617 - mae: 7.6617\n",
            "Epoch 25/100\n",
            "2/2 [==============================] - 0s 5ms/step - loss: 13.1859 - mae: 13.1859\n",
            "Epoch 26/100\n",
            "2/2 [==============================] - 0s 6ms/step - loss: 16.4211 - mae: 16.4211\n",
            "Epoch 27/100\n",
            "2/2 [==============================] - 0s 7ms/step - loss: 13.1660 - mae: 13.1660\n",
            "Epoch 28/100\n",
            "2/2 [==============================] - 0s 4ms/step - loss: 14.2559 - mae: 14.2559\n",
            "Epoch 29/100\n",
            "2/2 [==============================] - 0s 4ms/step - loss: 10.0670 - mae: 10.0670\n",
            "Epoch 30/100\n",
            "2/2 [==============================] - 0s 15ms/step - loss: 16.3409 - mae: 16.3409\n",
            "Epoch 31/100\n",
            "2/2 [==============================] - 0s 5ms/step - loss: 23.6444 - mae: 23.6444\n",
            "Epoch 32/100\n",
            "2/2 [==============================] - 0s 4ms/step - loss: 7.6215 - mae: 7.6215\n",
            "Epoch 33/100\n",
            "2/2 [==============================] - 0s 5ms/step - loss: 9.3221 - mae: 9.3221\n",
            "Epoch 34/100\n",
            "2/2 [==============================] - 0s 4ms/step - loss: 13.7313 - mae: 13.7313\n",
            "Epoch 35/100\n",
            "2/2 [==============================] - 0s 6ms/step - loss: 11.1276 - mae: 11.1276\n",
            "Epoch 36/100\n",
            "2/2 [==============================] - 0s 11ms/step - loss: 13.3222 - mae: 13.3222\n",
            "Epoch 37/100\n",
            "2/2 [==============================] - 0s 6ms/step - loss: 9.4763 - mae: 9.4763\n",
            "Epoch 38/100\n",
            "2/2 [==============================] - 0s 5ms/step - loss: 10.1381 - mae: 10.1381\n",
            "Epoch 39/100\n",
            "2/2 [==============================] - 0s 3ms/step - loss: 10.1793 - mae: 10.1793\n",
            "Epoch 40/100\n",
            "2/2 [==============================] - 0s 8ms/step - loss: 10.9137 - mae: 10.9137\n",
            "Epoch 41/100\n",
            "2/2 [==============================] - 0s 4ms/step - loss: 7.9063 - mae: 7.9063\n",
            "Epoch 42/100\n",
            "2/2 [==============================] - 0s 4ms/step - loss: 10.0914 - mae: 10.0914\n",
            "Epoch 43/100\n",
            "2/2 [==============================] - 0s 4ms/step - loss: 8.7006 - mae: 8.7006\n",
            "Epoch 44/100\n",
            "2/2 [==============================] - 0s 4ms/step - loss: 12.2047 - mae: 12.2047\n",
            "Epoch 45/100\n",
            "2/2 [==============================] - 0s 4ms/step - loss: 13.7970 - mae: 13.7970\n",
            "Epoch 46/100\n",
            "2/2 [==============================] - 0s 5ms/step - loss: 8.4687 - mae: 8.4687\n",
            "Epoch 47/100\n",
            "2/2 [==============================] - 0s 5ms/step - loss: 9.1330 - mae: 9.1330\n",
            "Epoch 48/100\n",
            "2/2 [==============================] - 0s 5ms/step - loss: 10.6190 - mae: 10.6190\n",
            "Epoch 49/100\n",
            "2/2 [==============================] - 0s 9ms/step - loss: 7.7503 - mae: 7.7503\n",
            "Epoch 50/100\n",
            "2/2 [==============================] - 0s 6ms/step - loss: 9.5407 - mae: 9.5407\n",
            "Epoch 51/100\n",
            "2/2 [==============================] - 0s 4ms/step - loss: 9.1584 - mae: 9.1584\n",
            "Epoch 52/100\n",
            "2/2 [==============================] - 0s 7ms/step - loss: 16.3630 - mae: 16.3630\n",
            "Epoch 53/100\n",
            "2/2 [==============================] - 0s 3ms/step - loss: 14.1299 - mae: 14.1299\n",
            "Epoch 54/100\n",
            "2/2 [==============================] - 0s 10ms/step - loss: 21.1247 - mae: 21.1247\n",
            "Epoch 55/100\n",
            "2/2 [==============================] - 0s 9ms/step - loss: 16.3961 - mae: 16.3961\n",
            "Epoch 56/100\n",
            "2/2 [==============================] - 0s 4ms/step - loss: 9.9806 - mae: 9.9806\n",
            "Epoch 57/100\n",
            "2/2 [==============================] - 0s 3ms/step - loss: 9.9606 - mae: 9.9606\n",
            "Epoch 58/100\n",
            "2/2 [==============================] - 0s 4ms/step - loss: 9.2209 - mae: 9.2209\n",
            "Epoch 59/100\n",
            "2/2 [==============================] - 0s 4ms/step - loss: 8.4239 - mae: 8.4239\n",
            "Epoch 60/100\n",
            "2/2 [==============================] - 0s 4ms/step - loss: 9.4869 - mae: 9.4869\n",
            "Epoch 61/100\n",
            "2/2 [==============================] - 0s 10ms/step - loss: 11.4355 - mae: 11.4355\n",
            "Epoch 62/100\n",
            "2/2 [==============================] - 0s 5ms/step - loss: 11.6887 - mae: 11.6887\n",
            "Epoch 63/100\n",
            "2/2 [==============================] - 0s 4ms/step - loss: 7.0838 - mae: 7.0838\n",
            "Epoch 64/100\n",
            "2/2 [==============================] - 0s 5ms/step - loss: 16.9675 - mae: 16.9675\n",
            "Epoch 65/100\n",
            "2/2 [==============================] - 0s 5ms/step - loss: 12.4599 - mae: 12.4599\n",
            "Epoch 66/100\n",
            "2/2 [==============================] - 0s 6ms/step - loss: 13.0184 - mae: 13.0184\n",
            "Epoch 67/100\n",
            "2/2 [==============================] - 0s 10ms/step - loss: 8.0600 - mae: 8.0600\n",
            "Epoch 68/100\n",
            "2/2 [==============================] - 0s 3ms/step - loss: 10.1888 - mae: 10.1888\n",
            "Epoch 69/100\n",
            "2/2 [==============================] - 0s 9ms/step - loss: 12.3633 - mae: 12.3633\n",
            "Epoch 70/100\n",
            "2/2 [==============================] - 0s 10ms/step - loss: 9.0516 - mae: 9.0516\n",
            "Epoch 71/100\n",
            "2/2 [==============================] - 0s 6ms/step - loss: 10.0378 - mae: 10.0378\n",
            "Epoch 72/100\n",
            "2/2 [==============================] - 0s 5ms/step - loss: 10.0516 - mae: 10.0516\n",
            "Epoch 73/100\n",
            "2/2 [==============================] - 0s 7ms/step - loss: 12.6151 - mae: 12.6151\n",
            "Epoch 74/100\n",
            "2/2 [==============================] - 0s 3ms/step - loss: 10.3819 - mae: 10.3819\n",
            "Epoch 75/100\n",
            "2/2 [==============================] - 0s 7ms/step - loss: 9.7229 - mae: 9.7229\n",
            "Epoch 76/100\n",
            "2/2 [==============================] - 0s 4ms/step - loss: 11.2252 - mae: 11.2252\n",
            "Epoch 77/100\n",
            "2/2 [==============================] - 0s 4ms/step - loss: 8.3642 - mae: 8.3642\n",
            "Epoch 78/100\n",
            "2/2 [==============================] - 0s 4ms/step - loss: 9.1274 - mae: 9.1274\n",
            "Epoch 79/100\n",
            "2/2 [==============================] - 0s 3ms/step - loss: 19.5039 - mae: 19.5039\n",
            "Epoch 80/100\n",
            "2/2 [==============================] - 0s 3ms/step - loss: 14.8945 - mae: 14.8945\n",
            "Epoch 81/100\n",
            "2/2 [==============================] - 0s 4ms/step - loss: 9.0034 - mae: 9.0034\n",
            "Epoch 82/100\n",
            "2/2 [==============================] - 0s 4ms/step - loss: 13.0206 - mae: 13.0206\n",
            "Epoch 83/100\n",
            "2/2 [==============================] - 0s 4ms/step - loss: 7.9299 - mae: 7.9299\n",
            "Epoch 84/100\n",
            "2/2 [==============================] - 0s 7ms/step - loss: 7.6872 - mae: 7.6872\n",
            "Epoch 85/100\n",
            "2/2 [==============================] - 0s 4ms/step - loss: 10.0328 - mae: 10.0328\n",
            "Epoch 86/100\n",
            "2/2 [==============================] - 0s 4ms/step - loss: 9.2433 - mae: 9.2433\n",
            "Epoch 87/100\n",
            "2/2 [==============================] - 0s 4ms/step - loss: 12.0209 - mae: 12.0209\n",
            "Epoch 88/100\n",
            "2/2 [==============================] - 0s 11ms/step - loss: 10.6389 - mae: 10.6389\n",
            "Epoch 89/100\n",
            "2/2 [==============================] - 0s 7ms/step - loss: 7.2667 - mae: 7.2667\n",
            "Epoch 90/100\n",
            "2/2 [==============================] - 0s 4ms/step - loss: 12.7786 - mae: 12.7786\n",
            "Epoch 91/100\n",
            "2/2 [==============================] - 0s 6ms/step - loss: 7.3481 - mae: 7.3481\n",
            "Epoch 92/100\n",
            "2/2 [==============================] - 0s 4ms/step - loss: 7.7175 - mae: 7.7175\n",
            "Epoch 93/100\n",
            "2/2 [==============================] - 0s 11ms/step - loss: 7.1263 - mae: 7.1263\n",
            "Epoch 94/100\n",
            "2/2 [==============================] - 0s 10ms/step - loss: 12.6190 - mae: 12.6190\n",
            "Epoch 95/100\n",
            "2/2 [==============================] - 0s 8ms/step - loss: 10.0912 - mae: 10.0912\n",
            "Epoch 96/100\n",
            "2/2 [==============================] - 0s 4ms/step - loss: 9.3558 - mae: 9.3558\n",
            "Epoch 97/100\n",
            "2/2 [==============================] - 0s 6ms/step - loss: 12.6834 - mae: 12.6834\n",
            "Epoch 98/100\n",
            "2/2 [==============================] - 0s 4ms/step - loss: 8.6762 - mae: 8.6762\n",
            "Epoch 99/100\n",
            "2/2 [==============================] - 0s 14ms/step - loss: 9.4693 - mae: 9.4693\n",
            "Epoch 100/100\n",
            "2/2 [==============================] - 0s 5ms/step - loss: 8.7067 - mae: 8.7067\n"
          ],
          "name": "stdout"
        },
        {
          "output_type": "execute_result",
          "data": {
            "text/plain": [
              "<tensorflow.python.keras.callbacks.History at 0x7f45107964d0>"
            ]
          },
          "metadata": {
            "tags": []
          },
          "execution_count": 155
        }
      ]
    },
    {
      "cell_type": "code",
      "metadata": {
        "colab": {
          "base_uri": "https://localhost:8080/",
          "height": 446
        },
        "id": "UoyIdJQNCFwk",
        "outputId": "9d5aa2dd-cda0-4592-dd17-45f7f3acd95b"
      },
      "source": [
        "#make and plot predictions\n",
        "\n",
        "y_preds_1 = model_1.predict(x_test)\n",
        "plot_ptedictions(predictions=y_preds_1)\n"
      ],
      "execution_count": null,
      "outputs": [
        {
          "output_type": "stream",
          "text": [
            "No handles with labels found to put in legend.\n"
          ],
          "name": "stderr"
        },
        {
          "output_type": "display_data",
          "data": {
            "image/png": "[encoded data removed]",
            "text/plain": [
              "<Figure size 720x504 with 1 Axes>"
            ]
          },
          "metadata": {
            "tags": [],
            "needs_background": "light"
          }
        }
      ]
    },
    {
      "cell_type": "code",
      "metadata": {
        "id": "6jNW_LW_DrTu"
      },
      "source": [
        "mae= tf.metrics.mean_absolute_error(y_true=y_test,\n",
        "                                    y_pred=y_pred.squeeze())\n",
        "mse= tf.metrics.mean_squared_error(y_true=y_test,\n",
        "                                   y_pred=y_pred.squeeze())"
      ],
      "execution_count": null,
      "outputs": []
    },
    {
      "cell_type": "code",
      "metadata": {
        "id": "2a4qNBzxF8d7"
      },
      "source": [
        "\n",
        "def mae(y_test, y_pred):\n",
        "  \"\"\"\n",
        "  Calculuates mean absolute error between y_test and y_preds.\n",
        "  \"\"\"\n",
        "  return tf.metrics.mean_absolute_error(y_test,\n",
        "                                        y_pred)\n",
        "  \n",
        "def mse(y_test, y_pred):\n",
        "  \"\"\"\n",
        "  Calculates mean squared error between y_test and y_preds.\n",
        "  \"\"\"\n",
        "  return tf.metrics.mean_squared_error(y_test,\n",
        "                                       y_pred)"
      ],
      "execution_count": null,
      "outputs": []
    },
    {
      "cell_type": "code",
      "metadata": {
        "colab": {
          "base_uri": "https://localhost:8080/"
        },
        "id": "yn-bfgjqFPFP",
        "outputId": "2d4245a3-1c0f-4ebc-b1f2-9b0f9dbbc08c"
      },
      "source": [
        "mae_1 = mae(y_test,y_preds_1.squeeze())\n",
        "mse_1 = mse(y_test,y_preds_1.squeeze())\n",
        "mae_1,mse_1"
      ],
      "execution_count": null,
      "outputs": [
        {
          "output_type": "execute_result",
          "data": {
            "text/plain": [
              "(<tf.Tensor: shape=(), dtype=float32, numpy=18.745327>,\n",
              " <tf.Tensor: shape=(), dtype=float32, numpy=353.57336>)"
            ]
          },
          "metadata": {
            "tags": []
          },
          "execution_count": 166
        }
      ]
    },
    {
      "cell_type": "code",
      "metadata": {
        "id": "BaP6wEvrFjQ_"
      },
      "source": [
        "# 2 dense layer with 100 epochs\n",
        "tf.random.set_seed()\n",
        "\n",
        "model_2= tf.keras.Sequential([\n",
        "                              tf.keras.layers.Dense(100,)\n",
        "                              tf.keras.layers.Dense()\n",
        "])"
      ],
      "execution_count": null,
      "outputs": []
    },
    {
      "cell_type": "code",
      "metadata": {
        "colab": {
          "base_uri": "https://localhost:8080/"
        },
        "id": "8e9DRj46H7zh",
        "outputId": "93e020eb-8f8c-4e07-9f60-9a72e4229954"
      },
      "source": [
        "print(tf.random.uniform([1]))\n",
        "print(tf.random.uniform([1]))\n"
      ],
      "execution_count": null,
      "outputs": [
        {
          "output_type": "stream",
          "text": [
            "tf.Tensor([0.6765541], shape=(1,), dtype=float32)\n",
            "tf.Tensor([0.2962978], shape=(1,), dtype=float32)\n"
          ],
          "name": "stdout"
        }
      ]
    },
    {
      "cell_type": "code",
      "metadata": {
        "colab": {
          "base_uri": "https://localhost:8080/"
        },
        "id": "37HHa8FUH_Pl",
        "outputId": "677baf6a-194d-4c6c-fd23-066b3b1b489b"
      },
      "source": [
        "tf.random.set_seed(1234)\n",
        "print(tf.random.uniform([1]))\n",
        "print(tf.random.uniform([1]))"
      ],
      "execution_count": null,
      "outputs": [
        {
          "output_type": "stream",
          "text": [
            "tf.Tensor([0.5380393], shape=(1,), dtype=float32)\n",
            "tf.Tensor([0.3253647], shape=(1,), dtype=float32)\n"
          ],
          "name": "stdout"
        }
      ]
    },
    {
      "cell_type": "code",
      "metadata": {
        "colab": {
          "base_uri": "https://localhost:8080/"
        },
        "id": "fH1EXi8sIpX1",
        "outputId": "c2284ff8-daff-4dcc-b132-5260297dd572"
      },
      "source": [
        "tf.random.set_seed(42)\n",
        "\n",
        "model_2 = tf.keras.Sequential([\n",
        "                               tf.keras.layers.Dense(10),\n",
        "                               tf.keras.layers.Dense(1)\n",
        "])\n",
        "\n",
        "model_2.compile(loss=tf.keras.losses.mae,\n",
        "                optimizer=tf.keras.optimizers.SGD(),\n",
        "                metrics = [\"mse\"])\n",
        "\n",
        "model_2.fit(x_train,y_train,epochs=100)"
      ],
      "execution_count": null,
      "outputs": [
        {
          "output_type": "stream",
          "text": [
            "Epoch 1/100\n",
            "2/2 [==============================] - 0s 8ms/step - loss: 27.4058 - mse: 1084.1482\n",
            "Epoch 2/100\n",
            "2/2 [==============================] - 0s 4ms/step - loss: 24.6339 - mse: 777.9203\n",
            "Epoch 3/100\n",
            "2/2 [==============================] - 0s 3ms/step - loss: 29.8935 - mse: 1334.8956\n",
            "Epoch 4/100\n",
            "2/2 [==============================] - 0s 4ms/step - loss: 27.4055 - mse: 1106.8035\n",
            "Epoch 5/100\n",
            "2/2 [==============================] - 0s 8ms/step - loss: 14.9463 - mse: 281.1077\n",
            "Epoch 6/100\n",
            "2/2 [==============================] - 0s 11ms/step - loss: 11.8819 - mse: 168.6621\n",
            "Epoch 7/100\n",
            "2/2 [==============================] - 0s 4ms/step - loss: 11.1988 - mse: 151.3509\n",
            "Epoch 8/100\n",
            "2/2 [==============================] - 0s 3ms/step - loss: 11.0910 - mse: 160.3745\n",
            "Epoch 9/100\n",
            "2/2 [==============================] - 0s 22ms/step - loss: 40.4763 - mse: 2586.0090\n",
            "Epoch 10/100\n",
            "2/2 [==============================] - 0s 7ms/step - loss: 27.8688 - mse: 1094.4382\n",
            "Epoch 11/100\n",
            "2/2 [==============================] - 0s 7ms/step - loss: 10.2473 - mse: 147.9359\n",
            "Epoch 12/100\n",
            "2/2 [==============================] - 0s 8ms/step - loss: 25.2803 - mse: 890.3866\n",
            "Epoch 13/100\n",
            "2/2 [==============================] - 0s 8ms/step - loss: 16.9897 - mse: 399.9678\n",
            "Epoch 14/100\n",
            "2/2 [==============================] - 0s 7ms/step - loss: 25.9217 - mse: 1049.5515\n",
            "Epoch 15/100\n",
            "2/2 [==============================] - 0s 6ms/step - loss: 17.9948 - mse: 450.2580\n",
            "Epoch 16/100\n",
            "2/2 [==============================] - 0s 4ms/step - loss: 7.3510 - mse: 80.6206\n",
            "Epoch 17/100\n",
            "2/2 [==============================] - 0s 4ms/step - loss: 10.8636 - mse: 174.7868\n",
            "Epoch 18/100\n",
            "2/2 [==============================] - 0s 3ms/step - loss: 19.5304 - mse: 565.8053\n",
            "Epoch 19/100\n",
            "2/2 [==============================] - 0s 3ms/step - loss: 10.3469 - mse: 167.7749\n",
            "Epoch 20/100\n",
            "2/2 [==============================] - 0s 3ms/step - loss: 17.6985 - mse: 455.7096\n",
            "Epoch 21/100\n",
            "2/2 [==============================] - 0s 8ms/step - loss: 15.8984 - mse: 347.1929\n",
            "Epoch 22/100\n",
            "2/2 [==============================] - 0s 5ms/step - loss: 14.1991 - mse: 285.1767\n",
            "Epoch 23/100\n",
            "2/2 [==============================] - 0s 5ms/step - loss: 8.7720 - mse: 91.7852\n",
            "Epoch 24/100\n",
            "2/2 [==============================] - 0s 4ms/step - loss: 11.0570 - mse: 153.7430\n",
            "Epoch 25/100\n",
            "2/2 [==============================] - 0s 4ms/step - loss: 12.6838 - mse: 233.2949\n",
            "Epoch 26/100\n",
            "2/2 [==============================] - 0s 3ms/step - loss: 26.1877 - mse: 1024.6091\n",
            "Epoch 27/100\n",
            "2/2 [==============================] - 0s 4ms/step - loss: 11.7432 - mse: 194.8454\n",
            "Epoch 28/100\n",
            "2/2 [==============================] - 0s 9ms/step - loss: 22.8730 - mse: 835.6074\n",
            "Epoch 29/100\n",
            "2/2 [==============================] - 0s 7ms/step - loss: 9.2459 - mse: 96.7786\n",
            "Epoch 30/100\n",
            "2/2 [==============================] - 0s 4ms/step - loss: 29.2641 - mse: 1535.1349\n",
            "Epoch 31/100\n",
            "2/2 [==============================] - 0s 7ms/step - loss: 53.0225 - mse: 5030.2988\n",
            "Epoch 32/100\n",
            "2/2 [==============================] - 0s 7ms/step - loss: 11.9951 - mse: 211.7025\n",
            "Epoch 33/100\n",
            "2/2 [==============================] - 0s 7ms/step - loss: 15.6357 - mse: 337.3666\n",
            "Epoch 34/100\n",
            "2/2 [==============================] - 0s 5ms/step - loss: 12.6925 - mse: 214.4824\n",
            "Epoch 35/100\n",
            "2/2 [==============================] - 0s 7ms/step - loss: 9.2398 - mse: 92.9126\n",
            "Epoch 36/100\n",
            "2/2 [==============================] - 0s 7ms/step - loss: 16.6497 - mse: 403.6573\n",
            "Epoch 37/100\n",
            "2/2 [==============================] - 0s 3ms/step - loss: 11.0382 - mse: 192.3919\n",
            "Epoch 38/100\n",
            "2/2 [==============================] - 0s 4ms/step - loss: 18.1634 - mse: 433.6717\n",
            "Epoch 39/100\n",
            "2/2 [==============================] - 0s 3ms/step - loss: 19.1013 - mse: 529.6439\n",
            "Epoch 40/100\n",
            "2/2 [==============================] - 0s 3ms/step - loss: 20.4324 - mse: 610.1324\n",
            "Epoch 41/100\n",
            "2/2 [==============================] - 0s 7ms/step - loss: 14.9102 - mse: 279.6183\n",
            "Epoch 42/100\n",
            "2/2 [==============================] - 0s 5ms/step - loss: 12.2809 - mse: 186.6180\n",
            "Epoch 43/100\n",
            "2/2 [==============================] - 0s 5ms/step - loss: 10.7333 - mse: 167.0952\n",
            "Epoch 44/100\n",
            "2/2 [==============================] - 0s 5ms/step - loss: 23.0260 - mse: 830.4244\n",
            "Epoch 45/100\n",
            "2/2 [==============================] - 0s 4ms/step - loss: 10.3897 - mse: 128.9549\n",
            "Epoch 46/100\n",
            "2/2 [==============================] - 0s 7ms/step - loss: 11.7904 - mse: 181.9212\n",
            "Epoch 47/100\n",
            "2/2 [==============================] - 0s 5ms/step - loss: 9.6438 - mse: 153.8708\n",
            "Epoch 48/100\n",
            "2/2 [==============================] - 0s 8ms/step - loss: 17.2335 - mse: 402.8494\n",
            "Epoch 49/100\n",
            "2/2 [==============================] - 0s 4ms/step - loss: 9.5729 - mse: 99.8337\n",
            "Epoch 50/100\n",
            "2/2 [==============================] - 0s 4ms/step - loss: 13.8185 - mse: 260.3670\n",
            "Epoch 51/100\n",
            "2/2 [==============================] - 0s 5ms/step - loss: 11.5958 - mse: 154.7956\n",
            "Epoch 52/100\n",
            "2/2 [==============================] - 0s 7ms/step - loss: 30.5538 - mse: 1613.0886\n",
            "Epoch 53/100\n",
            "2/2 [==============================] - 0s 7ms/step - loss: 14.3541 - mse: 302.5293\n",
            "Epoch 54/100\n",
            "2/2 [==============================] - 0s 4ms/step - loss: 23.9713 - mse: 859.3983\n",
            "Epoch 55/100\n",
            "2/2 [==============================] - 0s 7ms/step - loss: 23.1938 - mse: 805.5452\n",
            "Epoch 56/100\n",
            "2/2 [==============================] - 0s 4ms/step - loss: 10.8837 - mse: 170.9834\n",
            "Epoch 57/100\n",
            "2/2 [==============================] - 0s 4ms/step - loss: 12.7445 - mse: 198.7015\n",
            "Epoch 58/100\n",
            "2/2 [==============================] - 0s 11ms/step - loss: 9.5995 - mse: 102.5890\n",
            "Epoch 59/100\n",
            "2/2 [==============================] - 0s 6ms/step - loss: 12.5172 - mse: 216.3367\n",
            "Epoch 60/100\n",
            "2/2 [==============================] - 0s 6ms/step - loss: 12.3200 - mse: 208.6371\n",
            "Epoch 61/100\n",
            "2/2 [==============================] - 0s 6ms/step - loss: 17.4604 - mse: 428.6393\n",
            "Epoch 62/100\n",
            "2/2 [==============================] - 0s 6ms/step - loss: 10.6052 - mse: 136.9777\n",
            "Epoch 63/100\n",
            "2/2 [==============================] - 0s 11ms/step - loss: 10.4893 - mse: 152.4555\n",
            "Epoch 64/100\n",
            "2/2 [==============================] - 0s 4ms/step - loss: 24.8450 - mse: 911.7512\n",
            "Epoch 65/100\n",
            "2/2 [==============================] - 0s 9ms/step - loss: 10.6761 - mse: 142.7374\n",
            "Epoch 66/100\n",
            "2/2 [==============================] - 0s 13ms/step - loss: 21.7809 - mse: 704.4492\n",
            "Epoch 67/100\n",
            "2/2 [==============================] - 0s 4ms/step - loss: 10.7136 - mse: 136.0194\n",
            "Epoch 68/100\n",
            "2/2 [==============================] - 0s 4ms/step - loss: 10.6397 - mse: 149.2300\n",
            "Epoch 69/100\n",
            "2/2 [==============================] - 0s 4ms/step - loss: 22.6914 - mse: 742.1761\n",
            "Epoch 70/100\n",
            "2/2 [==============================] - 0s 5ms/step - loss: 9.3316 - mse: 166.1628\n",
            "Epoch 71/100\n",
            "2/2 [==============================] - 0s 6ms/step - loss: 15.4355 - mse: 323.0843\n",
            "Epoch 72/100\n",
            "2/2 [==============================] - 0s 6ms/step - loss: 6.7437 - mse: 67.0210\n",
            "Epoch 73/100\n",
            "2/2 [==============================] - 0s 4ms/step - loss: 11.6891 - mse: 183.7296\n",
            "Epoch 74/100\n",
            "2/2 [==============================] - 0s 4ms/step - loss: 24.0400 - mse: 908.8992\n",
            "Epoch 75/100\n",
            "2/2 [==============================] - 0s 7ms/step - loss: 9.5896 - mse: 149.3948\n",
            "Epoch 76/100\n",
            "2/2 [==============================] - 0s 5ms/step - loss: 12.4371 - mse: 188.3310\n",
            "Epoch 77/100\n",
            "2/2 [==============================] - 0s 4ms/step - loss: 16.6489 - mse: 429.2708\n",
            "Epoch 78/100\n",
            "2/2 [==============================] - 0s 7ms/step - loss: 9.0614 - mse: 95.4870\n",
            "Epoch 79/100\n",
            "2/2 [==============================] - 0s 3ms/step - loss: 23.9675 - mse: 864.0864\n",
            "Epoch 80/100\n",
            "2/2 [==============================] - 0s 4ms/step - loss: 26.7463 - mse: 1104.4032\n",
            "Epoch 81/100\n",
            "2/2 [==============================] - 0s 6ms/step - loss: 11.6714 - mse: 170.7055\n",
            "Epoch 82/100\n",
            "2/2 [==============================] - 0s 7ms/step - loss: 12.0228 - mse: 211.9191\n",
            "Epoch 83/100\n",
            "2/2 [==============================] - 0s 4ms/step - loss: 17.4218 - mse: 395.5589\n",
            "Epoch 84/100\n",
            "2/2 [==============================] - 0s 3ms/step - loss: 7.2629 - mse: 73.0935\n",
            "Epoch 85/100\n",
            "2/2 [==============================] - 0s 8ms/step - loss: 14.9650 - mse: 312.8361\n",
            "Epoch 86/100\n",
            "2/2 [==============================] - 0s 7ms/step - loss: 15.2862 - mse: 315.3605\n",
            "Epoch 87/100\n",
            "2/2 [==============================] - 0s 7ms/step - loss: 19.1086 - mse: 521.2534\n",
            "Epoch 88/100\n",
            "2/2 [==============================] - 0s 6ms/step - loss: 29.8229 - mse: 1287.1907\n",
            "Epoch 89/100\n",
            "2/2 [==============================] - 0s 7ms/step - loss: 10.1742 - mse: 124.1342\n",
            "Epoch 90/100\n",
            "2/2 [==============================] - 0s 6ms/step - loss: 21.5240 - mse: 663.8611\n",
            "Epoch 91/100\n",
            "2/2 [==============================] - 0s 5ms/step - loss: 10.5716 - mse: 161.7467\n",
            "Epoch 92/100\n",
            "2/2 [==============================] - 0s 6ms/step - loss: 18.3977 - mse: 464.1326\n",
            "Epoch 93/100\n",
            "2/2 [==============================] - 0s 6ms/step - loss: 7.4138 - mse: 81.9820\n",
            "Epoch 94/100\n",
            "2/2 [==============================] - 0s 3ms/step - loss: 17.7380 - mse: 445.7379\n",
            "Epoch 95/100\n",
            "2/2 [==============================] - 0s 11ms/step - loss: 11.1144 - mse: 164.0820\n",
            "Epoch 96/100\n",
            "2/2 [==============================] - 0s 7ms/step - loss: 19.4346 - mse: 510.5842\n",
            "Epoch 97/100\n",
            "2/2 [==============================] - 0s 7ms/step - loss: 12.1593 - mse: 209.9755\n",
            "Epoch 98/100\n",
            "2/2 [==============================] - 0s 4ms/step - loss: 11.5653 - mse: 169.4052\n",
            "Epoch 99/100\n",
            "2/2 [==============================] - 0s 5ms/step - loss: 13.8827 - mse: 265.4630\n",
            "Epoch 100/100\n",
            "2/2 [==============================] - 0s 3ms/step - loss: 20.2277 - mse: 608.8218\n"
          ],
          "name": "stdout"
        },
        {
          "output_type": "execute_result",
          "data": {
            "text/plain": [
              "<tensorflow.python.keras.callbacks.History at 0x7f45135f7d90>"
            ]
          },
          "metadata": {
            "tags": []
          },
          "execution_count": 193
        }
      ]
    },
    {
      "cell_type": "code",
      "metadata": {
        "colab": {
          "base_uri": "https://localhost:8080/",
          "height": 446
        },
        "id": "M2tA2A_ERoMl",
        "outputId": "2454c7a7-dd4b-4c3b-9e5f-6b6a856bf47c"
      },
      "source": [
        "y_preds_2 = model_2.predict(x_test)\n",
        "plot_ptedictions(predictions=y_preds_2)"
      ],
      "execution_count": null,
      "outputs": [
        {
          "output_type": "stream",
          "text": [
            "No handles with labels found to put in legend.\n"
          ],
          "name": "stderr"
        },
        {
          "output_type": "display_data",
          "data": {
            "image/png": "[encoded data removed]",
            "text/plain": [
              "<Figure size 720x504 with 1 Axes>"
            ]
          },
          "metadata": {
            "tags": [],
            "needs_background": "light"
          }
        }
      ]
    },
    {
      "cell_type": "code",
      "metadata": {
        "colab": {
          "base_uri": "https://localhost:8080/"
        },
        "id": "N6aA6W97SOiE",
        "outputId": "f58b0a45-a589-454f-b080-fe994963af7b"
      },
      "source": [
        "#calculate model to evalution matrics\n",
        "mae_2  =mae(y_test,y_preds_2.squeeze())\n",
        "mse_2 = mse(y_test,y_preds_2.squeeze())\n",
        "mae_2,mse_2"
      ],
      "execution_count": null,
      "outputs": [
        {
          "output_type": "execute_result",
          "data": {
            "text/plain": [
              "(<tf.Tensor: shape=(), dtype=float32, numpy=3.1969407>,\n",
              " <tf.Tensor: shape=(), dtype=float32, numpy=13.070143>)"
            ]
          },
          "metadata": {
            "tags": []
          },
          "execution_count": 197
        }
      ]
    },
    {
      "cell_type": "code",
      "metadata": {
        "colab": {
          "base_uri": "https://localhost:8080/"
        },
        "id": "Lom4K2P9SvQx",
        "outputId": "bced5769-4583-4f1f-e6b3-84638c981a0a"
      },
      "source": [
        "#model 3 ,, 2 layers with 500 epochs\n",
        "tf.random.set_seed(42)\n",
        "\n",
        "model_3= tf.keras.Sequential([\n",
        "                              tf.keras.layers.Dense(10),\n",
        "                              tf.keras.layers.Dense(1)\n",
        "])\n",
        "\n",
        "model_3.compile(loss=tf.keras.losses.mae,\n",
        "                optimizer= tf.keras.optimizers.Adam(),\n",
        "                metrics=['mae'])\n",
        "\n",
        "model_3.fit(x_train,y_train,epochs=500)"
      ],
      "execution_count": null,
      "outputs": [
        {
          "output_type": "stream",
          "text": [
            "Epoch 1/500\n",
            "2/2 [==============================] - 0s 7ms/step - loss: 25.2218 - mae: 25.2218\n",
            "Epoch 2/500\n",
            "2/2 [==============================] - 0s 3ms/step - loss: 24.6513 - mae: 24.6513\n",
            "Epoch 3/500\n",
            "2/2 [==============================] - 0s 4ms/step - loss: 24.0944 - mae: 24.0944\n",
            "Epoch 4/500\n",
            "2/2 [==============================] - 0s 3ms/step - loss: 23.5272 - mae: 23.5272\n",
            "Epoch 5/500\n",
            "2/2 [==============================] - 0s 4ms/step - loss: 22.9717 - mae: 22.9717\n",
            "Epoch 6/500\n",
            "2/2 [==============================] - 0s 4ms/step - loss: 22.4128 - mae: 22.4128\n",
            "Epoch 7/500\n",
            "2/2 [==============================] - 0s 4ms/step - loss: 21.8393 - mae: 21.8393\n",
            "Epoch 8/500\n",
            "2/2 [==============================] - 0s 7ms/step - loss: 21.2489 - mae: 21.2489\n",
            "Epoch 9/500\n",
            "2/2 [==============================] - 0s 2ms/step - loss: 20.6952 - mae: 20.6952\n",
            "Epoch 10/500\n",
            "2/2 [==============================] - 0s 5ms/step - loss: 20.1396 - mae: 20.1396\n",
            "Epoch 11/500\n",
            "2/2 [==============================] - 0s 6ms/step - loss: 19.5480 - mae: 19.5480\n",
            "Epoch 12/500\n",
            "2/2 [==============================] - 0s 6ms/step - loss: 18.9956 - mae: 18.9956\n",
            "Epoch 13/500\n",
            "2/2 [==============================] - 0s 7ms/step - loss: 18.4113 - mae: 18.4113\n",
            "Epoch 14/500\n",
            "2/2 [==============================] - 0s 4ms/step - loss: 17.8608 - mae: 17.8608\n",
            "Epoch 15/500\n",
            "2/2 [==============================] - 0s 4ms/step - loss: 17.2988 - mae: 17.2988\n",
            "Epoch 16/500\n",
            "2/2 [==============================] - 0s 4ms/step - loss: 16.7161 - mae: 16.7161\n",
            "Epoch 17/500\n",
            "2/2 [==============================] - 0s 4ms/step - loss: 16.1581 - mae: 16.1581\n",
            "Epoch 18/500\n",
            "2/2 [==============================] - 0s 4ms/step - loss: 15.6116 - mae: 15.6116\n",
            "Epoch 19/500\n",
            "2/2 [==============================] - 0s 4ms/step - loss: 15.0772 - mae: 15.0772\n",
            "Epoch 20/500\n",
            "2/2 [==============================] - 0s 6ms/step - loss: 14.5065 - mae: 14.5065\n",
            "Epoch 21/500\n",
            "2/2 [==============================] - 0s 13ms/step - loss: 13.9762 - mae: 13.9762\n",
            "Epoch 22/500\n",
            "2/2 [==============================] - 0s 5ms/step - loss: 13.4815 - mae: 13.4815\n",
            "Epoch 23/500\n",
            "2/2 [==============================] - 0s 8ms/step - loss: 12.9513 - mae: 12.9513\n",
            "Epoch 24/500\n",
            "2/2 [==============================] - 0s 4ms/step - loss: 12.4353 - mae: 12.4353\n",
            "Epoch 25/500\n",
            "2/2 [==============================] - 0s 3ms/step - loss: 11.9474 - mae: 11.9474\n",
            "Epoch 26/500\n",
            "2/2 [==============================] - 0s 9ms/step - loss: 11.4582 - mae: 11.4582\n",
            "Epoch 27/500\n",
            "2/2 [==============================] - 0s 5ms/step - loss: 10.9798 - mae: 10.9798\n",
            "Epoch 28/500\n",
            "2/2 [==============================] - 0s 4ms/step - loss: 10.5395 - mae: 10.5395\n",
            "Epoch 29/500\n",
            "2/2 [==============================] - 0s 3ms/step - loss: 10.0419 - mae: 10.0419\n",
            "Epoch 30/500\n",
            "2/2 [==============================] - 0s 4ms/step - loss: 9.5945 - mae: 9.5945\n",
            "Epoch 31/500\n",
            "2/2 [==============================] - 0s 3ms/step - loss: 9.2532 - mae: 9.2532\n",
            "Epoch 32/500\n",
            "2/2 [==============================] - 0s 3ms/step - loss: 8.8525 - mae: 8.8525\n",
            "Epoch 33/500\n",
            "2/2 [==============================] - 0s 5ms/step - loss: 8.5017 - mae: 8.5017\n",
            "Epoch 34/500\n",
            "2/2 [==============================] - 0s 5ms/step - loss: 8.2436 - mae: 8.2436\n",
            "Epoch 35/500\n",
            "2/2 [==============================] - 0s 3ms/step - loss: 8.0158 - mae: 8.0158\n",
            "Epoch 36/500\n",
            "2/2 [==============================] - 0s 3ms/step - loss: 7.8178 - mae: 7.8178\n",
            "Epoch 37/500\n",
            "2/2 [==============================] - 0s 3ms/step - loss: 7.7179 - mae: 7.7179\n",
            "Epoch 38/500\n",
            "2/2 [==============================] - 0s 3ms/step - loss: 7.6218 - mae: 7.6218\n",
            "Epoch 39/500\n",
            "2/2 [==============================] - 0s 3ms/step - loss: 7.6000 - mae: 7.6000\n",
            "Epoch 40/500\n",
            "2/2 [==============================] - 0s 3ms/step - loss: 7.5861 - mae: 7.5861\n",
            "Epoch 41/500\n",
            "2/2 [==============================] - 0s 4ms/step - loss: 7.5887 - mae: 7.5887\n",
            "Epoch 42/500\n",
            "2/2 [==============================] - 0s 7ms/step - loss: 7.6054 - mae: 7.6054\n",
            "Epoch 43/500\n",
            "2/2 [==============================] - 0s 3ms/step - loss: 7.6066 - mae: 7.6066\n",
            "Epoch 44/500\n",
            "2/2 [==============================] - 0s 3ms/step - loss: 7.5928 - mae: 7.5928\n",
            "Epoch 45/500\n",
            "2/2 [==============================] - 0s 6ms/step - loss: 7.5659 - mae: 7.5659\n",
            "Epoch 46/500\n",
            "2/2 [==============================] - 0s 4ms/step - loss: 7.5358 - mae: 7.5358\n",
            "Epoch 47/500\n",
            "2/2 [==============================] - 0s 3ms/step - loss: 7.5055 - mae: 7.5055\n",
            "Epoch 48/500\n",
            "2/2 [==============================] - 0s 4ms/step - loss: 7.4868 - mae: 7.4868\n",
            "Epoch 49/500\n",
            "2/2 [==============================] - 0s 3ms/step - loss: 7.4682 - mae: 7.4682\n",
            "Epoch 50/500\n",
            "2/2 [==============================] - 0s 3ms/step - loss: 7.4653 - mae: 7.4653\n",
            "Epoch 51/500\n",
            "2/2 [==============================] - 0s 3ms/step - loss: 7.4759 - mae: 7.4759\n",
            "Epoch 52/500\n",
            "2/2 [==============================] - 0s 3ms/step - loss: 7.4641 - mae: 7.4641\n",
            "Epoch 53/500\n",
            "2/2 [==============================] - 0s 3ms/step - loss: 7.4570 - mae: 7.4570\n",
            "Epoch 54/500\n",
            "2/2 [==============================] - 0s 4ms/step - loss: 7.4518 - mae: 7.4518\n",
            "Epoch 55/500\n",
            "2/2 [==============================] - 0s 3ms/step - loss: 7.4463 - mae: 7.4463\n",
            "Epoch 56/500\n",
            "2/2 [==============================] - 0s 4ms/step - loss: 7.4341 - mae: 7.4341\n",
            "Epoch 57/500\n",
            "2/2 [==============================] - 0s 3ms/step - loss: 7.4164 - mae: 7.4164\n",
            "Epoch 58/500\n",
            "2/2 [==============================] - 0s 3ms/step - loss: 7.3965 - mae: 7.3965\n",
            "Epoch 59/500\n",
            "2/2 [==============================] - 0s 5ms/step - loss: 7.3800 - mae: 7.3800\n",
            "Epoch 60/500\n",
            "2/2 [==============================] - 0s 3ms/step - loss: 7.3653 - mae: 7.3653\n",
            "Epoch 61/500\n",
            "2/2 [==============================] - 0s 4ms/step - loss: 7.3568 - mae: 7.3568\n",
            "Epoch 62/500\n",
            "2/2 [==============================] - 0s 3ms/step - loss: 7.3424 - mae: 7.3424\n",
            "Epoch 63/500\n",
            "2/2 [==============================] - 0s 3ms/step - loss: 7.3369 - mae: 7.3369\n",
            "Epoch 64/500\n",
            "2/2 [==============================] - 0s 3ms/step - loss: 7.3270 - mae: 7.3270\n",
            "Epoch 65/500\n",
            "2/2 [==============================] - 0s 4ms/step - loss: 7.3148 - mae: 7.3148\n",
            "Epoch 66/500\n",
            "2/2 [==============================] - 0s 8ms/step - loss: 7.3049 - mae: 7.3049\n",
            "Epoch 67/500\n",
            "2/2 [==============================] - 0s 3ms/step - loss: 7.2952 - mae: 7.2952\n",
            "Epoch 68/500\n",
            "2/2 [==============================] - 0s 3ms/step - loss: 7.2877 - mae: 7.2877\n",
            "Epoch 69/500\n",
            "2/2 [==============================] - 0s 4ms/step - loss: 7.2787 - mae: 7.2787\n",
            "Epoch 70/500\n",
            "2/2 [==============================] - 0s 6ms/step - loss: 7.2706 - mae: 7.2706\n",
            "Epoch 71/500\n",
            "2/2 [==============================] - 0s 3ms/step - loss: 7.2579 - mae: 7.2579\n",
            "Epoch 72/500\n",
            "2/2 [==============================] - 0s 5ms/step - loss: 7.2514 - mae: 7.2514\n",
            "Epoch 73/500\n",
            "2/2 [==============================] - 0s 4ms/step - loss: 7.2445 - mae: 7.2445\n",
            "Epoch 74/500\n",
            "2/2 [==============================] - 0s 4ms/step - loss: 7.2404 - mae: 7.2404\n",
            "Epoch 75/500\n",
            "2/2 [==============================] - 0s 3ms/step - loss: 7.2342 - mae: 7.2342\n",
            "Epoch 76/500\n",
            "2/2 [==============================] - 0s 3ms/step - loss: 7.2244 - mae: 7.2244\n",
            "Epoch 77/500\n",
            "2/2 [==============================] - 0s 3ms/step - loss: 7.2119 - mae: 7.2119\n",
            "Epoch 78/500\n",
            "2/2 [==============================] - 0s 3ms/step - loss: 7.1960 - mae: 7.1960\n",
            "Epoch 79/500\n",
            "2/2 [==============================] - 0s 3ms/step - loss: 7.1910 - mae: 7.1910\n",
            "Epoch 80/500\n",
            "2/2 [==============================] - 0s 3ms/step - loss: 7.1746 - mae: 7.1746\n",
            "Epoch 81/500\n",
            "2/2 [==============================] - 0s 3ms/step - loss: 7.1676 - mae: 7.1676\n",
            "Epoch 82/500\n",
            "2/2 [==============================] - 0s 3ms/step - loss: 7.1591 - mae: 7.1591\n",
            "Epoch 83/500\n",
            "2/2 [==============================] - 0s 3ms/step - loss: 7.1504 - mae: 7.1504\n",
            "Epoch 84/500\n",
            "2/2 [==============================] - 0s 4ms/step - loss: 7.1505 - mae: 7.1505\n",
            "Epoch 85/500\n",
            "2/2 [==============================] - 0s 3ms/step - loss: 7.1418 - mae: 7.1418\n",
            "Epoch 86/500\n",
            "2/2 [==============================] - 0s 3ms/step - loss: 7.1310 - mae: 7.1310\n",
            "Epoch 87/500\n",
            "2/2 [==============================] - 0s 4ms/step - loss: 7.1138 - mae: 7.1138\n",
            "Epoch 88/500\n",
            "2/2 [==============================] - 0s 3ms/step - loss: 7.1054 - mae: 7.1054\n",
            "Epoch 89/500\n",
            "2/2 [==============================] - 0s 3ms/step - loss: 7.0908 - mae: 7.0908\n",
            "Epoch 90/500\n",
            "2/2 [==============================] - 0s 3ms/step - loss: 7.0984 - mae: 7.0984\n",
            "Epoch 91/500\n",
            "2/2 [==============================] - 0s 3ms/step - loss: 7.0906 - mae: 7.0906\n",
            "Epoch 92/500\n",
            "2/2 [==============================] - 0s 3ms/step - loss: 7.0908 - mae: 7.0908\n",
            "Epoch 93/500\n",
            "2/2 [==============================] - 0s 11ms/step - loss: 7.0819 - mae: 7.0819\n",
            "Epoch 94/500\n",
            "2/2 [==============================] - 0s 6ms/step - loss: 7.0616 - mae: 7.0616\n",
            "Epoch 95/500\n",
            "2/2 [==============================] - 0s 10ms/step - loss: 7.0438 - mae: 7.0438\n",
            "Epoch 96/500\n",
            "2/2 [==============================] - 0s 4ms/step - loss: 7.0465 - mae: 7.0465\n",
            "Epoch 97/500\n",
            "2/2 [==============================] - 0s 3ms/step - loss: 7.0295 - mae: 7.0295\n",
            "Epoch 98/500\n",
            "2/2 [==============================] - 0s 6ms/step - loss: 7.0211 - mae: 7.0211\n",
            "Epoch 99/500\n",
            "2/2 [==============================] - 0s 8ms/step - loss: 7.0124 - mae: 7.0124\n",
            "Epoch 100/500\n",
            "2/2 [==============================] - 0s 3ms/step - loss: 7.0049 - mae: 7.0049\n",
            "Epoch 101/500\n",
            "2/2 [==============================] - 0s 4ms/step - loss: 6.9939 - mae: 6.9939\n",
            "Epoch 102/500\n",
            "2/2 [==============================] - 0s 4ms/step - loss: 6.9855 - mae: 6.9855\n",
            "Epoch 103/500\n",
            "2/2 [==============================] - 0s 6ms/step - loss: 6.9751 - mae: 6.9751\n",
            "Epoch 104/500\n",
            "2/2 [==============================] - 0s 9ms/step - loss: 6.9637 - mae: 6.9637\n",
            "Epoch 105/500\n",
            "2/2 [==============================] - 0s 3ms/step - loss: 6.9583 - mae: 6.9583\n",
            "Epoch 106/500\n",
            "2/2 [==============================] - 0s 3ms/step - loss: 6.9538 - mae: 6.9538\n",
            "Epoch 107/500\n",
            "2/2 [==============================] - 0s 4ms/step - loss: 6.9503 - mae: 6.9503\n",
            "Epoch 108/500\n",
            "2/2 [==============================] - 0s 3ms/step - loss: 6.9443 - mae: 6.9443\n",
            "Epoch 109/500\n",
            "2/2 [==============================] - 0s 9ms/step - loss: 6.9349 - mae: 6.9349\n",
            "Epoch 110/500\n",
            "2/2 [==============================] - 0s 10ms/step - loss: 6.9258 - mae: 6.9258\n",
            "Epoch 111/500\n",
            "2/2 [==============================] - 0s 7ms/step - loss: 6.9150 - mae: 6.9150\n",
            "Epoch 112/500\n",
            "2/2 [==============================] - 0s 3ms/step - loss: 6.9029 - mae: 6.9029\n",
            "Epoch 113/500\n",
            "2/2 [==============================] - 0s 6ms/step - loss: 6.8943 - mae: 6.8943\n",
            "Epoch 114/500\n",
            "2/2 [==============================] - 0s 8ms/step - loss: 6.8863 - mae: 6.8863\n",
            "Epoch 115/500\n",
            "2/2 [==============================] - 0s 5ms/step - loss: 6.8751 - mae: 6.8751\n",
            "Epoch 116/500\n",
            "2/2 [==============================] - 0s 9ms/step - loss: 6.8671 - mae: 6.8671\n",
            "Epoch 117/500\n",
            "2/2 [==============================] - 0s 8ms/step - loss: 6.8575 - mae: 6.8575\n",
            "Epoch 118/500\n",
            "2/2 [==============================] - 0s 15ms/step - loss: 6.8511 - mae: 6.8511\n",
            "Epoch 119/500\n",
            "2/2 [==============================] - 0s 6ms/step - loss: 6.8428 - mae: 6.8428\n",
            "Epoch 120/500\n",
            "2/2 [==============================] - 0s 6ms/step - loss: 6.8341 - mae: 6.8341\n",
            "Epoch 121/500\n",
            "2/2 [==============================] - 0s 5ms/step - loss: 6.8265 - mae: 6.8265\n",
            "Epoch 122/500\n",
            "2/2 [==============================] - 0s 9ms/step - loss: 6.8200 - mae: 6.8200\n",
            "Epoch 123/500\n",
            "2/2 [==============================] - 0s 10ms/step - loss: 6.8094 - mae: 6.8094\n",
            "Epoch 124/500\n",
            "2/2 [==============================] - 0s 5ms/step - loss: 6.8033 - mae: 6.8033\n",
            "Epoch 125/500\n",
            "2/2 [==============================] - 0s 5ms/step - loss: 6.7918 - mae: 6.7918\n",
            "Epoch 126/500\n",
            "2/2 [==============================] - 0s 5ms/step - loss: 6.7833 - mae: 6.7833\n",
            "Epoch 127/500\n",
            "2/2 [==============================] - 0s 5ms/step - loss: 6.7834 - mae: 6.7834\n",
            "Epoch 128/500\n",
            "2/2 [==============================] - 0s 6ms/step - loss: 6.7643 - mae: 6.7643\n",
            "Epoch 129/500\n",
            "2/2 [==============================] - 0s 6ms/step - loss: 6.7559 - mae: 6.7559\n",
            "Epoch 130/500\n",
            "2/2 [==============================] - 0s 6ms/step - loss: 6.7597 - mae: 6.7597\n",
            "Epoch 131/500\n",
            "2/2 [==============================] - 0s 5ms/step - loss: 6.7570 - mae: 6.7570\n",
            "Epoch 132/500\n",
            "2/2 [==============================] - 0s 7ms/step - loss: 6.7527 - mae: 6.7527\n",
            "Epoch 133/500\n",
            "2/2 [==============================] - 0s 7ms/step - loss: 6.7470 - mae: 6.7470\n",
            "Epoch 134/500\n",
            "2/2 [==============================] - 0s 5ms/step - loss: 6.7400 - mae: 6.7400\n",
            "Epoch 135/500\n",
            "2/2 [==============================] - 0s 5ms/step - loss: 6.7339 - mae: 6.7339\n",
            "Epoch 136/500\n",
            "2/2 [==============================] - 0s 4ms/step - loss: 6.7180 - mae: 6.7180\n",
            "Epoch 137/500\n",
            "2/2 [==============================] - 0s 7ms/step - loss: 6.6941 - mae: 6.6941\n",
            "Epoch 138/500\n",
            "2/2 [==============================] - 0s 4ms/step - loss: 6.6873 - mae: 6.6873\n",
            "Epoch 139/500\n",
            "2/2 [==============================] - 0s 3ms/step - loss: 6.6824 - mae: 6.6824\n",
            "Epoch 140/500\n",
            "2/2 [==============================] - 0s 7ms/step - loss: 6.6826 - mae: 6.6826\n",
            "Epoch 141/500\n",
            "2/2 [==============================] - 0s 17ms/step - loss: 6.6987 - mae: 6.6987\n",
            "Epoch 142/500\n",
            "2/2 [==============================] - 0s 4ms/step - loss: 6.6897 - mae: 6.6897\n",
            "Epoch 143/500\n",
            "2/2 [==============================] - 0s 9ms/step - loss: 6.6699 - mae: 6.6699\n",
            "Epoch 144/500\n",
            "2/2 [==============================] - 0s 5ms/step - loss: 6.6372 - mae: 6.6372\n",
            "Epoch 145/500\n",
            "2/2 [==============================] - 0s 6ms/step - loss: 6.6381 - mae: 6.6381\n",
            "Epoch 146/500\n",
            "2/2 [==============================] - 0s 4ms/step - loss: 6.6253 - mae: 6.6253\n",
            "Epoch 147/500\n",
            "2/2 [==============================] - 0s 5ms/step - loss: 6.6216 - mae: 6.6216\n",
            "Epoch 148/500\n",
            "2/2 [==============================] - 0s 5ms/step - loss: 6.6252 - mae: 6.6252\n",
            "Epoch 149/500\n",
            "2/2 [==============================] - 0s 13ms/step - loss: 6.6193 - mae: 6.6193\n",
            "Epoch 150/500\n",
            "2/2 [==============================] - 0s 12ms/step - loss: 6.6112 - mae: 6.6112\n",
            "Epoch 151/500\n",
            "2/2 [==============================] - 0s 8ms/step - loss: 6.6019 - mae: 6.6019\n",
            "Epoch 152/500\n",
            "2/2 [==============================] - 0s 5ms/step - loss: 6.5909 - mae: 6.5909\n",
            "Epoch 153/500\n",
            "2/2 [==============================] - 0s 5ms/step - loss: 6.5772 - mae: 6.5772\n",
            "Epoch 154/500\n",
            "2/2 [==============================] - 0s 5ms/step - loss: 6.5600 - mae: 6.5600\n",
            "Epoch 155/500\n",
            "2/2 [==============================] - 0s 3ms/step - loss: 6.5463 - mae: 6.5463\n",
            "Epoch 156/500\n",
            "2/2 [==============================] - 0s 5ms/step - loss: 6.5337 - mae: 6.5337\n",
            "Epoch 157/500\n",
            "2/2 [==============================] - 0s 3ms/step - loss: 6.5467 - mae: 6.5467\n",
            "Epoch 158/500\n",
            "2/2 [==============================] - 0s 6ms/step - loss: 6.5325 - mae: 6.5325\n",
            "Epoch 159/500\n",
            "2/2 [==============================] - 0s 5ms/step - loss: 6.5275 - mae: 6.5275\n",
            "Epoch 160/500\n",
            "2/2 [==============================] - 0s 5ms/step - loss: 6.5223 - mae: 6.5223\n",
            "Epoch 161/500\n",
            "2/2 [==============================] - 0s 5ms/step - loss: 6.5136 - mae: 6.5136\n",
            "Epoch 162/500\n",
            "2/2 [==============================] - 0s 4ms/step - loss: 6.4958 - mae: 6.4958\n",
            "Epoch 163/500\n",
            "2/2 [==============================] - 0s 4ms/step - loss: 6.4857 - mae: 6.4857\n",
            "Epoch 164/500\n",
            "2/2 [==============================] - 0s 6ms/step - loss: 6.4739 - mae: 6.4739\n",
            "Epoch 165/500\n",
            "2/2 [==============================] - 0s 7ms/step - loss: 6.4662 - mae: 6.4662\n",
            "Epoch 166/500\n",
            "2/2 [==============================] - 0s 16ms/step - loss: 6.4599 - mae: 6.4599\n",
            "Epoch 167/500\n",
            "2/2 [==============================] - 0s 3ms/step - loss: 6.4502 - mae: 6.4502\n",
            "Epoch 168/500\n",
            "2/2 [==============================] - 0s 3ms/step - loss: 6.4426 - mae: 6.4426\n",
            "Epoch 169/500\n",
            "2/2 [==============================] - 0s 3ms/step - loss: 6.4348 - mae: 6.4348\n",
            "Epoch 170/500\n",
            "2/2 [==============================] - 0s 4ms/step - loss: 6.4247 - mae: 6.4247\n",
            "Epoch 171/500\n",
            "2/2 [==============================] - 0s 3ms/step - loss: 6.4152 - mae: 6.4152\n",
            "Epoch 172/500\n",
            "2/2 [==============================] - 0s 4ms/step - loss: 6.4071 - mae: 6.4071\n",
            "Epoch 173/500\n",
            "2/2 [==============================] - 0s 3ms/step - loss: 6.3982 - mae: 6.3982\n",
            "Epoch 174/500\n",
            "2/2 [==============================] - 0s 3ms/step - loss: 6.3949 - mae: 6.3949\n",
            "Epoch 175/500\n",
            "2/2 [==============================] - 0s 3ms/step - loss: 6.3791 - mae: 6.3791\n",
            "Epoch 176/500\n",
            "2/2 [==============================] - 0s 4ms/step - loss: 6.3719 - mae: 6.3719\n",
            "Epoch 177/500\n",
            "2/2 [==============================] - 0s 8ms/step - loss: 6.3774 - mae: 6.3774\n",
            "Epoch 178/500\n",
            "2/2 [==============================] - 0s 3ms/step - loss: 6.3750 - mae: 6.3750\n",
            "Epoch 179/500\n",
            "2/2 [==============================] - 0s 4ms/step - loss: 6.3677 - mae: 6.3677\n",
            "Epoch 180/500\n",
            "2/2 [==============================] - 0s 4ms/step - loss: 6.3542 - mae: 6.3542\n",
            "Epoch 181/500\n",
            "2/2 [==============================] - 0s 3ms/step - loss: 6.3412 - mae: 6.3412\n",
            "Epoch 182/500\n",
            "2/2 [==============================] - 0s 3ms/step - loss: 6.3222 - mae: 6.3222\n",
            "Epoch 183/500\n",
            "2/2 [==============================] - 0s 25ms/step - loss: 6.3218 - mae: 6.3218\n",
            "Epoch 184/500\n",
            "2/2 [==============================] - 0s 7ms/step - loss: 6.3168 - mae: 6.3168\n",
            "Epoch 185/500\n",
            "2/2 [==============================] - 0s 15ms/step - loss: 6.3124 - mae: 6.3124\n",
            "Epoch 186/500\n",
            "2/2 [==============================] - 0s 7ms/step - loss: 6.3119 - mae: 6.3119\n",
            "Epoch 187/500\n",
            "2/2 [==============================] - 0s 4ms/step - loss: 6.3147 - mae: 6.3147\n",
            "Epoch 188/500\n",
            "2/2 [==============================] - 0s 4ms/step - loss: 6.3082 - mae: 6.3082\n",
            "Epoch 189/500\n",
            "2/2 [==============================] - 0s 8ms/step - loss: 6.2941 - mae: 6.2941\n",
            "Epoch 190/500\n",
            "2/2 [==============================] - 0s 4ms/step - loss: 6.2740 - mae: 6.2740\n",
            "Epoch 191/500\n",
            "2/2 [==============================] - 0s 4ms/step - loss: 6.2600 - mae: 6.2600\n",
            "Epoch 192/500\n",
            "2/2 [==============================] - 0s 4ms/step - loss: 6.2456 - mae: 6.2456\n",
            "Epoch 193/500\n",
            "2/2 [==============================] - 0s 3ms/step - loss: 6.2367 - mae: 6.2367\n",
            "Epoch 194/500\n",
            "2/2 [==============================] - 0s 3ms/step - loss: 6.2257 - mae: 6.2257\n",
            "Epoch 195/500\n",
            "2/2 [==============================] - 0s 3ms/step - loss: 6.2173 - mae: 6.2173\n",
            "Epoch 196/500\n",
            "2/2 [==============================] - 0s 4ms/step - loss: 6.2266 - mae: 6.2266\n",
            "Epoch 197/500\n",
            "2/2 [==============================] - 0s 3ms/step - loss: 6.2263 - mae: 6.2263\n",
            "Epoch 198/500\n",
            "2/2 [==============================] - 0s 3ms/step - loss: 6.2205 - mae: 6.2205\n",
            "Epoch 199/500\n",
            "2/2 [==============================] - 0s 3ms/step - loss: 6.2105 - mae: 6.2105\n",
            "Epoch 200/500\n",
            "2/2 [==============================] - 0s 3ms/step - loss: 6.2012 - mae: 6.2012\n",
            "Epoch 201/500\n",
            "2/2 [==============================] - 0s 7ms/step - loss: 6.1872 - mae: 6.1872\n",
            "Epoch 202/500\n",
            "2/2 [==============================] - 0s 3ms/step - loss: 6.1725 - mae: 6.1725\n",
            "Epoch 203/500\n",
            "2/2 [==============================] - 0s 3ms/step - loss: 6.1492 - mae: 6.1492\n",
            "Epoch 204/500\n",
            "2/2 [==============================] - 0s 3ms/step - loss: 6.1341 - mae: 6.1341\n",
            "Epoch 205/500\n",
            "2/2 [==============================] - 0s 3ms/step - loss: 6.1454 - mae: 6.1454\n",
            "Epoch 206/500\n",
            "2/2 [==============================] - 0s 5ms/step - loss: 6.1643 - mae: 6.1643\n",
            "Epoch 207/500\n",
            "2/2 [==============================] - 0s 3ms/step - loss: 6.1679 - mae: 6.1679\n",
            "Epoch 208/500\n",
            "2/2 [==============================] - 0s 3ms/step - loss: 6.1486 - mae: 6.1486\n",
            "Epoch 209/500\n",
            "2/2 [==============================] - 0s 6ms/step - loss: 6.1118 - mae: 6.1118\n",
            "Epoch 210/500\n",
            "2/2 [==============================] - 0s 11ms/step - loss: 6.0950 - mae: 6.0950\n",
            "Epoch 211/500\n",
            "2/2 [==============================] - 0s 3ms/step - loss: 6.0946 - mae: 6.0946\n",
            "Epoch 212/500\n",
            "2/2 [==============================] - 0s 4ms/step - loss: 6.0790 - mae: 6.0790\n",
            "Epoch 213/500\n",
            "2/2 [==============================] - 0s 3ms/step - loss: 6.0713 - mae: 6.0713\n",
            "Epoch 214/500\n",
            "2/2 [==============================] - 0s 5ms/step - loss: 6.0627 - mae: 6.0627\n",
            "Epoch 215/500\n",
            "2/2 [==============================] - 0s 3ms/step - loss: 6.0546 - mae: 6.0546\n",
            "Epoch 216/500\n",
            "2/2 [==============================] - 0s 4ms/step - loss: 6.0509 - mae: 6.0509\n",
            "Epoch 217/500\n",
            "2/2 [==============================] - 0s 3ms/step - loss: 6.0430 - mae: 6.0430\n",
            "Epoch 218/500\n",
            "2/2 [==============================] - 0s 3ms/step - loss: 6.0321 - mae: 6.0321\n",
            "Epoch 219/500\n",
            "2/2 [==============================] - 0s 3ms/step - loss: 6.0244 - mae: 6.0244\n",
            "Epoch 220/500\n",
            "2/2 [==============================] - 0s 3ms/step - loss: 6.0127 - mae: 6.0127\n",
            "Epoch 221/500\n",
            "2/2 [==============================] - 0s 3ms/step - loss: 6.0040 - mae: 6.0040\n",
            "Epoch 222/500\n",
            "2/2 [==============================] - 0s 4ms/step - loss: 5.9956 - mae: 5.9956\n",
            "Epoch 223/500\n",
            "2/2 [==============================] - 0s 3ms/step - loss: 5.9878 - mae: 5.9878\n",
            "Epoch 224/500\n",
            "2/2 [==============================] - 0s 3ms/step - loss: 5.9801 - mae: 5.9801\n",
            "Epoch 225/500\n",
            "2/2 [==============================] - 0s 3ms/step - loss: 5.9725 - mae: 5.9725\n",
            "Epoch 226/500\n",
            "2/2 [==============================] - 0s 3ms/step - loss: 5.9611 - mae: 5.9611\n",
            "Epoch 227/500\n",
            "2/2 [==============================] - 0s 4ms/step - loss: 5.9509 - mae: 5.9509\n",
            "Epoch 228/500\n",
            "2/2 [==============================] - 0s 3ms/step - loss: 5.9410 - mae: 5.9410\n",
            "Epoch 229/500\n",
            "2/2 [==============================] - 0s 4ms/step - loss: 5.9340 - mae: 5.9340\n",
            "Epoch 230/500\n",
            "2/2 [==============================] - 0s 3ms/step - loss: 5.9328 - mae: 5.9328\n",
            "Epoch 231/500\n",
            "2/2 [==============================] - 0s 4ms/step - loss: 5.9227 - mae: 5.9227\n",
            "Epoch 232/500\n",
            "2/2 [==============================] - 0s 3ms/step - loss: 5.9136 - mae: 5.9136\n",
            "Epoch 233/500\n",
            "2/2 [==============================] - 0s 4ms/step - loss: 5.9016 - mae: 5.9016\n",
            "Epoch 234/500\n",
            "2/2 [==============================] - 0s 4ms/step - loss: 5.8910 - mae: 5.8910\n",
            "Epoch 235/500\n",
            "2/2 [==============================] - 0s 4ms/step - loss: 5.8818 - mae: 5.8818\n",
            "Epoch 236/500\n",
            "2/2 [==============================] - 0s 3ms/step - loss: 5.8740 - mae: 5.8740\n",
            "Epoch 237/500\n",
            "2/2 [==============================] - 0s 3ms/step - loss: 5.8706 - mae: 5.8706\n",
            "Epoch 238/500\n",
            "2/2 [==============================] - 0s 3ms/step - loss: 5.8723 - mae: 5.8723\n",
            "Epoch 239/500\n",
            "2/2 [==============================] - 0s 3ms/step - loss: 5.8741 - mae: 5.8741\n",
            "Epoch 240/500\n",
            "2/2 [==============================] - 0s 8ms/step - loss: 5.8662 - mae: 5.8662\n",
            "Epoch 241/500\n",
            "2/2 [==============================] - 0s 4ms/step - loss: 5.8527 - mae: 5.8527\n",
            "Epoch 242/500\n",
            "2/2 [==============================] - 0s 6ms/step - loss: 5.8378 - mae: 5.8378\n",
            "Epoch 243/500\n",
            "2/2 [==============================] - 0s 7ms/step - loss: 5.8177 - mae: 5.8177\n",
            "Epoch 244/500\n",
            "2/2 [==============================] - 0s 3ms/step - loss: 5.8132 - mae: 5.8132\n",
            "Epoch 245/500\n",
            "2/2 [==============================] - 0s 7ms/step - loss: 5.7989 - mae: 5.7989\n",
            "Epoch 246/500\n",
            "2/2 [==============================] - 0s 7ms/step - loss: 5.7885 - mae: 5.7885\n",
            "Epoch 247/500\n",
            "2/2 [==============================] - 0s 13ms/step - loss: 5.7764 - mae: 5.7764\n",
            "Epoch 248/500\n",
            "2/2 [==============================] - 0s 10ms/step - loss: 5.7694 - mae: 5.7694\n",
            "Epoch 249/500\n",
            "2/2 [==============================] - 0s 9ms/step - loss: 5.7780 - mae: 5.7780\n",
            "Epoch 250/500\n",
            "2/2 [==============================] - 0s 9ms/step - loss: 5.7949 - mae: 5.7949\n",
            "Epoch 251/500\n",
            "2/2 [==============================] - 0s 7ms/step - loss: 5.8178 - mae: 5.8178\n",
            "Epoch 252/500\n",
            "2/2 [==============================] - 0s 4ms/step - loss: 5.8063 - mae: 5.8063\n",
            "Epoch 253/500\n",
            "2/2 [==============================] - 0s 8ms/step - loss: 5.7750 - mae: 5.7750\n",
            "Epoch 254/500\n",
            "2/2 [==============================] - 0s 6ms/step - loss: 5.7548 - mae: 5.7548\n",
            "Epoch 255/500\n",
            "2/2 [==============================] - 0s 4ms/step - loss: 5.7243 - mae: 5.7243\n",
            "Epoch 256/500\n",
            "2/2 [==============================] - 0s 4ms/step - loss: 5.7070 - mae: 5.7070\n",
            "Epoch 257/500\n",
            "2/2 [==============================] - 0s 5ms/step - loss: 5.6946 - mae: 5.6946\n",
            "Epoch 258/500\n",
            "2/2 [==============================] - 0s 4ms/step - loss: 5.6908 - mae: 5.6908\n",
            "Epoch 259/500\n",
            "2/2 [==============================] - 0s 4ms/step - loss: 5.6847 - mae: 5.6847\n",
            "Epoch 260/500\n",
            "2/2 [==============================] - 0s 5ms/step - loss: 5.6731 - mae: 5.6731\n",
            "Epoch 261/500\n",
            "2/2 [==============================] - 0s 3ms/step - loss: 5.6634 - mae: 5.6634\n",
            "Epoch 262/500\n",
            "2/2 [==============================] - 0s 5ms/step - loss: 5.6545 - mae: 5.6545\n",
            "Epoch 263/500\n",
            "2/2 [==============================] - 0s 5ms/step - loss: 5.6466 - mae: 5.6466\n",
            "Epoch 264/500\n",
            "2/2 [==============================] - 0s 4ms/step - loss: 5.6410 - mae: 5.6410\n",
            "Epoch 265/500\n",
            "2/2 [==============================] - 0s 4ms/step - loss: 5.6400 - mae: 5.6400\n",
            "Epoch 266/500\n",
            "2/2 [==============================] - 0s 4ms/step - loss: 5.6279 - mae: 5.6279\n",
            "Epoch 267/500\n",
            "2/2 [==============================] - 0s 7ms/step - loss: 5.6137 - mae: 5.6137\n",
            "Epoch 268/500\n",
            "2/2 [==============================] - 0s 3ms/step - loss: 5.6045 - mae: 5.6045\n",
            "Epoch 269/500\n",
            "2/2 [==============================] - 0s 4ms/step - loss: 5.5916 - mae: 5.5916\n",
            "Epoch 270/500\n",
            "2/2 [==============================] - 0s 10ms/step - loss: 5.5836 - mae: 5.5836\n",
            "Epoch 271/500\n",
            "2/2 [==============================] - 0s 4ms/step - loss: 5.5711 - mae: 5.5711\n",
            "Epoch 272/500\n",
            "2/2 [==============================] - 0s 5ms/step - loss: 5.5639 - mae: 5.5639\n",
            "Epoch 273/500\n",
            "2/2 [==============================] - 0s 15ms/step - loss: 5.5626 - mae: 5.5626\n",
            "Epoch 274/500\n",
            "2/2 [==============================] - 0s 10ms/step - loss: 5.5792 - mae: 5.5792\n",
            "Epoch 275/500\n",
            "2/2 [==============================] - 0s 10ms/step - loss: 5.5643 - mae: 5.5643\n",
            "Epoch 276/500\n",
            "2/2 [==============================] - 0s 5ms/step - loss: 5.5476 - mae: 5.5476\n",
            "Epoch 277/500\n",
            "2/2 [==============================] - 0s 4ms/step - loss: 5.5227 - mae: 5.5227\n",
            "Epoch 278/500\n",
            "2/2 [==============================] - 0s 4ms/step - loss: 5.5111 - mae: 5.5111\n",
            "Epoch 279/500\n",
            "2/2 [==============================] - 0s 16ms/step - loss: 5.5035 - mae: 5.5035\n",
            "Epoch 280/500\n",
            "2/2 [==============================] - 0s 8ms/step - loss: 5.5006 - mae: 5.5006\n",
            "Epoch 281/500\n",
            "2/2 [==============================] - 0s 5ms/step - loss: 5.4986 - mae: 5.4986\n",
            "Epoch 282/500\n",
            "2/2 [==============================] - 0s 8ms/step - loss: 5.4920 - mae: 5.4920\n",
            "Epoch 283/500\n",
            "2/2 [==============================] - 0s 4ms/step - loss: 5.4805 - mae: 5.4805\n",
            "Epoch 284/500\n",
            "2/2 [==============================] - 0s 8ms/step - loss: 5.4628 - mae: 5.4628\n",
            "Epoch 285/500\n",
            "2/2 [==============================] - 0s 4ms/step - loss: 5.4617 - mae: 5.4617\n",
            "Epoch 286/500\n",
            "2/2 [==============================] - 0s 3ms/step - loss: 5.4426 - mae: 5.4426\n",
            "Epoch 287/500\n",
            "2/2 [==============================] - 0s 4ms/step - loss: 5.4329 - mae: 5.4329\n",
            "Epoch 288/500\n",
            "2/2 [==============================] - 0s 22ms/step - loss: 5.4247 - mae: 5.4247\n",
            "Epoch 289/500\n",
            "2/2 [==============================] - 0s 9ms/step - loss: 5.4179 - mae: 5.4179\n",
            "Epoch 290/500\n",
            "2/2 [==============================] - 0s 7ms/step - loss: 5.4095 - mae: 5.4095\n",
            "Epoch 291/500\n",
            "2/2 [==============================] - 0s 4ms/step - loss: 5.4000 - mae: 5.4000\n",
            "Epoch 292/500\n",
            "2/2 [==============================] - 0s 4ms/step - loss: 5.4034 - mae: 5.4034\n",
            "Epoch 293/500\n",
            "2/2 [==============================] - 0s 8ms/step - loss: 5.4021 - mae: 5.4021\n",
            "Epoch 294/500\n",
            "2/2 [==============================] - 0s 4ms/step - loss: 5.3968 - mae: 5.3968\n",
            "Epoch 295/500\n",
            "2/2 [==============================] - 0s 5ms/step - loss: 5.3883 - mae: 5.3883\n",
            "Epoch 296/500\n",
            "2/2 [==============================] - 0s 5ms/step - loss: 5.3831 - mae: 5.3831\n",
            "Epoch 297/500\n",
            "2/2 [==============================] - 0s 6ms/step - loss: 5.3825 - mae: 5.3825\n",
            "Epoch 298/500\n",
            "2/2 [==============================] - 0s 3ms/step - loss: 5.3671 - mae: 5.3671\n",
            "Epoch 299/500\n",
            "2/2 [==============================] - 0s 5ms/step - loss: 5.3474 - mae: 5.3474\n",
            "Epoch 300/500\n",
            "2/2 [==============================] - 0s 4ms/step - loss: 5.3291 - mae: 5.3291\n",
            "Epoch 301/500\n",
            "2/2 [==============================] - 0s 4ms/step - loss: 5.3143 - mae: 5.3143\n",
            "Epoch 302/500\n",
            "2/2 [==============================] - 0s 5ms/step - loss: 5.3074 - mae: 5.3074\n",
            "Epoch 303/500\n",
            "2/2 [==============================] - 0s 5ms/step - loss: 5.3008 - mae: 5.3008\n",
            "Epoch 304/500\n",
            "2/2 [==============================] - 0s 7ms/step - loss: 5.2978 - mae: 5.2978\n",
            "Epoch 305/500\n",
            "2/2 [==============================] - 0s 3ms/step - loss: 5.2791 - mae: 5.2791\n",
            "Epoch 306/500\n",
            "2/2 [==============================] - 0s 4ms/step - loss: 5.2649 - mae: 5.2649\n",
            "Epoch 307/500\n",
            "2/2 [==============================] - 0s 6ms/step - loss: 5.2581 - mae: 5.2581\n",
            "Epoch 308/500\n",
            "2/2 [==============================] - 0s 4ms/step - loss: 5.2720 - mae: 5.2720\n",
            "Epoch 309/500\n",
            "2/2 [==============================] - 0s 4ms/step - loss: 5.2744 - mae: 5.2744\n",
            "Epoch 310/500\n",
            "2/2 [==============================] - 0s 5ms/step - loss: 5.2563 - mae: 5.2563\n",
            "Epoch 311/500\n",
            "2/2 [==============================] - 0s 10ms/step - loss: 5.2281 - mae: 5.2281\n",
            "Epoch 312/500\n",
            "2/2 [==============================] - 0s 8ms/step - loss: 5.2078 - mae: 5.2078\n",
            "Epoch 313/500\n",
            "2/2 [==============================] - 0s 3ms/step - loss: 5.2080 - mae: 5.2080\n",
            "Epoch 314/500\n",
            "2/2 [==============================] - 0s 4ms/step - loss: 5.2111 - mae: 5.2111\n",
            "Epoch 315/500\n",
            "2/2 [==============================] - 0s 5ms/step - loss: 5.2048 - mae: 5.2048\n",
            "Epoch 316/500\n",
            "2/2 [==============================] - 0s 7ms/step - loss: 5.1922 - mae: 5.1922\n",
            "Epoch 317/500\n",
            "2/2 [==============================] - 0s 3ms/step - loss: 5.1694 - mae: 5.1694\n",
            "Epoch 318/500\n",
            "2/2 [==============================] - 0s 3ms/step - loss: 5.1696 - mae: 5.1696\n",
            "Epoch 319/500\n",
            "2/2 [==============================] - 0s 9ms/step - loss: 5.1505 - mae: 5.1505\n",
            "Epoch 320/500\n",
            "2/2 [==============================] - 0s 3ms/step - loss: 5.1470 - mae: 5.1470\n",
            "Epoch 321/500\n",
            "2/2 [==============================] - 0s 7ms/step - loss: 5.1468 - mae: 5.1468\n",
            "Epoch 322/500\n",
            "2/2 [==============================] - 0s 5ms/step - loss: 5.1420 - mae: 5.1420\n",
            "Epoch 323/500\n",
            "2/2 [==============================] - 0s 3ms/step - loss: 5.1264 - mae: 5.1264\n",
            "Epoch 324/500\n",
            "2/2 [==============================] - 0s 6ms/step - loss: 5.1009 - mae: 5.1009\n",
            "Epoch 325/500\n",
            "2/2 [==============================] - 0s 6ms/step - loss: 5.0961 - mae: 5.0961\n",
            "Epoch 326/500\n",
            "2/2 [==============================] - 0s 6ms/step - loss: 5.0881 - mae: 5.0881\n",
            "Epoch 327/500\n",
            "2/2 [==============================] - 0s 13ms/step - loss: 5.0917 - mae: 5.0917\n",
            "Epoch 328/500\n",
            "2/2 [==============================] - 0s 14ms/step - loss: 5.0827 - mae: 5.0827\n",
            "Epoch 329/500\n",
            "2/2 [==============================] - 0s 6ms/step - loss: 5.0691 - mae: 5.0691\n",
            "Epoch 330/500\n",
            "2/2 [==============================] - 0s 7ms/step - loss: 5.0463 - mae: 5.0463\n",
            "Epoch 331/500\n",
            "2/2 [==============================] - 0s 3ms/step - loss: 5.0402 - mae: 5.0402\n",
            "Epoch 332/500\n",
            "2/2 [==============================] - 0s 4ms/step - loss: 5.0255 - mae: 5.0255\n",
            "Epoch 333/500\n",
            "2/2 [==============================] - 0s 6ms/step - loss: 5.0142 - mae: 5.0142\n",
            "Epoch 334/500\n",
            "2/2 [==============================] - 0s 11ms/step - loss: 5.0093 - mae: 5.0093\n",
            "Epoch 335/500\n",
            "2/2 [==============================] - 0s 6ms/step - loss: 4.9984 - mae: 4.9984\n",
            "Epoch 336/500\n",
            "2/2 [==============================] - 0s 4ms/step - loss: 4.9868 - mae: 4.9868\n",
            "Epoch 337/500\n",
            "2/2 [==============================] - 0s 4ms/step - loss: 4.9763 - mae: 4.9763\n",
            "Epoch 338/500\n",
            "2/2 [==============================] - 0s 6ms/step - loss: 4.9711 - mae: 4.9711\n",
            "Epoch 339/500\n",
            "2/2 [==============================] - 0s 7ms/step - loss: 4.9685 - mae: 4.9685\n",
            "Epoch 340/500\n",
            "2/2 [==============================] - 0s 5ms/step - loss: 4.9672 - mae: 4.9672\n",
            "Epoch 341/500\n",
            "2/2 [==============================] - 0s 8ms/step - loss: 4.9573 - mae: 4.9573\n",
            "Epoch 342/500\n",
            "2/2 [==============================] - 0s 4ms/step - loss: 4.9423 - mae: 4.9423\n",
            "Epoch 343/500\n",
            "2/2 [==============================] - 0s 12ms/step - loss: 4.9241 - mae: 4.9241\n",
            "Epoch 344/500\n",
            "2/2 [==============================] - 0s 9ms/step - loss: 4.9081 - mae: 4.9081\n",
            "Epoch 345/500\n",
            "2/2 [==============================] - 0s 5ms/step - loss: 4.8977 - mae: 4.8977\n",
            "Epoch 346/500\n",
            "2/2 [==============================] - 0s 12ms/step - loss: 4.8982 - mae: 4.8982\n",
            "Epoch 347/500\n",
            "2/2 [==============================] - 0s 4ms/step - loss: 4.8934 - mae: 4.8934\n",
            "Epoch 348/500\n",
            "2/2 [==============================] - 0s 4ms/step - loss: 4.8784 - mae: 4.8784\n",
            "Epoch 349/500\n",
            "2/2 [==============================] - 0s 17ms/step - loss: 4.8639 - mae: 4.8639\n",
            "Epoch 350/500\n",
            "2/2 [==============================] - 0s 7ms/step - loss: 4.8548 - mae: 4.8548\n",
            "Epoch 351/500\n",
            "2/2 [==============================] - 0s 4ms/step - loss: 4.8453 - mae: 4.8453\n",
            "Epoch 352/500\n",
            "2/2 [==============================] - 0s 3ms/step - loss: 4.8328 - mae: 4.8328\n",
            "Epoch 353/500\n",
            "2/2 [==============================] - 0s 4ms/step - loss: 4.8252 - mae: 4.8252\n",
            "Epoch 354/500\n",
            "2/2 [==============================] - 0s 6ms/step - loss: 4.8169 - mae: 4.8169\n",
            "Epoch 355/500\n",
            "2/2 [==============================] - 0s 3ms/step - loss: 4.8070 - mae: 4.8070\n",
            "Epoch 356/500\n",
            "2/2 [==============================] - 0s 3ms/step - loss: 4.7968 - mae: 4.7968\n",
            "Epoch 357/500\n",
            "2/2 [==============================] - 0s 7ms/step - loss: 4.7874 - mae: 4.7874\n",
            "Epoch 358/500\n",
            "2/2 [==============================] - 0s 4ms/step - loss: 4.7744 - mae: 4.7744\n",
            "Epoch 359/500\n",
            "2/2 [==============================] - 0s 3ms/step - loss: 4.7656 - mae: 4.7656\n",
            "Epoch 360/500\n",
            "2/2 [==============================] - 0s 4ms/step - loss: 4.7578 - mae: 4.7578\n",
            "Epoch 361/500\n",
            "2/2 [==============================] - 0s 4ms/step - loss: 4.7486 - mae: 4.7486\n",
            "Epoch 362/500\n",
            "2/2 [==============================] - 0s 3ms/step - loss: 4.7373 - mae: 4.7373\n",
            "Epoch 363/500\n",
            "2/2 [==============================] - 0s 3ms/step - loss: 4.7272 - mae: 4.7272\n",
            "Epoch 364/500\n",
            "2/2 [==============================] - 0s 3ms/step - loss: 4.7204 - mae: 4.7204\n",
            "Epoch 365/500\n",
            "2/2 [==============================] - 0s 3ms/step - loss: 4.7144 - mae: 4.7144\n",
            "Epoch 366/500\n",
            "2/2 [==============================] - 0s 3ms/step - loss: 4.7089 - mae: 4.7089\n",
            "Epoch 367/500\n",
            "2/2 [==============================] - 0s 7ms/step - loss: 4.6972 - mae: 4.6972\n",
            "Epoch 368/500\n",
            "2/2 [==============================] - 0s 3ms/step - loss: 4.6878 - mae: 4.6878\n",
            "Epoch 369/500\n",
            "2/2 [==============================] - 0s 3ms/step - loss: 4.6703 - mae: 4.6703\n",
            "Epoch 370/500\n",
            "2/2 [==============================] - 0s 11ms/step - loss: 4.6613 - mae: 4.6613\n",
            "Epoch 371/500\n",
            "2/2 [==============================] - 0s 3ms/step - loss: 4.6557 - mae: 4.6557\n",
            "Epoch 372/500\n",
            "2/2 [==============================] - 0s 3ms/step - loss: 4.6439 - mae: 4.6439\n",
            "Epoch 373/500\n",
            "2/2 [==============================] - 0s 6ms/step - loss: 4.6368 - mae: 4.6368\n",
            "Epoch 374/500\n",
            "2/2 [==============================] - 0s 12ms/step - loss: 4.6221 - mae: 4.6221\n",
            "Epoch 375/500\n",
            "2/2 [==============================] - 0s 3ms/step - loss: 4.6126 - mae: 4.6126\n",
            "Epoch 376/500\n",
            "2/2 [==============================] - 0s 4ms/step - loss: 4.6037 - mae: 4.6037\n",
            "Epoch 377/500\n",
            "2/2 [==============================] - 0s 4ms/step - loss: 4.5967 - mae: 4.5967\n",
            "Epoch 378/500\n",
            "2/2 [==============================] - 0s 3ms/step - loss: 4.5846 - mae: 4.5846\n",
            "Epoch 379/500\n",
            "2/2 [==============================] - 0s 15ms/step - loss: 4.5697 - mae: 4.5697\n",
            "Epoch 380/500\n",
            "2/2 [==============================] - 0s 3ms/step - loss: 4.5572 - mae: 4.5572\n",
            "Epoch 381/500\n",
            "2/2 [==============================] - 0s 3ms/step - loss: 4.5626 - mae: 4.5626\n",
            "Epoch 382/500\n",
            "2/2 [==============================] - 0s 8ms/step - loss: 4.5651 - mae: 4.5651\n",
            "Epoch 383/500\n",
            "2/2 [==============================] - 0s 3ms/step - loss: 4.5456 - mae: 4.5456\n",
            "Epoch 384/500\n",
            "2/2 [==============================] - 0s 17ms/step - loss: 4.5240 - mae: 4.5240\n",
            "Epoch 385/500\n",
            "2/2 [==============================] - 0s 5ms/step - loss: 4.5107 - mae: 4.5107\n",
            "Epoch 386/500\n",
            "2/2 [==============================] - 0s 3ms/step - loss: 4.5008 - mae: 4.5008\n",
            "Epoch 387/500\n",
            "2/2 [==============================] - 0s 3ms/step - loss: 4.5012 - mae: 4.5012\n",
            "Epoch 388/500\n",
            "2/2 [==============================] - 0s 5ms/step - loss: 4.5015 - mae: 4.5015\n",
            "Epoch 389/500\n",
            "2/2 [==============================] - 0s 6ms/step - loss: 4.5062 - mae: 4.5062\n",
            "Epoch 390/500\n",
            "2/2 [==============================] - 0s 5ms/step - loss: 4.4892 - mae: 4.4892\n",
            "Epoch 391/500\n",
            "2/2 [==============================] - 0s 5ms/step - loss: 4.5005 - mae: 4.5005\n",
            "Epoch 392/500\n",
            "2/2 [==============================] - 0s 5ms/step - loss: 4.4935 - mae: 4.4935\n",
            "Epoch 393/500\n",
            "2/2 [==============================] - 0s 4ms/step - loss: 4.4645 - mae: 4.4645\n",
            "Epoch 394/500\n",
            "2/2 [==============================] - 0s 9ms/step - loss: 4.4379 - mae: 4.4379\n",
            "Epoch 395/500\n",
            "2/2 [==============================] - 0s 12ms/step - loss: 4.4026 - mae: 4.4026\n",
            "Epoch 396/500\n",
            "2/2 [==============================] - 0s 5ms/step - loss: 4.3971 - mae: 4.3971\n",
            "Epoch 397/500\n",
            "2/2 [==============================] - 0s 4ms/step - loss: 4.3989 - mae: 4.3989\n",
            "Epoch 398/500\n",
            "2/2 [==============================] - 0s 4ms/step - loss: 4.3967 - mae: 4.3967\n",
            "Epoch 399/500\n",
            "2/2 [==============================] - 0s 4ms/step - loss: 4.3841 - mae: 4.3841\n",
            "Epoch 400/500\n",
            "2/2 [==============================] - 0s 4ms/step - loss: 4.3613 - mae: 4.3613\n",
            "Epoch 401/500\n",
            "2/2 [==============================] - 0s 4ms/step - loss: 4.3373 - mae: 4.3373\n",
            "Epoch 402/500\n",
            "2/2 [==============================] - 0s 20ms/step - loss: 4.3494 - mae: 4.3494\n",
            "Epoch 403/500\n",
            "2/2 [==============================] - 0s 15ms/step - loss: 4.3484 - mae: 4.3484\n",
            "Epoch 404/500\n",
            "2/2 [==============================] - 0s 9ms/step - loss: 4.3482 - mae: 4.3482\n",
            "Epoch 405/500\n",
            "2/2 [==============================] - 0s 7ms/step - loss: 4.3214 - mae: 4.3214\n",
            "Epoch 406/500\n",
            "2/2 [==============================] - 0s 6ms/step - loss: 4.3045 - mae: 4.3045\n",
            "Epoch 407/500\n",
            "2/2 [==============================] - 0s 12ms/step - loss: 4.2873 - mae: 4.2873\n",
            "Epoch 408/500\n",
            "2/2 [==============================] - 0s 8ms/step - loss: 4.2850 - mae: 4.2850\n",
            "Epoch 409/500\n",
            "2/2 [==============================] - 0s 3ms/step - loss: 4.2665 - mae: 4.2665\n",
            "Epoch 410/500\n",
            "2/2 [==============================] - 0s 20ms/step - loss: 4.2460 - mae: 4.2460\n",
            "Epoch 411/500\n",
            "2/2 [==============================] - 0s 6ms/step - loss: 4.2549 - mae: 4.2549\n",
            "Epoch 412/500\n",
            "2/2 [==============================] - 0s 4ms/step - loss: 4.2714 - mae: 4.2714\n",
            "Epoch 413/500\n",
            "2/2 [==============================] - 0s 10ms/step - loss: 4.2732 - mae: 4.2732\n",
            "Epoch 414/500\n",
            "2/2 [==============================] - 0s 8ms/step - loss: 4.2643 - mae: 4.2643\n",
            "Epoch 415/500\n",
            "2/2 [==============================] - 0s 6ms/step - loss: 4.2418 - mae: 4.2418\n",
            "Epoch 416/500\n",
            "2/2 [==============================] - 0s 5ms/step - loss: 4.1998 - mae: 4.1998\n",
            "Epoch 417/500\n",
            "2/2 [==============================] - 0s 4ms/step - loss: 4.1878 - mae: 4.1878\n",
            "Epoch 418/500\n",
            "2/2 [==============================] - 0s 5ms/step - loss: 4.2132 - mae: 4.2132\n",
            "Epoch 419/500\n",
            "2/2 [==============================] - 0s 4ms/step - loss: 4.2241 - mae: 4.2241\n",
            "Epoch 420/500\n",
            "2/2 [==============================] - 0s 5ms/step - loss: 4.2085 - mae: 4.2085\n",
            "Epoch 421/500\n",
            "2/2 [==============================] - 0s 7ms/step - loss: 4.1834 - mae: 4.1834\n",
            "Epoch 422/500\n",
            "2/2 [==============================] - 0s 4ms/step - loss: 4.1525 - mae: 4.1525\n",
            "Epoch 423/500\n",
            "2/2 [==============================] - 0s 7ms/step - loss: 4.1326 - mae: 4.1326\n",
            "Epoch 424/500\n",
            "2/2 [==============================] - 0s 11ms/step - loss: 4.1171 - mae: 4.1171\n",
            "Epoch 425/500\n",
            "2/2 [==============================] - 0s 3ms/step - loss: 4.1095 - mae: 4.1095\n",
            "Epoch 426/500\n",
            "2/2 [==============================] - 0s 13ms/step - loss: 4.1004 - mae: 4.1004\n",
            "Epoch 427/500\n",
            "2/2 [==============================] - 0s 6ms/step - loss: 4.0817 - mae: 4.0817\n",
            "Epoch 428/500\n",
            "2/2 [==============================] - 0s 4ms/step - loss: 4.0729 - mae: 4.0729\n",
            "Epoch 429/500\n",
            "2/2 [==============================] - 0s 4ms/step - loss: 4.0662 - mae: 4.0662\n",
            "Epoch 430/500\n",
            "2/2 [==============================] - 0s 4ms/step - loss: 4.0477 - mae: 4.0477\n",
            "Epoch 431/500\n",
            "2/2 [==============================] - 0s 5ms/step - loss: 4.0414 - mae: 4.0414\n",
            "Epoch 432/500\n",
            "2/2 [==============================] - 0s 4ms/step - loss: 4.0270 - mae: 4.0270\n",
            "Epoch 433/500\n",
            "2/2 [==============================] - 0s 9ms/step - loss: 4.0164 - mae: 4.0164\n",
            "Epoch 434/500\n",
            "2/2 [==============================] - 0s 4ms/step - loss: 4.0095 - mae: 4.0095\n",
            "Epoch 435/500\n",
            "2/2 [==============================] - 0s 4ms/step - loss: 3.9975 - mae: 3.9975\n",
            "Epoch 436/500\n",
            "2/2 [==============================] - 0s 10ms/step - loss: 3.9811 - mae: 3.9811\n",
            "Epoch 437/500\n",
            "2/2 [==============================] - 0s 4ms/step - loss: 3.9710 - mae: 3.9710\n",
            "Epoch 438/500\n",
            "2/2 [==============================] - 0s 5ms/step - loss: 3.9832 - mae: 3.9832\n",
            "Epoch 439/500\n",
            "2/2 [==============================] - 0s 4ms/step - loss: 3.9766 - mae: 3.9766\n",
            "Epoch 440/500\n",
            "2/2 [==============================] - 0s 7ms/step - loss: 3.9605 - mae: 3.9605\n",
            "Epoch 441/500\n",
            "2/2 [==============================] - 0s 3ms/step - loss: 3.9425 - mae: 3.9425\n",
            "Epoch 442/500\n",
            "2/2 [==============================] - 0s 4ms/step - loss: 3.9246 - mae: 3.9246\n",
            "Epoch 443/500\n",
            "2/2 [==============================] - 0s 4ms/step - loss: 3.9144 - mae: 3.9144\n",
            "Epoch 444/500\n",
            "2/2 [==============================] - 0s 3ms/step - loss: 3.9026 - mae: 3.9026\n",
            "Epoch 445/500\n",
            "2/2 [==============================] - 0s 3ms/step - loss: 3.8945 - mae: 3.8945\n",
            "Epoch 446/500\n",
            "2/2 [==============================] - 0s 6ms/step - loss: 3.8808 - mae: 3.8808\n",
            "Epoch 447/500\n",
            "2/2 [==============================] - 0s 22ms/step - loss: 3.8721 - mae: 3.8721\n",
            "Epoch 448/500\n",
            "2/2 [==============================] - 0s 8ms/step - loss: 3.8634 - mae: 3.8634\n",
            "Epoch 449/500\n",
            "2/2 [==============================] - 0s 4ms/step - loss: 3.8509 - mae: 3.8509\n",
            "Epoch 450/500\n",
            "2/2 [==============================] - 0s 5ms/step - loss: 3.8368 - mae: 3.8368\n",
            "Epoch 451/500\n",
            "2/2 [==============================] - 0s 6ms/step - loss: 3.8291 - mae: 3.8291\n",
            "Epoch 452/500\n",
            "2/2 [==============================] - 0s 6ms/step - loss: 3.8098 - mae: 3.8098\n",
            "Epoch 453/500\n",
            "2/2 [==============================] - 0s 6ms/step - loss: 3.8313 - mae: 3.8313\n",
            "Epoch 454/500\n",
            "2/2 [==============================] - 0s 5ms/step - loss: 3.8260 - mae: 3.8260\n",
            "Epoch 455/500\n",
            "2/2 [==============================] - 0s 4ms/step - loss: 3.8075 - mae: 3.8075\n",
            "Epoch 456/500\n",
            "2/2 [==============================] - 0s 5ms/step - loss: 3.7878 - mae: 3.7878\n",
            "Epoch 457/500\n",
            "2/2 [==============================] - 0s 4ms/step - loss: 3.7546 - mae: 3.7546\n",
            "Epoch 458/500\n",
            "2/2 [==============================] - 0s 8ms/step - loss: 3.7501 - mae: 3.7501\n",
            "Epoch 459/500\n",
            "2/2 [==============================] - 0s 5ms/step - loss: 3.7490 - mae: 3.7490\n",
            "Epoch 460/500\n",
            "2/2 [==============================] - 0s 5ms/step - loss: 3.7401 - mae: 3.7401\n",
            "Epoch 461/500\n",
            "2/2 [==============================] - 0s 3ms/step - loss: 3.7286 - mae: 3.7286\n",
            "Epoch 462/500\n",
            "2/2 [==============================] - 0s 4ms/step - loss: 3.7199 - mae: 3.7199\n",
            "Epoch 463/500\n",
            "2/2 [==============================] - 0s 4ms/step - loss: 3.6970 - mae: 3.6970\n",
            "Epoch 464/500\n",
            "2/2 [==============================] - 0s 4ms/step - loss: 3.6948 - mae: 3.6948\n",
            "Epoch 465/500\n",
            "2/2 [==============================] - 0s 4ms/step - loss: 3.6836 - mae: 3.6836\n",
            "Epoch 466/500\n",
            "2/2 [==============================] - 0s 5ms/step - loss: 3.6614 - mae: 3.6614\n",
            "Epoch 467/500\n",
            "2/2 [==============================] - 0s 6ms/step - loss: 3.6434 - mae: 3.6434\n",
            "Epoch 468/500\n",
            "2/2 [==============================] - 0s 7ms/step - loss: 3.6365 - mae: 3.6365\n",
            "Epoch 469/500\n",
            "2/2 [==============================] - 0s 3ms/step - loss: 3.6225 - mae: 3.6225\n",
            "Epoch 470/500\n",
            "2/2 [==============================] - 0s 3ms/step - loss: 3.6069 - mae: 3.6069\n",
            "Epoch 471/500\n",
            "2/2 [==============================] - 0s 4ms/step - loss: 3.5978 - mae: 3.5978\n",
            "Epoch 472/500\n",
            "2/2 [==============================] - 0s 6ms/step - loss: 3.5876 - mae: 3.5876\n",
            "Epoch 473/500\n",
            "2/2 [==============================] - 0s 12ms/step - loss: 3.5776 - mae: 3.5776\n",
            "Epoch 474/500\n",
            "2/2 [==============================] - 0s 5ms/step - loss: 3.5669 - mae: 3.5669\n",
            "Epoch 475/500\n",
            "2/2 [==============================] - 0s 10ms/step - loss: 3.5518 - mae: 3.5518\n",
            "Epoch 476/500\n",
            "2/2 [==============================] - 0s 7ms/step - loss: 3.5419 - mae: 3.5419\n",
            "Epoch 477/500\n",
            "2/2 [==============================] - 0s 5ms/step - loss: 3.5244 - mae: 3.5244\n",
            "Epoch 478/500\n",
            "2/2 [==============================] - 0s 3ms/step - loss: 3.5300 - mae: 3.5300\n",
            "Epoch 479/500\n",
            "2/2 [==============================] - 0s 3ms/step - loss: 3.5224 - mae: 3.5224\n",
            "Epoch 480/500\n",
            "2/2 [==============================] - 0s 7ms/step - loss: 3.5098 - mae: 3.5098\n",
            "Epoch 481/500\n",
            "2/2 [==============================] - 0s 14ms/step - loss: 3.4973 - mae: 3.4973\n",
            "Epoch 482/500\n",
            "2/2 [==============================] - 0s 4ms/step - loss: 3.4816 - mae: 3.4816\n",
            "Epoch 483/500\n",
            "2/2 [==============================] - 0s 3ms/step - loss: 3.4707 - mae: 3.4707\n",
            "Epoch 484/500\n",
            "2/2 [==============================] - 0s 3ms/step - loss: 3.4443 - mae: 3.4443\n",
            "Epoch 485/500\n",
            "2/2 [==============================] - 0s 5ms/step - loss: 3.4336 - mae: 3.4336\n",
            "Epoch 486/500\n",
            "2/2 [==============================] - 0s 8ms/step - loss: 3.4181 - mae: 3.4181\n",
            "Epoch 487/500\n",
            "2/2 [==============================] - 0s 3ms/step - loss: 3.4086 - mae: 3.4086\n",
            "Epoch 488/500\n",
            "2/2 [==============================] - 0s 6ms/step - loss: 3.3954 - mae: 3.3954\n",
            "Epoch 489/500\n",
            "2/2 [==============================] - 0s 3ms/step - loss: 3.3830 - mae: 3.3830\n",
            "Epoch 490/500\n",
            "2/2 [==============================] - 0s 19ms/step - loss: 3.3675 - mae: 3.3675\n",
            "Epoch 491/500\n",
            "2/2 [==============================] - 0s 4ms/step - loss: 3.3688 - mae: 3.3688\n",
            "Epoch 492/500\n",
            "2/2 [==============================] - 0s 5ms/step - loss: 3.3585 - mae: 3.3585\n",
            "Epoch 493/500\n",
            "2/2 [==============================] - 0s 14ms/step - loss: 3.3357 - mae: 3.3357\n",
            "Epoch 494/500\n",
            "2/2 [==============================] - 0s 5ms/step - loss: 3.3187 - mae: 3.3187\n",
            "Epoch 495/500\n",
            "2/2 [==============================] - 0s 3ms/step - loss: 3.3096 - mae: 3.3096\n",
            "Epoch 496/500\n",
            "2/2 [==============================] - 0s 7ms/step - loss: 3.3053 - mae: 3.3053\n",
            "Epoch 497/500\n",
            "2/2 [==============================] - 0s 3ms/step - loss: 3.2975 - mae: 3.2975\n",
            "Epoch 498/500\n",
            "2/2 [==============================] - 0s 5ms/step - loss: 3.2802 - mae: 3.2802\n",
            "Epoch 499/500\n",
            "2/2 [==============================] - 0s 5ms/step - loss: 3.2706 - mae: 3.2706\n",
            "Epoch 500/500\n",
            "2/2 [==============================] - 0s 8ms/step - loss: 3.2785 - mae: 3.2785\n"
          ],
          "name": "stdout"
        },
        {
          "output_type": "execute_result",
          "data": {
            "text/plain": [
              "<tensorflow.python.keras.callbacks.History at 0x7f451416f310>"
            ]
          },
          "metadata": {
            "tags": []
          },
          "execution_count": 205
        }
      ]
    },
    {
      "cell_type": "code",
      "metadata": {
        "colab": {
          "base_uri": "https://localhost:8080/",
          "height": 446
        },
        "id": "fmctXaDiTiBg",
        "outputId": "5e895425-37f1-4f30-b754-3ed699037518"
      },
      "source": [
        "y_preds_3 = model_3.predict(x_test)\n",
        "plot_ptedictions(predictions=y_preds_3)"
      ],
      "execution_count": null,
      "outputs": [
        {
          "output_type": "stream",
          "text": [
            "No handles with labels found to put in legend.\n"
          ],
          "name": "stderr"
        },
        {
          "output_type": "display_data",
          "data": {
            "image/png": "[encoded data removed]",
            "text/plain": [
              "<Figure size 720x504 with 1 Axes>"
            ]
          },
          "metadata": {
            "tags": [],
            "needs_background": "light"
          }
        }
      ]
    },
    {
      "cell_type": "code",
      "metadata": {
        "colab": {
          "base_uri": "https://localhost:8080/"
        },
        "id": "V1BLUvOQWUNk",
        "outputId": "50456262-f864-4780-8de9-54d66680de88"
      },
      "source": [
        "mae_3 = mae(y_test,y_preds_3.squeeze())\n",
        "mse_3= mse(y_test,y_preds_3.squeeze())\n",
        "mae_3,mse_3"
      ],
      "execution_count": null,
      "outputs": [
        {
          "output_type": "execute_result",
          "data": {
            "text/plain": [
              "(<tf.Tensor: shape=(), dtype=float32, numpy=8.695226>,\n",
              " <tf.Tensor: shape=(), dtype=float32, numpy=76.03696>)"
            ]
          },
          "metadata": {
            "tags": []
          },
          "execution_count": 208
        }
      ]
    },
    {
      "cell_type": "code",
      "metadata": {
        "colab": {
          "base_uri": "https://localhost:8080/",
          "height": 143
        },
        "id": "Qqnbloy5W2X-",
        "outputId": "f2372d32-81dd-4558-dffc-7dabfc148e68"
      },
      "source": [
        "#comparing result of experiment\n",
        "import pandas as pd\n",
        "model_results  = [[\"model_1\",mae_1.numpy(),mse_1.numpy()],\n",
        "                  [\"model_2\",mae_2.numpy(),mse_2.numpy()],\n",
        "                  [\"model_3\",mae_3.numpy(),mse_3.numpy()]]\n",
        "\n",
        "all_results = pd.DataFrame(model_results,columns = [\"model\",\"mae\",\"mse\"])\n",
        "all_results"
      ],
      "execution_count": null,
      "outputs": [
        {
          "output_type": "execute_result",
          "data": {
            "text/html": [
              "<div>\n",
              "<style scoped>\n",
              "    .dataframe tbody tr th:only-of-type {\n",
              "        vertical-align: middle;\n",
              "    }\n",
              "\n",
              "    .dataframe tbody tr th {\n",
              "        vertical-align: top;\n",
              "    }\n",
              "\n",
              "    .dataframe thead th {\n",
              "        text-align: right;\n",
              "    }\n",
              "</style>\n",
              "<table border=\"1\" class=\"dataframe\">\n",
              "  <thead>\n",
              "    <tr style=\"text-align: right;\">\n",
              "      <th></th>\n",
              "      <th>model</th>\n",
              "      <th>mae</th>\n",
              "      <th>mse</th>\n",
              "    </tr>\n",
              "  </thead>\n",
              "  <tbody>\n",
              "    <tr>\n",
              "      <th>0</th>\n",
              "      <td>model_1</td>\n",
              "      <td>18.745327</td>\n",
              "      <td>353.573364</td>\n",
              "    </tr>\n",
              "    <tr>\n",
              "      <th>1</th>\n",
              "      <td>model_2</td>\n",
              "      <td>3.196941</td>\n",
              "      <td>13.070143</td>\n",
              "    </tr>\n",
              "    <tr>\n",
              "      <th>2</th>\n",
              "      <td>model_3</td>\n",
              "      <td>8.695226</td>\n",
              "      <td>76.036957</td>\n",
              "    </tr>\n",
              "  </tbody>\n",
              "</table>\n",
              "</div>"
            ],
            "text/plain": [
              "     model        mae         mse\n",
              "0  model_1  18.745327  353.573364\n",
              "1  model_2   3.196941   13.070143\n",
              "2  model_3   8.695226   76.036957"
            ]
          },
          "metadata": {
            "tags": []
          },
          "execution_count": 211
        }
      ]
    },
    {
      "cell_type": "code",
      "metadata": {
        "colab": {
          "base_uri": "https://localhost:8080/"
        },
        "id": "3ale9XSKXyda",
        "outputId": "137e00c0-5dda-49ee-86d6-4cf7060de124"
      },
      "source": [
        "model_2.summary()"
      ],
      "execution_count": null,
      "outputs": [
        {
          "output_type": "stream",
          "text": [
            "Model: \"sequential_11\"\n",
            "_________________________________________________________________\n",
            "Layer (type)                 Output Shape              Param #   \n",
            "=================================================================\n",
            "dense_16 (Dense)             (None, 10)                20        \n",
            "_________________________________________________________________\n",
            "dense_17 (Dense)             (None, 1)                 11        \n",
            "=================================================================\n",
            "Total params: 31\n",
            "Trainable params: 31\n",
            "Non-trainable params: 0\n",
            "_________________________________________________________________\n"
          ],
          "name": "stdout"
        }
      ]
    },
    {
      "cell_type": "code",
      "metadata": {
        "colab": {
          "base_uri": "https://localhost:8080/"
        },
        "id": "HcAdfM9_X_im",
        "outputId": "e7ea9384-2d32-4558-f7e0-00e72bf20439"
      },
      "source": [
        "#saving our models ... \n",
        "model_2.save(\"best_model_saved_model_format\")"
      ],
      "execution_count": null,
      "outputs": [
        {
          "output_type": "stream",
          "text": [
            "INFO:tensorflow:Assets written to: best_model_saved_model_format/assets\n"
          ],
          "name": "stdout"
        }
      ]
    },
    {
      "cell_type": "code",
      "metadata": {
        "id": "9kk7R1AOZgc-"
      },
      "source": [
        "model_2.save(\"best_model_HDF5_format.h5\") #hdf5 fotmat"
      ],
      "execution_count": null,
      "outputs": []
    },
    {
      "cell_type": "code",
      "metadata": {
        "colab": {
          "base_uri": "https://localhost:8080/"
        },
        "id": "PKzswh3AaaYm",
        "outputId": "3b2ce991-6d79-4085-80b1-663b5b453ea0"
      },
      "source": [
        "#loading a saved models\n",
        "#saved model format\n",
        "\n",
        "loaded_savedModel_format =tf.keras.models.load_model(\"/content/best_model_saved_model_format\")\n",
        "loaded_savedModel_format.summary()"
      ],
      "execution_count": null,
      "outputs": [
        {
          "output_type": "stream",
          "text": [
            "Model: \"sequential_11\"\n",
            "_________________________________________________________________\n",
            "Layer (type)                 Output Shape              Param #   \n",
            "=================================================================\n",
            "dense_16 (Dense)             (None, 10)                20        \n",
            "_________________________________________________________________\n",
            "dense_17 (Dense)             (None, 1)                 11        \n",
            "=================================================================\n",
            "Total params: 31\n",
            "Trainable params: 31\n",
            "Non-trainable params: 0\n",
            "_________________________________________________________________\n"
          ],
          "name": "stdout"
        }
      ]
    },
    {
      "cell_type": "code",
      "metadata": {
        "colab": {
          "base_uri": "https://localhost:8080/"
        },
        "id": "P2p1esG3cAfI",
        "outputId": "bc0ba613-346d-4e3c-8f44-99c2bef56649"
      },
      "source": [
        "model_2.summary()"
      ],
      "execution_count": null,
      "outputs": [
        {
          "output_type": "stream",
          "text": [
            "Model: \"sequential_11\"\n",
            "_________________________________________________________________\n",
            "Layer (type)                 Output Shape              Param #   \n",
            "=================================================================\n",
            "dense_16 (Dense)             (None, 10)                20        \n",
            "_________________________________________________________________\n",
            "dense_17 (Dense)             (None, 1)                 11        \n",
            "=================================================================\n",
            "Total params: 31\n",
            "Trainable params: 31\n",
            "Non-trainable params: 0\n",
            "_________________________________________________________________\n"
          ],
          "name": "stdout"
        }
      ]
    },
    {
      "cell_type": "code",
      "metadata": {
        "colab": {
          "base_uri": "https://localhost:8080/"
        },
        "id": "5-5lRgthcF2B",
        "outputId": "0317b86e-3e79-4424-d604-3bc2e2a96060"
      },
      "source": [
        "model_2_preds = model_2.predict(x_test)\n",
        "loaded_savedModel_format_preds= loaded_savedModel_format.predict(x_test)\n",
        "model_2_preds ==loaded_savedModel_format_preds"
      ],
      "execution_count": null,
      "outputs": [
        {
          "output_type": "execute_result",
          "data": {
            "text/plain": [
              "array([[ True],\n",
              "       [ True],\n",
              "       [ True],\n",
              "       [ True],\n",
              "       [ True],\n",
              "       [ True],\n",
              "       [ True],\n",
              "       [ True],\n",
              "       [ True],\n",
              "       [ True]])"
            ]
          },
          "metadata": {
            "tags": []
          },
          "execution_count": 224
        }
      ]
    },
    {
      "cell_type": "code",
      "metadata": {
        "colab": {
          "base_uri": "https://localhost:8080/"
        },
        "id": "1ZBvCni0cfP4",
        "outputId": "fe5cf918-ccb4-498b-e64a-2240059107a6"
      },
      "source": [
        "model_2_preds.squeeze(),loaded_savedModel_format_preds.squeeze()"
      ],
      "execution_count": null,
      "outputs": [
        {
          "output_type": "execute_result",
          "data": {
            "text/plain": [
              "(array([ 70.55218 ,  75.13991 ,  79.72763 ,  84.31535 ,  88.903076,\n",
              "         93.49081 ,  98.07853 , 102.66625 , 107.253975, 111.8417  ],\n",
              "       dtype=float32),\n",
              " array([ 70.55218 ,  75.13991 ,  79.72763 ,  84.31535 ,  88.903076,\n",
              "         93.49081 ,  98.07853 , 102.66625 , 107.253975, 111.8417  ],\n",
              "       dtype=float32))"
            ]
          },
          "metadata": {
            "tags": []
          },
          "execution_count": 220
        }
      ]
    },
    {
      "cell_type": "code",
      "metadata": {
        "colab": {
          "base_uri": "https://localhost:8080/"
        },
        "id": "yxlk3y3Echzm",
        "outputId": "0b6375f5-e60b-454c-d820-9ac5b46a1503"
      },
      "source": [
        "loaded_h5_model = tf.keras.models.load_model('/content/best_model_HDF5_format.h5')\n",
        "loaded_h5_model.summary()"
      ],
      "execution_count": null,
      "outputs": [
        {
          "output_type": "stream",
          "text": [
            "Model: \"sequential_11\"\n",
            "_________________________________________________________________\n",
            "Layer (type)                 Output Shape              Param #   \n",
            "=================================================================\n",
            "dense_16 (Dense)             (None, 10)                20        \n",
            "_________________________________________________________________\n",
            "dense_17 (Dense)             (None, 1)                 11        \n",
            "=================================================================\n",
            "Total params: 31\n",
            "Trainable params: 31\n",
            "Non-trainable params: 0\n",
            "_________________________________________________________________\n"
          ],
          "name": "stdout"
        }
      ]
    },
    {
      "cell_type": "code",
      "metadata": {
        "colab": {
          "base_uri": "https://localhost:8080/"
        },
        "id": "G53lAmZrd1_P",
        "outputId": "a02da6ff-d2ee-4d97-e3a5-054f462ef3cd"
      },
      "source": [
        "model_2.summary()"
      ],
      "execution_count": null,
      "outputs": [
        {
          "output_type": "stream",
          "text": [
            "Model: \"sequential_11\"\n",
            "_________________________________________________________________\n",
            "Layer (type)                 Output Shape              Param #   \n",
            "=================================================================\n",
            "dense_16 (Dense)             (None, 10)                20        \n",
            "_________________________________________________________________\n",
            "dense_17 (Dense)             (None, 1)                 11        \n",
            "=================================================================\n",
            "Total params: 31\n",
            "Trainable params: 31\n",
            "Non-trainable params: 0\n",
            "_________________________________________________________________\n"
          ],
          "name": "stdout"
        }
      ]
    },
    {
      "cell_type": "code",
      "metadata": {
        "colab": {
          "base_uri": "https://localhost:8080/"
        },
        "id": "ZlpJY_CzeBu5",
        "outputId": "f10c8aa3-28eb-48f6-8de0-2c189418113d"
      },
      "source": [
        "model_2_preds = model_2.predict(x_test)\n",
        "loaded_h5_model_preds = loaded_h5_model.predict(x_test)\n",
        "\n",
        "model_2_preds==loaded_savedModel_format_preds"
      ],
      "execution_count": null,
      "outputs": [
        {
          "output_type": "execute_result",
          "data": {
            "text/plain": [
              "array([[ True],\n",
              "       [ True],\n",
              "       [ True],\n",
              "       [ True],\n",
              "       [ True],\n",
              "       [ True],\n",
              "       [ True],\n",
              "       [ True],\n",
              "       [ True],\n",
              "       [ True]])"
            ]
          },
          "metadata": {
            "tags": []
          },
          "execution_count": 229
        }
      ]
    },
    {
      "cell_type": "code",
      "metadata": {
        "id": "3QUDn0Q2eO7I"
      },
      "source": [
        "import tensorflow as tf\n",
        "import pandas as pd \n",
        "import matplotlib.pyplot as plt\n"
      ],
      "execution_count": null,
      "outputs": []
    },
    {
      "cell_type": "code",
      "metadata": {
        "id": "oWmtJlG0jP6D"
      },
      "source": [
        "insurance = pd.read_csv(\"https://raw.githubusercontent.com/stedy/Machine-Learning-with-R-datasets/master/insurance.csv\")"
      ],
      "execution_count": null,
      "outputs": []
    },
    {
      "cell_type": "code",
      "metadata": {
        "colab": {
          "base_uri": "https://localhost:8080/"
        },
        "id": "_VVqQBIWjTx7",
        "outputId": "d1611eed-75be-443e-e2bd-2667b529c37a"
      },
      "source": [
        "type(insurance)"
      ],
      "execution_count": null,
      "outputs": [
        {
          "output_type": "execute_result",
          "data": {
            "text/plain": [
              "pandas.core.frame.DataFrame"
            ]
          },
          "metadata": {
            "tags": []
          },
          "execution_count": 232
        }
      ]
    },
    {
      "cell_type": "code",
      "metadata": {
        "colab": {
          "base_uri": "https://localhost:8080/",
          "height": 422
        },
        "id": "4ZQTeGGPjWgV",
        "outputId": "70ff7b2f-b1b0-4e64-c81d-16f9de2f6c0d"
      },
      "source": [
        "insurance"
      ],
      "execution_count": null,
      "outputs": [
        {
          "output_type": "execute_result",
          "data": {
            "text/html": [
              "<div>\n",
              "<style scoped>\n",
              "    .dataframe tbody tr th:only-of-type {\n",
              "        vertical-align: middle;\n",
              "    }\n",
              "\n",
              "    .dataframe tbody tr th {\n",
              "        vertical-align: top;\n",
              "    }\n",
              "\n",
              "    .dataframe thead th {\n",
              "        text-align: right;\n",
              "    }\n",
              "</style>\n",
              "<table border=\"1\" class=\"dataframe\">\n",
              "  <thead>\n",
              "    <tr style=\"text-align: right;\">\n",
              "      <th></th>\n",
              "      <th>age</th>\n",
              "      <th>sex</th>\n",
              "      <th>bmi</th>\n",
              "      <th>children</th>\n",
              "      <th>smoker</th>\n",
              "      <th>region</th>\n",
              "      <th>charges</th>\n",
              "    </tr>\n",
              "  </thead>\n",
              "  <tbody>\n",
              "    <tr>\n",
              "      <th>0</th>\n",
              "      <td>19</td>\n",
              "      <td>female</td>\n",
              "      <td>27.900</td>\n",
              "      <td>0</td>\n",
              "      <td>yes</td>\n",
              "      <td>southwest</td>\n",
              "      <td>16884.92400</td>\n",
              "    </tr>\n",
              "    <tr>\n",
              "      <th>1</th>\n",
              "      <td>18</td>\n",
              "      <td>male</td>\n",
              "      <td>33.770</td>\n",
              "      <td>1</td>\n",
              "      <td>no</td>\n",
              "      <td>southeast</td>\n",
              "      <td>1725.55230</td>\n",
              "    </tr>\n",
              "    <tr>\n",
              "      <th>2</th>\n",
              "      <td>28</td>\n",
              "      <td>male</td>\n",
              "      <td>33.000</td>\n",
              "      <td>3</td>\n",
              "      <td>no</td>\n",
              "      <td>southeast</td>\n",
              "      <td>4449.46200</td>\n",
              "    </tr>\n",
              "    <tr>\n",
              "      <th>3</th>\n",
              "      <td>33</td>\n",
              "      <td>male</td>\n",
              "      <td>22.705</td>\n",
              "      <td>0</td>\n",
              "      <td>no</td>\n",
              "      <td>northwest</td>\n",
              "      <td>21984.47061</td>\n",
              "    </tr>\n",
              "    <tr>\n",
              "      <th>4</th>\n",
              "      <td>32</td>\n",
              "      <td>male</td>\n",
              "      <td>28.880</td>\n",
              "      <td>0</td>\n",
              "      <td>no</td>\n",
              "      <td>northwest</td>\n",
              "      <td>3866.85520</td>\n",
              "    </tr>\n",
              "    <tr>\n",
              "      <th>...</th>\n",
              "      <td>...</td>\n",
              "      <td>...</td>\n",
              "      <td>...</td>\n",
              "      <td>...</td>\n",
              "      <td>...</td>\n",
              "      <td>...</td>\n",
              "      <td>...</td>\n",
              "    </tr>\n",
              "    <tr>\n",
              "      <th>1333</th>\n",
              "      <td>50</td>\n",
              "      <td>male</td>\n",
              "      <td>30.970</td>\n",
              "      <td>3</td>\n",
              "      <td>no</td>\n",
              "      <td>northwest</td>\n",
              "      <td>10600.54830</td>\n",
              "    </tr>\n",
              "    <tr>\n",
              "      <th>1334</th>\n",
              "      <td>18</td>\n",
              "      <td>female</td>\n",
              "      <td>31.920</td>\n",
              "      <td>0</td>\n",
              "      <td>no</td>\n",
              "      <td>northeast</td>\n",
              "      <td>2205.98080</td>\n",
              "    </tr>\n",
              "    <tr>\n",
              "      <th>1335</th>\n",
              "      <td>18</td>\n",
              "      <td>female</td>\n",
              "      <td>36.850</td>\n",
              "      <td>0</td>\n",
              "      <td>no</td>\n",
              "      <td>southeast</td>\n",
              "      <td>1629.83350</td>\n",
              "    </tr>\n",
              "    <tr>\n",
              "      <th>1336</th>\n",
              "      <td>21</td>\n",
              "      <td>female</td>\n",
              "      <td>25.800</td>\n",
              "      <td>0</td>\n",
              "      <td>no</td>\n",
              "      <td>southwest</td>\n",
              "      <td>2007.94500</td>\n",
              "    </tr>\n",
              "    <tr>\n",
              "      <th>1337</th>\n",
              "      <td>61</td>\n",
              "      <td>female</td>\n",
              "      <td>29.070</td>\n",
              "      <td>0</td>\n",
              "      <td>yes</td>\n",
              "      <td>northwest</td>\n",
              "      <td>29141.36030</td>\n",
              "    </tr>\n",
              "  </tbody>\n",
              "</table>\n",
              "<p>1338 rows × 7 columns</p>\n",
              "</div>"
            ],
            "text/plain": [
              "      age     sex     bmi  children smoker     region      charges\n",
              "0      19  female  27.900         0    yes  southwest  16884.92400\n",
              "1      18    male  33.770         1     no  southeast   1725.55230\n",
              "2      28    male  33.000         3     no  southeast   4449.46200\n",
              "3      33    male  22.705         0     no  northwest  21984.47061\n",
              "4      32    male  28.880         0     no  northwest   3866.85520\n",
              "...   ...     ...     ...       ...    ...        ...          ...\n",
              "1333   50    male  30.970         3     no  northwest  10600.54830\n",
              "1334   18  female  31.920         0     no  northeast   2205.98080\n",
              "1335   18  female  36.850         0     no  southeast   1629.83350\n",
              "1336   21  female  25.800         0     no  southwest   2007.94500\n",
              "1337   61  female  29.070         0    yes  northwest  29141.36030\n",
              "\n",
              "[1338 rows x 7 columns]"
            ]
          },
          "metadata": {
            "tags": []
          },
          "execution_count": 236
        }
      ]
    },
    {
      "cell_type": "code",
      "metadata": {
        "colab": {
          "base_uri": "https://localhost:8080/"
        },
        "id": "CjWhyMh2jYTW",
        "outputId": "5115aefd-86a4-41d6-bcf2-43d70436a287"
      },
      "source": [
        "insurance[\"sex\"]"
      ],
      "execution_count": null,
      "outputs": [
        {
          "output_type": "execute_result",
          "data": {
            "text/plain": [
              "0       female\n",
              "1         male\n",
              "2         male\n",
              "3         male\n",
              "4         male\n",
              "         ...  \n",
              "1333      male\n",
              "1334    female\n",
              "1335    female\n",
              "1336    female\n",
              "1337    female\n",
              "Name: sex, Length: 1338, dtype: object"
            ]
          },
          "metadata": {
            "tags": []
          },
          "execution_count": 239
        }
      ]
    },
    {
      "cell_type": "code",
      "metadata": {
        "colab": {
          "base_uri": "https://localhost:8080/",
          "height": 225
        },
        "id": "yJIIbCY5j6gb",
        "outputId": "cc84490d-4c56-4e7f-fbdd-b2ff639d900d"
      },
      "source": [
        "#try one hot encode our dataframce\n",
        "insurance_one_hot = pd.get_dummies(insurance)\n",
        "insurance_one_hot.head()"
      ],
      "execution_count": null,
      "outputs": [
        {
          "output_type": "execute_result",
          "data": {
            "text/html": [
              "<div>\n",
              "<style scoped>\n",
              "    .dataframe tbody tr th:only-of-type {\n",
              "        vertical-align: middle;\n",
              "    }\n",
              "\n",
              "    .dataframe tbody tr th {\n",
              "        vertical-align: top;\n",
              "    }\n",
              "\n",
              "    .dataframe thead th {\n",
              "        text-align: right;\n",
              "    }\n",
              "</style>\n",
              "<table border=\"1\" class=\"dataframe\">\n",
              "  <thead>\n",
              "    <tr style=\"text-align: right;\">\n",
              "      <th></th>\n",
              "      <th>age</th>\n",
              "      <th>bmi</th>\n",
              "      <th>children</th>\n",
              "      <th>charges</th>\n",
              "      <th>sex_female</th>\n",
              "      <th>sex_male</th>\n",
              "      <th>smoker_no</th>\n",
              "      <th>smoker_yes</th>\n",
              "      <th>region_northeast</th>\n",
              "      <th>region_northwest</th>\n",
              "      <th>region_southeast</th>\n",
              "      <th>region_southwest</th>\n",
              "    </tr>\n",
              "  </thead>\n",
              "  <tbody>\n",
              "    <tr>\n",
              "      <th>0</th>\n",
              "      <td>19</td>\n",
              "      <td>27.900</td>\n",
              "      <td>0</td>\n",
              "      <td>16884.92400</td>\n",
              "      <td>1</td>\n",
              "      <td>0</td>\n",
              "      <td>0</td>\n",
              "      <td>1</td>\n",
              "      <td>0</td>\n",
              "      <td>0</td>\n",
              "      <td>0</td>\n",
              "      <td>1</td>\n",
              "    </tr>\n",
              "    <tr>\n",
              "      <th>1</th>\n",
              "      <td>18</td>\n",
              "      <td>33.770</td>\n",
              "      <td>1</td>\n",
              "      <td>1725.55230</td>\n",
              "      <td>0</td>\n",
              "      <td>1</td>\n",
              "      <td>1</td>\n",
              "      <td>0</td>\n",
              "      <td>0</td>\n",
              "      <td>0</td>\n",
              "      <td>1</td>\n",
              "      <td>0</td>\n",
              "    </tr>\n",
              "    <tr>\n",
              "      <th>2</th>\n",
              "      <td>28</td>\n",
              "      <td>33.000</td>\n",
              "      <td>3</td>\n",
              "      <td>4449.46200</td>\n",
              "      <td>0</td>\n",
              "      <td>1</td>\n",
              "      <td>1</td>\n",
              "      <td>0</td>\n",
              "      <td>0</td>\n",
              "      <td>0</td>\n",
              "      <td>1</td>\n",
              "      <td>0</td>\n",
              "    </tr>\n",
              "    <tr>\n",
              "      <th>3</th>\n",
              "      <td>33</td>\n",
              "      <td>22.705</td>\n",
              "      <td>0</td>\n",
              "      <td>21984.47061</td>\n",
              "      <td>0</td>\n",
              "      <td>1</td>\n",
              "      <td>1</td>\n",
              "      <td>0</td>\n",
              "      <td>0</td>\n",
              "      <td>1</td>\n",
              "      <td>0</td>\n",
              "      <td>0</td>\n",
              "    </tr>\n",
              "    <tr>\n",
              "      <th>4</th>\n",
              "      <td>32</td>\n",
              "      <td>28.880</td>\n",
              "      <td>0</td>\n",
              "      <td>3866.85520</td>\n",
              "      <td>0</td>\n",
              "      <td>1</td>\n",
              "      <td>1</td>\n",
              "      <td>0</td>\n",
              "      <td>0</td>\n",
              "      <td>1</td>\n",
              "      <td>0</td>\n",
              "      <td>0</td>\n",
              "    </tr>\n",
              "  </tbody>\n",
              "</table>\n",
              "</div>"
            ],
            "text/plain": [
              "   age     bmi  children  ...  region_northwest  region_southeast  region_southwest\n",
              "0   19  27.900         0  ...                 0                 0                 1\n",
              "1   18  33.770         1  ...                 0                 1                 0\n",
              "2   28  33.000         3  ...                 0                 1                 0\n",
              "3   33  22.705         0  ...                 1                 0                 0\n",
              "4   32  28.880         0  ...                 1                 0                 0\n",
              "\n",
              "[5 rows x 12 columns]"
            ]
          },
          "metadata": {
            "tags": []
          },
          "execution_count": 241
        }
      ]
    },
    {
      "cell_type": "code",
      "metadata": {
        "id": "jaCajVIBk7Gj"
      },
      "source": [
        "x = insurance_one_hot.drop(\"charges\",axis=1)\n",
        "y= insurance_one_hot[\"charges\"]"
      ],
      "execution_count": null,
      "outputs": []
    },
    {
      "cell_type": "code",
      "metadata": {
        "colab": {
          "base_uri": "https://localhost:8080/"
        },
        "id": "rrqxRYFllbv0",
        "outputId": "20dbfe67-ed72-47f9-bc04-82e9c7c63e2e"
      },
      "source": [
        "x.head(),y.head()"
      ],
      "execution_count": null,
      "outputs": [
        {
          "output_type": "execute_result",
          "data": {
            "text/plain": [
              "(   age     bmi  children  ...  region_northwest  region_southeast  region_southwest\n",
              " 0   19  27.900         0  ...                 0                 0                 1\n",
              " 1   18  33.770         1  ...                 0                 1                 0\n",
              " 2   28  33.000         3  ...                 0                 1                 0\n",
              " 3   33  22.705         0  ...                 1                 0                 0\n",
              " 4   32  28.880         0  ...                 1                 0                 0\n",
              " \n",
              " [5 rows x 11 columns], 0    16884.92400\n",
              " 1     1725.55230\n",
              " 2     4449.46200\n",
              " 3    21984.47061\n",
              " 4     3866.85520\n",
              " Name: charges, dtype: float64)"
            ]
          },
          "metadata": {
            "tags": []
          },
          "execution_count": 246
        }
      ]
    },
    {
      "cell_type": "code",
      "metadata": {
        "id": "4Hpvp5gjliBY"
      },
      "source": [
        " from sklearn.model_selection import train_test_split "
      ],
      "execution_count": null,
      "outputs": []
    },
    {
      "cell_type": "code",
      "metadata": {
        "colab": {
          "base_uri": "https://localhost:8080/"
        },
        "id": "k1Bag_BJy_dL",
        "outputId": "9b4d753d-1c1e-4091-a3ea-1ab8a016f012"
      },
      "source": [
        "x_train,x_test,y_train,y_test = train_test_split(x,y,test_size=0.2,random_state=42)\n",
        "len(x),len(x_train),len(x_test)"
      ],
      "execution_count": null,
      "outputs": [
        {
          "output_type": "execute_result",
          "data": {
            "text/plain": [
              "(1338, 1070, 268)"
            ]
          },
          "metadata": {
            "tags": []
          },
          "execution_count": 248
        }
      ]
    },
    {
      "cell_type": "code",
      "metadata": {
        "colab": {
          "base_uri": "https://localhost:8080/"
        },
        "id": "402Dlo_szkkh",
        "outputId": "f551428c-7a0f-4c29-d154-8a3f9612765e"
      },
      "source": [
        "tf.random.set_seed(42)\n",
        "\n",
        "\n",
        "insurance_model = tf.keras.Sequential([\n",
        "                                       tf.keras.layers.Dense(10),\n",
        "                                       tf.keras.layers.Dense(1)\n",
        "])\n",
        "\n",
        "\n",
        "insurance_model.compile(\n",
        "    loss=tf.keras.losses.mae,\n",
        "    optimizer =tf.keras.optimizers.SGD(),\n",
        "    metrics = [\"mae\"]\n",
        ")\n",
        "\n",
        "insurance_model.fit(x_train,y_train,epochs = 100)"
      ],
      "execution_count": null,
      "outputs": [
        {
          "output_type": "stream",
          "text": [
            "Epoch 1/100\n",
            "34/34 [==============================] - 0s 1ms/step - loss: 8637.1006 - mae: 8637.1006\n",
            "Epoch 2/100\n",
            "34/34 [==============================] - 0s 1ms/step - loss: 7886.7759 - mae: 7886.7759\n",
            "Epoch 3/100\n",
            "34/34 [==============================] - 0s 983us/step - loss: 7558.1470 - mae: 7558.1470\n",
            "Epoch 4/100\n",
            "34/34 [==============================] - 0s 1ms/step - loss: 7792.0225 - mae: 7792.0225\n",
            "Epoch 5/100\n",
            "34/34 [==============================] - 0s 1ms/step - loss: 7748.3887 - mae: 7748.3887\n",
            "Epoch 6/100\n",
            "34/34 [==============================] - 0s 1ms/step - loss: 7595.3940 - mae: 7595.3940\n",
            "Epoch 7/100\n",
            "34/34 [==============================] - 0s 1ms/step - loss: 7589.9849 - mae: 7589.9849\n",
            "Epoch 8/100\n",
            "34/34 [==============================] - 0s 1ms/step - loss: 7698.5591 - mae: 7698.5591\n",
            "Epoch 9/100\n",
            "34/34 [==============================] - 0s 1ms/step - loss: 7496.7783 - mae: 7496.7783\n",
            "Epoch 10/100\n",
            "34/34 [==============================] - 0s 1ms/step - loss: 7493.1743 - mae: 7493.1743\n",
            "Epoch 11/100\n",
            "34/34 [==============================] - 0s 1ms/step - loss: 7769.7310 - mae: 7769.7310\n",
            "Epoch 12/100\n",
            "34/34 [==============================] - 0s 1ms/step - loss: 7706.9048 - mae: 7706.9048\n",
            "Epoch 13/100\n",
            "34/34 [==============================] - 0s 1ms/step - loss: 7687.7227 - mae: 7687.7227\n",
            "Epoch 14/100\n",
            "34/34 [==============================] - 0s 1ms/step - loss: 7689.8999 - mae: 7689.8999\n",
            "Epoch 15/100\n",
            "34/34 [==============================] - 0s 1ms/step - loss: 7393.5332 - mae: 7393.5332\n",
            "Epoch 16/100\n",
            "34/34 [==============================] - 0s 1ms/step - loss: 7780.6982 - mae: 7780.6982\n",
            "Epoch 17/100\n",
            "34/34 [==============================] - 0s 1ms/step - loss: 7578.5112 - mae: 7578.5112\n",
            "Epoch 18/100\n",
            "34/34 [==============================] - 0s 1ms/step - loss: 7750.8354 - mae: 7750.8354\n",
            "Epoch 19/100\n",
            "34/34 [==============================] - 0s 1ms/step - loss: 7739.2148 - mae: 7739.2148\n",
            "Epoch 20/100\n",
            "34/34 [==============================] - 0s 990us/step - loss: 7875.0654 - mae: 7875.0654\n",
            "Epoch 21/100\n",
            "34/34 [==============================] - 0s 1ms/step - loss: 7466.6772 - mae: 7466.6772\n",
            "Epoch 22/100\n",
            "34/34 [==============================] - 0s 1ms/step - loss: 7941.2319 - mae: 7941.2319\n",
            "Epoch 23/100\n",
            "34/34 [==============================] - 0s 1ms/step - loss: 7640.2725 - mae: 7640.2725\n",
            "Epoch 24/100\n",
            "34/34 [==============================] - 0s 1ms/step - loss: 7539.2666 - mae: 7539.2666\n",
            "Epoch 25/100\n",
            "34/34 [==============================] - 0s 1ms/step - loss: 7619.9663 - mae: 7619.9663\n",
            "Epoch 26/100\n",
            "34/34 [==============================] - 0s 1ms/step - loss: 7644.1719 - mae: 7644.1719\n",
            "Epoch 27/100\n",
            "34/34 [==============================] - 0s 1ms/step - loss: 7709.0376 - mae: 7709.0376\n",
            "Epoch 28/100\n",
            "34/34 [==============================] - 0s 1ms/step - loss: 7366.8662 - mae: 7366.8662\n",
            "Epoch 29/100\n",
            "34/34 [==============================] - 0s 1ms/step - loss: 7444.3159 - mae: 7444.3159\n",
            "Epoch 30/100\n",
            "34/34 [==============================] - 0s 1ms/step - loss: 7616.4097 - mae: 7616.4097\n",
            "Epoch 31/100\n",
            "34/34 [==============================] - 0s 1ms/step - loss: 7686.3853 - mae: 7686.3853\n",
            "Epoch 32/100\n",
            "34/34 [==============================] - 0s 1ms/step - loss: 7548.0991 - mae: 7548.0991\n",
            "Epoch 33/100\n",
            "34/34 [==============================] - 0s 1ms/step - loss: 7501.5537 - mae: 7501.5537\n",
            "Epoch 34/100\n",
            "34/34 [==============================] - 0s 1ms/step - loss: 7363.4155 - mae: 7363.4155\n",
            "Epoch 35/100\n",
            "34/34 [==============================] - 0s 1ms/step - loss: 7295.4473 - mae: 7295.4473\n",
            "Epoch 36/100\n",
            "34/34 [==============================] - 0s 1ms/step - loss: 7569.8818 - mae: 7569.8818\n",
            "Epoch 37/100\n",
            "34/34 [==============================] - 0s 1ms/step - loss: 7548.1997 - mae: 7548.1997\n",
            "Epoch 38/100\n",
            "34/34 [==============================] - 0s 1ms/step - loss: 7424.3979 - mae: 7424.3979\n",
            "Epoch 39/100\n",
            "34/34 [==============================] - 0s 1ms/step - loss: 7529.7734 - mae: 7529.7734\n",
            "Epoch 40/100\n",
            "34/34 [==============================] - 0s 1ms/step - loss: 7467.3237 - mae: 7467.3237\n",
            "Epoch 41/100\n",
            "34/34 [==============================] - 0s 1ms/step - loss: 7635.9292 - mae: 7635.9292\n",
            "Epoch 42/100\n",
            "34/34 [==============================] - 0s 1ms/step - loss: 7536.8394 - mae: 7536.8394\n",
            "Epoch 43/100\n",
            "34/34 [==============================] - 0s 1ms/step - loss: 7616.5854 - mae: 7616.5854\n",
            "Epoch 44/100\n",
            "34/34 [==============================] - 0s 1ms/step - loss: 7439.4941 - mae: 7439.4941\n",
            "Epoch 45/100\n",
            "34/34 [==============================] - 0s 1ms/step - loss: 7538.0161 - mae: 7538.0161\n",
            "Epoch 46/100\n",
            "34/34 [==============================] - 0s 1ms/step - loss: 7415.1465 - mae: 7415.1465\n",
            "Epoch 47/100\n",
            "34/34 [==============================] - 0s 1ms/step - loss: 7420.6938 - mae: 7420.6938\n",
            "Epoch 48/100\n",
            "34/34 [==============================] - 0s 1ms/step - loss: 7509.9844 - mae: 7509.9844\n",
            "Epoch 49/100\n",
            "34/34 [==============================] - 0s 1ms/step - loss: 7541.1128 - mae: 7541.1128\n",
            "Epoch 50/100\n",
            "34/34 [==============================] - 0s 1ms/step - loss: 7467.8638 - mae: 7467.8638\n",
            "Epoch 51/100\n",
            "34/34 [==============================] - 0s 1ms/step - loss: 7389.3550 - mae: 7389.3550\n",
            "Epoch 52/100\n",
            "34/34 [==============================] - 0s 1ms/step - loss: 7499.7754 - mae: 7499.7754\n",
            "Epoch 53/100\n",
            "34/34 [==============================] - 0s 1ms/step - loss: 7523.9282 - mae: 7523.9282\n",
            "Epoch 54/100\n",
            "34/34 [==============================] - 0s 1ms/step - loss: 7243.3120 - mae: 7243.3120\n",
            "Epoch 55/100\n",
            "34/34 [==============================] - 0s 1ms/step - loss: 7429.5859 - mae: 7429.5859\n",
            "Epoch 56/100\n",
            "34/34 [==============================] - 0s 1ms/step - loss: 7313.4004 - mae: 7313.4004\n",
            "Epoch 57/100\n",
            "34/34 [==============================] - 0s 1ms/step - loss: 7526.3887 - mae: 7526.3887\n",
            "Epoch 58/100\n",
            "34/34 [==============================] - 0s 1ms/step - loss: 7542.2666 - mae: 7542.2666\n",
            "Epoch 59/100\n",
            "34/34 [==============================] - 0s 1ms/step - loss: 7576.9282 - mae: 7576.9282\n",
            "Epoch 60/100\n",
            "34/34 [==============================] - 0s 1ms/step - loss: 7546.4058 - mae: 7546.4058\n",
            "Epoch 61/100\n",
            "34/34 [==============================] - 0s 1ms/step - loss: 7351.2275 - mae: 7351.2275\n",
            "Epoch 62/100\n",
            "34/34 [==============================] - 0s 1ms/step - loss: 7302.1440 - mae: 7302.1440\n",
            "Epoch 63/100\n",
            "34/34 [==============================] - 0s 1ms/step - loss: 7393.0884 - mae: 7393.0884\n",
            "Epoch 64/100\n",
            "34/34 [==============================] - 0s 1ms/step - loss: 7442.2886 - mae: 7442.2886\n",
            "Epoch 65/100\n",
            "34/34 [==============================] - 0s 1ms/step - loss: 7492.6792 - mae: 7492.6792\n",
            "Epoch 66/100\n",
            "34/34 [==============================] - 0s 1ms/step - loss: 7561.9170 - mae: 7561.9170\n",
            "Epoch 67/100\n",
            "34/34 [==============================] - 0s 1ms/step - loss: 7340.5142 - mae: 7340.5142\n",
            "Epoch 68/100\n",
            "34/34 [==============================] - 0s 1ms/step - loss: 7496.0859 - mae: 7496.0859\n",
            "Epoch 69/100\n",
            "34/34 [==============================] - 0s 1ms/step - loss: 7617.0322 - mae: 7617.0322\n",
            "Epoch 70/100\n",
            "34/34 [==============================] - 0s 1ms/step - loss: 7641.1953 - mae: 7641.1953\n",
            "Epoch 71/100\n",
            "34/34 [==============================] - 0s 1ms/step - loss: 7084.2749 - mae: 7084.2749\n",
            "Epoch 72/100\n",
            "34/34 [==============================] - 0s 2ms/step - loss: 7240.4907 - mae: 7240.4907\n",
            "Epoch 73/100\n",
            "34/34 [==============================] - 0s 1ms/step - loss: 7283.4888 - mae: 7283.4888\n",
            "Epoch 74/100\n",
            "34/34 [==============================] - 0s 1ms/step - loss: 7335.5078 - mae: 7335.5078\n",
            "Epoch 75/100\n",
            "34/34 [==============================] - 0s 1ms/step - loss: 7275.6396 - mae: 7275.6396\n",
            "Epoch 76/100\n",
            "34/34 [==============================] - 0s 1ms/step - loss: 7313.1855 - mae: 7313.1855\n",
            "Epoch 77/100\n",
            "34/34 [==============================] - 0s 1ms/step - loss: 7485.7598 - mae: 7485.7598\n",
            "Epoch 78/100\n",
            "34/34 [==============================] - 0s 1ms/step - loss: 7352.2798 - mae: 7352.2798\n",
            "Epoch 79/100\n",
            "34/34 [==============================] - 0s 1ms/step - loss: 7520.5708 - mae: 7520.5708\n",
            "Epoch 80/100\n",
            "34/34 [==============================] - 0s 1ms/step - loss: 7279.3779 - mae: 7279.3779\n",
            "Epoch 81/100\n",
            "34/34 [==============================] - 0s 1ms/step - loss: 7273.8472 - mae: 7273.8472\n",
            "Epoch 82/100\n",
            "34/34 [==============================] - 0s 1ms/step - loss: 7176.5215 - mae: 7176.5215\n",
            "Epoch 83/100\n",
            "34/34 [==============================] - 0s 1ms/step - loss: 7425.6304 - mae: 7425.6304\n",
            "Epoch 84/100\n",
            "34/34 [==============================] - 0s 1ms/step - loss: 7403.1294 - mae: 7403.1294\n",
            "Epoch 85/100\n",
            "34/34 [==============================] - 0s 1ms/step - loss: 7356.0078 - mae: 7356.0078\n",
            "Epoch 86/100\n",
            "34/34 [==============================] - 0s 1ms/step - loss: 7484.7271 - mae: 7484.7271\n",
            "Epoch 87/100\n",
            "34/34 [==============================] - 0s 1ms/step - loss: 7217.6079 - mae: 7217.6079\n",
            "Epoch 88/100\n",
            "34/34 [==============================] - 0s 1ms/step - loss: 7261.0000 - mae: 7261.0000\n",
            "Epoch 89/100\n",
            "34/34 [==============================] - 0s 1ms/step - loss: 7134.1562 - mae: 7134.1562\n",
            "Epoch 90/100\n",
            "34/34 [==============================] - 0s 1ms/step - loss: 7083.4360 - mae: 7083.4360\n",
            "Epoch 91/100\n",
            "34/34 [==============================] - 0s 1ms/step - loss: 7254.1782 - mae: 7254.1782\n",
            "Epoch 92/100\n",
            "34/34 [==============================] - 0s 1ms/step - loss: 7268.7456 - mae: 7268.7456\n",
            "Epoch 93/100\n",
            "34/34 [==============================] - 0s 1ms/step - loss: 7470.5215 - mae: 7470.5215\n",
            "Epoch 94/100\n",
            "34/34 [==============================] - 0s 989us/step - loss: 7210.9536 - mae: 7210.9536\n",
            "Epoch 95/100\n",
            "34/34 [==============================] - 0s 1ms/step - loss: 7395.6816 - mae: 7395.6816\n",
            "Epoch 96/100\n",
            "34/34 [==============================] - 0s 1ms/step - loss: 7328.0874 - mae: 7328.0874\n",
            "Epoch 97/100\n",
            "34/34 [==============================] - 0s 1ms/step - loss: 7230.4395 - mae: 7230.4395\n",
            "Epoch 98/100\n",
            "34/34 [==============================] - 0s 1ms/step - loss: 7261.3940 - mae: 7261.3940\n",
            "Epoch 99/100\n",
            "34/34 [==============================] - 0s 1ms/step - loss: 7342.5679 - mae: 7342.5679\n",
            "Epoch 100/100\n",
            "34/34 [==============================] - 0s 1ms/step - loss: 7106.1714 - mae: 7106.1714\n"
          ],
          "name": "stdout"
        },
        {
          "output_type": "execute_result",
          "data": {
            "text/plain": [
              "<tensorflow.python.keras.callbacks.History at 0x7f4506185050>"
            ]
          },
          "metadata": {
            "tags": []
          },
          "execution_count": 249
        }
      ]
    },
    {
      "cell_type": "code",
      "metadata": {
        "colab": {
          "base_uri": "https://localhost:8080/"
        },
        "id": "77MyucVA0M7U",
        "outputId": "b045e8e6-1c95-4388-954b-d11f7833bebb"
      },
      "source": [
        "insurance_model.evaluate(x_test,y_test)"
      ],
      "execution_count": null,
      "outputs": [
        {
          "output_type": "stream",
          "text": [
            "9/9 [==============================] - 0s 1ms/step - loss: 7023.3291 - mae: 7023.3291\n"
          ],
          "name": "stdout"
        },
        {
          "output_type": "execute_result",
          "data": {
            "text/plain": [
              "[7023.3291015625, 7023.3291015625]"
            ]
          },
          "metadata": {
            "tags": []
          },
          "execution_count": 251
        }
      ]
    },
    {
      "cell_type": "code",
      "metadata": {
        "colab": {
          "base_uri": "https://localhost:8080/"
        },
        "id": "aNL0zy9A0eik",
        "outputId": "410b3bb5-3e3c-48f9-fc83-9208c8c287d8"
      },
      "source": [
        "y_train.median() , y_train.mean()"
      ],
      "execution_count": null,
      "outputs": [
        {
          "output_type": "execute_result",
          "data": {
            "text/plain": [
              "(9575.4421, 13346.089736364489)"
            ]
          },
          "metadata": {
            "tags": []
          },
          "execution_count": 255
        }
      ]
    },
    {
      "cell_type": "code",
      "metadata": {
        "colab": {
          "base_uri": "https://localhost:8080/"
        },
        "id": "yuRklZSa0zN-",
        "outputId": "833d5d66-66bf-40c7-86b9-d7dc98cc106e"
      },
      "source": [
        "tf.random.set_seed(42)\n",
        "\n",
        "\n",
        "insurance_model_2 = tf.keras.Sequential([\n",
        "                                         tf.keras.layers.Dense(100),\n",
        "                                         tf.keras.layers.Dense(10),\n",
        "                                         tf.keras.layers.Dense(1)\n",
        "])\n",
        "\n",
        "insurance_model_2.compile(\n",
        "    loss= tf.keras.losses.mae,\n",
        "    optimizer= tf.keras.optimizers.Adam(),\n",
        "    metrics = ['mae']\n",
        ")\n",
        "\n",
        "\n",
        "insurance_model_2.fit(x_train,y_train,epochs=100)"
      ],
      "execution_count": null,
      "outputs": [
        {
          "output_type": "stream",
          "text": [
            "Epoch 1/100\n",
            "34/34 [==============================] - 0s 1ms/step - loss: 13273.1602 - mae: 13273.1602\n",
            "Epoch 2/100\n",
            "34/34 [==============================] - 0s 1ms/step - loss: 13104.4297 - mae: 13104.4297\n",
            "Epoch 3/100\n",
            "34/34 [==============================] - 0s 1ms/step - loss: 12749.5420 - mae: 12749.5420\n",
            "Epoch 4/100\n",
            "34/34 [==============================] - 0s 1ms/step - loss: 12055.7510 - mae: 12055.7510\n",
            "Epoch 5/100\n",
            "34/34 [==============================] - 0s 1ms/step - loss: 10905.8154 - mae: 10905.8154\n",
            "Epoch 6/100\n",
            "34/34 [==============================] - 0s 1ms/step - loss: 9457.7217 - mae: 9457.7217\n",
            "Epoch 7/100\n",
            "34/34 [==============================] - 0s 2ms/step - loss: 8147.6543 - mae: 8147.6543\n",
            "Epoch 8/100\n",
            "34/34 [==============================] - 0s 1ms/step - loss: 7528.8408 - mae: 7528.8408\n",
            "Epoch 9/100\n",
            "34/34 [==============================] - 0s 2ms/step - loss: 7429.1528 - mae: 7429.1528\n",
            "Epoch 10/100\n",
            "34/34 [==============================] - 0s 2ms/step - loss: 7409.0811 - mae: 7409.0811\n",
            "Epoch 11/100\n",
            "34/34 [==============================] - 0s 1ms/step - loss: 7390.8042 - mae: 7390.8042\n",
            "Epoch 12/100\n",
            "34/34 [==============================] - 0s 1ms/step - loss: 7368.9180 - mae: 7368.9180\n",
            "Epoch 13/100\n",
            "34/34 [==============================] - 0s 1ms/step - loss: 7348.5190 - mae: 7348.5190\n",
            "Epoch 14/100\n",
            "34/34 [==============================] - 0s 1ms/step - loss: 7326.4893 - mae: 7326.4893\n",
            "Epoch 15/100\n",
            "34/34 [==============================] - 0s 1ms/step - loss: 7307.5815 - mae: 7307.5815\n",
            "Epoch 16/100\n",
            "34/34 [==============================] - 0s 1ms/step - loss: 7285.7734 - mae: 7285.7734\n",
            "Epoch 17/100\n",
            "34/34 [==============================] - 0s 1ms/step - loss: 7265.7100 - mae: 7265.7100\n",
            "Epoch 18/100\n",
            "34/34 [==============================] - 0s 1ms/step - loss: 7242.5488 - mae: 7242.5488\n",
            "Epoch 19/100\n",
            "34/34 [==============================] - 0s 1ms/step - loss: 7220.5068 - mae: 7220.5068\n",
            "Epoch 20/100\n",
            "34/34 [==============================] - 0s 1ms/step - loss: 7197.1978 - mae: 7197.1978\n",
            "Epoch 21/100\n",
            "34/34 [==============================] - 0s 1ms/step - loss: 7179.0195 - mae: 7179.0195\n",
            "Epoch 22/100\n",
            "34/34 [==============================] - 0s 2ms/step - loss: 7151.2104 - mae: 7151.2104\n",
            "Epoch 23/100\n",
            "34/34 [==============================] - 0s 1ms/step - loss: 7126.4639 - mae: 7126.4639\n",
            "Epoch 24/100\n",
            "34/34 [==============================] - 0s 1ms/step - loss: 7101.9189 - mae: 7101.9189\n",
            "Epoch 25/100\n",
            "34/34 [==============================] - 0s 1ms/step - loss: 7084.3379 - mae: 7084.3379\n",
            "Epoch 26/100\n",
            "34/34 [==============================] - 0s 1ms/step - loss: 7052.3291 - mae: 7052.3291\n",
            "Epoch 27/100\n",
            "34/34 [==============================] - 0s 1ms/step - loss: 7024.3506 - mae: 7024.3506\n",
            "Epoch 28/100\n",
            "34/34 [==============================] - 0s 1ms/step - loss: 6996.6963 - mae: 6996.6963\n",
            "Epoch 29/100\n",
            "34/34 [==============================] - 0s 2ms/step - loss: 6969.0112 - mae: 6969.0112\n",
            "Epoch 30/100\n",
            "34/34 [==============================] - 0s 1ms/step - loss: 6942.1899 - mae: 6942.1899\n",
            "Epoch 31/100\n",
            "34/34 [==============================] - 0s 1ms/step - loss: 6911.7275 - mae: 6911.7275\n",
            "Epoch 32/100\n",
            "34/34 [==============================] - 0s 1ms/step - loss: 6884.0205 - mae: 6884.0205\n",
            "Epoch 33/100\n",
            "34/34 [==============================] - 0s 1ms/step - loss: 6853.4648 - mae: 6853.4648\n",
            "Epoch 34/100\n",
            "34/34 [==============================] - 0s 2ms/step - loss: 6823.0674 - mae: 6823.0674\n",
            "Epoch 35/100\n",
            "34/34 [==============================] - 0s 2ms/step - loss: 6789.6855 - mae: 6789.6855\n",
            "Epoch 36/100\n",
            "34/34 [==============================] - 0s 2ms/step - loss: 6755.7646 - mae: 6755.7646\n",
            "Epoch 37/100\n",
            "34/34 [==============================] - 0s 2ms/step - loss: 6720.2026 - mae: 6720.2026\n",
            "Epoch 38/100\n",
            "34/34 [==============================] - 0s 1ms/step - loss: 6689.7158 - mae: 6689.7158\n",
            "Epoch 39/100\n",
            "34/34 [==============================] - 0s 1ms/step - loss: 6652.4614 - mae: 6652.4614\n",
            "Epoch 40/100\n",
            "34/34 [==============================] - 0s 1ms/step - loss: 6618.1016 - mae: 6618.1016\n",
            "Epoch 41/100\n",
            "34/34 [==============================] - 0s 1ms/step - loss: 6585.8643 - mae: 6585.8643\n",
            "Epoch 42/100\n",
            "34/34 [==============================] - 0s 1ms/step - loss: 6559.4956 - mae: 6559.4956\n",
            "Epoch 43/100\n",
            "34/34 [==============================] - 0s 2ms/step - loss: 6530.0444 - mae: 6530.0444\n",
            "Epoch 44/100\n",
            "34/34 [==============================] - 0s 1ms/step - loss: 6506.8071 - mae: 6506.8071\n",
            "Epoch 45/100\n",
            "34/34 [==============================] - 0s 1ms/step - loss: 6493.5718 - mae: 6493.5718\n",
            "Epoch 46/100\n",
            "34/34 [==============================] - 0s 2ms/step - loss: 6475.9258 - mae: 6475.9258\n",
            "Epoch 47/100\n",
            "34/34 [==============================] - 0s 1ms/step - loss: 6458.8979 - mae: 6458.8979\n",
            "Epoch 48/100\n",
            "34/34 [==============================] - 0s 1ms/step - loss: 6445.1494 - mae: 6445.1494\n",
            "Epoch 49/100\n",
            "34/34 [==============================] - 0s 2ms/step - loss: 6430.9634 - mae: 6430.9634\n",
            "Epoch 50/100\n",
            "34/34 [==============================] - 0s 2ms/step - loss: 6417.7510 - mae: 6417.7510\n",
            "Epoch 51/100\n",
            "34/34 [==============================] - 0s 1ms/step - loss: 6403.2759 - mae: 6403.2759\n",
            "Epoch 52/100\n",
            "34/34 [==============================] - 0s 2ms/step - loss: 6392.4141 - mae: 6392.4141\n",
            "Epoch 53/100\n",
            "34/34 [==============================] - 0s 2ms/step - loss: 6378.7451 - mae: 6378.7451\n",
            "Epoch 54/100\n",
            "34/34 [==============================] - 0s 2ms/step - loss: 6364.9131 - mae: 6364.9131\n",
            "Epoch 55/100\n",
            "34/34 [==============================] - 0s 1ms/step - loss: 6351.5273 - mae: 6351.5273\n",
            "Epoch 56/100\n",
            "34/34 [==============================] - 0s 1ms/step - loss: 6337.6602 - mae: 6337.6602\n",
            "Epoch 57/100\n",
            "34/34 [==============================] - 0s 1ms/step - loss: 6324.8374 - mae: 6324.8374\n",
            "Epoch 58/100\n",
            "34/34 [==============================] - 0s 1ms/step - loss: 6310.1943 - mae: 6310.1943\n",
            "Epoch 59/100\n",
            "34/34 [==============================] - 0s 1ms/step - loss: 6295.6035 - mae: 6295.6035\n",
            "Epoch 60/100\n",
            "34/34 [==============================] - 0s 1ms/step - loss: 6284.8696 - mae: 6284.8696\n",
            "Epoch 61/100\n",
            "34/34 [==============================] - 0s 1ms/step - loss: 6265.6411 - mae: 6265.6411\n",
            "Epoch 62/100\n",
            "34/34 [==============================] - 0s 1ms/step - loss: 6253.0103 - mae: 6253.0103\n",
            "Epoch 63/100\n",
            "34/34 [==============================] - 0s 2ms/step - loss: 6234.9292 - mae: 6234.9292\n",
            "Epoch 64/100\n",
            "34/34 [==============================] - 0s 1ms/step - loss: 6218.0430 - mae: 6218.0430\n",
            "Epoch 65/100\n",
            "34/34 [==============================] - 0s 1ms/step - loss: 6201.1899 - mae: 6201.1899\n",
            "Epoch 66/100\n",
            "34/34 [==============================] - 0s 1ms/step - loss: 6183.9595 - mae: 6183.9595\n",
            "Epoch 67/100\n",
            "34/34 [==============================] - 0s 1ms/step - loss: 6171.2993 - mae: 6171.2993\n",
            "Epoch 68/100\n",
            "34/34 [==============================] - 0s 2ms/step - loss: 6148.8398 - mae: 6148.8398\n",
            "Epoch 69/100\n",
            "34/34 [==============================] - 0s 1ms/step - loss: 6132.5981 - mae: 6132.5981\n",
            "Epoch 70/100\n",
            "34/34 [==============================] - 0s 1ms/step - loss: 6112.3848 - mae: 6112.3848\n",
            "Epoch 71/100\n",
            "34/34 [==============================] - 0s 2ms/step - loss: 6092.7202 - mae: 6092.7202\n",
            "Epoch 72/100\n",
            "34/34 [==============================] - 0s 1ms/step - loss: 6073.7422 - mae: 6073.7422\n",
            "Epoch 73/100\n",
            "34/34 [==============================] - 0s 1ms/step - loss: 6059.4873 - mae: 6059.4873\n",
            "Epoch 74/100\n",
            "34/34 [==============================] - 0s 2ms/step - loss: 6031.3848 - mae: 6031.3848\n",
            "Epoch 75/100\n",
            "34/34 [==============================] - 0s 1ms/step - loss: 6010.3350 - mae: 6010.3350\n",
            "Epoch 76/100\n",
            "34/34 [==============================] - 0s 1ms/step - loss: 5995.2178 - mae: 5995.2178\n",
            "Epoch 77/100\n",
            "34/34 [==============================] - 0s 1ms/step - loss: 5963.0718 - mae: 5963.0718\n",
            "Epoch 78/100\n",
            "34/34 [==============================] - 0s 1ms/step - loss: 5940.0605 - mae: 5940.0605\n",
            "Epoch 79/100\n",
            "34/34 [==============================] - 0s 1ms/step - loss: 5915.1064 - mae: 5915.1064\n",
            "Epoch 80/100\n",
            "34/34 [==============================] - 0s 2ms/step - loss: 5887.9990 - mae: 5887.9990\n",
            "Epoch 81/100\n",
            "34/34 [==============================] - 0s 2ms/step - loss: 5861.6987 - mae: 5861.6987\n",
            "Epoch 82/100\n",
            "34/34 [==============================] - 0s 1ms/step - loss: 5834.3071 - mae: 5834.3071\n",
            "Epoch 83/100\n",
            "34/34 [==============================] - 0s 2ms/step - loss: 5805.8242 - mae: 5805.8242\n",
            "Epoch 84/100\n",
            "34/34 [==============================] - 0s 1ms/step - loss: 5772.3232 - mae: 5772.3232\n",
            "Epoch 85/100\n",
            "34/34 [==============================] - 0s 1ms/step - loss: 5745.1514 - mae: 5745.1514\n",
            "Epoch 86/100\n",
            "34/34 [==============================] - 0s 2ms/step - loss: 5711.3481 - mae: 5711.3481\n",
            "Epoch 87/100\n",
            "34/34 [==============================] - 0s 1ms/step - loss: 5674.5215 - mae: 5674.5215\n",
            "Epoch 88/100\n",
            "34/34 [==============================] - 0s 1ms/step - loss: 5639.4927 - mae: 5639.4927\n",
            "Epoch 89/100\n",
            "34/34 [==============================] - 0s 1ms/step - loss: 5600.6650 - mae: 5600.6650\n",
            "Epoch 90/100\n",
            "34/34 [==============================] - 0s 1ms/step - loss: 5559.4326 - mae: 5559.4326\n",
            "Epoch 91/100\n",
            "34/34 [==============================] - 0s 1ms/step - loss: 5523.6187 - mae: 5523.6187\n",
            "Epoch 92/100\n",
            "34/34 [==============================] - 0s 1ms/step - loss: 5474.1250 - mae: 5474.1250\n",
            "Epoch 93/100\n",
            "34/34 [==============================] - 0s 2ms/step - loss: 5432.2656 - mae: 5432.2656\n",
            "Epoch 94/100\n",
            "34/34 [==============================] - 0s 1ms/step - loss: 5386.0527 - mae: 5386.0527\n",
            "Epoch 95/100\n",
            "34/34 [==============================] - 0s 1ms/step - loss: 5333.1812 - mae: 5333.1812\n",
            "Epoch 96/100\n",
            "34/34 [==============================] - 0s 1ms/step - loss: 5288.8159 - mae: 5288.8159\n",
            "Epoch 97/100\n",
            "34/34 [==============================] - 0s 1ms/step - loss: 5234.6792 - mae: 5234.6792\n",
            "Epoch 98/100\n",
            "34/34 [==============================] - 0s 2ms/step - loss: 5170.9351 - mae: 5170.9351\n",
            "Epoch 99/100\n",
            "34/34 [==============================] - 0s 1ms/step - loss: 5112.9438 - mae: 5112.9438\n",
            "Epoch 100/100\n",
            "34/34 [==============================] - 0s 2ms/step - loss: 5059.8447 - mae: 5059.8447\n"
          ],
          "name": "stdout"
        },
        {
          "output_type": "execute_result",
          "data": {
            "text/plain": [
              "<tensorflow.python.keras.callbacks.History at 0x7f45671c2a50>"
            ]
          },
          "metadata": {
            "tags": []
          },
          "execution_count": 259
        }
      ]
    },
    {
      "cell_type": "code",
      "metadata": {
        "colab": {
          "base_uri": "https://localhost:8080/"
        },
        "id": "btQ0mCwk1s2N",
        "outputId": "9f0f7b8c-13b1-4d11-ed1d-6d7423b726a4"
      },
      "source": [
        "insurance_model_2.evaluate(x_test,y_test)"
      ],
      "execution_count": null,
      "outputs": [
        {
          "output_type": "stream",
          "text": [
            "9/9 [==============================] - 0s 2ms/step - loss: 4924.4961 - mae: 4924.4961\n"
          ],
          "name": "stdout"
        },
        {
          "output_type": "execute_result",
          "data": {
            "text/plain": [
              "[4924.49609375, 4924.49609375]"
            ]
          },
          "metadata": {
            "tags": []
          },
          "execution_count": 260
        }
      ]
    },
    {
      "cell_type": "code",
      "metadata": {
        "colab": {
          "base_uri": "https://localhost:8080/"
        },
        "id": "rGzfjEJU2ZsX",
        "outputId": "cd6ccf60-73a6-4460-ba68-d1bda5a356ce"
      },
      "source": [
        "insurance_model.evaluate(x_test,y_test)"
      ],
      "execution_count": null,
      "outputs": [
        {
          "output_type": "stream",
          "text": [
            "9/9 [==============================] - 0s 2ms/step - loss: 7023.3291 - mae: 7023.3291\n"
          ],
          "name": "stdout"
        },
        {
          "output_type": "execute_result",
          "data": {
            "text/plain": [
              "[7023.3291015625, 7023.3291015625]"
            ]
          },
          "metadata": {
            "tags": []
          },
          "execution_count": 261
        }
      ]
    },
    {
      "cell_type": "code",
      "metadata": {
        "colab": {
          "base_uri": "https://localhost:8080/"
        },
        "id": "wqxd00vn2dQe",
        "outputId": "b5d2bdb3-eb06-4bea-aa6f-d6c13e9671ab"
      },
      "source": [
        "tf.random.set_seed(42)\n",
        "\n",
        "insurance_model_3 = tf.keras.Sequential(\n",
        "    [\n",
        "     tf.keras.layers.Dense(100),\n",
        "     tf.keras.layers.Dense(10),\n",
        "     tf.keras.layers.Dense(1)\n",
        "    ]\n",
        ")\n",
        "\n",
        "\n",
        "insurance_model_3.compile(\n",
        "    loss = tf.keras.losses.mae,\n",
        "    optimizer =tf.keras.optimizers.Adam(),\n",
        "    metrics= ['mae']\n",
        ")\n",
        "\n",
        "history = insurance_model_3.fit(x_train,y_train,epochs=200)"
      ],
      "execution_count": null,
      "outputs": [
        {
          "output_type": "stream",
          "text": [
            "Epoch 1/200\n",
            "34/34 [==============================] - 0s 1ms/step - loss: 13273.1602 - mae: 13273.1602\n",
            "Epoch 2/200\n",
            "34/34 [==============================] - 0s 1ms/step - loss: 13104.4297 - mae: 13104.4297\n",
            "Epoch 3/200\n",
            "34/34 [==============================] - 0s 1ms/step - loss: 12749.5420 - mae: 12749.5420\n",
            "Epoch 4/200\n",
            "34/34 [==============================] - 0s 1ms/step - loss: 12055.7510 - mae: 12055.7510\n",
            "Epoch 5/200\n",
            "34/34 [==============================] - 0s 2ms/step - loss: 10905.8154 - mae: 10905.8154\n",
            "Epoch 6/200\n",
            "34/34 [==============================] - 0s 1ms/step - loss: 9457.7217 - mae: 9457.7217\n",
            "Epoch 7/200\n",
            "34/34 [==============================] - 0s 1ms/step - loss: 8147.6543 - mae: 8147.6543\n",
            "Epoch 8/200\n",
            "34/34 [==============================] - 0s 1ms/step - loss: 7528.8408 - mae: 7528.8408\n",
            "Epoch 9/200\n",
            "34/34 [==============================] - 0s 1ms/step - loss: 7429.1528 - mae: 7429.1528\n",
            "Epoch 10/200\n",
            "34/34 [==============================] - 0s 1ms/step - loss: 7409.0811 - mae: 7409.0811\n",
            "Epoch 11/200\n",
            "34/34 [==============================] - 0s 1ms/step - loss: 7390.8042 - mae: 7390.8042\n",
            "Epoch 12/200\n",
            "34/34 [==============================] - 0s 2ms/step - loss: 7368.9180 - mae: 7368.9180\n",
            "Epoch 13/200\n",
            "34/34 [==============================] - 0s 2ms/step - loss: 7348.5190 - mae: 7348.5190\n",
            "Epoch 14/200\n",
            "34/34 [==============================] - 0s 1ms/step - loss: 7326.4893 - mae: 7326.4893\n",
            "Epoch 15/200\n",
            "34/34 [==============================] - 0s 1ms/step - loss: 7307.5815 - mae: 7307.5815\n",
            "Epoch 16/200\n",
            "34/34 [==============================] - 0s 1ms/step - loss: 7285.7734 - mae: 7285.7734\n",
            "Epoch 17/200\n",
            "34/34 [==============================] - 0s 1ms/step - loss: 7265.7100 - mae: 7265.7100\n",
            "Epoch 18/200\n",
            "34/34 [==============================] - 0s 2ms/step - loss: 7242.5488 - mae: 7242.5488\n",
            "Epoch 19/200\n",
            "34/34 [==============================] - 0s 1ms/step - loss: 7220.5068 - mae: 7220.5068\n",
            "Epoch 20/200\n",
            "34/34 [==============================] - 0s 2ms/step - loss: 7197.1978 - mae: 7197.1978\n",
            "Epoch 21/200\n",
            "34/34 [==============================] - 0s 1ms/step - loss: 7179.0195 - mae: 7179.0195\n",
            "Epoch 22/200\n",
            "34/34 [==============================] - 0s 1ms/step - loss: 7151.2104 - mae: 7151.2104\n",
            "Epoch 23/200\n",
            "34/34 [==============================] - 0s 1ms/step - loss: 7126.4639 - mae: 7126.4639\n",
            "Epoch 24/200\n",
            "34/34 [==============================] - 0s 1ms/step - loss: 7101.9189 - mae: 7101.9189\n",
            "Epoch 25/200\n",
            "34/34 [==============================] - 0s 1ms/step - loss: 7084.3379 - mae: 7084.3379\n",
            "Epoch 26/200\n",
            "34/34 [==============================] - 0s 1ms/step - loss: 7052.3291 - mae: 7052.3291\n",
            "Epoch 27/200\n",
            "34/34 [==============================] - 0s 1ms/step - loss: 7024.3506 - mae: 7024.3506\n",
            "Epoch 28/200\n",
            "34/34 [==============================] - 0s 1ms/step - loss: 6996.6963 - mae: 6996.6963\n",
            "Epoch 29/200\n",
            "34/34 [==============================] - 0s 1ms/step - loss: 6969.0112 - mae: 6969.0112\n",
            "Epoch 30/200\n",
            "34/34 [==============================] - 0s 2ms/step - loss: 6942.1899 - mae: 6942.1899\n",
            "Epoch 31/200\n",
            "34/34 [==============================] - 0s 1ms/step - loss: 6911.7275 - mae: 6911.7275\n",
            "Epoch 32/200\n",
            "34/34 [==============================] - 0s 1ms/step - loss: 6884.0205 - mae: 6884.0205\n",
            "Epoch 33/200\n",
            "34/34 [==============================] - 0s 1ms/step - loss: 6853.4648 - mae: 6853.4648\n",
            "Epoch 34/200\n",
            "34/34 [==============================] - 0s 1ms/step - loss: 6823.0674 - mae: 6823.0674\n",
            "Epoch 35/200\n",
            "34/34 [==============================] - 0s 1ms/step - loss: 6789.6855 - mae: 6789.6855\n",
            "Epoch 36/200\n",
            "34/34 [==============================] - 0s 2ms/step - loss: 6755.7646 - mae: 6755.7646\n",
            "Epoch 37/200\n",
            "34/34 [==============================] - 0s 2ms/step - loss: 6720.2026 - mae: 6720.2026\n",
            "Epoch 38/200\n",
            "34/34 [==============================] - 0s 1ms/step - loss: 6689.7158 - mae: 6689.7158\n",
            "Epoch 39/200\n",
            "34/34 [==============================] - 0s 1ms/step - loss: 6652.4614 - mae: 6652.4614\n",
            "Epoch 40/200\n",
            "34/34 [==============================] - 0s 1ms/step - loss: 6618.1016 - mae: 6618.1016\n",
            "Epoch 41/200\n",
            "34/34 [==============================] - 0s 1ms/step - loss: 6585.8643 - mae: 6585.8643\n",
            "Epoch 42/200\n",
            "34/34 [==============================] - 0s 1ms/step - loss: 6559.4956 - mae: 6559.4956\n",
            "Epoch 43/200\n",
            "34/34 [==============================] - 0s 2ms/step - loss: 6530.0444 - mae: 6530.0444\n",
            "Epoch 44/200\n",
            "34/34 [==============================] - 0s 2ms/step - loss: 6506.8071 - mae: 6506.8071\n",
            "Epoch 45/200\n",
            "34/34 [==============================] - 0s 1ms/step - loss: 6493.5718 - mae: 6493.5718\n",
            "Epoch 46/200\n",
            "34/34 [==============================] - 0s 1ms/step - loss: 6475.9258 - mae: 6475.9258\n",
            "Epoch 47/200\n",
            "34/34 [==============================] - 0s 2ms/step - loss: 6458.8979 - mae: 6458.8979\n",
            "Epoch 48/200\n",
            "34/34 [==============================] - 0s 1ms/step - loss: 6445.1494 - mae: 6445.1494\n",
            "Epoch 49/200\n",
            "34/34 [==============================] - 0s 1ms/step - loss: 6430.9634 - mae: 6430.9634\n",
            "Epoch 50/200\n",
            "34/34 [==============================] - 0s 1ms/step - loss: 6417.7510 - mae: 6417.7510\n",
            "Epoch 51/200\n",
            "34/34 [==============================] - 0s 2ms/step - loss: 6403.2759 - mae: 6403.2759\n",
            "Epoch 52/200\n",
            "34/34 [==============================] - 0s 1ms/step - loss: 6392.4141 - mae: 6392.4141\n",
            "Epoch 53/200\n",
            "34/34 [==============================] - 0s 1ms/step - loss: 6378.7451 - mae: 6378.7451\n",
            "Epoch 54/200\n",
            "34/34 [==============================] - 0s 1ms/step - loss: 6364.9131 - mae: 6364.9131\n",
            "Epoch 55/200\n",
            "34/34 [==============================] - 0s 1ms/step - loss: 6351.5273 - mae: 6351.5273\n",
            "Epoch 56/200\n",
            "34/34 [==============================] - 0s 1ms/step - loss: 6337.6602 - mae: 6337.6602\n",
            "Epoch 57/200\n",
            "34/34 [==============================] - 0s 1ms/step - loss: 6324.8374 - mae: 6324.8374\n",
            "Epoch 58/200\n",
            "34/34 [==============================] - 0s 1ms/step - loss: 6310.1943 - mae: 6310.1943\n",
            "Epoch 59/200\n",
            "34/34 [==============================] - 0s 1ms/step - loss: 6295.6035 - mae: 6295.6035\n",
            "Epoch 60/200\n",
            "34/34 [==============================] - 0s 1ms/step - loss: 6284.8696 - mae: 6284.8696\n",
            "Epoch 61/200\n",
            "34/34 [==============================] - 0s 1ms/step - loss: 6265.6411 - mae: 6265.6411\n",
            "Epoch 62/200\n",
            "34/34 [==============================] - 0s 1ms/step - loss: 6253.0103 - mae: 6253.0103\n",
            "Epoch 63/200\n",
            "34/34 [==============================] - 0s 1ms/step - loss: 6234.9292 - mae: 6234.9292\n",
            "Epoch 64/200\n",
            "34/34 [==============================] - 0s 1ms/step - loss: 6218.0430 - mae: 6218.0430\n",
            "Epoch 65/200\n",
            "34/34 [==============================] - 0s 1ms/step - loss: 6201.1899 - mae: 6201.1899\n",
            "Epoch 66/200\n",
            "34/34 [==============================] - 0s 1ms/step - loss: 6183.9595 - mae: 6183.9595\n",
            "Epoch 67/200\n",
            "34/34 [==============================] - 0s 1ms/step - loss: 6171.2993 - mae: 6171.2993\n",
            "Epoch 68/200\n",
            "34/34 [==============================] - 0s 1ms/step - loss: 6148.8398 - mae: 6148.8398\n",
            "Epoch 69/200\n",
            "34/34 [==============================] - 0s 1ms/step - loss: 6132.5981 - mae: 6132.5981\n",
            "Epoch 70/200\n",
            "34/34 [==============================] - 0s 1ms/step - loss: 6112.3848 - mae: 6112.3848\n",
            "Epoch 71/200\n",
            "34/34 [==============================] - 0s 1ms/step - loss: 6092.7202 - mae: 6092.7202\n",
            "Epoch 72/200\n",
            "34/34 [==============================] - 0s 1ms/step - loss: 6073.7422 - mae: 6073.7422\n",
            "Epoch 73/200\n",
            "34/34 [==============================] - 0s 1ms/step - loss: 6059.4873 - mae: 6059.4873\n",
            "Epoch 74/200\n",
            "34/34 [==============================] - 0s 1ms/step - loss: 6031.3848 - mae: 6031.3848\n",
            "Epoch 75/200\n",
            "34/34 [==============================] - 0s 1ms/step - loss: 6010.3350 - mae: 6010.3350\n",
            "Epoch 76/200\n",
            "34/34 [==============================] - 0s 1ms/step - loss: 5995.2178 - mae: 5995.2178\n",
            "Epoch 77/200\n",
            "34/34 [==============================] - 0s 1ms/step - loss: 5963.0718 - mae: 5963.0718\n",
            "Epoch 78/200\n",
            "34/34 [==============================] - 0s 2ms/step - loss: 5940.0605 - mae: 5940.0605\n",
            "Epoch 79/200\n",
            "34/34 [==============================] - 0s 2ms/step - loss: 5915.1064 - mae: 5915.1064\n",
            "Epoch 80/200\n",
            "34/34 [==============================] - 0s 1ms/step - loss: 5887.9990 - mae: 5887.9990\n",
            "Epoch 81/200\n",
            "34/34 [==============================] - 0s 2ms/step - loss: 5861.6987 - mae: 5861.6987\n",
            "Epoch 82/200\n",
            "34/34 [==============================] - 0s 1ms/step - loss: 5834.3071 - mae: 5834.3071\n",
            "Epoch 83/200\n",
            "34/34 [==============================] - 0s 2ms/step - loss: 5805.8242 - mae: 5805.8242\n",
            "Epoch 84/200\n",
            "34/34 [==============================] - 0s 1ms/step - loss: 5772.3232 - mae: 5772.3232\n",
            "Epoch 85/200\n",
            "34/34 [==============================] - 0s 1ms/step - loss: 5745.1514 - mae: 5745.1514\n",
            "Epoch 86/200\n",
            "34/34 [==============================] - 0s 1ms/step - loss: 5711.3481 - mae: 5711.3481\n",
            "Epoch 87/200\n",
            "34/34 [==============================] - 0s 2ms/step - loss: 5674.5215 - mae: 5674.5215\n",
            "Epoch 88/200\n",
            "34/34 [==============================] - 0s 2ms/step - loss: 5639.4927 - mae: 5639.4927\n",
            "Epoch 89/200\n",
            "34/34 [==============================] - 0s 1ms/step - loss: 5600.6650 - mae: 5600.6650\n",
            "Epoch 90/200\n",
            "34/34 [==============================] - 0s 2ms/step - loss: 5559.4326 - mae: 5559.4326\n",
            "Epoch 91/200\n",
            "34/34 [==============================] - 0s 1ms/step - loss: 5523.6187 - mae: 5523.6187\n",
            "Epoch 92/200\n",
            "34/34 [==============================] - 0s 1ms/step - loss: 5474.1250 - mae: 5474.1250\n",
            "Epoch 93/200\n",
            "34/34 [==============================] - 0s 1ms/step - loss: 5432.2656 - mae: 5432.2656\n",
            "Epoch 94/200\n",
            "34/34 [==============================] - 0s 1ms/step - loss: 5386.0527 - mae: 5386.0527\n",
            "Epoch 95/200\n",
            "34/34 [==============================] - 0s 2ms/step - loss: 5333.1812 - mae: 5333.1812\n",
            "Epoch 96/200\n",
            "34/34 [==============================] - 0s 2ms/step - loss: 5288.8159 - mae: 5288.8159\n",
            "Epoch 97/200\n",
            "34/34 [==============================] - 0s 2ms/step - loss: 5234.6792 - mae: 5234.6792\n",
            "Epoch 98/200\n",
            "34/34 [==============================] - 0s 1ms/step - loss: 5170.9351 - mae: 5170.9351\n",
            "Epoch 99/200\n",
            "34/34 [==============================] - 0s 2ms/step - loss: 5112.9438 - mae: 5112.9438\n",
            "Epoch 100/200\n",
            "34/34 [==============================] - 0s 2ms/step - loss: 5059.8447 - mae: 5059.8447\n",
            "Epoch 101/200\n",
            "34/34 [==============================] - 0s 1ms/step - loss: 4987.7090 - mae: 4987.7090\n",
            "Epoch 102/200\n",
            "34/34 [==============================] - 0s 1ms/step - loss: 4915.4390 - mae: 4915.4390\n",
            "Epoch 103/200\n",
            "34/34 [==============================] - 0s 1ms/step - loss: 4847.4639 - mae: 4847.4639\n",
            "Epoch 104/200\n",
            "34/34 [==============================] - 0s 1ms/step - loss: 4768.1533 - mae: 4768.1533\n",
            "Epoch 105/200\n",
            "34/34 [==============================] - 0s 2ms/step - loss: 4683.4321 - mae: 4683.4321\n",
            "Epoch 106/200\n",
            "34/34 [==============================] - 0s 1ms/step - loss: 4601.1826 - mae: 4601.1826\n",
            "Epoch 107/200\n",
            "34/34 [==============================] - 0s 1ms/step - loss: 4513.4478 - mae: 4513.4478\n",
            "Epoch 108/200\n",
            "34/34 [==============================] - 0s 1ms/step - loss: 4423.2485 - mae: 4423.2485\n",
            "Epoch 109/200\n",
            "34/34 [==============================] - 0s 1ms/step - loss: 4339.1401 - mae: 4339.1401\n",
            "Epoch 110/200\n",
            "34/34 [==============================] - 0s 1ms/step - loss: 4255.4292 - mae: 4255.4292\n",
            "Epoch 111/200\n",
            "34/34 [==============================] - 0s 1ms/step - loss: 4173.2402 - mae: 4173.2402\n",
            "Epoch 112/200\n",
            "34/34 [==============================] - 0s 1ms/step - loss: 4102.3027 - mae: 4102.3027\n",
            "Epoch 113/200\n",
            "34/34 [==============================] - 0s 2ms/step - loss: 4028.0874 - mae: 4028.0874\n",
            "Epoch 114/200\n",
            "34/34 [==============================] - 0s 1ms/step - loss: 3987.8621 - mae: 3987.8621\n",
            "Epoch 115/200\n",
            "34/34 [==============================] - 0s 1ms/step - loss: 3945.6599 - mae: 3945.6599\n",
            "Epoch 116/200\n",
            "34/34 [==============================] - 0s 1ms/step - loss: 3918.2407 - mae: 3918.2407\n",
            "Epoch 117/200\n",
            "34/34 [==============================] - 0s 2ms/step - loss: 3897.1462 - mae: 3897.1462\n",
            "Epoch 118/200\n",
            "34/34 [==============================] - 0s 2ms/step - loss: 3871.5635 - mae: 3871.5635\n",
            "Epoch 119/200\n",
            "34/34 [==============================] - 0s 1ms/step - loss: 3852.5769 - mae: 3852.5769\n",
            "Epoch 120/200\n",
            "34/34 [==============================] - 0s 1ms/step - loss: 3835.2859 - mae: 3835.2859\n",
            "Epoch 121/200\n",
            "34/34 [==============================] - 0s 1ms/step - loss: 3829.0356 - mae: 3829.0356\n",
            "Epoch 122/200\n",
            "34/34 [==============================] - 0s 1ms/step - loss: 3823.3438 - mae: 3823.3438\n",
            "Epoch 123/200\n",
            "34/34 [==============================] - 0s 1ms/step - loss: 3814.8372 - mae: 3814.8372\n",
            "Epoch 124/200\n",
            "34/34 [==============================] - 0s 1ms/step - loss: 3806.4583 - mae: 3806.4583\n",
            "Epoch 125/200\n",
            "34/34 [==============================] - 0s 2ms/step - loss: 3795.8459 - mae: 3795.8459\n",
            "Epoch 126/200\n",
            "34/34 [==============================] - 0s 1ms/step - loss: 3805.0994 - mae: 3805.0994\n",
            "Epoch 127/200\n",
            "34/34 [==============================] - 0s 1ms/step - loss: 3797.2932 - mae: 3797.2932\n",
            "Epoch 128/200\n",
            "34/34 [==============================] - 0s 2ms/step - loss: 3791.3442 - mae: 3791.3442\n",
            "Epoch 129/200\n",
            "34/34 [==============================] - 0s 1ms/step - loss: 3801.2891 - mae: 3801.2891\n",
            "Epoch 130/200\n",
            "34/34 [==============================] - 0s 1ms/step - loss: 3790.9077 - mae: 3790.9077\n",
            "Epoch 131/200\n",
            "34/34 [==============================] - 0s 1ms/step - loss: 3781.4387 - mae: 3781.4387\n",
            "Epoch 132/200\n",
            "34/34 [==============================] - 0s 1ms/step - loss: 3775.3513 - mae: 3775.3513\n",
            "Epoch 133/200\n",
            "34/34 [==============================] - 0s 2ms/step - loss: 3770.3950 - mae: 3770.3950\n",
            "Epoch 134/200\n",
            "34/34 [==============================] - 0s 2ms/step - loss: 3771.6885 - mae: 3771.6885\n",
            "Epoch 135/200\n",
            "34/34 [==============================] - 0s 1ms/step - loss: 3767.4382 - mae: 3767.4382\n",
            "Epoch 136/200\n",
            "34/34 [==============================] - 0s 1ms/step - loss: 3766.6714 - mae: 3766.6714\n",
            "Epoch 137/200\n",
            "34/34 [==============================] - 0s 1ms/step - loss: 3775.2361 - mae: 3775.2361\n",
            "Epoch 138/200\n",
            "34/34 [==============================] - 0s 1ms/step - loss: 3784.4844 - mae: 3784.4844\n",
            "Epoch 139/200\n",
            "34/34 [==============================] - 0s 2ms/step - loss: 3761.7341 - mae: 3761.7341\n",
            "Epoch 140/200\n",
            "34/34 [==============================] - 0s 1ms/step - loss: 3762.1360 - mae: 3762.1360\n",
            "Epoch 141/200\n",
            "34/34 [==============================] - 0s 1ms/step - loss: 3763.4082 - mae: 3763.4082\n",
            "Epoch 142/200\n",
            "34/34 [==============================] - 0s 2ms/step - loss: 3763.5349 - mae: 3763.5349\n",
            "Epoch 143/200\n",
            "34/34 [==============================] - 0s 2ms/step - loss: 3754.6104 - mae: 3754.6104\n",
            "Epoch 144/200\n",
            "34/34 [==============================] - 0s 1ms/step - loss: 3750.8074 - mae: 3750.8074\n",
            "Epoch 145/200\n",
            "34/34 [==============================] - 0s 1ms/step - loss: 3751.2629 - mae: 3751.2629\n",
            "Epoch 146/200\n",
            "34/34 [==============================] - 0s 2ms/step - loss: 3754.6194 - mae: 3754.6194\n",
            "Epoch 147/200\n",
            "34/34 [==============================] - 0s 2ms/step - loss: 3751.5327 - mae: 3751.5327\n",
            "Epoch 148/200\n",
            "34/34 [==============================] - 0s 1ms/step - loss: 3755.4761 - mae: 3755.4761\n",
            "Epoch 149/200\n",
            "34/34 [==============================] - 0s 2ms/step - loss: 3743.7812 - mae: 3743.7812\n",
            "Epoch 150/200\n",
            "34/34 [==============================] - 0s 2ms/step - loss: 3738.6592 - mae: 3738.6592\n",
            "Epoch 151/200\n",
            "34/34 [==============================] - 0s 2ms/step - loss: 3741.3875 - mae: 3741.3875\n",
            "Epoch 152/200\n",
            "34/34 [==============================] - 0s 2ms/step - loss: 3742.3992 - mae: 3742.3992\n",
            "Epoch 153/200\n",
            "34/34 [==============================] - 0s 1ms/step - loss: 3742.1941 - mae: 3742.1941\n",
            "Epoch 154/200\n",
            "34/34 [==============================] - 0s 1ms/step - loss: 3737.1804 - mae: 3737.1804\n",
            "Epoch 155/200\n",
            "34/34 [==============================] - 0s 1ms/step - loss: 3738.9937 - mae: 3738.9937\n",
            "Epoch 156/200\n",
            "34/34 [==============================] - 0s 2ms/step - loss: 3736.1040 - mae: 3736.1040\n",
            "Epoch 157/200\n",
            "34/34 [==============================] - 0s 2ms/step - loss: 3732.9736 - mae: 3732.9736\n",
            "Epoch 158/200\n",
            "34/34 [==============================] - 0s 1ms/step - loss: 3729.8025 - mae: 3729.8025\n",
            "Epoch 159/200\n",
            "34/34 [==============================] - 0s 2ms/step - loss: 3726.4563 - mae: 3726.4563\n",
            "Epoch 160/200\n",
            "34/34 [==============================] - 0s 2ms/step - loss: 3733.5447 - mae: 3733.5447\n",
            "Epoch 161/200\n",
            "34/34 [==============================] - 0s 2ms/step - loss: 3728.0251 - mae: 3728.0251\n",
            "Epoch 162/200\n",
            "34/34 [==============================] - 0s 2ms/step - loss: 3725.0784 - mae: 3725.0784\n",
            "Epoch 163/200\n",
            "34/34 [==============================] - 0s 1ms/step - loss: 3722.1680 - mae: 3722.1680\n",
            "Epoch 164/200\n",
            "34/34 [==============================] - 0s 1ms/step - loss: 3726.4907 - mae: 3726.4907\n",
            "Epoch 165/200\n",
            "34/34 [==============================] - 0s 2ms/step - loss: 3717.1104 - mae: 3717.1104\n",
            "Epoch 166/200\n",
            "34/34 [==============================] - 0s 2ms/step - loss: 3721.8940 - mae: 3721.8940\n",
            "Epoch 167/200\n",
            "34/34 [==============================] - 0s 2ms/step - loss: 3720.7314 - mae: 3720.7314\n",
            "Epoch 168/200\n",
            "34/34 [==============================] - 0s 2ms/step - loss: 3715.3093 - mae: 3715.3093\n",
            "Epoch 169/200\n",
            "34/34 [==============================] - 0s 1ms/step - loss: 3714.2400 - mae: 3714.2400\n",
            "Epoch 170/200\n",
            "34/34 [==============================] - 0s 1ms/step - loss: 3708.1538 - mae: 3708.1538\n",
            "Epoch 171/200\n",
            "34/34 [==============================] - 0s 1ms/step - loss: 3707.5679 - mae: 3707.5679\n",
            "Epoch 172/200\n",
            "34/34 [==============================] - 0s 1ms/step - loss: 3709.5635 - mae: 3709.5635\n",
            "Epoch 173/200\n",
            "34/34 [==============================] - 0s 2ms/step - loss: 3705.6372 - mae: 3705.6372\n",
            "Epoch 174/200\n",
            "34/34 [==============================] - 0s 1ms/step - loss: 3709.1023 - mae: 3709.1023\n",
            "Epoch 175/200\n",
            "34/34 [==============================] - 0s 1ms/step - loss: 3712.1279 - mae: 3712.1279\n",
            "Epoch 176/200\n",
            "34/34 [==============================] - 0s 1ms/step - loss: 3705.9382 - mae: 3705.9382\n",
            "Epoch 177/200\n",
            "34/34 [==============================] - 0s 1ms/step - loss: 3700.1218 - mae: 3700.1218\n",
            "Epoch 178/200\n",
            "34/34 [==============================] - 0s 2ms/step - loss: 3696.2854 - mae: 3696.2854\n",
            "Epoch 179/200\n",
            "34/34 [==============================] - 0s 1ms/step - loss: 3704.3586 - mae: 3704.3586\n",
            "Epoch 180/200\n",
            "34/34 [==============================] - 0s 2ms/step - loss: 3709.2505 - mae: 3709.2505\n",
            "Epoch 181/200\n",
            "34/34 [==============================] - 0s 2ms/step - loss: 3695.9170 - mae: 3695.9170\n",
            "Epoch 182/200\n",
            "34/34 [==============================] - 0s 1ms/step - loss: 3693.5237 - mae: 3693.5237\n",
            "Epoch 183/200\n",
            "34/34 [==============================] - 0s 2ms/step - loss: 3692.0999 - mae: 3692.0999\n",
            "Epoch 184/200\n",
            "34/34 [==============================] - 0s 1ms/step - loss: 3698.8430 - mae: 3698.8430\n",
            "Epoch 185/200\n",
            "34/34 [==============================] - 0s 1ms/step - loss: 3694.2781 - mae: 3694.2781\n",
            "Epoch 186/200\n",
            "34/34 [==============================] - 0s 2ms/step - loss: 3696.6104 - mae: 3696.6104\n",
            "Epoch 187/200\n",
            "34/34 [==============================] - 0s 1ms/step - loss: 3689.0247 - mae: 3689.0247\n",
            "Epoch 188/200\n",
            "34/34 [==============================] - 0s 1ms/step - loss: 3694.2283 - mae: 3694.2283\n",
            "Epoch 189/200\n",
            "34/34 [==============================] - 0s 1ms/step - loss: 3683.9485 - mae: 3683.9485\n",
            "Epoch 190/200\n",
            "34/34 [==============================] - 0s 1ms/step - loss: 3682.8477 - mae: 3682.8477\n",
            "Epoch 191/200\n",
            "34/34 [==============================] - 0s 2ms/step - loss: 3699.1458 - mae: 3699.1458\n",
            "Epoch 192/200\n",
            "34/34 [==============================] - 0s 2ms/step - loss: 3684.8535 - mae: 3684.8535\n",
            "Epoch 193/200\n",
            "34/34 [==============================] - 0s 1ms/step - loss: 3675.5303 - mae: 3675.5303\n",
            "Epoch 194/200\n",
            "34/34 [==============================] - 0s 1ms/step - loss: 3675.5764 - mae: 3675.5764\n",
            "Epoch 195/200\n",
            "34/34 [==============================] - 0s 1ms/step - loss: 3673.1931 - mae: 3673.1931\n",
            "Epoch 196/200\n",
            "34/34 [==============================] - 0s 2ms/step - loss: 3682.2253 - mae: 3682.2253\n",
            "Epoch 197/200\n",
            "34/34 [==============================] - 0s 1ms/step - loss: 3666.2061 - mae: 3666.2061\n",
            "Epoch 198/200\n",
            "34/34 [==============================] - 0s 2ms/step - loss: 3671.8359 - mae: 3671.8359\n",
            "Epoch 199/200\n",
            "34/34 [==============================] - 0s 2ms/step - loss: 3680.2205 - mae: 3680.2205\n",
            "Epoch 200/200\n",
            "34/34 [==============================] - 0s 2ms/step - loss: 3666.9414 - mae: 3666.9414\n"
          ],
          "name": "stdout"
        }
      ]
    },
    {
      "cell_type": "code",
      "metadata": {
        "colab": {
          "base_uri": "https://localhost:8080/"
        },
        "id": "O88vDK6O3FAD",
        "outputId": "c9e3e307-2363-446a-f869-a2a346dea7df"
      },
      "source": [
        "insurance_model_3.evaluate(x_test,y_test)"
      ],
      "execution_count": null,
      "outputs": [
        {
          "output_type": "stream",
          "text": [
            "9/9 [==============================] - 0s 1ms/step - loss: 3488.7854 - mae: 3488.7854\n"
          ],
          "name": "stdout"
        },
        {
          "output_type": "execute_result",
          "data": {
            "text/plain": [
              "[3488.785400390625, 3488.785400390625]"
            ]
          },
          "metadata": {
            "tags": []
          },
          "execution_count": 263
        }
      ]
    },
    {
      "cell_type": "code",
      "metadata": {
        "colab": {
          "base_uri": "https://localhost:8080/"
        },
        "id": "0sDqXeOQ3TAp",
        "outputId": "c28ee2d9-f78e-4442-d09f-7307a7ff8a97"
      },
      "source": [
        "insurance_model.evaluate(x_test,y_test)"
      ],
      "execution_count": null,
      "outputs": [
        {
          "output_type": "stream",
          "text": [
            "9/9 [==============================] - 0s 1ms/step - loss: 7023.3291 - mae: 7023.3291\n"
          ],
          "name": "stdout"
        },
        {
          "output_type": "execute_result",
          "data": {
            "text/plain": [
              "[7023.3291015625, 7023.3291015625]"
            ]
          },
          "metadata": {
            "tags": []
          },
          "execution_count": 264
        }
      ]
    },
    {
      "cell_type": "code",
      "metadata": {
        "id": "4INWu2G03XrB"
      },
      "source": [
        "# history is loss curve or trainning curve"
      ],
      "execution_count": null,
      "outputs": []
    },
    {
      "cell_type": "code",
      "metadata": {
        "colab": {
          "base_uri": "https://localhost:8080/",
          "height": 297
        },
        "id": "S4Lnvhj13c-a",
        "outputId": "a468c77c-8f61-4e38-b1ce-4c40cef57a0b"
      },
      "source": [
        "pd.DataFrame(history.history ).plot()\n",
        "plt.ylabel(\"loss\")\n",
        "plt.xlabel(\"epochs\")"
      ],
      "execution_count": null,
      "outputs": [
        {
          "output_type": "execute_result",
          "data": {
            "text/plain": [
              "Text(0.5, 0, 'epochs')"
            ]
          },
          "metadata": {
            "tags": []
          },
          "execution_count": 269
        },
        {
          "output_type": "display_data",
          "data": {
            "image/png": "[encoded data removed]",
            "text/plain": [
              "<Figure size 432x288 with 1 Axes>"
            ]
          },
          "metadata": {
            "tags": [],
            "needs_background": "light"
          }
        }
      ]
    },
    {
      "cell_type": "code",
      "metadata": {
        "id": "z01y_cTZ3tS7"
      },
      "source": [
        "import pandas as pd \n",
        "import matplotlib.pyplot as plt\n",
        "import tensorflow as tf\n",
        "\n",
        "insurance = pd.read_csv('https://raw.githubusercontent.com/stedy/Machine-Learning-with-R-datasets/master/insurance.csv')"
      ],
      "execution_count": null,
      "outputs": []
    },
    {
      "cell_type": "code",
      "metadata": {
        "colab": {
          "base_uri": "https://localhost:8080/",
          "height": 422
        },
        "id": "gUjDoX4_OgGk",
        "outputId": "6028865c-2f80-48a2-b9ef-8c04e3231d37"
      },
      "source": [
        "insurance"
      ],
      "execution_count": null,
      "outputs": [
        {
          "output_type": "execute_result",
          "data": {
            "text/html": [
              "<div>\n",
              "<style scoped>\n",
              "    .dataframe tbody tr th:only-of-type {\n",
              "        vertical-align: middle;\n",
              "    }\n",
              "\n",
              "    .dataframe tbody tr th {\n",
              "        vertical-align: top;\n",
              "    }\n",
              "\n",
              "    .dataframe thead th {\n",
              "        text-align: right;\n",
              "    }\n",
              "</style>\n",
              "<table border=\"1\" class=\"dataframe\">\n",
              "  <thead>\n",
              "    <tr style=\"text-align: right;\">\n",
              "      <th></th>\n",
              "      <th>age</th>\n",
              "      <th>sex</th>\n",
              "      <th>bmi</th>\n",
              "      <th>children</th>\n",
              "      <th>smoker</th>\n",
              "      <th>region</th>\n",
              "      <th>charges</th>\n",
              "    </tr>\n",
              "  </thead>\n",
              "  <tbody>\n",
              "    <tr>\n",
              "      <th>0</th>\n",
              "      <td>19</td>\n",
              "      <td>female</td>\n",
              "      <td>27.900</td>\n",
              "      <td>0</td>\n",
              "      <td>yes</td>\n",
              "      <td>southwest</td>\n",
              "      <td>16884.92400</td>\n",
              "    </tr>\n",
              "    <tr>\n",
              "      <th>1</th>\n",
              "      <td>18</td>\n",
              "      <td>male</td>\n",
              "      <td>33.770</td>\n",
              "      <td>1</td>\n",
              "      <td>no</td>\n",
              "      <td>southeast</td>\n",
              "      <td>1725.55230</td>\n",
              "    </tr>\n",
              "    <tr>\n",
              "      <th>2</th>\n",
              "      <td>28</td>\n",
              "      <td>male</td>\n",
              "      <td>33.000</td>\n",
              "      <td>3</td>\n",
              "      <td>no</td>\n",
              "      <td>southeast</td>\n",
              "      <td>4449.46200</td>\n",
              "    </tr>\n",
              "    <tr>\n",
              "      <th>3</th>\n",
              "      <td>33</td>\n",
              "      <td>male</td>\n",
              "      <td>22.705</td>\n",
              "      <td>0</td>\n",
              "      <td>no</td>\n",
              "      <td>northwest</td>\n",
              "      <td>21984.47061</td>\n",
              "    </tr>\n",
              "    <tr>\n",
              "      <th>4</th>\n",
              "      <td>32</td>\n",
              "      <td>male</td>\n",
              "      <td>28.880</td>\n",
              "      <td>0</td>\n",
              "      <td>no</td>\n",
              "      <td>northwest</td>\n",
              "      <td>3866.85520</td>\n",
              "    </tr>\n",
              "    <tr>\n",
              "      <th>...</th>\n",
              "      <td>...</td>\n",
              "      <td>...</td>\n",
              "      <td>...</td>\n",
              "      <td>...</td>\n",
              "      <td>...</td>\n",
              "      <td>...</td>\n",
              "      <td>...</td>\n",
              "    </tr>\n",
              "    <tr>\n",
              "      <th>1333</th>\n",
              "      <td>50</td>\n",
              "      <td>male</td>\n",
              "      <td>30.970</td>\n",
              "      <td>3</td>\n",
              "      <td>no</td>\n",
              "      <td>northwest</td>\n",
              "      <td>10600.54830</td>\n",
              "    </tr>\n",
              "    <tr>\n",
              "      <th>1334</th>\n",
              "      <td>18</td>\n",
              "      <td>female</td>\n",
              "      <td>31.920</td>\n",
              "      <td>0</td>\n",
              "      <td>no</td>\n",
              "      <td>northeast</td>\n",
              "      <td>2205.98080</td>\n",
              "    </tr>\n",
              "    <tr>\n",
              "      <th>1335</th>\n",
              "      <td>18</td>\n",
              "      <td>female</td>\n",
              "      <td>36.850</td>\n",
              "      <td>0</td>\n",
              "      <td>no</td>\n",
              "      <td>southeast</td>\n",
              "      <td>1629.83350</td>\n",
              "    </tr>\n",
              "    <tr>\n",
              "      <th>1336</th>\n",
              "      <td>21</td>\n",
              "      <td>female</td>\n",
              "      <td>25.800</td>\n",
              "      <td>0</td>\n",
              "      <td>no</td>\n",
              "      <td>southwest</td>\n",
              "      <td>2007.94500</td>\n",
              "    </tr>\n",
              "    <tr>\n",
              "      <th>1337</th>\n",
              "      <td>61</td>\n",
              "      <td>female</td>\n",
              "      <td>29.070</td>\n",
              "      <td>0</td>\n",
              "      <td>yes</td>\n",
              "      <td>northwest</td>\n",
              "      <td>29141.36030</td>\n",
              "    </tr>\n",
              "  </tbody>\n",
              "</table>\n",
              "<p>1338 rows × 7 columns</p>\n",
              "</div>"
            ],
            "text/plain": [
              "      age     sex     bmi  children smoker     region      charges\n",
              "0      19  female  27.900         0    yes  southwest  16884.92400\n",
              "1      18    male  33.770         1     no  southeast   1725.55230\n",
              "2      28    male  33.000         3     no  southeast   4449.46200\n",
              "3      33    male  22.705         0     no  northwest  21984.47061\n",
              "4      32    male  28.880         0     no  northwest   3866.85520\n",
              "...   ...     ...     ...       ...    ...        ...          ...\n",
              "1333   50    male  30.970         3     no  northwest  10600.54830\n",
              "1334   18  female  31.920         0     no  northeast   2205.98080\n",
              "1335   18  female  36.850         0     no  southeast   1629.83350\n",
              "1336   21  female  25.800         0     no  southwest   2007.94500\n",
              "1337   61  female  29.070         0    yes  northwest  29141.36030\n",
              "\n",
              "[1338 rows x 7 columns]"
            ]
          },
          "metadata": {
            "tags": []
          },
          "execution_count": 271
        }
      ]
    },
    {
      "cell_type": "code",
      "metadata": {
        "id": "6jLueSj1OidF"
      },
      "source": [
        "from sklearn.compose import make_column_transformer\n",
        "from sklearn.preprocessing import MinMaxScaler,OneHotEncoder\n",
        "from sklearn.model_selection import train_test_split\n"
      ],
      "execution_count": null,
      "outputs": []
    },
    {
      "cell_type": "code",
      "metadata": {
        "id": "gFhH5uyrPNBm"
      },
      "source": [
        "#create a column transformer\n",
        "ct = make_column_transformer((MinMaxScaler(),[\"age\",\"bmi\",\"children\"]), #turn all value between 0 to 1\n",
        "                             (OneHotEncoder(handle_unknown=\"ignore\"),[\"sex\",\"smoker\",\"region\"])\n",
        ")\n",
        "\n",
        "#create x and y values\n",
        "x = insurance.drop(\"charges\",axis=1)\n",
        "y= insurance[\"charges\"]\n",
        "\n",
        "\n",
        "# \n",
        "x_train, x_test, y_train,y_test = train_test_split(x,y,test_size =0.2, random_state = 42)\n",
        "\n",
        "ct.fit(x_train)\n",
        "x_train_normal = ct.transform(x_train)\n",
        "x_test_normal = ct.transform(x_test)"
      ],
      "execution_count": null,
      "outputs": []
    },
    {
      "cell_type": "code",
      "metadata": {
        "colab": {
          "base_uri": "https://localhost:8080/"
        },
        "id": "ESTbSI_MREVh",
        "outputId": "f9196129-d768-4008-9bc4-a88e419de1e4"
      },
      "source": [
        "x_train.loc[19],x_train_normal[19]"
      ],
      "execution_count": null,
      "outputs": [
        {
          "output_type": "execute_result",
          "data": {
            "text/plain": [
              "(age                30\n",
              " sex              male\n",
              " bmi              35.3\n",
              " children            0\n",
              " smoker            yes\n",
              " region      southwest\n",
              " Name: 19, dtype: object,\n",
              " array([0.73913043, 0.69518429, 0.4       , 0.        , 1.        ,\n",
              "        0.        , 1.        , 0.        , 0.        , 1.        ,\n",
              "        0.        ]))"
            ]
          },
          "metadata": {
            "tags": []
          },
          "execution_count": 280
        }
      ]
    },
    {
      "cell_type": "code",
      "metadata": {
        "colab": {
          "base_uri": "https://localhost:8080/"
        },
        "id": "t8qqHh6KRb-9",
        "outputId": "b6876d77-c338-45e2-c55b-483efebeb38c"
      },
      "source": [
        "x_train.shape , x_train_normal.shape"
      ],
      "execution_count": null,
      "outputs": [
        {
          "output_type": "execute_result",
          "data": {
            "text/plain": [
              "((1070, 6), (1070, 11))"
            ]
          },
          "metadata": {
            "tags": []
          },
          "execution_count": 281
        }
      ]
    },
    {
      "cell_type": "code",
      "metadata": {
        "colab": {
          "base_uri": "https://localhost:8080/"
        },
        "id": "iVjg9zFdRyn7",
        "outputId": "c116ada6-5cbb-48fa-94d7-da55f2bfd15a"
      },
      "source": [
        "tf.random.set_seed(42)\n",
        "\n",
        "insurance_model_4 = tf.keras.Sequential(\n",
        "    [\n",
        "     tf.keras.layers.Dense(100),\n",
        "     tf.keras.layers.Dense(10),\n",
        "     tf.keras.layers.Dense(1)\n",
        "    ]\n",
        "\n",
        ")\n",
        "\n",
        "insurance_model_4.compile(\n",
        "    loss = tf.keras.losses.mae,\n",
        "    optimizer= tf.keras.optimizers.Adam(),\n",
        "    metrics = ['mae']\n",
        ")\n",
        "\n",
        "insurance_model_4.fit(x_train_normal,y_train,epochs =100)"
      ],
      "execution_count": null,
      "outputs": [
        {
          "output_type": "stream",
          "text": [
            "Epoch 1/100\n",
            "34/34 [==============================] - 0s 1ms/step - loss: 13342.6475 - mae: 13342.6475\n",
            "Epoch 2/100\n",
            "34/34 [==============================] - 0s 1ms/step - loss: 13333.4785 - mae: 13333.4785\n",
            "Epoch 3/100\n",
            "34/34 [==============================] - 0s 1ms/step - loss: 13312.0234 - mae: 13312.0234\n",
            "Epoch 4/100\n",
            "34/34 [==============================] - 0s 1ms/step - loss: 13267.7930 - mae: 13267.7930\n",
            "Epoch 5/100\n",
            "34/34 [==============================] - 0s 1ms/step - loss: 13189.5850 - mae: 13189.5850\n",
            "Epoch 6/100\n",
            "34/34 [==============================] - 0s 1ms/step - loss: 13066.4502 - mae: 13066.4502\n",
            "Epoch 7/100\n",
            "34/34 [==============================] - 0s 1ms/step - loss: 12888.1953 - mae: 12888.1953\n",
            "Epoch 8/100\n",
            "34/34 [==============================] - 0s 1ms/step - loss: 12644.6523 - mae: 12644.6523\n",
            "Epoch 9/100\n",
            "34/34 [==============================] - 0s 2ms/step - loss: 12325.5469 - mae: 12325.5469\n",
            "Epoch 10/100\n",
            "34/34 [==============================] - 0s 1ms/step - loss: 11925.9658 - mae: 11925.9658\n",
            "Epoch 11/100\n",
            "34/34 [==============================] - 0s 2ms/step - loss: 11454.3350 - mae: 11454.3350\n",
            "Epoch 12/100\n",
            "34/34 [==============================] - 0s 2ms/step - loss: 10949.8086 - mae: 10949.8086\n",
            "Epoch 13/100\n",
            "34/34 [==============================] - 0s 2ms/step - loss: 10448.9404 - mae: 10448.9404\n",
            "Epoch 14/100\n",
            "34/34 [==============================] - 0s 1ms/step - loss: 9951.6250 - mae: 9951.6250\n",
            "Epoch 15/100\n",
            "34/34 [==============================] - 0s 1ms/step - loss: 9482.7422 - mae: 9482.7422\n",
            "Epoch 16/100\n",
            "34/34 [==============================] - 0s 2ms/step - loss: 9066.7461 - mae: 9066.7461\n",
            "Epoch 17/100\n",
            "34/34 [==============================] - 0s 1ms/step - loss: 8721.9854 - mae: 8721.9854\n",
            "Epoch 18/100\n",
            "34/34 [==============================] - 0s 1ms/step - loss: 8441.2002 - mae: 8441.2002\n",
            "Epoch 19/100\n",
            "34/34 [==============================] - 0s 1ms/step - loss: 8227.5117 - mae: 8227.5117\n",
            "Epoch 20/100\n",
            "34/34 [==============================] - 0s 1ms/step - loss: 8081.9775 - mae: 8081.9775\n",
            "Epoch 21/100\n",
            "34/34 [==============================] - 0s 2ms/step - loss: 7973.8945 - mae: 7973.8945\n",
            "Epoch 22/100\n",
            "34/34 [==============================] - 0s 1ms/step - loss: 7899.1597 - mae: 7899.1597\n",
            "Epoch 23/100\n",
            "34/34 [==============================] - 0s 1ms/step - loss: 7840.3906 - mae: 7840.3906\n",
            "Epoch 24/100\n",
            "34/34 [==============================] - 0s 1ms/step - loss: 7787.9619 - mae: 7787.9619\n",
            "Epoch 25/100\n",
            "34/34 [==============================] - 0s 1ms/step - loss: 7749.2622 - mae: 7749.2622\n",
            "Epoch 26/100\n",
            "34/34 [==============================] - 0s 2ms/step - loss: 7697.9595 - mae: 7697.9595\n",
            "Epoch 27/100\n",
            "34/34 [==============================] - 0s 1ms/step - loss: 7656.0273 - mae: 7656.0273\n",
            "Epoch 28/100\n",
            "34/34 [==============================] - 0s 1ms/step - loss: 7613.4780 - mae: 7613.4780\n",
            "Epoch 29/100\n",
            "34/34 [==============================] - 0s 1ms/step - loss: 7570.9482 - mae: 7570.9482\n",
            "Epoch 30/100\n",
            "34/34 [==============================] - 0s 2ms/step - loss: 7527.4170 - mae: 7527.4170\n",
            "Epoch 31/100\n",
            "34/34 [==============================] - 0s 1ms/step - loss: 7483.5947 - mae: 7483.5947\n",
            "Epoch 32/100\n",
            "34/34 [==============================] - 0s 2ms/step - loss: 7439.4419 - mae: 7439.4419\n",
            "Epoch 33/100\n",
            "34/34 [==============================] - 0s 1ms/step - loss: 7395.0552 - mae: 7395.0552\n",
            "Epoch 34/100\n",
            "34/34 [==============================] - 0s 1ms/step - loss: 7346.8120 - mae: 7346.8120\n",
            "Epoch 35/100\n",
            "34/34 [==============================] - 0s 1ms/step - loss: 7300.0493 - mae: 7300.0493\n",
            "Epoch 36/100\n",
            "34/34 [==============================] - 0s 1ms/step - loss: 7249.8452 - mae: 7249.8452\n",
            "Epoch 37/100\n",
            "34/34 [==============================] - 0s 2ms/step - loss: 7199.5303 - mae: 7199.5303\n",
            "Epoch 38/100\n",
            "34/34 [==============================] - 0s 1ms/step - loss: 7148.4810 - mae: 7148.4810\n",
            "Epoch 39/100\n",
            "34/34 [==============================] - 0s 1ms/step - loss: 7093.6650 - mae: 7093.6650\n",
            "Epoch 40/100\n",
            "34/34 [==============================] - 0s 1ms/step - loss: 7038.1797 - mae: 7038.1797\n",
            "Epoch 41/100\n",
            "34/34 [==============================] - 0s 1ms/step - loss: 6981.7397 - mae: 6981.7397\n",
            "Epoch 42/100\n",
            "34/34 [==============================] - 0s 1ms/step - loss: 6922.7847 - mae: 6922.7847\n",
            "Epoch 43/100\n",
            "34/34 [==============================] - 0s 1ms/step - loss: 6860.1724 - mae: 6860.1724\n",
            "Epoch 44/100\n",
            "34/34 [==============================] - 0s 2ms/step - loss: 6793.7969 - mae: 6793.7969\n",
            "Epoch 45/100\n",
            "34/34 [==============================] - 0s 2ms/step - loss: 6726.6201 - mae: 6726.6201\n",
            "Epoch 46/100\n",
            "34/34 [==============================] - 0s 1ms/step - loss: 6657.4683 - mae: 6657.4683\n",
            "Epoch 47/100\n",
            "34/34 [==============================] - 0s 1ms/step - loss: 6586.3086 - mae: 6586.3086\n",
            "Epoch 48/100\n",
            "34/34 [==============================] - 0s 2ms/step - loss: 6507.5063 - mae: 6507.5063\n",
            "Epoch 49/100\n",
            "34/34 [==============================] - 0s 1ms/step - loss: 6428.6021 - mae: 6428.6021\n",
            "Epoch 50/100\n",
            "34/34 [==============================] - 0s 1ms/step - loss: 6342.7100 - mae: 6342.7100\n",
            "Epoch 51/100\n",
            "34/34 [==============================] - 0s 2ms/step - loss: 6258.0718 - mae: 6258.0718\n",
            "Epoch 52/100\n",
            "34/34 [==============================] - 0s 2ms/step - loss: 6164.7046 - mae: 6164.7046\n",
            "Epoch 53/100\n",
            "34/34 [==============================] - 0s 2ms/step - loss: 6068.6738 - mae: 6068.6738\n",
            "Epoch 54/100\n",
            "34/34 [==============================] - 0s 2ms/step - loss: 5970.0981 - mae: 5970.0981\n",
            "Epoch 55/100\n",
            "34/34 [==============================] - 0s 2ms/step - loss: 5862.5625 - mae: 5862.5625\n",
            "Epoch 56/100\n",
            "34/34 [==============================] - 0s 1ms/step - loss: 5753.9526 - mae: 5753.9526\n",
            "Epoch 57/100\n",
            "34/34 [==============================] - 0s 1ms/step - loss: 5638.0942 - mae: 5638.0942\n",
            "Epoch 58/100\n",
            "34/34 [==============================] - 0s 1ms/step - loss: 5519.8682 - mae: 5519.8682\n",
            "Epoch 59/100\n",
            "34/34 [==============================] - 0s 1ms/step - loss: 5401.3198 - mae: 5401.3198\n",
            "Epoch 60/100\n",
            "34/34 [==============================] - 0s 2ms/step - loss: 5277.3506 - mae: 5277.3506\n",
            "Epoch 61/100\n",
            "34/34 [==============================] - 0s 1ms/step - loss: 5149.7637 - mae: 5149.7637\n",
            "Epoch 62/100\n",
            "34/34 [==============================] - 0s 1ms/step - loss: 5019.3535 - mae: 5019.3535\n",
            "Epoch 63/100\n",
            "34/34 [==============================] - 0s 2ms/step - loss: 4889.6865 - mae: 4889.6865\n",
            "Epoch 64/100\n",
            "34/34 [==============================] - 0s 1ms/step - loss: 4756.8560 - mae: 4756.8560\n",
            "Epoch 65/100\n",
            "34/34 [==============================] - 0s 1ms/step - loss: 4629.4365 - mae: 4629.4365\n",
            "Epoch 66/100\n",
            "34/34 [==============================] - 0s 1ms/step - loss: 4503.5991 - mae: 4503.5991\n",
            "Epoch 67/100\n",
            "34/34 [==============================] - 0s 1ms/step - loss: 4392.9922 - mae: 4392.9922\n",
            "Epoch 68/100\n",
            "34/34 [==============================] - 0s 1ms/step - loss: 4284.3862 - mae: 4284.3862\n",
            "Epoch 69/100\n",
            "34/34 [==============================] - 0s 2ms/step - loss: 4182.6182 - mae: 4182.6182\n",
            "Epoch 70/100\n",
            "34/34 [==============================] - 0s 1ms/step - loss: 4089.5725 - mae: 4089.5725\n",
            "Epoch 71/100\n",
            "34/34 [==============================] - 0s 1ms/step - loss: 4003.3901 - mae: 4003.3901\n",
            "Epoch 72/100\n",
            "34/34 [==============================] - 0s 2ms/step - loss: 3929.0093 - mae: 3929.0093\n",
            "Epoch 73/100\n",
            "34/34 [==============================] - 0s 2ms/step - loss: 3866.3110 - mae: 3866.3110\n",
            "Epoch 74/100\n",
            "34/34 [==============================] - 0s 1ms/step - loss: 3813.7144 - mae: 3813.7144\n",
            "Epoch 75/100\n",
            "34/34 [==============================] - 0s 1ms/step - loss: 3773.0312 - mae: 3773.0312\n",
            "Epoch 76/100\n",
            "34/34 [==============================] - 0s 1ms/step - loss: 3744.1995 - mae: 3744.1995\n",
            "Epoch 77/100\n",
            "34/34 [==============================] - 0s 2ms/step - loss: 3719.6870 - mae: 3719.6870\n",
            "Epoch 78/100\n",
            "34/34 [==============================] - 0s 1ms/step - loss: 3702.9109 - mae: 3702.9109\n",
            "Epoch 79/100\n",
            "34/34 [==============================] - 0s 1ms/step - loss: 3691.8792 - mae: 3691.8792\n",
            "Epoch 80/100\n",
            "34/34 [==============================] - 0s 1ms/step - loss: 3682.8350 - mae: 3682.8350\n",
            "Epoch 81/100\n",
            "34/34 [==============================] - 0s 2ms/step - loss: 3676.9768 - mae: 3676.9768\n",
            "Epoch 82/100\n",
            "34/34 [==============================] - 0s 1ms/step - loss: 3673.9492 - mae: 3673.9492\n",
            "Epoch 83/100\n",
            "34/34 [==============================] - 0s 1ms/step - loss: 3667.8452 - mae: 3667.8452\n",
            "Epoch 84/100\n",
            "34/34 [==============================] - 0s 1ms/step - loss: 3664.5757 - mae: 3664.5757\n",
            "Epoch 85/100\n",
            "34/34 [==============================] - 0s 1ms/step - loss: 3661.8562 - mae: 3661.8562\n",
            "Epoch 86/100\n",
            "34/34 [==============================] - 0s 1ms/step - loss: 3660.3044 - mae: 3660.3044\n",
            "Epoch 87/100\n",
            "34/34 [==============================] - 0s 2ms/step - loss: 3657.5134 - mae: 3657.5134\n",
            "Epoch 88/100\n",
            "34/34 [==============================] - 0s 2ms/step - loss: 3655.2202 - mae: 3655.2202\n",
            "Epoch 89/100\n",
            "34/34 [==============================] - 0s 1ms/step - loss: 3653.8831 - mae: 3653.8831\n",
            "Epoch 90/100\n",
            "34/34 [==============================] - 0s 1ms/step - loss: 3652.0198 - mae: 3652.0198\n",
            "Epoch 91/100\n",
            "34/34 [==============================] - 0s 1ms/step - loss: 3648.9988 - mae: 3648.9988\n",
            "Epoch 92/100\n",
            "34/34 [==============================] - 0s 1ms/step - loss: 3648.4458 - mae: 3648.4458\n",
            "Epoch 93/100\n",
            "34/34 [==============================] - 0s 1ms/step - loss: 3646.2300 - mae: 3646.2300\n",
            "Epoch 94/100\n",
            "34/34 [==============================] - 0s 2ms/step - loss: 3644.4377 - mae: 3644.4377\n",
            "Epoch 95/100\n",
            "34/34 [==============================] - 0s 1ms/step - loss: 3645.8772 - mae: 3645.8772\n",
            "Epoch 96/100\n",
            "34/34 [==============================] - 0s 1ms/step - loss: 3642.2576 - mae: 3642.2576\n",
            "Epoch 97/100\n",
            "34/34 [==============================] - 0s 1ms/step - loss: 3640.1189 - mae: 3640.1189\n",
            "Epoch 98/100\n",
            "34/34 [==============================] - 0s 1ms/step - loss: 3638.0649 - mae: 3638.0649\n",
            "Epoch 99/100\n",
            "34/34 [==============================] - 0s 2ms/step - loss: 3637.2053 - mae: 3637.2053\n",
            "Epoch 100/100\n",
            "34/34 [==============================] - 0s 1ms/step - loss: 3636.1707 - mae: 3636.1707\n"
          ],
          "name": "stdout"
        },
        {
          "output_type": "execute_result",
          "data": {
            "text/plain": [
              "<tensorflow.python.keras.callbacks.History at 0x7f4513956d50>"
            ]
          },
          "metadata": {
            "tags": []
          },
          "execution_count": 283
        }
      ]
    },
    {
      "cell_type": "code",
      "metadata": {
        "colab": {
          "base_uri": "https://localhost:8080/"
        },
        "id": "Yp6j8-1TVbsO",
        "outputId": "776f8917-ba9e-4394-dfb2-80155307c418"
      },
      "source": [
        "insurance_model_4.evaluate(x_test_normal,y_test)"
      ],
      "execution_count": null,
      "outputs": [
        {
          "output_type": "stream",
          "text": [
            "9/9 [==============================] - 0s 2ms/step - loss: 3438.7844 - mae: 3438.7844\n"
          ],
          "name": "stdout"
        },
        {
          "output_type": "execute_result",
          "data": {
            "text/plain": [
              "[3438.784423828125, 3438.784423828125]"
            ]
          },
          "metadata": {
            "tags": []
          },
          "execution_count": 284
        }
      ]
    },
    {
      "cell_type": "code",
      "metadata": {
        "id": "PM1qU6icVqfS"
      },
      "source": [
        ""
      ],
      "execution_count": null,
      "outputs": []
    },
    {
      "cell_type": "code",
      "metadata": {
        "id": "2_Cw3_RoV4mH"
      },
      "source": [
        ""
      ],
      "execution_count": null,
      "outputs": []
    }
  ]
}