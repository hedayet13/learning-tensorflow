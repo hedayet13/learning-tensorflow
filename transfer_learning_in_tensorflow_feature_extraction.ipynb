{
  "nbformat": 4,
  "nbformat_minor": 0,
  "metadata": {
    "colab": {
      "name": "transfer_learning_in_tensorflow_feature_extraction.ipynb",
      "provenance": [],
      "collapsed_sections": [],
      "authorship_tag": "ABX9TyOEXN+iW4kI9P2AV6hfPN5+",
      "include_colab_link": true
    },
    "kernelspec": {
      "name": "python3",
      "display_name": "Python 3"
    },
    "language_info": {
      "name": "python"
    },
    "accelerator": "GPU"
  },
  "cells": [
    {
      "cell_type": "markdown",
      "metadata": {
        "id": "view-in-github",
        "colab_type": "text"
      },
      "source": [
        "<a href=\"https://colab.research.google.com/github/hedayet13/learning-tensorflow/blob/main/transfer_learning_in_tensorflow_feature_extraction.ipynb\" target=\"_parent\"><img src=\"https://colab.research.google.com/assets/colab-badge.svg\" alt=\"Open In Colab\"/></a>"
      ]
    },
    {
      "cell_type": "code",
      "metadata": {
        "colab": {
          "base_uri": "https://localhost:8080/"
        },
        "id": "QpGzfcKtwBIz",
        "outputId": "90d15d91-9250-4453-de26-7f21ed6794b5"
      },
      "source": [
        "!nvidia-smi\n"
      ],
      "execution_count": 1,
      "outputs": [
        {
          "output_type": "stream",
          "text": [
            "Sun Jul 18 06:13:24 2021       \n",
            "+-----------------------------------------------------------------------------+\n",
            "| NVIDIA-SMI 470.42.01    Driver Version: 460.32.03    CUDA Version: 11.2     |\n",
            "|-------------------------------+----------------------+----------------------+\n",
            "| GPU  Name        Persistence-M| Bus-Id        Disp.A | Volatile Uncorr. ECC |\n",
            "| Fan  Temp  Perf  Pwr:Usage/Cap|         Memory-Usage | GPU-Util  Compute M. |\n",
            "|                               |                      |               MIG M. |\n",
            "|===============================+======================+======================|\n",
            "|   0  Tesla T4            Off  | 00000000:00:04.0 Off |                    0 |\n",
            "| N/A   37C    P8     9W /  70W |      0MiB / 15109MiB |      0%      Default |\n",
            "|                               |                      |                  N/A |\n",
            "+-------------------------------+----------------------+----------------------+\n",
            "                                                                               \n",
            "+-----------------------------------------------------------------------------+\n",
            "| Processes:                                                                  |\n",
            "|  GPU   GI   CI        PID   Type   Process name                  GPU Memory |\n",
            "|        ID   ID                                                   Usage      |\n",
            "|=============================================================================|\n",
            "|  No running processes found                                                 |\n",
            "+-----------------------------------------------------------------------------+\n"
          ],
          "name": "stdout"
        }
      ]
    },
    {
      "cell_type": "code",
      "metadata": {
        "colab": {
          "base_uri": "https://localhost:8080/"
        },
        "id": "cMGc6LXXw37-",
        "outputId": "fd926230-de08-4fe1-bde5-7524cffe7119"
      },
      "source": [
        "import zipfile\n",
        "\n",
        "!wget https://storage.googleapis.com/ztm_tf_course/food_vision/10_food_classes_10_percent.zip\n",
        "\n",
        "#unzipping\n",
        "\n",
        "zip_ref = zipfile.ZipFile(\"10_food_classes_10_percent.zip\")\n",
        "zip_ref.extractall()\n",
        "zip_ref.close()"
      ],
      "execution_count": 2,
      "outputs": [
        {
          "output_type": "stream",
          "text": [
            "--2021-07-18 06:13:24--  https://storage.googleapis.com/ztm_tf_course/food_vision/10_food_classes_10_percent.zip\n",
            "Resolving storage.googleapis.com (storage.googleapis.com)... 173.194.202.128, 74.125.20.128, 74.125.142.128, ...\n",
            "Connecting to storage.googleapis.com (storage.googleapis.com)|173.194.202.128|:443... connected.\n",
            "HTTP request sent, awaiting response... 200 OK\n",
            "Length: 168546183 (161M) [application/zip]\n",
            "Saving to: ‘10_food_classes_10_percent.zip’\n",
            "\n",
            "10_food_classes_10_ 100%[===================>] 160.74M   178MB/s    in 0.9s    \n",
            "\n",
            "2021-07-18 06:13:25 (178 MB/s) - ‘10_food_classes_10_percent.zip’ saved [168546183/168546183]\n",
            "\n"
          ],
          "name": "stdout"
        }
      ]
    },
    {
      "cell_type": "code",
      "metadata": {
        "colab": {
          "base_uri": "https://localhost:8080/"
        },
        "id": "gmF1MzNE7Yde",
        "outputId": "910ac686-2883-432d-8c19-28d730bc10cf"
      },
      "source": [
        "import os \n",
        "\n",
        "for dirpath,dirnames,filenames in os.walk(\"10_food_classes_10_percent\"):\n",
        "  print(f\"There are {len(dirnames)} directories and {len(filenames)} images in '{dirpath}'.\")"
      ],
      "execution_count": 3,
      "outputs": [
        {
          "output_type": "stream",
          "text": [
            "There are 2 directories and 0 images in '10_food_classes_10_percent'.\n",
            "There are 10 directories and 0 images in '10_food_classes_10_percent/test'.\n",
            "There are 0 directories and 250 images in '10_food_classes_10_percent/test/hamburger'.\n",
            "There are 0 directories and 250 images in '10_food_classes_10_percent/test/grilled_salmon'.\n",
            "There are 0 directories and 250 images in '10_food_classes_10_percent/test/pizza'.\n",
            "There are 0 directories and 250 images in '10_food_classes_10_percent/test/chicken_curry'.\n",
            "There are 0 directories and 250 images in '10_food_classes_10_percent/test/sushi'.\n",
            "There are 0 directories and 250 images in '10_food_classes_10_percent/test/ice_cream'.\n",
            "There are 0 directories and 250 images in '10_food_classes_10_percent/test/fried_rice'.\n",
            "There are 0 directories and 250 images in '10_food_classes_10_percent/test/chicken_wings'.\n",
            "There are 0 directories and 250 images in '10_food_classes_10_percent/test/steak'.\n",
            "There are 0 directories and 250 images in '10_food_classes_10_percent/test/ramen'.\n",
            "There are 10 directories and 0 images in '10_food_classes_10_percent/train'.\n",
            "There are 0 directories and 75 images in '10_food_classes_10_percent/train/hamburger'.\n",
            "There are 0 directories and 75 images in '10_food_classes_10_percent/train/grilled_salmon'.\n",
            "There are 0 directories and 75 images in '10_food_classes_10_percent/train/pizza'.\n",
            "There are 0 directories and 75 images in '10_food_classes_10_percent/train/chicken_curry'.\n",
            "There are 0 directories and 75 images in '10_food_classes_10_percent/train/sushi'.\n",
            "There are 0 directories and 75 images in '10_food_classes_10_percent/train/ice_cream'.\n",
            "There are 0 directories and 75 images in '10_food_classes_10_percent/train/fried_rice'.\n",
            "There are 0 directories and 75 images in '10_food_classes_10_percent/train/chicken_wings'.\n",
            "There are 0 directories and 75 images in '10_food_classes_10_percent/train/steak'.\n",
            "There are 0 directories and 75 images in '10_food_classes_10_percent/train/ramen'.\n"
          ],
          "name": "stdout"
        }
      ]
    },
    {
      "cell_type": "code",
      "metadata": {
        "colab": {
          "base_uri": "https://localhost:8080/"
        },
        "id": "2O0SmUJVFhZk",
        "outputId": "2ba519b2-e739-4248-9f4e-84bde59e048d"
      },
      "source": [
        "from tensorflow.keras.preprocessing.image import ImageDataGenerator\n",
        "\n",
        "IMAGE_SHAPE =(224,224)\n",
        "BATCH_SIZE = 32\n",
        "\n",
        "train_dir = \"10_food_classes_10_percent/train\"\n",
        "test_dir = \"10_food_classes_10_percent/test\"\n",
        "\n",
        "train_datagen = ImageDataGenerator(rescale = 1/255.)\n",
        "test_datagen= ImageDataGenerator(rescale=1/255.)\n",
        "\n",
        "print(\"training Images:\")\n",
        "\n",
        "train_data_10_percent= train_datagen.flow_from_directory(train_dir,\n",
        "                                                         target_size =IMAGE_SHAPE,\n",
        "                                                         batch_size = BATCH_SIZE,\n",
        "                                                         class_mode =\"categorical\")\n",
        "\n",
        "print(\"testing Images\")\n",
        "test_data = test_datagen.flow_from_directory(test_dir,\n",
        "                                             target_size= IMAGE_SHAPE,\n",
        "                                             batch_size = BATCH_SIZE,\n",
        "                                             class_mode = \"categorical\")"
      ],
      "execution_count": 4,
      "outputs": [
        {
          "output_type": "stream",
          "text": [
            "training Images:\n",
            "Found 750 images belonging to 10 classes.\n",
            "testing Images\n",
            "Found 2500 images belonging to 10 classes.\n"
          ],
          "name": "stdout"
        }
      ]
    },
    {
      "cell_type": "code",
      "metadata": {
        "id": "XuYKiOnkG9P5"
      },
      "source": [
        "##setting up callback\n",
        "\n",
        "# Tensorboard callback\n",
        "\n",
        "import datetime\n",
        "def create_tensorboard_callback(dir_name, experiment_name):\n",
        "  log_dir = dir_name + \"/\" + experiment_name + \"/\" + datetime.datetime.now().strftime(\"%Y%m%d-%H%M%S\")\n",
        "  tensorboard_callback = tf.keras.callbacks.TensorBoard(\n",
        "      log_dir=log_dir\n",
        "  )\n",
        "  print(f\"Saving TensorBoard log files to: {log_dir}\")\n",
        "  return tensorboard_callback"
      ],
      "execution_count": 18,
      "outputs": []
    },
    {
      "cell_type": "code",
      "metadata": {
        "id": "9w9E_FokIdbz"
      },
      "source": [
        "resnet_url ='https://tfhub.dev/google/imagenet/resnet_v2_50/feature_vector/5'\n",
        "\n",
        "efficientnet_url = 'https://tfhub.dev/tensorflow/efficientnet/b0/feature-vector/1'"
      ],
      "execution_count": 19,
      "outputs": []
    },
    {
      "cell_type": "code",
      "metadata": {
        "id": "3rnG4_ZkPWgd"
      },
      "source": [
        "import tensorflow as tf\n",
        "import tensorflow_hub as hub\n",
        "from tensorflow.keras import layers"
      ],
      "execution_count": 20,
      "outputs": []
    },
    {
      "cell_type": "code",
      "metadata": {
        "id": "rDbpm-3jPnTe"
      },
      "source": [
        "def create_model(model_url,num_classes = 10):\n",
        "  feature_extractor_layer = hub.KerasLayer(model_url,\n",
        "                                           trainable=False,\n",
        "                                           name = \"Feature_extraction_layer\",\n",
        "                                           input_shape = IMAGE_SHAPE+(3,))\n",
        "  model = tf.keras.Sequential(\n",
        "      [\n",
        "       feature_extractor_layer,\n",
        "       tf.keras.layers.Dense(num_classes,activation = \"softmax\",name=\"output_layer\")\n",
        "      ]\n",
        "  )\n",
        "  return model"
      ],
      "execution_count": 21,
      "outputs": []
    },
    {
      "cell_type": "code",
      "metadata": {
        "id": "AXox9vq8QqhI"
      },
      "source": [
        "resnet_model = create_model(model_url=resnet_url,\n",
        "                            num_classes = train_data_10_percent.num_classes)"
      ],
      "execution_count": 22,
      "outputs": []
    },
    {
      "cell_type": "code",
      "metadata": {
        "id": "hDVS2mcKRlD8"
      },
      "source": [
        "resnet_model.compile(\n",
        "    loss =\"categorical_crossentropy\",\n",
        "    optimizer = tf.keras.optimizers.Adam(),\n",
        "    metrics = [\"accuracy\"]\n",
        ")"
      ],
      "execution_count": 23,
      "outputs": []
    },
    {
      "cell_type": "code",
      "metadata": {
        "colab": {
          "base_uri": "https://localhost:8080/"
        },
        "id": "HYixMy3qRvuU",
        "outputId": "6e891c8c-71ed-4da2-b3a4-c1c481c03ab6"
      },
      "source": [
        "resnet_history = resnet_model.fit(train_data_10_percent,\n",
        "                           epochs = 5,\n",
        "                           steps_per_epoch = len(train_data_10_percent),\n",
        "                           validation_data = test_data,\n",
        "                           validation_steps = len(test_data),\n",
        "                           callbacks = [create_tensorboard_callback(dir_name=\"tensorflow_hub\",\n",
        "                                                                    experiment_name = \"resnet50v2\")])"
      ],
      "execution_count": 24,
      "outputs": [
        {
          "output_type": "stream",
          "text": [
            "Saving TensorBoard log files to: tensorflow_hub/resnet50v2/20210718-062353\n",
            "Epoch 1/5\n",
            "24/24 [==============================] - 52s 827ms/step - loss: 1.7536 - accuracy: 0.3947 - val_loss: 1.1257 - val_accuracy: 0.6364\n",
            "Epoch 2/5\n",
            "24/24 [==============================] - 16s 680ms/step - loss: 0.8460 - accuracy: 0.7533 - val_loss: 0.7997 - val_accuracy: 0.7424\n",
            "Epoch 3/5\n",
            "24/24 [==============================] - 15s 663ms/step - loss: 0.6026 - accuracy: 0.8347 - val_loss: 0.7166 - val_accuracy: 0.7676\n",
            "Epoch 4/5\n",
            "24/24 [==============================] - 15s 662ms/step - loss: 0.4646 - accuracy: 0.8760 - val_loss: 0.6833 - val_accuracy: 0.7748\n",
            "Epoch 5/5\n",
            "24/24 [==============================] - 16s 693ms/step - loss: 0.3708 - accuracy: 0.9160 - val_loss: 0.6505 - val_accuracy: 0.7852\n"
          ],
          "name": "stdout"
        }
      ]
    },
    {
      "cell_type": "code",
      "metadata": {
        "colab": {
          "base_uri": "https://localhost:8080/"
        },
        "id": "MR5R5L9jRM7s",
        "outputId": "07f5d60e-ff66-425e-9e64-2a76cfa50748"
      },
      "source": [
        "resnet_model.summary()"
      ],
      "execution_count": 25,
      "outputs": [
        {
          "output_type": "stream",
          "text": [
            "Model: \"sequential_1\"\n",
            "_________________________________________________________________\n",
            "Layer (type)                 Output Shape              Param #   \n",
            "=================================================================\n",
            "Feature_extraction_layer (Ke (None, 2048)              23564800  \n",
            "_________________________________________________________________\n",
            "output_layer (Dense)         (None, 10)                20490     \n",
            "=================================================================\n",
            "Total params: 23,585,290\n",
            "Trainable params: 20,490\n",
            "Non-trainable params: 23,564,800\n",
            "_________________________________________________________________\n"
          ],
          "name": "stdout"
        }
      ]
    },
    {
      "cell_type": "code",
      "metadata": {
        "id": "hSrtb_51RbV0",
        "colab": {
          "base_uri": "https://localhost:8080/"
        },
        "outputId": "8387c871-3680-4a72-cc61-df40f6e3cb76"
      },
      "source": [
        "resnet_history.history"
      ],
      "execution_count": 26,
      "outputs": [
        {
          "output_type": "execute_result",
          "data": {
            "text/plain": [
              "{'accuracy': [0.3946666717529297,\n",
              "  0.753333330154419,\n",
              "  0.8346666693687439,\n",
              "  0.8759999871253967,\n",
              "  0.9160000085830688],\n",
              " 'loss': [1.7535721063613892,\n",
              "  0.8459942936897278,\n",
              "  0.6026466488838196,\n",
              "  0.4645884335041046,\n",
              "  0.37079861760139465],\n",
              " 'val_accuracy': [0.6363999843597412,\n",
              "  0.7423999905586243,\n",
              "  0.7675999999046326,\n",
              "  0.7748000025749207,\n",
              "  0.7851999998092651],\n",
              " 'val_loss': [1.1256757974624634,\n",
              "  0.7997221946716309,\n",
              "  0.7166278958320618,\n",
              "  0.6832528114318848,\n",
              "  0.650473415851593]}"
            ]
          },
          "metadata": {
            "tags": []
          },
          "execution_count": 26
        }
      ]
    },
    {
      "cell_type": "code",
      "metadata": {
        "id": "gFHgwrZNVhFP"
      },
      "source": [
        "import matplotlib.pyplot as plt\n",
        "\n",
        "def plot_loss_curve(history):\n",
        "\n",
        "  loss =history.history[\"loss\"]\n",
        "  val_loss = history.history[\"val_loss\"]\n",
        "  accuracy =history.history[\"accuracy\"]\n",
        "  val_accuracy = history.history[\"val_accuracy\"]\n",
        "\n",
        "  epochs = range(len(history.history[\"loss\"]))\n",
        "\n",
        "  plt.plot(epochs,loss,label = \"training loss\")\n",
        "  plt.plot(epochs,val_loss,label = \"val loss\")\n",
        "  plt.legend()\n",
        "\n",
        "  plt.figure()\n",
        "\n",
        "  plt.plot(epochs,accuracy,label = \"accuracy\")\n",
        "  plt.plot(epochs,val_accuracy,label = \"val_accuracy\")\n",
        "  plt.legend()"
      ],
      "execution_count": 32,
      "outputs": []
    },
    {
      "cell_type": "code",
      "metadata": {
        "colab": {
          "base_uri": "https://localhost:8080/",
          "height": 514
        },
        "id": "Sym71sEWVpTz",
        "outputId": "0cc8254e-5ec3-417b-b64c-d2ca2961c230"
      },
      "source": [
        "plot_loss_curve(resnet_history)"
      ],
      "execution_count": 33,
      "outputs": [
        {
          "output_type": "display_data",
          "data": {
            "image/png": "[encoded data removed]",
            "text/plain": [
              "<Figure size 432x288 with 1 Axes>"
            ]
          },
          "metadata": {
            "tags": [],
            "needs_background": "light"
          }
        },
        {
          "output_type": "display_data",
          "data": {
            "image/png": "[encoded data removed]",
            "text/plain": [
              "<Figure size 432x288 with 1 Axes>"
            ]
          },
          "metadata": {
            "tags": [],
            "needs_background": "light"
          }
        }
      ]
    },
    {
      "cell_type": "code",
      "metadata": {
        "id": "WvNG821YXlcF"
      },
      "source": [
        "efficientnet_model = create_model(model_url=efficientnet_url,\n",
        "                                  num_classes=train_data_10_percent.num_classes)"
      ],
      "execution_count": 36,
      "outputs": []
    },
    {
      "cell_type": "code",
      "metadata": {
        "id": "JQZj6p94YCcG"
      },
      "source": [
        "efficientnet_model.compile(\n",
        "    loss= 'categorical_crossentropy',\n",
        "    optimizer = tf.keras.optimizers.Adam(),\n",
        "    metrics = [\"accuracy\"]\n",
        ")"
      ],
      "execution_count": 38,
      "outputs": []
    },
    {
      "cell_type": "code",
      "metadata": {
        "colab": {
          "base_uri": "https://localhost:8080/"
        },
        "id": "xiKE_KDJYOgI",
        "outputId": "3f80676b-fc2f-43f0-9428-f5992cf22bd2"
      },
      "source": [
        "efficientnet_history = efficientnet_model.fit(train_data_10_percent,\n",
        "                                              epochs = 10,\n",
        "                                              steps_per_epoch= len(train_data_10_percent),\n",
        "                                              validation_data = test_data,\n",
        "                                              validation_steps = len(test_data),\n",
        "                                              callbacks = [create_tensorboard_callback(dir_name=\"tensorflow_hub\",\n",
        "                                                                                       experiment_name = \"efficientnetB0\")])"
      ],
      "execution_count": 45,
      "outputs": [
        {
          "output_type": "stream",
          "text": [
            "Saving TensorBoard log files to: tensorflow_hub/efficientnetB0/20210718-065735\n",
            "Epoch 1/10\n",
            "24/24 [==============================] - 17s 742ms/step - loss: 0.4578 - accuracy: 0.9107 - val_loss: 0.5306 - val_accuracy: 0.8688\n",
            "Epoch 2/10\n",
            "24/24 [==============================] - 15s 634ms/step - loss: 0.4017 - accuracy: 0.9267 - val_loss: 0.5013 - val_accuracy: 0.8732\n",
            "Epoch 3/10\n",
            "24/24 [==============================] - 15s 633ms/step - loss: 0.3595 - accuracy: 0.9333 - val_loss: 0.4798 - val_accuracy: 0.8712\n",
            "Epoch 4/10\n",
            "24/24 [==============================] - 15s 628ms/step - loss: 0.3213 - accuracy: 0.9440 - val_loss: 0.4636 - val_accuracy: 0.8732\n",
            "Epoch 5/10\n",
            "24/24 [==============================] - 15s 665ms/step - loss: 0.2905 - accuracy: 0.9547 - val_loss: 0.4506 - val_accuracy: 0.8736\n",
            "Epoch 6/10\n",
            "24/24 [==============================] - 15s 652ms/step - loss: 0.2640 - accuracy: 0.9587 - val_loss: 0.4399 - val_accuracy: 0.8744\n",
            "Epoch 7/10\n",
            "24/24 [==============================] - 16s 669ms/step - loss: 0.2424 - accuracy: 0.9653 - val_loss: 0.4325 - val_accuracy: 0.8728\n",
            "Epoch 8/10\n",
            "24/24 [==============================] - 15s 658ms/step - loss: 0.2210 - accuracy: 0.9720 - val_loss: 0.4225 - val_accuracy: 0.8740\n",
            "Epoch 9/10\n",
            "24/24 [==============================] - 15s 637ms/step - loss: 0.2033 - accuracy: 0.9733 - val_loss: 0.4180 - val_accuracy: 0.8740\n",
            "Epoch 10/10\n",
            "24/24 [==============================] - 15s 634ms/step - loss: 0.1865 - accuracy: 0.9787 - val_loss: 0.4103 - val_accuracy: 0.8756\n"
          ],
          "name": "stdout"
        }
      ]
    },
    {
      "cell_type": "code",
      "metadata": {
        "colab": {
          "base_uri": "https://localhost:8080/"
        },
        "id": "fWZAbyRLY9hk",
        "outputId": "a48b0871-671e-47d7-99e0-527fb3f9cba8"
      },
      "source": [
        "efficientnet_model.evaluate(test_data)"
      ],
      "execution_count": 43,
      "outputs": [
        {
          "output_type": "stream",
          "text": [
            "79/79 [==============================] - 12s 156ms/step - loss: 0.5687 - accuracy: 0.8640\n"
          ],
          "name": "stdout"
        },
        {
          "output_type": "execute_result",
          "data": {
            "text/plain": [
              "[0.5686935782432556, 0.8640000224113464]"
            ]
          },
          "metadata": {
            "tags": []
          },
          "execution_count": 43
        }
      ]
    },
    {
      "cell_type": "code",
      "metadata": {
        "colab": {
          "base_uri": "https://localhost:8080/",
          "height": 513
        },
        "id": "1fLFgt_SZk7J",
        "outputId": "4deb806f-293b-43e0-f609-e6dd9f213256"
      },
      "source": [
        "plot_loss_curve(efficientnet_history)"
      ],
      "execution_count": 48,
      "outputs": [
        {
          "output_type": "display_data",
          "data": {
            "image/png": "[encoded data removed]",
            "text/plain": [
              "<Figure size 432x288 with 1 Axes>"
            ]
          },
          "metadata": {
            "tags": [],
            "needs_background": "light"
          }
        },
        {
          "output_type": "display_data",
          "data": {
            "image/png": "[encoded data removed]",
            "text/plain": [
              "<Figure size 432x288 with 1 Axes>"
            ]
          },
          "metadata": {
            "tags": [],
            "needs_background": "light"
          }
        }
      ]
    },
    {
      "cell_type": "code",
      "metadata": {
        "colab": {
          "base_uri": "https://localhost:8080/"
        },
        "id": "ZNcRqiBRZ1XM",
        "outputId": "95535eb3-0a88-44fc-a300-80ff8a75599f"
      },
      "source": [
        "efficientnet_model.summary()"
      ],
      "execution_count": 46,
      "outputs": [
        {
          "output_type": "stream",
          "text": [
            "Model: \"sequential_3\"\n",
            "_________________________________________________________________\n",
            "Layer (type)                 Output Shape              Param #   \n",
            "=================================================================\n",
            "Feature_extraction_layer (Ke (None, 1280)              4049564   \n",
            "_________________________________________________________________\n",
            "output_layer (Dense)         (None, 10)                12810     \n",
            "=================================================================\n",
            "Total params: 4,062,374\n",
            "Trainable params: 12,810\n",
            "Non-trainable params: 4,049,564\n",
            "_________________________________________________________________\n"
          ],
          "name": "stdout"
        }
      ]
    },
    {
      "cell_type": "code",
      "metadata": {
        "colab": {
          "base_uri": "https://localhost:8080/"
        },
        "id": "7xfmkaFaaT-S",
        "outputId": "d33e652f-cf12-4464-92c5-f422c6e55ed1"
      },
      "source": [
        "resnet_model.summary()"
      ],
      "execution_count": 47,
      "outputs": [
        {
          "output_type": "stream",
          "text": [
            "Model: \"sequential_1\"\n",
            "_________________________________________________________________\n",
            "Layer (type)                 Output Shape              Param #   \n",
            "=================================================================\n",
            "Feature_extraction_layer (Ke (None, 2048)              23564800  \n",
            "_________________________________________________________________\n",
            "output_layer (Dense)         (None, 10)                20490     \n",
            "=================================================================\n",
            "Total params: 23,585,290\n",
            "Trainable params: 20,490\n",
            "Non-trainable params: 23,564,800\n",
            "_________________________________________________________________\n"
          ],
          "name": "stdout"
        }
      ]
    },
    {
      "cell_type": "code",
      "metadata": {
        "colab": {
          "base_uri": "https://localhost:8080/"
        },
        "id": "ucQZsjWidEe5",
        "outputId": "f132c696-e82a-4429-ff6d-6de054f4e7ea"
      },
      "source": [
        "!tensorboard dev upload --logdir ./tensorflow_hub/ \\\n",
        "  --name \"EfficientNetB0 vs. ResNet50V2\" \\\n",
        "  --description \"comparing two different tf hub\" \\\n",
        "  --one_shot"
      ],
      "execution_count": 52,
      "outputs": [
        {
          "output_type": "stream",
          "text": [
            "2021-07-18 07:25:30.451760: I tensorflow/stream_executor/platform/default/dso_loader.cc:53] Successfully opened dynamic library libcudart.so.11.0\n",
            "\n",
            "***** TensorBoard Uploader *****\n",
            "\n",
            "This will upload your TensorBoard logs to https://tensorboard.dev/ from\n",
            "the following directory:\n",
            "\n",
            "./tensorflow_hub/\n",
            "\n",
            "This TensorBoard will be visible to everyone. Do not upload sensitive\n",
            "data.\n",
            "\n",
            "Your use of this service is subject to Google's Terms of Service\n",
            "<https://policies.google.com/terms> and Privacy Policy\n",
            "<https://policies.google.com/privacy>, and TensorBoard.dev's Terms of Service\n",
            "<https://tensorboard.dev/policy/terms/>.\n",
            "\n",
            "This notice will not be shown again while you are logged into the uploader.\n",
            "To log out, run `tensorboard dev auth revoke`.\n",
            "\n",
            "Continue? (yes/NO) yes\n",
            "\n",
            "Please visit this URL to authorize this application: https://accounts.google.com/o/oauth2/auth?response_type=code&client_id=373649185512-8v619h5kft38l4456nm2dj4ubeqsrvh6.apps.googleusercontent.com&redirect_uri=urn%3Aietf%3Awg%3Aoauth%3A2.0%3Aoob&scope=openid+https%3A%2F%2Fwww.googleapis.com%2Fauth%2Fuserinfo.email&state=Lopd15ePH1Tc6qMsLOrmpR1TJ4s5nc&prompt=consent&access_type=offline\n",
            "Enter the authorization code: 4/1AX4XfWiIYvTdMyUhjqAgx0RY7IUuPuheRi_60Ga28aLcilc54zWqilLl634\n",
            "\n",
            "Data for the \"text\" plugin is now uploaded to TensorBoard.dev! Note that uploaded data is public. If you do not want to upload data for this plugin, use the \"--plugins\" command line argument.\n",
            "\n",
            "New experiment created. View your TensorBoard at: https://tensorboard.dev/experiment/YoXnjyoSQlGQBN15WmuGxA/\n",
            "\n",
            "\u001b[1m[2021-07-18T07:26:24]\u001b[0m Started scanning logdir.\n",
            "\u001b[1m[2021-07-18T07:26:28]\u001b[0m Total uploaded: 120 scalars, 0 tensors, 3 binary objects (9.7 MB)\n",
            "\u001b[1m[2021-07-18T07:26:28]\u001b[0m Done scanning logdir.\n",
            "\n",
            "\n",
            "Done. View your TensorBoard at https://tensorboard.dev/experiment/YoXnjyoSQlGQBN15WmuGxA/\n"
          ],
          "name": "stdout"
        }
      ]
    },
    {
      "cell_type": "code",
      "metadata": {
        "id": "oaIQZ-zBgLbW"
      },
      "source": [
        "#public tensorboard view \n",
        "# https://tensorboard.dev/experiment/YoXnjyoSQlGQBN15WmuGxA/"
      ],
      "execution_count": 54,
      "outputs": []
    },
    {
      "cell_type": "code",
      "metadata": {
        "colab": {
          "base_uri": "https://localhost:8080/"
        },
        "id": "K5FrIBqvgyC9",
        "outputId": "6d686341-04ba-4fb6-a294-93fdd16a2447"
      },
      "source": [
        "!tensorboard dev list"
      ],
      "execution_count": 55,
      "outputs": [
        {
          "output_type": "stream",
          "text": [
            "2021-07-18 07:30:28.752370: I tensorflow/stream_executor/platform/default/dso_loader.cc:53] Successfully opened dynamic library libcudart.so.11.0\n",
            "Data for the \"text\" plugin is now uploaded to TensorBoard.dev! Note that uploaded data is public. If you do not want to upload data for this plugin, use the \"--plugins\" command line argument.\n",
            "https://tensorboard.dev/experiment/YoXnjyoSQlGQBN15WmuGxA/\n",
            "\tName                 EfficientNetB0 vs. ResNet50V2\n",
            "\tDescription          comparing two different tf hub\n",
            "\tId                   YoXnjyoSQlGQBN15WmuGxA\n",
            "\tCreated              2021-07-18 07:26:24 (4 minutes ago)\n",
            "\tUpdated              2021-07-18 07:26:28 (4 minutes ago)\n",
            "\tRuns                 6\n",
            "\tTags                 5\n",
            "\tScalars              120\n",
            "\tTensor bytes         0\n",
            "\tBinary object bytes  10149335\n",
            "Total: 1 experiment(s)\n"
          ],
          "name": "stdout"
        }
      ]
    },
    {
      "cell_type": "code",
      "metadata": {
        "id": "auvwSjZshd9O"
      },
      "source": [
        ""
      ],
      "execution_count": null,
      "outputs": []
    }
  ]
}